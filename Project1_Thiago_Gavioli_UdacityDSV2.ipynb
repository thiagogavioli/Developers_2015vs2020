{
  "nbformat": 4,
  "nbformat_minor": 0,
  "metadata": {
    "colab": {
      "name": "Project1_Thiago_Gavioli_UdacityDSV2.ipynb",
      "provenance": [],
      "collapsed_sections": [
        "zGWBHJPMWfYZ"
      ]
    },
    "kernelspec": {
      "name": "python3",
      "display_name": "Python 3"
    }
  },
  "cells": [
    {
      "cell_type": "markdown",
      "metadata": {
        "id": "GB9hB7hZjNFM"
      },
      "source": [
        "###**Project: evaluating salary of developers over time**\r\n"
      ]
    },
    {
      "cell_type": "markdown",
      "metadata": {
        "id": "3lxXlP9CjVLn"
      },
      "source": [
        "##**Business understanding**\r\n",
        "\r\n",
        "**My goal in this notebook is to evaluate how developer's salaries and other characteristics have changed over time, according to Stackoverflow’s Annual Developer Survey of 2015 and 2020.**\r\n",
        "\r\n",
        "- Average salary 2015 x 2020\r\n",
        "- Profile and salary by Education\r\n",
        "- Profile and salary by age\r\n",
        "- Profile and salary by years coding\r\n",
        "\r\n"
      ]
    },
    {
      "cell_type": "markdown",
      "metadata": {
        "id": "3ivbmWQMdGWi"
      },
      "source": [
        "**Set up Google directory**"
      ]
    },
    {
      "cell_type": "code",
      "metadata": {
        "colab": {
          "base_uri": "https://localhost:8080/"
        },
        "id": "Kz7c6afsdIrs",
        "outputId": "1a578f3b-ce94-4209-fb63-09d952b2d194"
      },
      "source": [
        "from google.colab import drive\r\n",
        "drive.mount('/content/drive')"
      ],
      "execution_count": 69,
      "outputs": [
        {
          "output_type": "stream",
          "text": [
            "Drive already mounted at /content/drive; to attempt to forcibly remount, call drive.mount(\"/content/drive\", force_remount=True).\n"
          ],
          "name": "stdout"
        }
      ]
    },
    {
      "cell_type": "code",
      "metadata": {
        "id": "_enjCJx1dRr3"
      },
      "source": [
        "import os\r\n",
        "workdir_path = '/content/drive/My Drive/Project1'  # Inserir o local da pasta onde estão os arquivos de entrada (treino e teste)\r\n",
        "os.chdir(workdir_path)"
      ],
      "execution_count": 71,
      "outputs": []
    },
    {
      "cell_type": "markdown",
      "metadata": {
        "id": "XnQB080BdbNL"
      },
      "source": [
        "**Import necessary libraries**\r\n",
        "\r\n",
        "\r\n",
        "\r\n",
        "\r\n",
        "\r\n",
        "\r\n"
      ]
    },
    {
      "cell_type": "code",
      "metadata": {
        "id": "f0i32NyQdb_g"
      },
      "source": [
        "import numpy as np\r\n",
        "import pandas as pd\r\n",
        "import matplotlib.pyplot as plt\r\n",
        "from sklearn.linear_model import LinearRegression\r\n",
        "from sklearn.model_selection import train_test_split\r\n",
        "from sklearn.metrics import r2_score, mean_squared_error\r\n",
        "import seaborn as sns\r\n",
        "%matplotlib inline"
      ],
      "execution_count": 72,
      "outputs": []
    },
    {
      "cell_type": "markdown",
      "metadata": {
        "id": "xGS4st5OmSHQ"
      },
      "source": [
        "###**Data Understanding**"
      ]
    },
    {
      "cell_type": "code",
      "metadata": {
        "colab": {
          "base_uri": "https://localhost:8080/",
          "height": 632
        },
        "id": "-9nD6L9vdgmt",
        "outputId": "99cb2ec4-2007-41c0-b416-0d68c9a4e8a7"
      },
      "source": [
        "#Load 2020 file and a quick look\r\n",
        "\r\n",
        "df = pd.read_csv('survey_results_public.csv')\r\n",
        "df.head()"
      ],
      "execution_count": 73,
      "outputs": [
        {
          "output_type": "execute_result",
          "data": {
            "text/html": [
              "<div>\n",
              "<style scoped>\n",
              "    .dataframe tbody tr th:only-of-type {\n",
              "        vertical-align: middle;\n",
              "    }\n",
              "\n",
              "    .dataframe tbody tr th {\n",
              "        vertical-align: top;\n",
              "    }\n",
              "\n",
              "    .dataframe thead th {\n",
              "        text-align: right;\n",
              "    }\n",
              "</style>\n",
              "<table border=\"1\" class=\"dataframe\">\n",
              "  <thead>\n",
              "    <tr style=\"text-align: right;\">\n",
              "      <th></th>\n",
              "      <th>Respondent</th>\n",
              "      <th>MainBranch</th>\n",
              "      <th>Hobbyist</th>\n",
              "      <th>Age</th>\n",
              "      <th>Age1stCode</th>\n",
              "      <th>CompFreq</th>\n",
              "      <th>CompTotal</th>\n",
              "      <th>ConvertedComp</th>\n",
              "      <th>Country</th>\n",
              "      <th>CurrencyDesc</th>\n",
              "      <th>CurrencySymbol</th>\n",
              "      <th>DatabaseDesireNextYear</th>\n",
              "      <th>DatabaseWorkedWith</th>\n",
              "      <th>DevType</th>\n",
              "      <th>EdLevel</th>\n",
              "      <th>Employment</th>\n",
              "      <th>Ethnicity</th>\n",
              "      <th>Gender</th>\n",
              "      <th>JobFactors</th>\n",
              "      <th>JobSat</th>\n",
              "      <th>JobSeek</th>\n",
              "      <th>LanguageDesireNextYear</th>\n",
              "      <th>LanguageWorkedWith</th>\n",
              "      <th>MiscTechDesireNextYear</th>\n",
              "      <th>MiscTechWorkedWith</th>\n",
              "      <th>NEWCollabToolsDesireNextYear</th>\n",
              "      <th>NEWCollabToolsWorkedWith</th>\n",
              "      <th>NEWDevOps</th>\n",
              "      <th>NEWDevOpsImpt</th>\n",
              "      <th>NEWEdImpt</th>\n",
              "      <th>NEWJobHunt</th>\n",
              "      <th>NEWJobHuntResearch</th>\n",
              "      <th>NEWLearn</th>\n",
              "      <th>NEWOffTopic</th>\n",
              "      <th>NEWOnboardGood</th>\n",
              "      <th>NEWOtherComms</th>\n",
              "      <th>NEWOvertime</th>\n",
              "      <th>NEWPurchaseResearch</th>\n",
              "      <th>NEWPurpleLink</th>\n",
              "      <th>NEWSOSites</th>\n",
              "      <th>NEWStuck</th>\n",
              "      <th>OpSys</th>\n",
              "      <th>OrgSize</th>\n",
              "      <th>PlatformDesireNextYear</th>\n",
              "      <th>PlatformWorkedWith</th>\n",
              "      <th>PurchaseWhat</th>\n",
              "      <th>Sexuality</th>\n",
              "      <th>SOAccount</th>\n",
              "      <th>SOComm</th>\n",
              "      <th>SOPartFreq</th>\n",
              "      <th>SOVisitFreq</th>\n",
              "      <th>SurveyEase</th>\n",
              "      <th>SurveyLength</th>\n",
              "      <th>Trans</th>\n",
              "      <th>UndergradMajor</th>\n",
              "      <th>WebframeDesireNextYear</th>\n",
              "      <th>WebframeWorkedWith</th>\n",
              "      <th>WelcomeChange</th>\n",
              "      <th>WorkWeekHrs</th>\n",
              "      <th>YearsCode</th>\n",
              "      <th>YearsCodePro</th>\n",
              "    </tr>\n",
              "  </thead>\n",
              "  <tbody>\n",
              "    <tr>\n",
              "      <th>0</th>\n",
              "      <td>1</td>\n",
              "      <td>I am a developer by profession</td>\n",
              "      <td>Yes</td>\n",
              "      <td>NaN</td>\n",
              "      <td>13</td>\n",
              "      <td>Monthly</td>\n",
              "      <td>NaN</td>\n",
              "      <td>NaN</td>\n",
              "      <td>Germany</td>\n",
              "      <td>European Euro</td>\n",
              "      <td>EUR</td>\n",
              "      <td>Microsoft SQL Server</td>\n",
              "      <td>Elasticsearch;Microsoft SQL Server;Oracle</td>\n",
              "      <td>Developer, desktop or enterprise applications;...</td>\n",
              "      <td>Master’s degree (M.A., M.S., M.Eng., MBA, etc.)</td>\n",
              "      <td>Independent contractor, freelancer, or self-em...</td>\n",
              "      <td>White or of European descent</td>\n",
              "      <td>Man</td>\n",
              "      <td>Languages, frameworks, and other technologies ...</td>\n",
              "      <td>Slightly satisfied</td>\n",
              "      <td>I am not interested in new job opportunities</td>\n",
              "      <td>C#;HTML/CSS;JavaScript</td>\n",
              "      <td>C#;HTML/CSS;JavaScript</td>\n",
              "      <td>.NET Core;Xamarin</td>\n",
              "      <td>.NET;.NET Core</td>\n",
              "      <td>Microsoft Teams;Microsoft Azure;Trello</td>\n",
              "      <td>Confluence;Jira;Slack;Microsoft Azure;Trello</td>\n",
              "      <td>No</td>\n",
              "      <td>Somewhat important</td>\n",
              "      <td>Fairly important</td>\n",
              "      <td>NaN</td>\n",
              "      <td>NaN</td>\n",
              "      <td>Once a year</td>\n",
              "      <td>Not sure</td>\n",
              "      <td>NaN</td>\n",
              "      <td>No</td>\n",
              "      <td>Often: 1-2 days per week or more</td>\n",
              "      <td>Start a free trial;Ask developers I know/work ...</td>\n",
              "      <td>Amused</td>\n",
              "      <td>Stack Overflow (public Q&amp;A for anyone who codes)</td>\n",
              "      <td>Visit Stack Overflow;Go for a walk or other ph...</td>\n",
              "      <td>Windows</td>\n",
              "      <td>2 to 9 employees</td>\n",
              "      <td>Android;iOS;Kubernetes;Microsoft Azure;Windows</td>\n",
              "      <td>Windows</td>\n",
              "      <td>NaN</td>\n",
              "      <td>Straight / Heterosexual</td>\n",
              "      <td>No</td>\n",
              "      <td>No, not at all</td>\n",
              "      <td>NaN</td>\n",
              "      <td>Multiple times per day</td>\n",
              "      <td>Neither easy nor difficult</td>\n",
              "      <td>Appropriate in length</td>\n",
              "      <td>No</td>\n",
              "      <td>Computer science, computer engineering, or sof...</td>\n",
              "      <td>ASP.NET Core</td>\n",
              "      <td>ASP.NET;ASP.NET Core</td>\n",
              "      <td>Just as welcome now as I felt last year</td>\n",
              "      <td>50.0</td>\n",
              "      <td>36</td>\n",
              "      <td>27</td>\n",
              "    </tr>\n",
              "    <tr>\n",
              "      <th>1</th>\n",
              "      <td>2</td>\n",
              "      <td>I am a developer by profession</td>\n",
              "      <td>No</td>\n",
              "      <td>NaN</td>\n",
              "      <td>19</td>\n",
              "      <td>NaN</td>\n",
              "      <td>NaN</td>\n",
              "      <td>NaN</td>\n",
              "      <td>United Kingdom</td>\n",
              "      <td>Pound sterling</td>\n",
              "      <td>GBP</td>\n",
              "      <td>NaN</td>\n",
              "      <td>NaN</td>\n",
              "      <td>Developer, full-stack;Developer, mobile</td>\n",
              "      <td>Bachelor’s degree (B.A., B.S., B.Eng., etc.)</td>\n",
              "      <td>Employed full-time</td>\n",
              "      <td>NaN</td>\n",
              "      <td>NaN</td>\n",
              "      <td>NaN</td>\n",
              "      <td>Very dissatisfied</td>\n",
              "      <td>I am not interested in new job opportunities</td>\n",
              "      <td>Python;Swift</td>\n",
              "      <td>JavaScript;Swift</td>\n",
              "      <td>React Native;TensorFlow;Unity 3D</td>\n",
              "      <td>React Native</td>\n",
              "      <td>Github;Slack</td>\n",
              "      <td>Confluence;Jira;Github;Gitlab;Slack</td>\n",
              "      <td>NaN</td>\n",
              "      <td>NaN</td>\n",
              "      <td>Fairly important</td>\n",
              "      <td>NaN</td>\n",
              "      <td>NaN</td>\n",
              "      <td>Once a year</td>\n",
              "      <td>Not sure</td>\n",
              "      <td>NaN</td>\n",
              "      <td>No</td>\n",
              "      <td>NaN</td>\n",
              "      <td>NaN</td>\n",
              "      <td>Amused</td>\n",
              "      <td>Stack Overflow (public Q&amp;A for anyone who code...</td>\n",
              "      <td>Visit Stack Overflow;Go for a walk or other ph...</td>\n",
              "      <td>MacOS</td>\n",
              "      <td>1,000 to 4,999 employees</td>\n",
              "      <td>iOS;Kubernetes;Linux;MacOS</td>\n",
              "      <td>iOS</td>\n",
              "      <td>I have little or no influence</td>\n",
              "      <td>NaN</td>\n",
              "      <td>Yes</td>\n",
              "      <td>Yes, definitely</td>\n",
              "      <td>Less than once per month or monthly</td>\n",
              "      <td>Multiple times per day</td>\n",
              "      <td>NaN</td>\n",
              "      <td>NaN</td>\n",
              "      <td>NaN</td>\n",
              "      <td>Computer science, computer engineering, or sof...</td>\n",
              "      <td>NaN</td>\n",
              "      <td>NaN</td>\n",
              "      <td>Somewhat more welcome now than last year</td>\n",
              "      <td>NaN</td>\n",
              "      <td>7</td>\n",
              "      <td>4</td>\n",
              "    </tr>\n",
              "    <tr>\n",
              "      <th>2</th>\n",
              "      <td>3</td>\n",
              "      <td>I code primarily as a hobby</td>\n",
              "      <td>Yes</td>\n",
              "      <td>NaN</td>\n",
              "      <td>15</td>\n",
              "      <td>NaN</td>\n",
              "      <td>NaN</td>\n",
              "      <td>NaN</td>\n",
              "      <td>Russian Federation</td>\n",
              "      <td>NaN</td>\n",
              "      <td>NaN</td>\n",
              "      <td>NaN</td>\n",
              "      <td>NaN</td>\n",
              "      <td>NaN</td>\n",
              "      <td>NaN</td>\n",
              "      <td>NaN</td>\n",
              "      <td>NaN</td>\n",
              "      <td>NaN</td>\n",
              "      <td>NaN</td>\n",
              "      <td>NaN</td>\n",
              "      <td>NaN</td>\n",
              "      <td>Objective-C;Python;Swift</td>\n",
              "      <td>Objective-C;Python;Swift</td>\n",
              "      <td>NaN</td>\n",
              "      <td>NaN</td>\n",
              "      <td>NaN</td>\n",
              "      <td>NaN</td>\n",
              "      <td>NaN</td>\n",
              "      <td>NaN</td>\n",
              "      <td>NaN</td>\n",
              "      <td>NaN</td>\n",
              "      <td>NaN</td>\n",
              "      <td>Once a decade</td>\n",
              "      <td>NaN</td>\n",
              "      <td>NaN</td>\n",
              "      <td>No</td>\n",
              "      <td>NaN</td>\n",
              "      <td>NaN</td>\n",
              "      <td>NaN</td>\n",
              "      <td>Stack Overflow (public Q&amp;A for anyone who codes)</td>\n",
              "      <td>NaN</td>\n",
              "      <td>Linux-based</td>\n",
              "      <td>NaN</td>\n",
              "      <td>NaN</td>\n",
              "      <td>NaN</td>\n",
              "      <td>NaN</td>\n",
              "      <td>NaN</td>\n",
              "      <td>Yes</td>\n",
              "      <td>Yes, somewhat</td>\n",
              "      <td>A few times per month or weekly</td>\n",
              "      <td>Daily or almost daily</td>\n",
              "      <td>Neither easy nor difficult</td>\n",
              "      <td>Appropriate in length</td>\n",
              "      <td>NaN</td>\n",
              "      <td>NaN</td>\n",
              "      <td>NaN</td>\n",
              "      <td>NaN</td>\n",
              "      <td>Somewhat more welcome now than last year</td>\n",
              "      <td>NaN</td>\n",
              "      <td>4</td>\n",
              "      <td>NaN</td>\n",
              "    </tr>\n",
              "    <tr>\n",
              "      <th>3</th>\n",
              "      <td>4</td>\n",
              "      <td>I am a developer by profession</td>\n",
              "      <td>Yes</td>\n",
              "      <td>25.0</td>\n",
              "      <td>18</td>\n",
              "      <td>NaN</td>\n",
              "      <td>NaN</td>\n",
              "      <td>NaN</td>\n",
              "      <td>Albania</td>\n",
              "      <td>Albanian lek</td>\n",
              "      <td>ALL</td>\n",
              "      <td>NaN</td>\n",
              "      <td>NaN</td>\n",
              "      <td>NaN</td>\n",
              "      <td>Master’s degree (M.A., M.S., M.Eng., MBA, etc.)</td>\n",
              "      <td>NaN</td>\n",
              "      <td>White or of European descent</td>\n",
              "      <td>Man</td>\n",
              "      <td>Flex time or a flexible schedule;Office enviro...</td>\n",
              "      <td>Slightly dissatisfied</td>\n",
              "      <td>I’m not actively looking, but I am open to new...</td>\n",
              "      <td>NaN</td>\n",
              "      <td>NaN</td>\n",
              "      <td>NaN</td>\n",
              "      <td>NaN</td>\n",
              "      <td>NaN</td>\n",
              "      <td>NaN</td>\n",
              "      <td>No</td>\n",
              "      <td>NaN</td>\n",
              "      <td>Not at all important/not necessary</td>\n",
              "      <td>Curious about other opportunities;Wanting to w...</td>\n",
              "      <td>NaN</td>\n",
              "      <td>Once a year</td>\n",
              "      <td>Not sure</td>\n",
              "      <td>Yes</td>\n",
              "      <td>Yes</td>\n",
              "      <td>Occasionally: 1-2 days per quarter but less th...</td>\n",
              "      <td>NaN</td>\n",
              "      <td>NaN</td>\n",
              "      <td>Stack Overflow (public Q&amp;A for anyone who code...</td>\n",
              "      <td>NaN</td>\n",
              "      <td>Linux-based</td>\n",
              "      <td>20 to 99 employees</td>\n",
              "      <td>NaN</td>\n",
              "      <td>NaN</td>\n",
              "      <td>I have a great deal of influence</td>\n",
              "      <td>Straight / Heterosexual</td>\n",
              "      <td>Yes</td>\n",
              "      <td>Yes, definitely</td>\n",
              "      <td>A few times per month or weekly</td>\n",
              "      <td>Multiple times per day</td>\n",
              "      <td>NaN</td>\n",
              "      <td>NaN</td>\n",
              "      <td>No</td>\n",
              "      <td>Computer science, computer engineering, or sof...</td>\n",
              "      <td>NaN</td>\n",
              "      <td>NaN</td>\n",
              "      <td>Somewhat less welcome now than last year</td>\n",
              "      <td>40.0</td>\n",
              "      <td>7</td>\n",
              "      <td>4</td>\n",
              "    </tr>\n",
              "    <tr>\n",
              "      <th>4</th>\n",
              "      <td>5</td>\n",
              "      <td>I used to be a developer by profession, but no...</td>\n",
              "      <td>Yes</td>\n",
              "      <td>31.0</td>\n",
              "      <td>16</td>\n",
              "      <td>NaN</td>\n",
              "      <td>NaN</td>\n",
              "      <td>NaN</td>\n",
              "      <td>United States</td>\n",
              "      <td>NaN</td>\n",
              "      <td>NaN</td>\n",
              "      <td>MySQL;PostgreSQL</td>\n",
              "      <td>MySQL;PostgreSQL;Redis;SQLite</td>\n",
              "      <td>NaN</td>\n",
              "      <td>Bachelor’s degree (B.A., B.S., B.Eng., etc.)</td>\n",
              "      <td>Employed full-time</td>\n",
              "      <td>White or of European descent</td>\n",
              "      <td>Man</td>\n",
              "      <td>NaN</td>\n",
              "      <td>NaN</td>\n",
              "      <td>NaN</td>\n",
              "      <td>Java;Ruby;Scala</td>\n",
              "      <td>HTML/CSS;Ruby;SQL</td>\n",
              "      <td>Ansible;Chef</td>\n",
              "      <td>Ansible</td>\n",
              "      <td>Github;Google Suite (Docs, Meet, etc)</td>\n",
              "      <td>Confluence;Jira;Github;Slack;Google Suite (Doc...</td>\n",
              "      <td>NaN</td>\n",
              "      <td>NaN</td>\n",
              "      <td>Very important</td>\n",
              "      <td>NaN</td>\n",
              "      <td>NaN</td>\n",
              "      <td>Once a year</td>\n",
              "      <td>No</td>\n",
              "      <td>NaN</td>\n",
              "      <td>Yes</td>\n",
              "      <td>NaN</td>\n",
              "      <td>Start a free trial;Ask developers I know/work ...</td>\n",
              "      <td>Hello, old friend</td>\n",
              "      <td>Stack Overflow (public Q&amp;A for anyone who code...</td>\n",
              "      <td>Call a coworker or friend;Visit Stack Overflow...</td>\n",
              "      <td>Windows</td>\n",
              "      <td>NaN</td>\n",
              "      <td>Docker;Google Cloud Platform;Heroku;Linux;Windows</td>\n",
              "      <td>AWS;Docker;Linux;MacOS;Windows</td>\n",
              "      <td>NaN</td>\n",
              "      <td>Straight / Heterosexual</td>\n",
              "      <td>Yes</td>\n",
              "      <td>Yes, somewhat</td>\n",
              "      <td>Less than once per month or monthly</td>\n",
              "      <td>A few times per month or weekly</td>\n",
              "      <td>Easy</td>\n",
              "      <td>Too short</td>\n",
              "      <td>No</td>\n",
              "      <td>Computer science, computer engineering, or sof...</td>\n",
              "      <td>Django;Ruby on Rails</td>\n",
              "      <td>Ruby on Rails</td>\n",
              "      <td>Just as welcome now as I felt last year</td>\n",
              "      <td>NaN</td>\n",
              "      <td>15</td>\n",
              "      <td>8</td>\n",
              "    </tr>\n",
              "  </tbody>\n",
              "</table>\n",
              "</div>"
            ],
            "text/plain": [
              "   Respondent  ... YearsCodePro\n",
              "0           1  ...           27\n",
              "1           2  ...            4\n",
              "2           3  ...          NaN\n",
              "3           4  ...            4\n",
              "4           5  ...            8\n",
              "\n",
              "[5 rows x 61 columns]"
            ]
          },
          "metadata": {
            "tags": []
          },
          "execution_count": 73
        }
      ]
    },
    {
      "cell_type": "code",
      "metadata": {
        "colab": {
          "base_uri": "https://localhost:8080/"
        },
        "id": "98PPTxBmdgxJ",
        "outputId": "9bef6679-aa9f-4585-cc6a-631bdedde689"
      },
      "source": [
        "df.shape"
      ],
      "execution_count": 74,
      "outputs": [
        {
          "output_type": "execute_result",
          "data": {
            "text/plain": [
              "(64461, 61)"
            ]
          },
          "metadata": {
            "tags": []
          },
          "execution_count": 74
        }
      ]
    },
    {
      "cell_type": "code",
      "metadata": {
        "colab": {
          "base_uri": "https://localhost:8080/",
          "height": 797
        },
        "id": "tAqAOca8dg0P",
        "outputId": "a418ecbd-357a-48b4-bd53-b97e47db38f8"
      },
      "source": [
        "#Load 2015 file and a quick look\r\n",
        "\r\n",
        "df2 = pd.read_csv('2015 Stack Overflow Developer Survey Responses.csv', header=1)\r\n",
        "df2.head()"
      ],
      "execution_count": 75,
      "outputs": [
        {
          "output_type": "stream",
          "text": [
            "/usr/local/lib/python3.6/dist-packages/IPython/core/interactiveshell.py:2718: DtypeWarning: Columns (5,108,121,196,197,198) have mixed types.Specify dtype option on import or set low_memory=False.\n",
            "  interactivity=interactivity, compiler=compiler, result=result)\n"
          ],
          "name": "stderr"
        },
        {
          "output_type": "execute_result",
          "data": {
            "text/html": [
              "<div>\n",
              "<style scoped>\n",
              "    .dataframe tbody tr th:only-of-type {\n",
              "        vertical-align: middle;\n",
              "    }\n",
              "\n",
              "    .dataframe tbody tr th {\n",
              "        vertical-align: top;\n",
              "    }\n",
              "\n",
              "    .dataframe thead th {\n",
              "        text-align: right;\n",
              "    }\n",
              "</style>\n",
              "<table border=\"1\" class=\"dataframe\">\n",
              "  <thead>\n",
              "    <tr style=\"text-align: right;\">\n",
              "      <th></th>\n",
              "      <th>Country</th>\n",
              "      <th>Age</th>\n",
              "      <th>Gender</th>\n",
              "      <th>Tabs or Spaces</th>\n",
              "      <th>Years IT / Programming Experience</th>\n",
              "      <th>Occupation</th>\n",
              "      <th>Desktop Operating System</th>\n",
              "      <th>Desktop Operating System: write-in</th>\n",
              "      <th>Current Lang &amp; Tech: Android</th>\n",
              "      <th>Current Lang &amp; Tech: Arduino</th>\n",
              "      <th>Current Lang &amp; Tech: AngularJS</th>\n",
              "      <th>Current Lang &amp; Tech: C</th>\n",
              "      <th>Current Lang &amp; Tech: C++</th>\n",
              "      <th>Current Lang &amp; Tech: C++11</th>\n",
              "      <th>Current Lang &amp; Tech: C#</th>\n",
              "      <th>Current Lang &amp; Tech: Cassandra</th>\n",
              "      <th>Current Lang &amp; Tech: CoffeeScript</th>\n",
              "      <th>Current Lang &amp; Tech: Cordova</th>\n",
              "      <th>Current Lang &amp; Tech: Clojure</th>\n",
              "      <th>Current Lang &amp; Tech: Cloud</th>\n",
              "      <th>Current Lang &amp; Tech: Dart</th>\n",
              "      <th>Current Lang &amp; Tech: F#</th>\n",
              "      <th>Current Lang &amp; Tech: Go</th>\n",
              "      <th>Current Lang &amp; Tech: Hadoop</th>\n",
              "      <th>Current Lang &amp; Tech: Haskell</th>\n",
              "      <th>Current Lang &amp; Tech: iOS</th>\n",
              "      <th>Current Lang &amp; Tech: Java</th>\n",
              "      <th>Current Lang &amp; Tech: JavaScript</th>\n",
              "      <th>Current Lang &amp; Tech: LAMP</th>\n",
              "      <th>Current Lang &amp; Tech: Matlab</th>\n",
              "      <th>Current Lang &amp; Tech: MongoDB</th>\n",
              "      <th>Current Lang &amp; Tech: Node.js</th>\n",
              "      <th>Current Lang &amp; Tech: Objective-C</th>\n",
              "      <th>Current Lang &amp; Tech: Perl</th>\n",
              "      <th>Current Lang &amp; Tech: PHP</th>\n",
              "      <th>Current Lang &amp; Tech: Python</th>\n",
              "      <th>Current Lang &amp; Tech: R</th>\n",
              "      <th>Current Lang &amp; Tech: Redis</th>\n",
              "      <th>Current Lang &amp; Tech: Ruby</th>\n",
              "      <th>Current Lang &amp; Tech: Rust</th>\n",
              "      <th>...</th>\n",
              "      <th>Why try Stack Overflow Careers: Showcase Stack Overflow activity</th>\n",
              "      <th>Why try Stack Overflow Careers: Jobs are on Stack Overflow</th>\n",
              "      <th>Why try Stack Overflow Careers: Other</th>\n",
              "      <th>How many caffeinated beverages per day?</th>\n",
              "      <th>How many hours programming as hobby per week?</th>\n",
              "      <th>How frequently land on or read Stack Overflow</th>\n",
              "      <th>Preferred text editor</th>\n",
              "      <th>Preferred text editor: write-in</th>\n",
              "      <th>Prefered IDE theme</th>\n",
              "      <th>Source control used: Git</th>\n",
              "      <th>Source control used: Mercurial</th>\n",
              "      <th>Source control used: SVN</th>\n",
              "      <th>Source control used: CVS</th>\n",
              "      <th>Source control used: Perforce</th>\n",
              "      <th>Source control used: TFS</th>\n",
              "      <th>Source control used: DCVS</th>\n",
              "      <th>Source control used: Bitkeeper</th>\n",
              "      <th>Source control used: Legacy / Custom</th>\n",
              "      <th>Source control used: I don't use source control</th>\n",
              "      <th>Source control used: write-in</th>\n",
              "      <th>Prefered Source Control</th>\n",
              "      <th>Prefered Source Control: write-in</th>\n",
              "      <th>Why use Stack Overflow: Help for job</th>\n",
              "      <th>Why use Stack Overflow: To give help</th>\n",
              "      <th>Why use Stack Overflow: Can't do job without it</th>\n",
              "      <th>Why use Stack Overflow: Maintain online presence</th>\n",
              "      <th>Why use Stack Overflow: Demonstrate expertise</th>\n",
              "      <th>Why use Stack Overflow: Communicate with others</th>\n",
              "      <th>Why use Stack Overflow: Receive help on personal projects</th>\n",
              "      <th>Why use Stack Overflow: Love to learn</th>\n",
              "      <th>Why use Stack Overflow: I don't use Stack Overflow</th>\n",
              "      <th>How often are Stack Overflow's answers helpful</th>\n",
              "      <th>Why answer: Help a programmer in need</th>\n",
              "      <th>Why answer: Help future programmers</th>\n",
              "      <th>Why answer: Demonstrate expertise</th>\n",
              "      <th>Why answer: Self promotion</th>\n",
              "      <th>Why answer: Sense of responsibility to developers</th>\n",
              "      <th>Why answer: No idea</th>\n",
              "      <th>Why answer: I don't answer and I don't want to</th>\n",
              "      <th>Why answer: I don't answer but I want to</th>\n",
              "    </tr>\n",
              "  </thead>\n",
              "  <tbody>\n",
              "    <tr>\n",
              "      <th>0</th>\n",
              "      <td>Croatia</td>\n",
              "      <td>25-29</td>\n",
              "      <td>Male</td>\n",
              "      <td>Tabs</td>\n",
              "      <td>2 - 5 years</td>\n",
              "      <td>Back-end web developer</td>\n",
              "      <td>Ubuntu</td>\n",
              "      <td>NaN</td>\n",
              "      <td>NaN</td>\n",
              "      <td>NaN</td>\n",
              "      <td>NaN</td>\n",
              "      <td>NaN</td>\n",
              "      <td>NaN</td>\n",
              "      <td>NaN</td>\n",
              "      <td>NaN</td>\n",
              "      <td>NaN</td>\n",
              "      <td>NaN</td>\n",
              "      <td>NaN</td>\n",
              "      <td>NaN</td>\n",
              "      <td>NaN</td>\n",
              "      <td>NaN</td>\n",
              "      <td>NaN</td>\n",
              "      <td>NaN</td>\n",
              "      <td>NaN</td>\n",
              "      <td>NaN</td>\n",
              "      <td>NaN</td>\n",
              "      <td>Java</td>\n",
              "      <td>NaN</td>\n",
              "      <td>NaN</td>\n",
              "      <td>NaN</td>\n",
              "      <td>NaN</td>\n",
              "      <td>NaN</td>\n",
              "      <td>NaN</td>\n",
              "      <td>NaN</td>\n",
              "      <td>NaN</td>\n",
              "      <td>NaN</td>\n",
              "      <td>NaN</td>\n",
              "      <td>NaN</td>\n",
              "      <td>NaN</td>\n",
              "      <td>NaN</td>\n",
              "      <td>...</td>\n",
              "      <td>To showcase my Stack Overflow activity</td>\n",
              "      <td>Because the jobs ads are right there on Stack ...</td>\n",
              "      <td>NaN</td>\n",
              "      <td>0</td>\n",
              "      <td>5-10 hours per week</td>\n",
              "      <td>Multipleætimes a day</td>\n",
              "      <td>Sublime Text</td>\n",
              "      <td>NaN</td>\n",
              "      <td>Dark</td>\n",
              "      <td>NaN</td>\n",
              "      <td>Mercurial</td>\n",
              "      <td>NaN</td>\n",
              "      <td>NaN</td>\n",
              "      <td>NaN</td>\n",
              "      <td>NaN</td>\n",
              "      <td>NaN</td>\n",
              "      <td>NaN</td>\n",
              "      <td>NaN</td>\n",
              "      <td>NaN</td>\n",
              "      <td>NaN</td>\n",
              "      <td>Mercurial</td>\n",
              "      <td>NaN</td>\n",
              "      <td>To get help for my job</td>\n",
              "      <td>To give help to others</td>\n",
              "      <td>Because I can't do my job without it</td>\n",
              "      <td>NaN</td>\n",
              "      <td>To demonstrate that I'm good at what I do</td>\n",
              "      <td>NaN</td>\n",
              "      <td>To receive help onæmy personal projects</td>\n",
              "      <td>Because I love to learn</td>\n",
              "      <td>NaN</td>\n",
              "      <td>Usually</td>\n",
              "      <td>NaN</td>\n",
              "      <td>NaN</td>\n",
              "      <td>It feels good to demonstrate my expertise.</td>\n",
              "      <td>Demonstrating my expertise will benefit me</td>\n",
              "      <td>I feel a sense of responsibility to the develo...</td>\n",
              "      <td>NaN</td>\n",
              "      <td>NaN</td>\n",
              "      <td>NaN</td>\n",
              "    </tr>\n",
              "    <tr>\n",
              "      <th>1</th>\n",
              "      <td>France</td>\n",
              "      <td>20-24</td>\n",
              "      <td>Male</td>\n",
              "      <td>Spaces</td>\n",
              "      <td>1 - 2 years</td>\n",
              "      <td>Back-end web developer</td>\n",
              "      <td>Windows 7</td>\n",
              "      <td>NaN</td>\n",
              "      <td>NaN</td>\n",
              "      <td>NaN</td>\n",
              "      <td>NaN</td>\n",
              "      <td>NaN</td>\n",
              "      <td>NaN</td>\n",
              "      <td>NaN</td>\n",
              "      <td>C#</td>\n",
              "      <td>NaN</td>\n",
              "      <td>NaN</td>\n",
              "      <td>NaN</td>\n",
              "      <td>NaN</td>\n",
              "      <td>NaN</td>\n",
              "      <td>NaN</td>\n",
              "      <td>NaN</td>\n",
              "      <td>NaN</td>\n",
              "      <td>NaN</td>\n",
              "      <td>NaN</td>\n",
              "      <td>NaN</td>\n",
              "      <td>NaN</td>\n",
              "      <td>NaN</td>\n",
              "      <td>NaN</td>\n",
              "      <td>NaN</td>\n",
              "      <td>NaN</td>\n",
              "      <td>NaN</td>\n",
              "      <td>NaN</td>\n",
              "      <td>NaN</td>\n",
              "      <td>NaN</td>\n",
              "      <td>NaN</td>\n",
              "      <td>NaN</td>\n",
              "      <td>NaN</td>\n",
              "      <td>NaN</td>\n",
              "      <td>NaN</td>\n",
              "      <td>...</td>\n",
              "      <td>NaN</td>\n",
              "      <td>NaN</td>\n",
              "      <td>NaN</td>\n",
              "      <td>3</td>\n",
              "      <td>2-5 hours per week</td>\n",
              "      <td>Once a day</td>\n",
              "      <td>NaN</td>\n",
              "      <td>Visual Studio 2013</td>\n",
              "      <td>Light</td>\n",
              "      <td>Git</td>\n",
              "      <td>NaN</td>\n",
              "      <td>NaN</td>\n",
              "      <td>NaN</td>\n",
              "      <td>NaN</td>\n",
              "      <td>TFS</td>\n",
              "      <td>NaN</td>\n",
              "      <td>NaN</td>\n",
              "      <td>NaN</td>\n",
              "      <td>NaN</td>\n",
              "      <td>NaN</td>\n",
              "      <td>TFS</td>\n",
              "      <td>NaN</td>\n",
              "      <td>To get help for my job</td>\n",
              "      <td>To give help to others</td>\n",
              "      <td>NaN</td>\n",
              "      <td>NaN</td>\n",
              "      <td>NaN</td>\n",
              "      <td>NaN</td>\n",
              "      <td>To receive help onæmy personal projects</td>\n",
              "      <td>NaN</td>\n",
              "      <td>NaN</td>\n",
              "      <td>Usually</td>\n",
              "      <td>NaN</td>\n",
              "      <td>My answer will help lots of people who have th...</td>\n",
              "      <td>It feels good to demonstrate my expertise.</td>\n",
              "      <td>NaN</td>\n",
              "      <td>NaN</td>\n",
              "      <td>NaN</td>\n",
              "      <td>NaN</td>\n",
              "      <td>NaN</td>\n",
              "    </tr>\n",
              "    <tr>\n",
              "      <th>2</th>\n",
              "      <td>India</td>\n",
              "      <td>20-24</td>\n",
              "      <td>Male</td>\n",
              "      <td>Tabs</td>\n",
              "      <td>1 - 2 years</td>\n",
              "      <td>Back-end web developer</td>\n",
              "      <td>Windows 7</td>\n",
              "      <td>NaN</td>\n",
              "      <td>NaN</td>\n",
              "      <td>NaN</td>\n",
              "      <td>NaN</td>\n",
              "      <td>NaN</td>\n",
              "      <td>NaN</td>\n",
              "      <td>NaN</td>\n",
              "      <td>C#</td>\n",
              "      <td>NaN</td>\n",
              "      <td>NaN</td>\n",
              "      <td>NaN</td>\n",
              "      <td>NaN</td>\n",
              "      <td>NaN</td>\n",
              "      <td>NaN</td>\n",
              "      <td>NaN</td>\n",
              "      <td>NaN</td>\n",
              "      <td>NaN</td>\n",
              "      <td>NaN</td>\n",
              "      <td>NaN</td>\n",
              "      <td>NaN</td>\n",
              "      <td>NaN</td>\n",
              "      <td>NaN</td>\n",
              "      <td>NaN</td>\n",
              "      <td>NaN</td>\n",
              "      <td>NaN</td>\n",
              "      <td>NaN</td>\n",
              "      <td>NaN</td>\n",
              "      <td>NaN</td>\n",
              "      <td>NaN</td>\n",
              "      <td>NaN</td>\n",
              "      <td>NaN</td>\n",
              "      <td>NaN</td>\n",
              "      <td>NaN</td>\n",
              "      <td>...</td>\n",
              "      <td>NaN</td>\n",
              "      <td>NaN</td>\n",
              "      <td>NaN</td>\n",
              "      <td>4</td>\n",
              "      <td>5-10 hours per week</td>\n",
              "      <td>Once a day</td>\n",
              "      <td>XEmacs</td>\n",
              "      <td>NaN</td>\n",
              "      <td>Dark</td>\n",
              "      <td>NaN</td>\n",
              "      <td>NaN</td>\n",
              "      <td>SVN</td>\n",
              "      <td>NaN</td>\n",
              "      <td>NaN</td>\n",
              "      <td>NaN</td>\n",
              "      <td>NaN</td>\n",
              "      <td>NaN</td>\n",
              "      <td>NaN</td>\n",
              "      <td>NaN</td>\n",
              "      <td>NaN</td>\n",
              "      <td>SVN</td>\n",
              "      <td>NaN</td>\n",
              "      <td>NaN</td>\n",
              "      <td>NaN</td>\n",
              "      <td>NaN</td>\n",
              "      <td>NaN</td>\n",
              "      <td>NaN</td>\n",
              "      <td>NaN</td>\n",
              "      <td>To receive help onæmy personal projects</td>\n",
              "      <td>NaN</td>\n",
              "      <td>NaN</td>\n",
              "      <td>Rarely</td>\n",
              "      <td>NaN</td>\n",
              "      <td>NaN</td>\n",
              "      <td>NaN</td>\n",
              "      <td>Demonstrating my expertise will benefit me</td>\n",
              "      <td>NaN</td>\n",
              "      <td>NaN</td>\n",
              "      <td>NaN</td>\n",
              "      <td>NaN</td>\n",
              "    </tr>\n",
              "    <tr>\n",
              "      <th>3</th>\n",
              "      <td>Latvia</td>\n",
              "      <td>25-29</td>\n",
              "      <td>Male</td>\n",
              "      <td>It depends</td>\n",
              "      <td>6 - 10 years</td>\n",
              "      <td>Back-end web developer</td>\n",
              "      <td>Ubuntu</td>\n",
              "      <td>NaN</td>\n",
              "      <td>NaN</td>\n",
              "      <td>NaN</td>\n",
              "      <td>NaN</td>\n",
              "      <td>NaN</td>\n",
              "      <td>NaN</td>\n",
              "      <td>NaN</td>\n",
              "      <td>NaN</td>\n",
              "      <td>NaN</td>\n",
              "      <td>NaN</td>\n",
              "      <td>NaN</td>\n",
              "      <td>NaN</td>\n",
              "      <td>NaN</td>\n",
              "      <td>NaN</td>\n",
              "      <td>NaN</td>\n",
              "      <td>NaN</td>\n",
              "      <td>NaN</td>\n",
              "      <td>NaN</td>\n",
              "      <td>NaN</td>\n",
              "      <td>NaN</td>\n",
              "      <td>JavaScript</td>\n",
              "      <td>LAMP</td>\n",
              "      <td>NaN</td>\n",
              "      <td>NaN</td>\n",
              "      <td>Node.js</td>\n",
              "      <td>NaN</td>\n",
              "      <td>NaN</td>\n",
              "      <td>PHP</td>\n",
              "      <td>Python</td>\n",
              "      <td>NaN</td>\n",
              "      <td>Redis</td>\n",
              "      <td>NaN</td>\n",
              "      <td>NaN</td>\n",
              "      <td>...</td>\n",
              "      <td>To showcase my Stack Overflow activity</td>\n",
              "      <td>NaN</td>\n",
              "      <td>NaN</td>\n",
              "      <td>2</td>\n",
              "      <td>5-10 hours per week</td>\n",
              "      <td>Multipleætimes a day</td>\n",
              "      <td>Sublime Text</td>\n",
              "      <td>NaN</td>\n",
              "      <td>Dark</td>\n",
              "      <td>Git</td>\n",
              "      <td>NaN</td>\n",
              "      <td>SVN</td>\n",
              "      <td>NaN</td>\n",
              "      <td>NaN</td>\n",
              "      <td>NaN</td>\n",
              "      <td>NaN</td>\n",
              "      <td>NaN</td>\n",
              "      <td>NaN</td>\n",
              "      <td>NaN</td>\n",
              "      <td>NaN</td>\n",
              "      <td>Git</td>\n",
              "      <td>NaN</td>\n",
              "      <td>To get help for my job</td>\n",
              "      <td>To give help to others</td>\n",
              "      <td>NaN</td>\n",
              "      <td>NaN</td>\n",
              "      <td>To demonstrate that I'm good at what I do</td>\n",
              "      <td>To communicate with others like me</td>\n",
              "      <td>NaN</td>\n",
              "      <td>Because I love to learn</td>\n",
              "      <td>NaN</td>\n",
              "      <td>Usually</td>\n",
              "      <td>It feels good to help a programmer in need</td>\n",
              "      <td>My answer will help lots of people who have th...</td>\n",
              "      <td>It feels good to demonstrate my expertise.</td>\n",
              "      <td>Demonstrating my expertise will benefit me</td>\n",
              "      <td>I feel a sense of responsibility to the develo...</td>\n",
              "      <td>NaN</td>\n",
              "      <td>NaN</td>\n",
              "      <td>NaN</td>\n",
              "    </tr>\n",
              "    <tr>\n",
              "      <th>4</th>\n",
              "      <td>Norway</td>\n",
              "      <td>30-34</td>\n",
              "      <td>Male</td>\n",
              "      <td>Tabs</td>\n",
              "      <td>2 - 5 years</td>\n",
              "      <td>Back-end web developer</td>\n",
              "      <td>Windows 8</td>\n",
              "      <td>NaN</td>\n",
              "      <td>NaN</td>\n",
              "      <td>NaN</td>\n",
              "      <td>NaN</td>\n",
              "      <td>NaN</td>\n",
              "      <td>NaN</td>\n",
              "      <td>NaN</td>\n",
              "      <td>C#</td>\n",
              "      <td>NaN</td>\n",
              "      <td>NaN</td>\n",
              "      <td>NaN</td>\n",
              "      <td>NaN</td>\n",
              "      <td>NaN</td>\n",
              "      <td>NaN</td>\n",
              "      <td>NaN</td>\n",
              "      <td>Go</td>\n",
              "      <td>NaN</td>\n",
              "      <td>NaN</td>\n",
              "      <td>NaN</td>\n",
              "      <td>NaN</td>\n",
              "      <td>NaN</td>\n",
              "      <td>NaN</td>\n",
              "      <td>NaN</td>\n",
              "      <td>NaN</td>\n",
              "      <td>NaN</td>\n",
              "      <td>NaN</td>\n",
              "      <td>NaN</td>\n",
              "      <td>NaN</td>\n",
              "      <td>NaN</td>\n",
              "      <td>NaN</td>\n",
              "      <td>NaN</td>\n",
              "      <td>NaN</td>\n",
              "      <td>NaN</td>\n",
              "      <td>...</td>\n",
              "      <td>NaN</td>\n",
              "      <td>NaN</td>\n",
              "      <td>NaN</td>\n",
              "      <td>6</td>\n",
              "      <td>5-10 hours per week</td>\n",
              "      <td>Multipleætimes a day</td>\n",
              "      <td>Sublime Text</td>\n",
              "      <td>NaN</td>\n",
              "      <td>Dark</td>\n",
              "      <td>Git</td>\n",
              "      <td>NaN</td>\n",
              "      <td>NaN</td>\n",
              "      <td>NaN</td>\n",
              "      <td>NaN</td>\n",
              "      <td>TFS</td>\n",
              "      <td>NaN</td>\n",
              "      <td>NaN</td>\n",
              "      <td>NaN</td>\n",
              "      <td>NaN</td>\n",
              "      <td>NaN</td>\n",
              "      <td>Git</td>\n",
              "      <td>NaN</td>\n",
              "      <td>To get help for my job</td>\n",
              "      <td>NaN</td>\n",
              "      <td>NaN</td>\n",
              "      <td>NaN</td>\n",
              "      <td>NaN</td>\n",
              "      <td>NaN</td>\n",
              "      <td>NaN</td>\n",
              "      <td>Because I love to learn</td>\n",
              "      <td>NaN</td>\n",
              "      <td>Usually</td>\n",
              "      <td>It feels good to help a programmer in need</td>\n",
              "      <td>NaN</td>\n",
              "      <td>NaN</td>\n",
              "      <td>Demonstrating my expertise will benefit me</td>\n",
              "      <td>NaN</td>\n",
              "      <td>NaN</td>\n",
              "      <td>NaN</td>\n",
              "      <td>I don't answer much (or at all), but I want to...</td>\n",
              "    </tr>\n",
              "  </tbody>\n",
              "</table>\n",
              "<p>5 rows × 222 columns</p>\n",
              "</div>"
            ],
            "text/plain": [
              "   Country  ...           Why answer: I don't answer but I want to\n",
              "0  Croatia  ...                                                NaN\n",
              "1   France  ...                                                NaN\n",
              "2    India  ...                                                NaN\n",
              "3   Latvia  ...                                                NaN\n",
              "4   Norway  ...  I don't answer much (or at all), but I want to...\n",
              "\n",
              "[5 rows x 222 columns]"
            ]
          },
          "metadata": {
            "tags": []
          },
          "execution_count": 75
        }
      ]
    },
    {
      "cell_type": "code",
      "metadata": {
        "colab": {
          "base_uri": "https://localhost:8080/"
        },
        "id": "DCyrzvOPdg2r",
        "outputId": "18c3226a-ea73-4eab-c913-553b1e019181"
      },
      "source": [
        "df2.shape"
      ],
      "execution_count": 76,
      "outputs": [
        {
          "output_type": "execute_result",
          "data": {
            "text/plain": [
              "(26086, 222)"
            ]
          },
          "metadata": {
            "tags": []
          },
          "execution_count": 76
        }
      ]
    },
    {
      "cell_type": "markdown",
      "metadata": {
        "id": "F7VB-2lMwiTu"
      },
      "source": [
        "The files includes survey of 2015 and 2020 related to some developers questions. The focus of this analysis is: average salary, salary and Education, salary and age and salary and years coding. \r\n",
        "\r\n",
        "We have all of this information in our dataset, we just need to clean and prepare our data."
      ]
    },
    {
      "cell_type": "markdown",
      "metadata": {
        "id": "vlnf_4WXds8o"
      },
      "source": [
        "###**Data preparation**"
      ]
    },
    {
      "cell_type": "markdown",
      "metadata": {
        "id": "1vRWqh1od2wj"
      },
      "source": [
        "**First, df (2020 survey)**"
      ]
    },
    {
      "cell_type": "code",
      "metadata": {
        "colab": {
          "base_uri": "https://localhost:8080/"
        },
        "id": "oyyJKGNndg6O",
        "outputId": "5f51cb6e-32b4-4326-8ffc-dcd1c5c68d8e"
      },
      "source": [
        "#Quick look at the columns\r\n",
        "\r\n",
        "df.columns"
      ],
      "execution_count": 77,
      "outputs": [
        {
          "output_type": "execute_result",
          "data": {
            "text/plain": [
              "Index(['Respondent', 'MainBranch', 'Hobbyist', 'Age', 'Age1stCode', 'CompFreq',\n",
              "       'CompTotal', 'ConvertedComp', 'Country', 'CurrencyDesc',\n",
              "       'CurrencySymbol', 'DatabaseDesireNextYear', 'DatabaseWorkedWith',\n",
              "       'DevType', 'EdLevel', 'Employment', 'Ethnicity', 'Gender', 'JobFactors',\n",
              "       'JobSat', 'JobSeek', 'LanguageDesireNextYear', 'LanguageWorkedWith',\n",
              "       'MiscTechDesireNextYear', 'MiscTechWorkedWith',\n",
              "       'NEWCollabToolsDesireNextYear', 'NEWCollabToolsWorkedWith', 'NEWDevOps',\n",
              "       'NEWDevOpsImpt', 'NEWEdImpt', 'NEWJobHunt', 'NEWJobHuntResearch',\n",
              "       'NEWLearn', 'NEWOffTopic', 'NEWOnboardGood', 'NEWOtherComms',\n",
              "       'NEWOvertime', 'NEWPurchaseResearch', 'NEWPurpleLink', 'NEWSOSites',\n",
              "       'NEWStuck', 'OpSys', 'OrgSize', 'PlatformDesireNextYear',\n",
              "       'PlatformWorkedWith', 'PurchaseWhat', 'Sexuality', 'SOAccount',\n",
              "       'SOComm', 'SOPartFreq', 'SOVisitFreq', 'SurveyEase', 'SurveyLength',\n",
              "       'Trans', 'UndergradMajor', 'WebframeDesireNextYear',\n",
              "       'WebframeWorkedWith', 'WelcomeChange', 'WorkWeekHrs', 'YearsCode',\n",
              "       'YearsCodePro'],\n",
              "      dtype='object')"
            ]
          },
          "metadata": {
            "tags": []
          },
          "execution_count": 77
        }
      ]
    },
    {
      "cell_type": "code",
      "metadata": {
        "colab": {
          "base_uri": "https://localhost:8080/"
        },
        "id": "VqQ5F7v2dg9I",
        "outputId": "c867ca11-a60d-418c-e7d6-81912f2a58a2"
      },
      "source": [
        "#Select only the important columns to our analysis and check null values\r\n",
        "\r\n",
        "new_df = df[['Age', 'ConvertedComp', \t'YearsCodePro', 'Country', 'EdLevel']]\r\n",
        "new_df.isnull().mean()"
      ],
      "execution_count": 78,
      "outputs": [
        {
          "output_type": "execute_result",
          "data": {
            "text/plain": [
              "Age              0.294985\n",
              "ConvertedComp    0.460821\n",
              "YearsCodePro     0.280976\n",
              "Country          0.006035\n",
              "EdLevel          0.109058\n",
              "dtype: float64"
            ]
          },
          "metadata": {
            "tags": []
          },
          "execution_count": 78
        }
      ]
    },
    {
      "cell_type": "markdown",
      "metadata": {
        "id": "pZAYIHMSepMQ"
      },
      "source": [
        "We can see that we have more missing values in the most important column to our analysis, ConvertedComp. This way, it doesn't seem to be a good idea fill in almost 50% of our values with the mean or other statistic about the data - it can bias our results. The chosen approach is to drop missing values and keep only the original ones. "
      ]
    },
    {
      "cell_type": "code",
      "metadata": {
        "colab": {
          "base_uri": "https://localhost:8080/"
        },
        "id": "0Apqnn_kdg_p",
        "outputId": "7d7c6d5a-384e-455e-f932-b54c15543093"
      },
      "source": [
        "#Drop missing values by ConvertedComp\r\n",
        "\r\n",
        "new_df.dropna(subset=['ConvertedComp'],inplace=True)\r\n",
        "new_df.isnull().mean()"
      ],
      "execution_count": 79,
      "outputs": [
        {
          "output_type": "stream",
          "text": [
            "/usr/local/lib/python3.6/dist-packages/ipykernel_launcher.py:3: SettingWithCopyWarning: \n",
            "A value is trying to be set on a copy of a slice from a DataFrame\n",
            "\n",
            "See the caveats in the documentation: https://pandas.pydata.org/pandas-docs/stable/user_guide/indexing.html#returning-a-view-versus-a-copy\n",
            "  This is separate from the ipykernel package so we can avoid doing imports until\n"
          ],
          "name": "stderr"
        },
        {
          "output_type": "execute_result",
          "data": {
            "text/plain": [
              "Age              0.119692\n",
              "ConvertedComp    0.000000\n",
              "YearsCodePro     0.003884\n",
              "Country          0.000000\n",
              "EdLevel          0.016343\n",
              "dtype: float64"
            ]
          },
          "metadata": {
            "tags": []
          },
          "execution_count": 79
        }
      ]
    },
    {
      "cell_type": "markdown",
      "metadata": {
        "id": "RwYPQUv4ej-K"
      },
      "source": [
        "Looking into Age"
      ]
    },
    {
      "cell_type": "code",
      "metadata": {
        "colab": {
          "base_uri": "https://localhost:8080/"
        },
        "id": "y2m_Y047dhCA",
        "outputId": "213db8f5-cb08-41b0-9456-141ebc0e76b4"
      },
      "source": [
        "new_df[\"Age\"].describe().apply(lambda x: format(x, 'f'))"
      ],
      "execution_count": 80,
      "outputs": [
        {
          "output_type": "execute_result",
          "data": {
            "text/plain": [
              "count    30596.000000\n",
              "mean        32.164388\n",
              "std          8.616750\n",
              "min          1.000000\n",
              "25%         26.000000\n",
              "50%         30.000000\n",
              "75%         36.000000\n",
              "max        279.000000\n",
              "Name: Age, dtype: object"
            ]
          },
          "metadata": {
            "tags": []
          },
          "execution_count": 80
        }
      ]
    },
    {
      "cell_type": "markdown",
      "metadata": {
        "id": "_BEsvkBte3nn"
      },
      "source": [
        "We can already see from min and max values (1 - 279) that some data are inconsistent. Anyway, lets check tukey test in this variable."
      ]
    },
    {
      "cell_type": "code",
      "metadata": {
        "colab": {
          "base_uri": "https://localhost:8080/"
        },
        "id": "ix2Sow28fBtl",
        "outputId": "21a9a9db-6946-49f9-93d9-ce8471927239"
      },
      "source": [
        "#Tukey test on Age data to check min and max values to identify outliers\r\n",
        "\r\n",
        "Q1 = new_df['Age'].quantile(0.25)\r\n",
        "Q3 = new_df['Age'].quantile(0.75)\r\n",
        "\r\n",
        "IQR = Q3 - Q1\r\n",
        "\r\n",
        "Max = Q3 + 1.5*IQR\r\n",
        "Min = Q1 - 1.5*IQR\r\n",
        "print('Min value {} , Max value {}'.format(Min,Max))"
      ],
      "execution_count": 81,
      "outputs": [
        {
          "output_type": "stream",
          "text": [
            "Min value 11.0 , Max value 51.0\n"
          ],
          "name": "stdout"
        }
      ]
    },
    {
      "cell_type": "code",
      "metadata": {
        "colab": {
          "base_uri": "https://localhost:8080/"
        },
        "id": "CZpBJHkcfIQ_",
        "outputId": "83669a81-4e55-4d5c-84a1-da7be0f7115c"
      },
      "source": [
        "new_df[new_df['Age'] > 51]['Age'].count() / new_df['Age'].shape[0]"
      ],
      "execution_count": 82,
      "outputs": [
        {
          "output_type": "execute_result",
          "data": {
            "text/plain": [
              "0.031476579583381285"
            ]
          },
          "metadata": {
            "tags": []
          },
          "execution_count": 82
        }
      ]
    },
    {
      "cell_type": "code",
      "metadata": {
        "colab": {
          "base_uri": "https://localhost:8080/"
        },
        "id": "UuYT4ihdfLW-",
        "outputId": "e19e48c7-f11d-4543-c99d-37e6d0e83799"
      },
      "source": [
        "new_df[new_df['Age'] > 60]['Age'].count() / new_df['Age'].shape[0]"
      ],
      "execution_count": 83,
      "outputs": [
        {
          "output_type": "execute_result",
          "data": {
            "text/plain": [
              "0.006847738519967775"
            ]
          },
          "metadata": {
            "tags": []
          },
          "execution_count": 83
        }
      ]
    },
    {
      "cell_type": "markdown",
      "metadata": {
        "id": "KJWNhSLm0CNO"
      },
      "source": [
        "Since we still have a substantial percentage of data between 51 and 60, let's keep the threshold to 60."
      ]
    },
    {
      "cell_type": "code",
      "metadata": {
        "colab": {
          "base_uri": "https://localhost:8080/"
        },
        "id": "QqeGrhwbzoA_",
        "outputId": "5de2346e-1476-4094-915d-60484da09465"
      },
      "source": [
        "new_df[new_df['Age'] < 11]['Age'].count() / new_df['Age'].shape[0]"
      ],
      "execution_count": 84,
      "outputs": [
        {
          "output_type": "execute_result",
          "data": {
            "text/plain": [
              "0.00014386005294049947"
            ]
          },
          "metadata": {
            "tags": []
          },
          "execution_count": 84
        }
      ]
    },
    {
      "cell_type": "code",
      "metadata": {
        "colab": {
          "base_uri": "https://localhost:8080/"
        },
        "id": "Ta4u1HYVzoG6",
        "outputId": "e160cbd3-c5e2-40ab-b622-0075382e0586"
      },
      "source": [
        "new_df[new_df['Age'] < 15]['Age'].count() / new_df['Age'].shape[0]"
      ],
      "execution_count": 85,
      "outputs": [
        {
          "output_type": "execute_result",
          "data": {
            "text/plain": [
              "0.00020140407411669927"
            ]
          },
          "metadata": {
            "tags": []
          },
          "execution_count": 85
        }
      ]
    },
    {
      "cell_type": "markdown",
      "metadata": {
        "id": "pFZnP2TVfQoU"
      },
      "source": [
        "For the minimum value, even if we change from 11 to 15 we still have less than 1% of data. Considering that the more older more plausible is the age to start working, we are going to consider more than 15 as minimum age. \r\n",
        " "
      ]
    },
    {
      "cell_type": "code",
      "metadata": {
        "colab": {
          "base_uri": "https://localhost:8080/"
        },
        "id": "7hhv4PdnfL3O",
        "outputId": "3fd96bd6-c5e0-4b34-8e42-57ffa8436344"
      },
      "source": [
        "new_df = new_df.query('Age < 60 & Age > 15')\r\n",
        "new_df.Age.describe()"
      ],
      "execution_count": 86,
      "outputs": [
        {
          "output_type": "execute_result",
          "data": {
            "text/plain": [
              "count    30288.000000\n",
              "mean        31.847022\n",
              "std          7.854939\n",
              "min         16.000000\n",
              "25%         26.000000\n",
              "50%         30.000000\n",
              "75%         36.000000\n",
              "max         59.000000\n",
              "Name: Age, dtype: float64"
            ]
          },
          "metadata": {
            "tags": []
          },
          "execution_count": 86
        }
      ]
    },
    {
      "cell_type": "code",
      "metadata": {
        "colab": {
          "base_uri": "https://localhost:8080/"
        },
        "id": "g4q_8AU62YB9",
        "outputId": "9b714554-a620-4fe3-a512-b3b234f85ad2"
      },
      "source": [
        "new_df.isnull().mean()"
      ],
      "execution_count": 87,
      "outputs": [
        {
          "output_type": "execute_result",
          "data": {
            "text/plain": [
              "Age              0.000000\n",
              "ConvertedComp    0.000000\n",
              "YearsCodePro     0.003137\n",
              "Country          0.000000\n",
              "EdLevel          0.015881\n",
              "dtype: float64"
            ]
          },
          "metadata": {
            "tags": []
          },
          "execution_count": 87
        }
      ]
    },
    {
      "cell_type": "markdown",
      "metadata": {
        "id": "FKURE3mf3OOV"
      },
      "source": [
        "Ater the modifications above we don't have missing data on Age anymore."
      ]
    },
    {
      "cell_type": "markdown",
      "metadata": {
        "id": "_UZLLX4IfYNg"
      },
      "source": [
        "Looking at ConvertedComp - compensation in USD"
      ]
    },
    {
      "cell_type": "code",
      "metadata": {
        "colab": {
          "base_uri": "https://localhost:8080/"
        },
        "id": "mOfyfEuvfZdh",
        "outputId": "c4ce2593-9976-4d34-a26b-1bb5b9eda878"
      },
      "source": [
        "new_df[\"ConvertedComp\"].describe().apply(lambda x: format(x, 'f'))"
      ],
      "execution_count": 88,
      "outputs": [
        {
          "output_type": "execute_result",
          "data": {
            "text/plain": [
              "count      30288.000000\n",
              "mean      102598.236034\n",
              "std       223302.602466\n",
              "min            0.000000\n",
              "25%        25944.000000\n",
              "50%        54049.000000\n",
              "75%        94539.000000\n",
              "max      2000000.000000\n",
              "Name: ConvertedComp, dtype: object"
            ]
          },
          "metadata": {
            "tags": []
          },
          "execution_count": 88
        }
      ]
    },
    {
      "cell_type": "code",
      "metadata": {
        "colab": {
          "base_uri": "https://localhost:8080/"
        },
        "id": "KhhqD8E-ffPG",
        "outputId": "4e18f014-3f23-45eb-aa57-0195aa6996b8"
      },
      "source": [
        "#Tukey rule for Outliers\r\n",
        "\r\n",
        "Q1 = new_df['ConvertedComp'].quantile(0.25)\r\n",
        "Q3 = new_df['ConvertedComp'].quantile(0.75)\r\n",
        "\r\n",
        "IQR = Q3 -Q1\r\n",
        "\r\n",
        "Max = Q3 + 1.5*IQR\r\n",
        "Min = Q1 - 1.5*IQR\r\n",
        "print('Min value {} , Max value {}'.format(Min,Max))\r\n"
      ],
      "execution_count": 89,
      "outputs": [
        {
          "output_type": "stream",
          "text": [
            "Min value -76948.5 , Max value 197431.5\n"
          ],
          "name": "stdout"
        }
      ]
    },
    {
      "cell_type": "code",
      "metadata": {
        "colab": {
          "base_uri": "https://localhost:8080/"
        },
        "id": "1ym90Qs_hPLd",
        "outputId": "ca8e4446-f35a-43e8-afab-bc89ac1c4d44"
      },
      "source": [
        "#Quantity of values above 200000 (changed from 197431.5 to 200000)\r\n",
        "\r\n",
        "new_df[new_df['ConvertedComp'] > 200000]['ConvertedComp'].count()"
      ],
      "execution_count": 90,
      "outputs": [
        {
          "output_type": "execute_result",
          "data": {
            "text/plain": [
              "1937"
            ]
          },
          "metadata": {
            "tags": []
          },
          "execution_count": 90
        }
      ]
    },
    {
      "cell_type": "code",
      "metadata": {
        "colab": {
          "base_uri": "https://localhost:8080/"
        },
        "id": "orILgYa6hSPu",
        "outputId": "c2933913-59c6-47d3-8afc-5418b42b61f1"
      },
      "source": [
        "#Percentage of values above 350000\r\n",
        "\r\n",
        "new_df[new_df['ConvertedComp'] > 350000].shape[0] / new_df['ConvertedComp'].shape[0]"
      ],
      "execution_count": 91,
      "outputs": [
        {
          "output_type": "execute_result",
          "data": {
            "text/plain": [
              "0.04173269941891178"
            ]
          },
          "metadata": {
            "tags": []
          },
          "execution_count": 91
        }
      ]
    },
    {
      "cell_type": "markdown",
      "metadata": {
        "id": "JyjSR5HohXg4"
      },
      "source": [
        "In order to keep our data of ConvertedComp closer to the range of tukey rule we are going to set out threshold to 350.000 (losing about 4% of that column)"
      ]
    },
    {
      "cell_type": "code",
      "metadata": {
        "colab": {
          "base_uri": "https://localhost:8080/"
        },
        "id": "aJYyiJYYhYiQ",
        "outputId": "7b56c21b-190c-4691-8dd5-b987667511f6"
      },
      "source": [
        "new_df = new_df.query('ConvertedComp < 350000')\r\n",
        "new_df.ConvertedComp.describe()"
      ],
      "execution_count": 92,
      "outputs": [
        {
          "output_type": "execute_result",
          "data": {
            "text/plain": [
              "count     29005.000000\n",
              "mean      63385.769902\n",
              "std       52408.347529\n",
              "min           0.000000\n",
              "25%       24540.000000\n",
              "50%       51704.000000\n",
              "75%       86478.000000\n",
              "max      349043.000000\n",
              "Name: ConvertedComp, dtype: float64"
            ]
          },
          "metadata": {
            "tags": []
          },
          "execution_count": 92
        }
      ]
    },
    {
      "cell_type": "markdown",
      "metadata": {
        "id": "iU-12oRchiXm"
      },
      "source": [
        "Looking at YearsCodePro (years coding professionally)"
      ]
    },
    {
      "cell_type": "code",
      "metadata": {
        "colab": {
          "base_uri": "https://localhost:8080/"
        },
        "id": "ABDnCws4hcXW",
        "outputId": "e0b8e3ee-eb37-45ae-8da8-d27f1e8b33f6"
      },
      "source": [
        "new_df['YearsCodePro'].value_counts()"
      ],
      "execution_count": 93,
      "outputs": [
        {
          "output_type": "execute_result",
          "data": {
            "text/plain": [
              "3                   3016\n",
              "2                   2934\n",
              "5                   2557\n",
              "4                   2353\n",
              "6                   1865\n",
              "10                  1710\n",
              "1                   1612\n",
              "8                   1503\n",
              "7                   1486\n",
              "Less than 1 year    1195\n",
              "12                   961\n",
              "15                   926\n",
              "20                   859\n",
              "9                    824\n",
              "11                   660\n",
              "13                   604\n",
              "14                   502\n",
              "16                   416\n",
              "18                   326\n",
              "25                   324\n",
              "17                   294\n",
              "22                   276\n",
              "21                   249\n",
              "19                   246\n",
              "23                   198\n",
              "30                   178\n",
              "24                   159\n",
              "26                   118\n",
              "27                    88\n",
              "28                    79\n",
              "35                    65\n",
              "32                    59\n",
              "33                    50\n",
              "34                    46\n",
              "31                    42\n",
              "29                    41\n",
              "36                    25\n",
              "38                    21\n",
              "37                    19\n",
              "40                    11\n",
              "39                     9\n",
              "42                     4\n",
              "41                     2\n",
              "45                     1\n",
              "43                     1\n",
              "47                     1\n",
              "Name: YearsCodePro, dtype: int64"
            ]
          },
          "metadata": {
            "tags": []
          },
          "execution_count": 93
        }
      ]
    },
    {
      "cell_type": "markdown",
      "metadata": {
        "id": "JGvQ0OfrhvRc"
      },
      "source": [
        "To keep only numerical values, lets transform \"less than 1 year\" to 1 year and\r\n",
        "\"more than 50 years\" to 50"
      ]
    },
    {
      "cell_type": "code",
      "metadata": {
        "colab": {
          "base_uri": "https://localhost:8080/"
        },
        "id": "ZvyRrV0FhlDY",
        "outputId": "b1889cb6-0242-4668-9866-afed3c3a1449"
      },
      "source": [
        "new_df['YearsCodePro'][new_df['YearsCodePro'] == 'Less than 1 year'] = 1\r\n",
        "new_df['YearsCodePro'][new_df['YearsCodePro'] == 'More than 50 years'] = 50\r\n",
        "new_df['YearsCodePro'].value_counts()"
      ],
      "execution_count": 94,
      "outputs": [
        {
          "output_type": "stream",
          "text": [
            "/usr/local/lib/python3.6/dist-packages/ipykernel_launcher.py:2: SettingWithCopyWarning: \n",
            "A value is trying to be set on a copy of a slice from a DataFrame\n",
            "\n",
            "See the caveats in the documentation: https://pandas.pydata.org/pandas-docs/stable/user_guide/indexing.html#returning-a-view-versus-a-copy\n",
            "  \n"
          ],
          "name": "stderr"
        },
        {
          "output_type": "execute_result",
          "data": {
            "text/plain": [
              "3     3016\n",
              "2     2934\n",
              "5     2557\n",
              "4     2353\n",
              "6     1865\n",
              "10    1710\n",
              "1     1612\n",
              "8     1503\n",
              "7     1486\n",
              "1     1195\n",
              "12     961\n",
              "15     926\n",
              "20     859\n",
              "9      824\n",
              "11     660\n",
              "13     604\n",
              "14     502\n",
              "16     416\n",
              "18     326\n",
              "25     324\n",
              "17     294\n",
              "22     276\n",
              "21     249\n",
              "19     246\n",
              "23     198\n",
              "30     178\n",
              "24     159\n",
              "26     118\n",
              "27      88\n",
              "28      79\n",
              "35      65\n",
              "32      59\n",
              "33      50\n",
              "34      46\n",
              "31      42\n",
              "29      41\n",
              "36      25\n",
              "38      21\n",
              "37      19\n",
              "40      11\n",
              "39       9\n",
              "42       4\n",
              "41       2\n",
              "43       1\n",
              "47       1\n",
              "45       1\n",
              "Name: YearsCodePro, dtype: int64"
            ]
          },
          "metadata": {
            "tags": []
          },
          "execution_count": 94
        }
      ]
    },
    {
      "cell_type": "code",
      "metadata": {
        "colab": {
          "base_uri": "https://localhost:8080/"
        },
        "id": "-JDV1U9zszDY",
        "outputId": "59195a00-49b9-4787-e8a9-d1592b81ddd2"
      },
      "source": [
        "new_df['YearsCodePro'].isnull().mean()"
      ],
      "execution_count": 95,
      "outputs": [
        {
          "output_type": "execute_result",
          "data": {
            "text/plain": [
              "0.003102913290811929"
            ]
          },
          "metadata": {
            "tags": []
          },
          "execution_count": 95
        }
      ]
    },
    {
      "cell_type": "code",
      "metadata": {
        "id": "FMFRskwfiyu-"
      },
      "source": [
        "#Since we have few percentage of missing and it won't influence our analysis, we'll drop them\r\n",
        "\r\n",
        "new_df.dropna(subset=['YearsCodePro'], inplace=True)"
      ],
      "execution_count": 96,
      "outputs": []
    },
    {
      "cell_type": "code",
      "metadata": {
        "colab": {
          "base_uri": "https://localhost:8080/"
        },
        "id": "yy_4GAfJi6uh",
        "outputId": "42279479-7628-4c8b-e15b-9e39261dcffd"
      },
      "source": [
        "#Changing the column to int\r\n",
        "\r\n",
        "new_df['YearsCodePro'] = new_df['YearsCodePro'].astype('int')\r\n",
        "new_df['YearsCodePro'].describe()"
      ],
      "execution_count": 97,
      "outputs": [
        {
          "output_type": "execute_result",
          "data": {
            "text/plain": [
              "count    28915.000000\n",
              "mean         8.272592\n",
              "std          7.111289\n",
              "min          1.000000\n",
              "25%          3.000000\n",
              "50%          6.000000\n",
              "75%         11.000000\n",
              "max         47.000000\n",
              "Name: YearsCodePro, dtype: float64"
            ]
          },
          "metadata": {
            "tags": []
          },
          "execution_count": 97
        }
      ]
    },
    {
      "cell_type": "code",
      "metadata": {
        "colab": {
          "base_uri": "https://localhost:8080/",
          "height": 282
        },
        "id": "KF2QCbRhi7Nm",
        "outputId": "a0632ab0-4fb2-4dd7-a3dc-fc99fe549279"
      },
      "source": [
        "new_df['YearsCodePro'].plot(kind ='box')"
      ],
      "execution_count": 98,
      "outputs": [
        {
          "output_type": "execute_result",
          "data": {
            "text/plain": [
              "<matplotlib.axes._subplots.AxesSubplot at 0x7f1d70896e80>"
            ]
          },
          "metadata": {
            "tags": []
          },
          "execution_count": 98
        },
        {
          "output_type": "display_data",
          "data": {
            "image/png": "[encoded data removed]",
            "text/plain": [
              "<Figure size 432x288 with 1 Axes>"
            ]
          },
          "metadata": {
            "tags": [],
            "needs_background": "light"
          }
        }
      ]
    },
    {
      "cell_type": "code",
      "metadata": {
        "colab": {
          "base_uri": "https://localhost:8080/"
        },
        "id": "y30hR44YjAID",
        "outputId": "327940b0-7de4-40db-ee3b-f0fc872a24b6"
      },
      "source": [
        "#Tukey rule for outliers\r\n",
        "\r\n",
        "Q1 = new_df['YearsCodePro'].quantile(0.25)\r\n",
        "Q3 = new_df['YearsCodePro'].quantile(0.75)\r\n",
        "\r\n",
        "IQR = Q3 -Q1\r\n",
        "\r\n",
        "Max = Q3 + 1.5*IQR\r\n",
        "Min = Q1 - 1.5*IQR\r\n",
        "print('Min value {} , Max value {}'.format(Min,Max))"
      ],
      "execution_count": 99,
      "outputs": [
        {
          "output_type": "stream",
          "text": [
            "Min value -9.0 , Max value 23.0\n"
          ],
          "name": "stdout"
        }
      ]
    },
    {
      "cell_type": "code",
      "metadata": {
        "colab": {
          "base_uri": "https://localhost:8080/"
        },
        "id": "63v-lKuQjLx7",
        "outputId": "d8438141-4f9d-4518-ee59-d21195918615"
      },
      "source": [
        "np.sort(new_df[new_df['YearsCodePro'] > 23]['YearsCodePro'].unique())"
      ],
      "execution_count": 100,
      "outputs": [
        {
          "output_type": "execute_result",
          "data": {
            "text/plain": [
              "array([24, 25, 26, 27, 28, 29, 30, 31, 32, 33, 34, 35, 36, 37, 38, 39, 40,\n",
              "       41, 42, 43, 45, 47])"
            ]
          },
          "metadata": {
            "tags": []
          },
          "execution_count": 100
        }
      ]
    },
    {
      "cell_type": "markdown",
      "metadata": {
        "id": "9Tht078ojQ8D"
      },
      "source": [
        "After checking the above-listed values, we found a problem in YearsCodePro = 47, the Age is only 2 years higher than 47"
      ]
    },
    {
      "cell_type": "code",
      "metadata": {
        "colab": {
          "base_uri": "https://localhost:8080/",
          "height": 80
        },
        "id": "fSM86fokjMZc",
        "outputId": "4b770acf-152f-482c-f49a-9f0c1c88a38a"
      },
      "source": [
        "new_df[new_df['YearsCodePro'] == 47]"
      ],
      "execution_count": 101,
      "outputs": [
        {
          "output_type": "execute_result",
          "data": {
            "text/html": [
              "<div>\n",
              "<style scoped>\n",
              "    .dataframe tbody tr th:only-of-type {\n",
              "        vertical-align: middle;\n",
              "    }\n",
              "\n",
              "    .dataframe tbody tr th {\n",
              "        vertical-align: top;\n",
              "    }\n",
              "\n",
              "    .dataframe thead th {\n",
              "        text-align: right;\n",
              "    }\n",
              "</style>\n",
              "<table border=\"1\" class=\"dataframe\">\n",
              "  <thead>\n",
              "    <tr style=\"text-align: right;\">\n",
              "      <th></th>\n",
              "      <th>Age</th>\n",
              "      <th>ConvertedComp</th>\n",
              "      <th>YearsCodePro</th>\n",
              "      <th>Country</th>\n",
              "      <th>EdLevel</th>\n",
              "    </tr>\n",
              "  </thead>\n",
              "  <tbody>\n",
              "    <tr>\n",
              "      <th>52606</th>\n",
              "      <td>49.0</td>\n",
              "      <td>0.0</td>\n",
              "      <td>47</td>\n",
              "      <td>United States</td>\n",
              "      <td>Bachelor’s degree (B.A., B.S., B.Eng., etc.)</td>\n",
              "    </tr>\n",
              "  </tbody>\n",
              "</table>\n",
              "</div>"
            ],
            "text/plain": [
              "        Age  ...                                       EdLevel\n",
              "52606  49.0  ...  Bachelor’s degree (B.A., B.S., B.Eng., etc.)\n",
              "\n",
              "[1 rows x 5 columns]"
            ]
          },
          "metadata": {
            "tags": []
          },
          "execution_count": 101
        }
      ]
    },
    {
      "cell_type": "code",
      "metadata": {
        "colab": {
          "base_uri": "https://localhost:8080/"
        },
        "id": "oeTHRAD7jUJh",
        "outputId": "18d5de80-0867-4ddd-e592-57e2b2ca7b16"
      },
      "source": [
        "#dropp 47\r\n",
        "\r\n",
        "new_df = new_df[new_df.YearsCodePro != 47]\r\n",
        "new_df.shape"
      ],
      "execution_count": 102,
      "outputs": [
        {
          "output_type": "execute_result",
          "data": {
            "text/plain": [
              "(28914, 5)"
            ]
          },
          "metadata": {
            "tags": []
          },
          "execution_count": 102
        }
      ]
    },
    {
      "cell_type": "code",
      "metadata": {
        "colab": {
          "base_uri": "https://localhost:8080/",
          "height": 297
        },
        "id": "24ae6EJ-jXJQ",
        "outputId": "d5c74194-d101-4ef0-efea-4f3063f9769a"
      },
      "source": [
        "#Numerical Data from df (2020 survey)\r\n",
        "\r\n",
        "new_df.describe()"
      ],
      "execution_count": 103,
      "outputs": [
        {
          "output_type": "execute_result",
          "data": {
            "text/html": [
              "<div>\n",
              "<style scoped>\n",
              "    .dataframe tbody tr th:only-of-type {\n",
              "        vertical-align: middle;\n",
              "    }\n",
              "\n",
              "    .dataframe tbody tr th {\n",
              "        vertical-align: top;\n",
              "    }\n",
              "\n",
              "    .dataframe thead th {\n",
              "        text-align: right;\n",
              "    }\n",
              "</style>\n",
              "<table border=\"1\" class=\"dataframe\">\n",
              "  <thead>\n",
              "    <tr style=\"text-align: right;\">\n",
              "      <th></th>\n",
              "      <th>Age</th>\n",
              "      <th>ConvertedComp</th>\n",
              "      <th>YearsCodePro</th>\n",
              "    </tr>\n",
              "  </thead>\n",
              "  <tbody>\n",
              "    <tr>\n",
              "      <th>count</th>\n",
              "      <td>28914.000000</td>\n",
              "      <td>28914.000000</td>\n",
              "      <td>28914.000000</td>\n",
              "    </tr>\n",
              "    <tr>\n",
              "      <th>mean</th>\n",
              "      <td>31.790468</td>\n",
              "      <td>63442.068306</td>\n",
              "      <td>8.271253</td>\n",
              "    </tr>\n",
              "    <tr>\n",
              "      <th>std</th>\n",
              "      <td>7.849879</td>\n",
              "      <td>52422.109554</td>\n",
              "      <td>7.107764</td>\n",
              "    </tr>\n",
              "    <tr>\n",
              "      <th>min</th>\n",
              "      <td>16.000000</td>\n",
              "      <td>0.000000</td>\n",
              "      <td>1.000000</td>\n",
              "    </tr>\n",
              "    <tr>\n",
              "      <th>25%</th>\n",
              "      <td>26.000000</td>\n",
              "      <td>24630.000000</td>\n",
              "      <td>3.000000</td>\n",
              "    </tr>\n",
              "    <tr>\n",
              "      <th>50%</th>\n",
              "      <td>30.000000</td>\n",
              "      <td>51783.000000</td>\n",
              "      <td>6.000000</td>\n",
              "    </tr>\n",
              "    <tr>\n",
              "      <th>75%</th>\n",
              "      <td>36.000000</td>\n",
              "      <td>86478.000000</td>\n",
              "      <td>11.000000</td>\n",
              "    </tr>\n",
              "    <tr>\n",
              "      <th>max</th>\n",
              "      <td>59.000000</td>\n",
              "      <td>349043.000000</td>\n",
              "      <td>45.000000</td>\n",
              "    </tr>\n",
              "  </tbody>\n",
              "</table>\n",
              "</div>"
            ],
            "text/plain": [
              "                Age  ConvertedComp  YearsCodePro\n",
              "count  28914.000000   28914.000000  28914.000000\n",
              "mean      31.790468   63442.068306      8.271253\n",
              "std        7.849879   52422.109554      7.107764\n",
              "min       16.000000       0.000000      1.000000\n",
              "25%       26.000000   24630.000000      3.000000\n",
              "50%       30.000000   51783.000000      6.000000\n",
              "75%       36.000000   86478.000000     11.000000\n",
              "max       59.000000  349043.000000     45.000000"
            ]
          },
          "metadata": {
            "tags": []
          },
          "execution_count": 103
        }
      ]
    },
    {
      "cell_type": "markdown",
      "metadata": {
        "id": "jHcwG7XjjhJw"
      },
      "source": [
        "Looking into \"Country\" data"
      ]
    },
    {
      "cell_type": "code",
      "metadata": {
        "colab": {
          "base_uri": "https://localhost:8080/"
        },
        "id": "6Zvv5LUDjgTP",
        "outputId": "11b30635-99cb-457b-9d27-f13b88dbca30"
      },
      "source": [
        "new_df.Country.value_counts()"
      ],
      "execution_count": 104,
      "outputs": [
        {
          "output_type": "execute_result",
          "data": {
            "text/plain": [
              "United States     6546\n",
              "India             2141\n",
              "United Kingdom    2067\n",
              "Germany           1990\n",
              "Canada            1111\n",
              "                  ... \n",
              "Haiti                1\n",
              "Niger                1\n",
              "Andorra              1\n",
              "Guinea               1\n",
              "Namibia              1\n",
              "Name: Country, Length: 154, dtype: int64"
            ]
          },
          "metadata": {
            "tags": []
          },
          "execution_count": 104
        }
      ]
    },
    {
      "cell_type": "code",
      "metadata": {
        "colab": {
          "base_uri": "https://localhost:8080/"
        },
        "id": "iduvPTNWjjfX",
        "outputId": "f057a3fe-10d2-4d3c-f2c7-9c2d5de997ae"
      },
      "source": [
        "list_countries = list(new_df.Country.value_counts().loc[lambda x : x > 100].to_frame().index)\r\n",
        "(new_df.shape[0] - new_df[new_df['Country'].isin(list_countries)].shape[0]) / new_df.shape[0]"
      ],
      "execution_count": 105,
      "outputs": [
        {
          "output_type": "execute_result",
          "data": {
            "text/plain": [
              "0.08670540222729474"
            ]
          },
          "metadata": {
            "tags": []
          },
          "execution_count": 105
        }
      ]
    },
    {
      "cell_type": "markdown",
      "metadata": {
        "id": "jCO-SfgejpuE"
      },
      "source": [
        "We are going to discard countries with less than 100 total of population, since it can bias a future model (few samplings to train)"
      ]
    },
    {
      "cell_type": "code",
      "metadata": {
        "id": "de9g8m43jm1a"
      },
      "source": [
        "new_df = new_df[new_df['Country'].isin(list_countries)]"
      ],
      "execution_count": 106,
      "outputs": []
    },
    {
      "cell_type": "markdown",
      "metadata": {
        "id": "5vxiDXjejvsF"
      },
      "source": [
        "Looking into EdLevel (Education data)"
      ]
    },
    {
      "cell_type": "code",
      "metadata": {
        "colab": {
          "base_uri": "https://localhost:8080/"
        },
        "id": "BHIWBiHJjtEz",
        "outputId": "493569a2-ca36-4bf0-a208-b0c8c4b1c564"
      },
      "source": [
        "new_df.isnull().mean()"
      ],
      "execution_count": 107,
      "outputs": [
        {
          "output_type": "execute_result",
          "data": {
            "text/plain": [
              "Age              0.000000\n",
              "ConvertedComp    0.000000\n",
              "YearsCodePro     0.000000\n",
              "Country          0.000000\n",
              "EdLevel          0.016397\n",
              "dtype: float64"
            ]
          },
          "metadata": {
            "tags": []
          },
          "execution_count": 107
        }
      ]
    },
    {
      "cell_type": "markdown",
      "metadata": {
        "id": "xh8Su6WL4nBu"
      },
      "source": [
        "Since we have less than 2% of missing values in Ed. Level, we are going to drop them (it is a very small percentage and won't affect our analysis).\r\n",
        "\r\n",
        "\r\n"
      ]
    },
    {
      "cell_type": "code",
      "metadata": {
        "id": "TCau9rmYj4wD"
      },
      "source": [
        "#Dropping remaining missing values from new_df\r\n",
        "\r\n",
        "new_df.dropna(subset=['EdLevel'], inplace=True)"
      ],
      "execution_count": 108,
      "outputs": []
    },
    {
      "cell_type": "code",
      "metadata": {
        "colab": {
          "base_uri": "https://localhost:8080/"
        },
        "id": "vLV_zjpzkAmp",
        "outputId": "b42012c7-6f86-43f1-b69e-3e5239187878"
      },
      "source": [
        "new_df['EdLevel'].value_counts(normalize=True)"
      ],
      "execution_count": 109,
      "outputs": [
        {
          "output_type": "execute_result",
          "data": {
            "text/plain": [
              "Bachelor’s degree (B.A., B.S., B.Eng., etc.)                                          0.487680\n",
              "Master’s degree (M.A., M.S., M.Eng., MBA, etc.)                                       0.257488\n",
              "Some college/university study without earning a degree                                0.120236\n",
              "Secondary school (e.g. American high school, German Realschule or Gymnasium, etc.)    0.044699\n",
              "Associate degree (A.A., A.S., etc.)                                                   0.034958\n",
              "Other doctoral degree (Ph.D., Ed.D., etc.)                                            0.033880\n",
              "Professional degree (JD, MD, etc.)                                                    0.012936\n",
              "I never completed any formal education                                                0.004120\n",
              "Primary/elementary school                                                             0.004004\n",
              "Name: EdLevel, dtype: float64"
            ]
          },
          "metadata": {
            "tags": []
          },
          "execution_count": 109
        }
      ]
    },
    {
      "cell_type": "code",
      "metadata": {
        "colab": {
          "base_uri": "https://localhost:8080/",
          "height": 706
        },
        "id": "I1tlCDvdkKV0",
        "outputId": "b4f7aef5-0aad-49d5-9243-a2cfa6713983"
      },
      "source": [
        "new_df['EdLevel'].value_counts(normalize=True).plot(kind='bar')"
      ],
      "execution_count": 110,
      "outputs": [
        {
          "output_type": "execute_result",
          "data": {
            "text/plain": [
              "<matplotlib.axes._subplots.AxesSubplot at 0x7f1d707c0438>"
            ]
          },
          "metadata": {
            "tags": []
          },
          "execution_count": 110
        },
        {
          "output_type": "display_data",
          "data": {
            "image/png": "[encoded data removed]",
            "text/plain": [
              "<Figure size 432x288 with 1 Axes>"
            ]
          },
          "metadata": {
            "tags": [],
            "needs_background": "light"
          }
        }
      ]
    },
    {
      "cell_type": "markdown",
      "metadata": {
        "id": "CVGBXhAlj2GZ"
      },
      "source": [
        "**Clean df2 (2015 survey)**"
      ]
    },
    {
      "cell_type": "code",
      "metadata": {
        "colab": {
          "base_uri": "https://localhost:8080/",
          "height": 763
        },
        "id": "Sgslp5w1kVU5",
        "outputId": "92947b0d-bce7-44f3-e714-7386ab38bde2"
      },
      "source": [
        "df2.head()"
      ],
      "execution_count": 111,
      "outputs": [
        {
          "output_type": "execute_result",
          "data": {
            "text/html": [
              "<div>\n",
              "<style scoped>\n",
              "    .dataframe tbody tr th:only-of-type {\n",
              "        vertical-align: middle;\n",
              "    }\n",
              "\n",
              "    .dataframe tbody tr th {\n",
              "        vertical-align: top;\n",
              "    }\n",
              "\n",
              "    .dataframe thead th {\n",
              "        text-align: right;\n",
              "    }\n",
              "</style>\n",
              "<table border=\"1\" class=\"dataframe\">\n",
              "  <thead>\n",
              "    <tr style=\"text-align: right;\">\n",
              "      <th></th>\n",
              "      <th>Country</th>\n",
              "      <th>Age</th>\n",
              "      <th>Gender</th>\n",
              "      <th>Tabs or Spaces</th>\n",
              "      <th>Years IT / Programming Experience</th>\n",
              "      <th>Occupation</th>\n",
              "      <th>Desktop Operating System</th>\n",
              "      <th>Desktop Operating System: write-in</th>\n",
              "      <th>Current Lang &amp; Tech: Android</th>\n",
              "      <th>Current Lang &amp; Tech: Arduino</th>\n",
              "      <th>Current Lang &amp; Tech: AngularJS</th>\n",
              "      <th>Current Lang &amp; Tech: C</th>\n",
              "      <th>Current Lang &amp; Tech: C++</th>\n",
              "      <th>Current Lang &amp; Tech: C++11</th>\n",
              "      <th>Current Lang &amp; Tech: C#</th>\n",
              "      <th>Current Lang &amp; Tech: Cassandra</th>\n",
              "      <th>Current Lang &amp; Tech: CoffeeScript</th>\n",
              "      <th>Current Lang &amp; Tech: Cordova</th>\n",
              "      <th>Current Lang &amp; Tech: Clojure</th>\n",
              "      <th>Current Lang &amp; Tech: Cloud</th>\n",
              "      <th>Current Lang &amp; Tech: Dart</th>\n",
              "      <th>Current Lang &amp; Tech: F#</th>\n",
              "      <th>Current Lang &amp; Tech: Go</th>\n",
              "      <th>Current Lang &amp; Tech: Hadoop</th>\n",
              "      <th>Current Lang &amp; Tech: Haskell</th>\n",
              "      <th>Current Lang &amp; Tech: iOS</th>\n",
              "      <th>Current Lang &amp; Tech: Java</th>\n",
              "      <th>Current Lang &amp; Tech: JavaScript</th>\n",
              "      <th>Current Lang &amp; Tech: LAMP</th>\n",
              "      <th>Current Lang &amp; Tech: Matlab</th>\n",
              "      <th>Current Lang &amp; Tech: MongoDB</th>\n",
              "      <th>Current Lang &amp; Tech: Node.js</th>\n",
              "      <th>Current Lang &amp; Tech: Objective-C</th>\n",
              "      <th>Current Lang &amp; Tech: Perl</th>\n",
              "      <th>Current Lang &amp; Tech: PHP</th>\n",
              "      <th>Current Lang &amp; Tech: Python</th>\n",
              "      <th>Current Lang &amp; Tech: R</th>\n",
              "      <th>Current Lang &amp; Tech: Redis</th>\n",
              "      <th>Current Lang &amp; Tech: Ruby</th>\n",
              "      <th>Current Lang &amp; Tech: Rust</th>\n",
              "      <th>...</th>\n",
              "      <th>Why try Stack Overflow Careers: Showcase Stack Overflow activity</th>\n",
              "      <th>Why try Stack Overflow Careers: Jobs are on Stack Overflow</th>\n",
              "      <th>Why try Stack Overflow Careers: Other</th>\n",
              "      <th>How many caffeinated beverages per day?</th>\n",
              "      <th>How many hours programming as hobby per week?</th>\n",
              "      <th>How frequently land on or read Stack Overflow</th>\n",
              "      <th>Preferred text editor</th>\n",
              "      <th>Preferred text editor: write-in</th>\n",
              "      <th>Prefered IDE theme</th>\n",
              "      <th>Source control used: Git</th>\n",
              "      <th>Source control used: Mercurial</th>\n",
              "      <th>Source control used: SVN</th>\n",
              "      <th>Source control used: CVS</th>\n",
              "      <th>Source control used: Perforce</th>\n",
              "      <th>Source control used: TFS</th>\n",
              "      <th>Source control used: DCVS</th>\n",
              "      <th>Source control used: Bitkeeper</th>\n",
              "      <th>Source control used: Legacy / Custom</th>\n",
              "      <th>Source control used: I don't use source control</th>\n",
              "      <th>Source control used: write-in</th>\n",
              "      <th>Prefered Source Control</th>\n",
              "      <th>Prefered Source Control: write-in</th>\n",
              "      <th>Why use Stack Overflow: Help for job</th>\n",
              "      <th>Why use Stack Overflow: To give help</th>\n",
              "      <th>Why use Stack Overflow: Can't do job without it</th>\n",
              "      <th>Why use Stack Overflow: Maintain online presence</th>\n",
              "      <th>Why use Stack Overflow: Demonstrate expertise</th>\n",
              "      <th>Why use Stack Overflow: Communicate with others</th>\n",
              "      <th>Why use Stack Overflow: Receive help on personal projects</th>\n",
              "      <th>Why use Stack Overflow: Love to learn</th>\n",
              "      <th>Why use Stack Overflow: I don't use Stack Overflow</th>\n",
              "      <th>How often are Stack Overflow's answers helpful</th>\n",
              "      <th>Why answer: Help a programmer in need</th>\n",
              "      <th>Why answer: Help future programmers</th>\n",
              "      <th>Why answer: Demonstrate expertise</th>\n",
              "      <th>Why answer: Self promotion</th>\n",
              "      <th>Why answer: Sense of responsibility to developers</th>\n",
              "      <th>Why answer: No idea</th>\n",
              "      <th>Why answer: I don't answer and I don't want to</th>\n",
              "      <th>Why answer: I don't answer but I want to</th>\n",
              "    </tr>\n",
              "  </thead>\n",
              "  <tbody>\n",
              "    <tr>\n",
              "      <th>0</th>\n",
              "      <td>Croatia</td>\n",
              "      <td>25-29</td>\n",
              "      <td>Male</td>\n",
              "      <td>Tabs</td>\n",
              "      <td>2 - 5 years</td>\n",
              "      <td>Back-end web developer</td>\n",
              "      <td>Ubuntu</td>\n",
              "      <td>NaN</td>\n",
              "      <td>NaN</td>\n",
              "      <td>NaN</td>\n",
              "      <td>NaN</td>\n",
              "      <td>NaN</td>\n",
              "      <td>NaN</td>\n",
              "      <td>NaN</td>\n",
              "      <td>NaN</td>\n",
              "      <td>NaN</td>\n",
              "      <td>NaN</td>\n",
              "      <td>NaN</td>\n",
              "      <td>NaN</td>\n",
              "      <td>NaN</td>\n",
              "      <td>NaN</td>\n",
              "      <td>NaN</td>\n",
              "      <td>NaN</td>\n",
              "      <td>NaN</td>\n",
              "      <td>NaN</td>\n",
              "      <td>NaN</td>\n",
              "      <td>Java</td>\n",
              "      <td>NaN</td>\n",
              "      <td>NaN</td>\n",
              "      <td>NaN</td>\n",
              "      <td>NaN</td>\n",
              "      <td>NaN</td>\n",
              "      <td>NaN</td>\n",
              "      <td>NaN</td>\n",
              "      <td>NaN</td>\n",
              "      <td>NaN</td>\n",
              "      <td>NaN</td>\n",
              "      <td>NaN</td>\n",
              "      <td>NaN</td>\n",
              "      <td>NaN</td>\n",
              "      <td>...</td>\n",
              "      <td>To showcase my Stack Overflow activity</td>\n",
              "      <td>Because the jobs ads are right there on Stack ...</td>\n",
              "      <td>NaN</td>\n",
              "      <td>0</td>\n",
              "      <td>5-10 hours per week</td>\n",
              "      <td>Multipleætimes a day</td>\n",
              "      <td>Sublime Text</td>\n",
              "      <td>NaN</td>\n",
              "      <td>Dark</td>\n",
              "      <td>NaN</td>\n",
              "      <td>Mercurial</td>\n",
              "      <td>NaN</td>\n",
              "      <td>NaN</td>\n",
              "      <td>NaN</td>\n",
              "      <td>NaN</td>\n",
              "      <td>NaN</td>\n",
              "      <td>NaN</td>\n",
              "      <td>NaN</td>\n",
              "      <td>NaN</td>\n",
              "      <td>NaN</td>\n",
              "      <td>Mercurial</td>\n",
              "      <td>NaN</td>\n",
              "      <td>To get help for my job</td>\n",
              "      <td>To give help to others</td>\n",
              "      <td>Because I can't do my job without it</td>\n",
              "      <td>NaN</td>\n",
              "      <td>To demonstrate that I'm good at what I do</td>\n",
              "      <td>NaN</td>\n",
              "      <td>To receive help onæmy personal projects</td>\n",
              "      <td>Because I love to learn</td>\n",
              "      <td>NaN</td>\n",
              "      <td>Usually</td>\n",
              "      <td>NaN</td>\n",
              "      <td>NaN</td>\n",
              "      <td>It feels good to demonstrate my expertise.</td>\n",
              "      <td>Demonstrating my expertise will benefit me</td>\n",
              "      <td>I feel a sense of responsibility to the develo...</td>\n",
              "      <td>NaN</td>\n",
              "      <td>NaN</td>\n",
              "      <td>NaN</td>\n",
              "    </tr>\n",
              "    <tr>\n",
              "      <th>1</th>\n",
              "      <td>France</td>\n",
              "      <td>20-24</td>\n",
              "      <td>Male</td>\n",
              "      <td>Spaces</td>\n",
              "      <td>1 - 2 years</td>\n",
              "      <td>Back-end web developer</td>\n",
              "      <td>Windows 7</td>\n",
              "      <td>NaN</td>\n",
              "      <td>NaN</td>\n",
              "      <td>NaN</td>\n",
              "      <td>NaN</td>\n",
              "      <td>NaN</td>\n",
              "      <td>NaN</td>\n",
              "      <td>NaN</td>\n",
              "      <td>C#</td>\n",
              "      <td>NaN</td>\n",
              "      <td>NaN</td>\n",
              "      <td>NaN</td>\n",
              "      <td>NaN</td>\n",
              "      <td>NaN</td>\n",
              "      <td>NaN</td>\n",
              "      <td>NaN</td>\n",
              "      <td>NaN</td>\n",
              "      <td>NaN</td>\n",
              "      <td>NaN</td>\n",
              "      <td>NaN</td>\n",
              "      <td>NaN</td>\n",
              "      <td>NaN</td>\n",
              "      <td>NaN</td>\n",
              "      <td>NaN</td>\n",
              "      <td>NaN</td>\n",
              "      <td>NaN</td>\n",
              "      <td>NaN</td>\n",
              "      <td>NaN</td>\n",
              "      <td>NaN</td>\n",
              "      <td>NaN</td>\n",
              "      <td>NaN</td>\n",
              "      <td>NaN</td>\n",
              "      <td>NaN</td>\n",
              "      <td>NaN</td>\n",
              "      <td>...</td>\n",
              "      <td>NaN</td>\n",
              "      <td>NaN</td>\n",
              "      <td>NaN</td>\n",
              "      <td>3</td>\n",
              "      <td>2-5 hours per week</td>\n",
              "      <td>Once a day</td>\n",
              "      <td>NaN</td>\n",
              "      <td>Visual Studio 2013</td>\n",
              "      <td>Light</td>\n",
              "      <td>Git</td>\n",
              "      <td>NaN</td>\n",
              "      <td>NaN</td>\n",
              "      <td>NaN</td>\n",
              "      <td>NaN</td>\n",
              "      <td>TFS</td>\n",
              "      <td>NaN</td>\n",
              "      <td>NaN</td>\n",
              "      <td>NaN</td>\n",
              "      <td>NaN</td>\n",
              "      <td>NaN</td>\n",
              "      <td>TFS</td>\n",
              "      <td>NaN</td>\n",
              "      <td>To get help for my job</td>\n",
              "      <td>To give help to others</td>\n",
              "      <td>NaN</td>\n",
              "      <td>NaN</td>\n",
              "      <td>NaN</td>\n",
              "      <td>NaN</td>\n",
              "      <td>To receive help onæmy personal projects</td>\n",
              "      <td>NaN</td>\n",
              "      <td>NaN</td>\n",
              "      <td>Usually</td>\n",
              "      <td>NaN</td>\n",
              "      <td>My answer will help lots of people who have th...</td>\n",
              "      <td>It feels good to demonstrate my expertise.</td>\n",
              "      <td>NaN</td>\n",
              "      <td>NaN</td>\n",
              "      <td>NaN</td>\n",
              "      <td>NaN</td>\n",
              "      <td>NaN</td>\n",
              "    </tr>\n",
              "    <tr>\n",
              "      <th>2</th>\n",
              "      <td>India</td>\n",
              "      <td>20-24</td>\n",
              "      <td>Male</td>\n",
              "      <td>Tabs</td>\n",
              "      <td>1 - 2 years</td>\n",
              "      <td>Back-end web developer</td>\n",
              "      <td>Windows 7</td>\n",
              "      <td>NaN</td>\n",
              "      <td>NaN</td>\n",
              "      <td>NaN</td>\n",
              "      <td>NaN</td>\n",
              "      <td>NaN</td>\n",
              "      <td>NaN</td>\n",
              "      <td>NaN</td>\n",
              "      <td>C#</td>\n",
              "      <td>NaN</td>\n",
              "      <td>NaN</td>\n",
              "      <td>NaN</td>\n",
              "      <td>NaN</td>\n",
              "      <td>NaN</td>\n",
              "      <td>NaN</td>\n",
              "      <td>NaN</td>\n",
              "      <td>NaN</td>\n",
              "      <td>NaN</td>\n",
              "      <td>NaN</td>\n",
              "      <td>NaN</td>\n",
              "      <td>NaN</td>\n",
              "      <td>NaN</td>\n",
              "      <td>NaN</td>\n",
              "      <td>NaN</td>\n",
              "      <td>NaN</td>\n",
              "      <td>NaN</td>\n",
              "      <td>NaN</td>\n",
              "      <td>NaN</td>\n",
              "      <td>NaN</td>\n",
              "      <td>NaN</td>\n",
              "      <td>NaN</td>\n",
              "      <td>NaN</td>\n",
              "      <td>NaN</td>\n",
              "      <td>NaN</td>\n",
              "      <td>...</td>\n",
              "      <td>NaN</td>\n",
              "      <td>NaN</td>\n",
              "      <td>NaN</td>\n",
              "      <td>4</td>\n",
              "      <td>5-10 hours per week</td>\n",
              "      <td>Once a day</td>\n",
              "      <td>XEmacs</td>\n",
              "      <td>NaN</td>\n",
              "      <td>Dark</td>\n",
              "      <td>NaN</td>\n",
              "      <td>NaN</td>\n",
              "      <td>SVN</td>\n",
              "      <td>NaN</td>\n",
              "      <td>NaN</td>\n",
              "      <td>NaN</td>\n",
              "      <td>NaN</td>\n",
              "      <td>NaN</td>\n",
              "      <td>NaN</td>\n",
              "      <td>NaN</td>\n",
              "      <td>NaN</td>\n",
              "      <td>SVN</td>\n",
              "      <td>NaN</td>\n",
              "      <td>NaN</td>\n",
              "      <td>NaN</td>\n",
              "      <td>NaN</td>\n",
              "      <td>NaN</td>\n",
              "      <td>NaN</td>\n",
              "      <td>NaN</td>\n",
              "      <td>To receive help onæmy personal projects</td>\n",
              "      <td>NaN</td>\n",
              "      <td>NaN</td>\n",
              "      <td>Rarely</td>\n",
              "      <td>NaN</td>\n",
              "      <td>NaN</td>\n",
              "      <td>NaN</td>\n",
              "      <td>Demonstrating my expertise will benefit me</td>\n",
              "      <td>NaN</td>\n",
              "      <td>NaN</td>\n",
              "      <td>NaN</td>\n",
              "      <td>NaN</td>\n",
              "    </tr>\n",
              "    <tr>\n",
              "      <th>3</th>\n",
              "      <td>Latvia</td>\n",
              "      <td>25-29</td>\n",
              "      <td>Male</td>\n",
              "      <td>It depends</td>\n",
              "      <td>6 - 10 years</td>\n",
              "      <td>Back-end web developer</td>\n",
              "      <td>Ubuntu</td>\n",
              "      <td>NaN</td>\n",
              "      <td>NaN</td>\n",
              "      <td>NaN</td>\n",
              "      <td>NaN</td>\n",
              "      <td>NaN</td>\n",
              "      <td>NaN</td>\n",
              "      <td>NaN</td>\n",
              "      <td>NaN</td>\n",
              "      <td>NaN</td>\n",
              "      <td>NaN</td>\n",
              "      <td>NaN</td>\n",
              "      <td>NaN</td>\n",
              "      <td>NaN</td>\n",
              "      <td>NaN</td>\n",
              "      <td>NaN</td>\n",
              "      <td>NaN</td>\n",
              "      <td>NaN</td>\n",
              "      <td>NaN</td>\n",
              "      <td>NaN</td>\n",
              "      <td>NaN</td>\n",
              "      <td>JavaScript</td>\n",
              "      <td>LAMP</td>\n",
              "      <td>NaN</td>\n",
              "      <td>NaN</td>\n",
              "      <td>Node.js</td>\n",
              "      <td>NaN</td>\n",
              "      <td>NaN</td>\n",
              "      <td>PHP</td>\n",
              "      <td>Python</td>\n",
              "      <td>NaN</td>\n",
              "      <td>Redis</td>\n",
              "      <td>NaN</td>\n",
              "      <td>NaN</td>\n",
              "      <td>...</td>\n",
              "      <td>To showcase my Stack Overflow activity</td>\n",
              "      <td>NaN</td>\n",
              "      <td>NaN</td>\n",
              "      <td>2</td>\n",
              "      <td>5-10 hours per week</td>\n",
              "      <td>Multipleætimes a day</td>\n",
              "      <td>Sublime Text</td>\n",
              "      <td>NaN</td>\n",
              "      <td>Dark</td>\n",
              "      <td>Git</td>\n",
              "      <td>NaN</td>\n",
              "      <td>SVN</td>\n",
              "      <td>NaN</td>\n",
              "      <td>NaN</td>\n",
              "      <td>NaN</td>\n",
              "      <td>NaN</td>\n",
              "      <td>NaN</td>\n",
              "      <td>NaN</td>\n",
              "      <td>NaN</td>\n",
              "      <td>NaN</td>\n",
              "      <td>Git</td>\n",
              "      <td>NaN</td>\n",
              "      <td>To get help for my job</td>\n",
              "      <td>To give help to others</td>\n",
              "      <td>NaN</td>\n",
              "      <td>NaN</td>\n",
              "      <td>To demonstrate that I'm good at what I do</td>\n",
              "      <td>To communicate with others like me</td>\n",
              "      <td>NaN</td>\n",
              "      <td>Because I love to learn</td>\n",
              "      <td>NaN</td>\n",
              "      <td>Usually</td>\n",
              "      <td>It feels good to help a programmer in need</td>\n",
              "      <td>My answer will help lots of people who have th...</td>\n",
              "      <td>It feels good to demonstrate my expertise.</td>\n",
              "      <td>Demonstrating my expertise will benefit me</td>\n",
              "      <td>I feel a sense of responsibility to the develo...</td>\n",
              "      <td>NaN</td>\n",
              "      <td>NaN</td>\n",
              "      <td>NaN</td>\n",
              "    </tr>\n",
              "    <tr>\n",
              "      <th>4</th>\n",
              "      <td>Norway</td>\n",
              "      <td>30-34</td>\n",
              "      <td>Male</td>\n",
              "      <td>Tabs</td>\n",
              "      <td>2 - 5 years</td>\n",
              "      <td>Back-end web developer</td>\n",
              "      <td>Windows 8</td>\n",
              "      <td>NaN</td>\n",
              "      <td>NaN</td>\n",
              "      <td>NaN</td>\n",
              "      <td>NaN</td>\n",
              "      <td>NaN</td>\n",
              "      <td>NaN</td>\n",
              "      <td>NaN</td>\n",
              "      <td>C#</td>\n",
              "      <td>NaN</td>\n",
              "      <td>NaN</td>\n",
              "      <td>NaN</td>\n",
              "      <td>NaN</td>\n",
              "      <td>NaN</td>\n",
              "      <td>NaN</td>\n",
              "      <td>NaN</td>\n",
              "      <td>Go</td>\n",
              "      <td>NaN</td>\n",
              "      <td>NaN</td>\n",
              "      <td>NaN</td>\n",
              "      <td>NaN</td>\n",
              "      <td>NaN</td>\n",
              "      <td>NaN</td>\n",
              "      <td>NaN</td>\n",
              "      <td>NaN</td>\n",
              "      <td>NaN</td>\n",
              "      <td>NaN</td>\n",
              "      <td>NaN</td>\n",
              "      <td>NaN</td>\n",
              "      <td>NaN</td>\n",
              "      <td>NaN</td>\n",
              "      <td>NaN</td>\n",
              "      <td>NaN</td>\n",
              "      <td>NaN</td>\n",
              "      <td>...</td>\n",
              "      <td>NaN</td>\n",
              "      <td>NaN</td>\n",
              "      <td>NaN</td>\n",
              "      <td>6</td>\n",
              "      <td>5-10 hours per week</td>\n",
              "      <td>Multipleætimes a day</td>\n",
              "      <td>Sublime Text</td>\n",
              "      <td>NaN</td>\n",
              "      <td>Dark</td>\n",
              "      <td>Git</td>\n",
              "      <td>NaN</td>\n",
              "      <td>NaN</td>\n",
              "      <td>NaN</td>\n",
              "      <td>NaN</td>\n",
              "      <td>TFS</td>\n",
              "      <td>NaN</td>\n",
              "      <td>NaN</td>\n",
              "      <td>NaN</td>\n",
              "      <td>NaN</td>\n",
              "      <td>NaN</td>\n",
              "      <td>Git</td>\n",
              "      <td>NaN</td>\n",
              "      <td>To get help for my job</td>\n",
              "      <td>NaN</td>\n",
              "      <td>NaN</td>\n",
              "      <td>NaN</td>\n",
              "      <td>NaN</td>\n",
              "      <td>NaN</td>\n",
              "      <td>NaN</td>\n",
              "      <td>Because I love to learn</td>\n",
              "      <td>NaN</td>\n",
              "      <td>Usually</td>\n",
              "      <td>It feels good to help a programmer in need</td>\n",
              "      <td>NaN</td>\n",
              "      <td>NaN</td>\n",
              "      <td>Demonstrating my expertise will benefit me</td>\n",
              "      <td>NaN</td>\n",
              "      <td>NaN</td>\n",
              "      <td>NaN</td>\n",
              "      <td>I don't answer much (or at all), but I want to...</td>\n",
              "    </tr>\n",
              "  </tbody>\n",
              "</table>\n",
              "<p>5 rows × 222 columns</p>\n",
              "</div>"
            ],
            "text/plain": [
              "   Country  ...           Why answer: I don't answer but I want to\n",
              "0  Croatia  ...                                                NaN\n",
              "1   France  ...                                                NaN\n",
              "2    India  ...                                                NaN\n",
              "3   Latvia  ...                                                NaN\n",
              "4   Norway  ...  I don't answer much (or at all), but I want to...\n",
              "\n",
              "[5 rows x 222 columns]"
            ]
          },
          "metadata": {
            "tags": []
          },
          "execution_count": 111
        }
      ]
    },
    {
      "cell_type": "code",
      "metadata": {
        "colab": {
          "base_uri": "https://localhost:8080/"
        },
        "id": "mkn7o53mkXFd",
        "outputId": "fcfe4612-47f4-416d-f136-1f52230e517e"
      },
      "source": [
        "df2.shape"
      ],
      "execution_count": 112,
      "outputs": [
        {
          "output_type": "execute_result",
          "data": {
            "text/plain": [
              "(26086, 222)"
            ]
          },
          "metadata": {
            "tags": []
          },
          "execution_count": 112
        }
      ]
    },
    {
      "cell_type": "markdown",
      "metadata": {
        "id": "plaIdcbDC-a3"
      },
      "source": [
        "Since we have too many columns, let's check columns with values missing in df2 (dataframe 2015) > 65%"
      ]
    },
    {
      "cell_type": "code",
      "metadata": {
        "colab": {
          "base_uri": "https://localhost:8080/"
        },
        "id": "WAt_ysCpC_sT",
        "outputId": "5e6bdf8c-51c9-4fa6-c50a-fa23bb0f6bf8"
      },
      "source": [
        "#columns with values missing in df2 (dataframe 2015) > 65%\r\n",
        " \r\n",
        "missing_df2 = list(df2.columns[df2.isnull().mean() > 0.65])\r\n",
        "missing_df2"
      ],
      "execution_count": 113,
      "outputs": [
        {
          "output_type": "execute_result",
          "data": {
            "text/plain": [
              "['Desktop Operating System: write-in',\n",
              " 'Current Lang & Tech: Android',\n",
              " 'Current Lang & Tech: Arduino',\n",
              " 'Current Lang & Tech: AngularJS',\n",
              " 'Current Lang & Tech: C',\n",
              " 'Current Lang & Tech: C++',\n",
              " 'Current Lang & Tech: C++11',\n",
              " 'Current Lang & Tech: C#',\n",
              " 'Current Lang & Tech: Cassandra',\n",
              " 'Current Lang & Tech: CoffeeScript',\n",
              " 'Current Lang & Tech: Cordova',\n",
              " 'Current Lang & Tech: Clojure',\n",
              " 'Current Lang & Tech: Cloud',\n",
              " 'Current Lang & Tech: Dart',\n",
              " 'Current Lang & Tech: F#',\n",
              " 'Current Lang & Tech: Go',\n",
              " 'Current Lang & Tech: Hadoop',\n",
              " 'Current Lang & Tech: Haskell',\n",
              " 'Current Lang & Tech: iOS',\n",
              " 'Current Lang & Tech: Java',\n",
              " 'Current Lang & Tech: LAMP',\n",
              " 'Current Lang & Tech: Matlab',\n",
              " 'Current Lang & Tech: MongoDB',\n",
              " 'Current Lang & Tech: Node.js',\n",
              " 'Current Lang & Tech: Objective-C',\n",
              " 'Current Lang & Tech: Perl',\n",
              " 'Current Lang & Tech: PHP',\n",
              " 'Current Lang & Tech: Python',\n",
              " 'Current Lang & Tech: R',\n",
              " 'Current Lang & Tech: Redis',\n",
              " 'Current Lang & Tech: Ruby',\n",
              " 'Current Lang & Tech: Rust',\n",
              " 'Current Lang & Tech: Salesforce',\n",
              " 'Current Lang & Tech: Scala',\n",
              " 'Current Lang & Tech: Sharepoint',\n",
              " 'Current Lang & Tech: Spark',\n",
              " 'Current Lang & Tech: SQL Server',\n",
              " 'Current Lang & Tech: Swift',\n",
              " 'Current Lang & Tech: Visual Basic',\n",
              " 'Current Lang & Tech: Windows Phone',\n",
              " 'Current Lang & Tech: Wordpress',\n",
              " 'Current Lang & Tech: Write-In',\n",
              " 'Future Lang & Tech: Android',\n",
              " 'Future Lang & Tech: Arduino',\n",
              " 'Future Lang & Tech: AngularJS',\n",
              " 'Future Lang & Tech: C',\n",
              " 'Future Lang & Tech: C++',\n",
              " 'Future Lang & Tech: C++11',\n",
              " 'Future Lang & Tech: C#',\n",
              " 'Future Lang & Tech: Cassandra',\n",
              " 'Future Lang & Tech: CoffeeScript',\n",
              " 'Future Lang & Tech: Cordova',\n",
              " 'Future Lang & Tech: Clojure',\n",
              " 'Future Lang & Tech: Cloud',\n",
              " 'Future Lang & Tech: Dart',\n",
              " 'Future Lang & Tech: F#',\n",
              " 'Future Lang & Tech: Go',\n",
              " 'Future Lang & Tech: Hadoop',\n",
              " 'Future Lang & Tech: Haskell',\n",
              " 'Future Lang & Tech: iOS',\n",
              " 'Future Lang & Tech: Java',\n",
              " 'Future Lang & Tech: JavaScript',\n",
              " 'Future Lang & Tech: LAMP',\n",
              " 'Future Lang & Tech: Matlab',\n",
              " 'Future Lang & Tech: MongoDB',\n",
              " 'Future Lang & Tech: Node.js',\n",
              " 'Future Lang & Tech: Objective-C',\n",
              " 'Future Lang & Tech: Perl',\n",
              " 'Future Lang & Tech: PHP',\n",
              " 'Future Lang & Tech: Python',\n",
              " 'Future Lang & Tech: R',\n",
              " 'Future Lang & Tech: Redis',\n",
              " 'Future Lang & Tech: Ruby',\n",
              " 'Future Lang & Tech: Rust',\n",
              " 'Future Lang & Tech: Salesforce',\n",
              " 'Future Lang & Tech: Scala',\n",
              " 'Future Lang & Tech: Sharepoint',\n",
              " 'Future Lang & Tech: Spark',\n",
              " 'Future Lang & Tech: SQL',\n",
              " 'Future Lang & Tech: SQL Server',\n",
              " 'Future Lang & Tech: Swift',\n",
              " 'Future Lang & Tech: Visual Basic',\n",
              " 'Future Lang & Tech: Windows Phone',\n",
              " 'Future Lang & Tech: Wordpress',\n",
              " 'Future Lang & Tech: Write-In',\n",
              " 'Training & Education: No formal training',\n",
              " 'Training & Education: On the job',\n",
              " 'Training & Education: Boot camp or night school',\n",
              " 'Training & Education: Online Class',\n",
              " 'Training & Education: Mentorship',\n",
              " 'Training & Education: Industry certification',\n",
              " 'Training & Education: Some college, but no CS degree',\n",
              " 'Training & Education: BS in CS',\n",
              " 'Training & Education: Masters in CS',\n",
              " 'Training & Education: PhD in CS',\n",
              " 'Training & Education: Other',\n",
              " 'Most important aspect of new job opportunity: Equity',\n",
              " 'Most important aspect of new job opportunity: Important decisions',\n",
              " 'Most important aspect of new job opportunity: Health insurance',\n",
              " 'Most important aspect of new job opportunity: Industry',\n",
              " 'Most important aspect of new job opportunity: Tech stack',\n",
              " 'Most important aspect of new job opportunity: Company size',\n",
              " 'Most important aspect of new job opportunity: Company stage',\n",
              " 'Most important aspect of new job opportunity: Work - Life balance',\n",
              " 'Most important aspect of new job opportunity: Advancement',\n",
              " 'Most important aspect of new job opportunity: Job title',\n",
              " 'Most important aspect of new job opportunity: Office location',\n",
              " 'Most important aspect of new job opportunity: Quality of colleagues',\n",
              " 'Most important aspect of new job opportunity: Company culture',\n",
              " 'Most important aspect of new job opportunity: Company reputation',\n",
              " 'Most important aspect of new job opportunity: Building something that matters',\n",
              " 'Most important aspect of new job opportunity: Remote working',\n",
              " 'Most important aspect of new job opportunity: Flexible work options',\n",
              " 'Most annoying about job search: Finding time',\n",
              " \"Most annoying about job search: Finding job I'm qualified for\",\n",
              " 'Most annoying about job search: Finding interesting job',\n",
              " 'Most annoying about job search: Interesting companies rarely respond',\n",
              " 'Most annoying about job search: Writing and updating CV',\n",
              " 'Most annoying about job search: Taking time off work to interview',\n",
              " 'Most annoying about job search: The Interview',\n",
              " 'Appealing message traits: Code or projects mentioned',\n",
              " 'Appealing message traits: Stack Overflow activity mentioned',\n",
              " 'Appealing message traits: Team described',\n",
              " 'Appealing message traits: Company culture described',\n",
              " 'Appealing message traits: Salary information',\n",
              " 'Appealing message traits: Benefits & Perks',\n",
              " 'Appealing message traits: Stack Overflow Company Page',\n",
              " 'Most urgent info about job opportunity: Benefits',\n",
              " 'Most urgent info about job opportunity: Company name',\n",
              " 'Most urgent info about job opportunity: Tech stack',\n",
              " 'Most urgent info about job opportunity: Office location',\n",
              " 'Most urgent info about job opportunity: Job title',\n",
              " 'Most urgent info about job opportunity: Colleagues',\n",
              " 'How can companies improve interview process: More live code',\n",
              " 'How can companies improve interview process: Flexible interview schedule',\n",
              " 'How can companies improve interview process: Remote interviews',\n",
              " 'How can companies improve interview process: Introduce me to boss',\n",
              " 'How can companies improve interview process: Introduce me to team',\n",
              " 'How can companies improve interview process: Gimme coffee',\n",
              " 'How can companies improve interview process: Show me workplace',\n",
              " 'How can companies improve interview process: Fewer brainteasers',\n",
              " 'How can companies improve interview process: Better preparation',\n",
              " 'Why try Stack Overflow Careers: No spam',\n",
              " 'Why try Stack Overflow Careers: Jobs site for programmers',\n",
              " 'Why try Stack Overflow Careers: Selection of revelant jobs',\n",
              " 'Why try Stack Overflow Careers: Showcase Stack Overflow activity',\n",
              " 'Why try Stack Overflow Careers: Jobs are on Stack Overflow',\n",
              " 'Why try Stack Overflow Careers: Other',\n",
              " 'Preferred text editor: write-in',\n",
              " 'Source control used: Mercurial',\n",
              " 'Source control used: SVN',\n",
              " 'Source control used: CVS',\n",
              " 'Source control used: Perforce',\n",
              " 'Source control used: TFS',\n",
              " 'Source control used: DCVS',\n",
              " 'Source control used: Bitkeeper',\n",
              " 'Source control used: Legacy / Custom',\n",
              " \"Source control used: I don't use source control\",\n",
              " 'Source control used: write-in',\n",
              " 'Prefered Source Control: write-in',\n",
              " 'Why use Stack Overflow: To give help',\n",
              " \"Why use Stack Overflow: Can't do job without it\",\n",
              " 'Why use Stack Overflow: Maintain online presence',\n",
              " 'Why use Stack Overflow: Demonstrate expertise',\n",
              " 'Why use Stack Overflow: Communicate with others',\n",
              " 'Why use Stack Overflow: Receive help on personal projects',\n",
              " \"Why use Stack Overflow: I don't use Stack Overflow\",\n",
              " 'Why answer: Help future programmers',\n",
              " 'Why answer: Demonstrate expertise',\n",
              " 'Why answer: Self promotion',\n",
              " 'Why answer: Sense of responsibility to developers',\n",
              " 'Why answer: No idea',\n",
              " \"Why answer: I don't answer and I don't want to\",\n",
              " \"Why answer: I don't answer but I want to\"]"
            ]
          },
          "metadata": {
            "tags": []
          },
          "execution_count": 113
        }
      ]
    },
    {
      "cell_type": "code",
      "metadata": {
        "colab": {
          "base_uri": "https://localhost:8080/"
        },
        "id": "xWBGNikADG3d",
        "outputId": "62db1bfc-5ecb-4d6a-eb36-809b3bfb92fe"
      },
      "source": [
        "#Drop the columns with more than 65% of missing values in df2 (dataframe 2015)\r\n",
        "\r\n",
        "new_df2 = df2.drop(missing_df2, axis=1)\r\n",
        "new_df2.shape"
      ],
      "execution_count": 114,
      "outputs": [
        {
          "output_type": "execute_result",
          "data": {
            "text/plain": [
              "(26086, 48)"
            ]
          },
          "metadata": {
            "tags": []
          },
          "execution_count": 114
        }
      ]
    },
    {
      "cell_type": "code",
      "metadata": {
        "colab": {
          "base_uri": "https://localhost:8080/"
        },
        "id": "kBK5IPFyDJ_9",
        "outputId": "f309ddac-6144-4122-fc5a-8f44ceee7ae8"
      },
      "source": [
        "#Select only the important columns to our analysis\r\n",
        "\r\n",
        "new_df2 = new_df2[['Country', 'Age','Years IT / Programming Experience', 'Compensation: midpoint']]\r\n",
        "new_df2.shape"
      ],
      "execution_count": 115,
      "outputs": [
        {
          "output_type": "execute_result",
          "data": {
            "text/plain": [
              "(26086, 4)"
            ]
          },
          "metadata": {
            "tags": []
          },
          "execution_count": 115
        }
      ]
    },
    {
      "cell_type": "markdown",
      "metadata": {
        "id": "1ZVszUVMDVEp"
      },
      "source": [
        "From the original DataFrame we can see the Education information in the columns named as Training & Education: (as prefix). Then, we are going to separate these columns in another DataFrame"
      ]
    },
    {
      "cell_type": "code",
      "metadata": {
        "colab": {
          "base_uri": "https://localhost:8080/"
        },
        "id": "SJm2KZXHDSST",
        "outputId": "e1b25e13-6ea2-4046-9a4d-9b581cbfd833"
      },
      "source": [
        "educ_list = list(df2.columns[df2.columns.str.contains('Training & Education:')])\r\n",
        "educ_list"
      ],
      "execution_count": 116,
      "outputs": [
        {
          "output_type": "execute_result",
          "data": {
            "text/plain": [
              "['Training & Education: No formal training',\n",
              " 'Training & Education: On the job',\n",
              " 'Training & Education: Boot camp or night school',\n",
              " 'Training & Education: Online Class',\n",
              " 'Training & Education: Mentorship',\n",
              " 'Training & Education: Industry certification',\n",
              " 'Training & Education: Some college, but no CS degree',\n",
              " 'Training & Education: BS in CS',\n",
              " 'Training & Education: Masters in CS',\n",
              " 'Training & Education: PhD in CS',\n",
              " 'Training & Education: Other']"
            ]
          },
          "metadata": {
            "tags": []
          },
          "execution_count": 116
        }
      ]
    },
    {
      "cell_type": "code",
      "metadata": {
        "colab": {
          "base_uri": "https://localhost:8080/",
          "height": 649
        },
        "id": "vzyyUt2GDXYP",
        "outputId": "a0671849-57bb-4738-d315-c574944804fa"
      },
      "source": [
        "#Concatenating both Dataframes\r\n",
        "\r\n",
        "educ_df2 = df2[educ_list]\r\n",
        "new_df2 = pd.concat([new_df2, educ_df2], axis=1)\r\n",
        "new_df2.head()"
      ],
      "execution_count": 117,
      "outputs": [
        {
          "output_type": "execute_result",
          "data": {
            "text/html": [
              "<div>\n",
              "<style scoped>\n",
              "    .dataframe tbody tr th:only-of-type {\n",
              "        vertical-align: middle;\n",
              "    }\n",
              "\n",
              "    .dataframe tbody tr th {\n",
              "        vertical-align: top;\n",
              "    }\n",
              "\n",
              "    .dataframe thead th {\n",
              "        text-align: right;\n",
              "    }\n",
              "</style>\n",
              "<table border=\"1\" class=\"dataframe\">\n",
              "  <thead>\n",
              "    <tr style=\"text-align: right;\">\n",
              "      <th></th>\n",
              "      <th>Country</th>\n",
              "      <th>Age</th>\n",
              "      <th>Years IT / Programming Experience</th>\n",
              "      <th>Compensation: midpoint</th>\n",
              "      <th>Training &amp; Education: No formal training</th>\n",
              "      <th>Training &amp; Education: On the job</th>\n",
              "      <th>Training &amp; Education: Boot camp or night school</th>\n",
              "      <th>Training &amp; Education: Online Class</th>\n",
              "      <th>Training &amp; Education: Mentorship</th>\n",
              "      <th>Training &amp; Education: Industry certification</th>\n",
              "      <th>Training &amp; Education: Some college, but no CS degree</th>\n",
              "      <th>Training &amp; Education: BS in CS</th>\n",
              "      <th>Training &amp; Education: Masters in CS</th>\n",
              "      <th>Training &amp; Education: PhD in CS</th>\n",
              "      <th>Training &amp; Education: Other</th>\n",
              "    </tr>\n",
              "  </thead>\n",
              "  <tbody>\n",
              "    <tr>\n",
              "      <th>0</th>\n",
              "      <td>Croatia</td>\n",
              "      <td>25-29</td>\n",
              "      <td>2 - 5 years</td>\n",
              "      <td>30000</td>\n",
              "      <td>NaN</td>\n",
              "      <td>On-the-job training</td>\n",
              "      <td>NaN</td>\n",
              "      <td>Online class (ie. Coursera, Codecademy, Khan A...</td>\n",
              "      <td>NaN</td>\n",
              "      <td>NaN</td>\n",
              "      <td>NaN</td>\n",
              "      <td>NaN</td>\n",
              "      <td>Masters Degree in Computer Science (or related...</td>\n",
              "      <td>NaN</td>\n",
              "      <td>NaN</td>\n",
              "    </tr>\n",
              "    <tr>\n",
              "      <th>1</th>\n",
              "      <td>France</td>\n",
              "      <td>20-24</td>\n",
              "      <td>1 - 2 years</td>\n",
              "      <td>30000</td>\n",
              "      <td>NaN</td>\n",
              "      <td>NaN</td>\n",
              "      <td>NaN</td>\n",
              "      <td>Online class (ie. Coursera, Codecademy, Khan A...</td>\n",
              "      <td>NaN</td>\n",
              "      <td>Industry certification program</td>\n",
              "      <td>NaN</td>\n",
              "      <td>NaN</td>\n",
              "      <td>Masters Degree in Computer Science (or related...</td>\n",
              "      <td>NaN</td>\n",
              "      <td>NaN</td>\n",
              "    </tr>\n",
              "    <tr>\n",
              "      <th>2</th>\n",
              "      <td>India</td>\n",
              "      <td>20-24</td>\n",
              "      <td>1 - 2 years</td>\n",
              "      <td>90000</td>\n",
              "      <td>NaN</td>\n",
              "      <td>NaN</td>\n",
              "      <td>NaN</td>\n",
              "      <td>NaN</td>\n",
              "      <td>Mentorship program (ie. Flatiron School, GDI, ...</td>\n",
              "      <td>NaN</td>\n",
              "      <td>NaN</td>\n",
              "      <td>NaN</td>\n",
              "      <td>NaN</td>\n",
              "      <td>NaN</td>\n",
              "      <td>NaN</td>\n",
              "    </tr>\n",
              "    <tr>\n",
              "      <th>3</th>\n",
              "      <td>Latvia</td>\n",
              "      <td>25-29</td>\n",
              "      <td>6 - 10 years</td>\n",
              "      <td>NaN</td>\n",
              "      <td>NaN</td>\n",
              "      <td>On-the-job training</td>\n",
              "      <td>NaN</td>\n",
              "      <td>NaN</td>\n",
              "      <td>Mentorship program (ie. Flatiron School, GDI, ...</td>\n",
              "      <td>NaN</td>\n",
              "      <td>NaN</td>\n",
              "      <td>Bachelor of Science in Computer Science (or re...</td>\n",
              "      <td>NaN</td>\n",
              "      <td>NaN</td>\n",
              "      <td>NaN</td>\n",
              "    </tr>\n",
              "    <tr>\n",
              "      <th>4</th>\n",
              "      <td>Norway</td>\n",
              "      <td>30-34</td>\n",
              "      <td>2 - 5 years</td>\n",
              "      <td>70000</td>\n",
              "      <td>NaN</td>\n",
              "      <td>NaN</td>\n",
              "      <td>NaN</td>\n",
              "      <td>NaN</td>\n",
              "      <td>NaN</td>\n",
              "      <td>NaN</td>\n",
              "      <td>NaN</td>\n",
              "      <td>Bachelor of Science in Computer Science (or re...</td>\n",
              "      <td>NaN</td>\n",
              "      <td>NaN</td>\n",
              "      <td>NaN</td>\n",
              "    </tr>\n",
              "  </tbody>\n",
              "</table>\n",
              "</div>"
            ],
            "text/plain": [
              "   Country    Age  ... Training & Education: PhD in CS Training & Education: Other\n",
              "0  Croatia  25-29  ...                             NaN                         NaN\n",
              "1   France  20-24  ...                             NaN                         NaN\n",
              "2    India  20-24  ...                             NaN                         NaN\n",
              "3   Latvia  25-29  ...                             NaN                         NaN\n",
              "4   Norway  30-34  ...                             NaN                         NaN\n",
              "\n",
              "[5 rows x 15 columns]"
            ]
          },
          "metadata": {
            "tags": []
          },
          "execution_count": 117
        }
      ]
    },
    {
      "cell_type": "code",
      "metadata": {
        "colab": {
          "base_uri": "https://localhost:8080/"
        },
        "id": "xfZ7ERSlDgBb",
        "outputId": "4f7760d0-1e67-4736-fb78-f0bf7ffa3aae"
      },
      "source": [
        "#Checking missing values from new_df2 dataframe\r\n",
        "\r\n",
        "new_df2.isnull().mean()"
      ],
      "execution_count": 119,
      "outputs": [
        {
          "output_type": "execute_result",
          "data": {
            "text/plain": [
              "Country                                                 0.030936\n",
              "Age                                                     0.009775\n",
              "Years IT / Programming Experience                       0.048263\n",
              "Compensation: midpoint                                  0.253201\n",
              "Training & Education: No formal training                0.658361\n",
              "Training & Education: On the job                        0.699877\n",
              "Training & Education: Boot camp or night school         0.971824\n",
              "Training & Education: Online Class                      0.854903\n",
              "Training & Education: Mentorship                        0.991490\n",
              "Training & Education: Industry certification            0.949896\n",
              "Training & Education: Some college, but no CS degree    0.863912\n",
              "Training & Education: BS in CS                          0.692019\n",
              "Training & Education: Masters in CS                     0.849421\n",
              "Training & Education: PhD in CS                         0.982404\n",
              "Training & Education: Other                             0.965230\n",
              "dtype: float64"
            ]
          },
          "metadata": {
            "tags": []
          },
          "execution_count": 119
        }
      ]
    },
    {
      "cell_type": "markdown",
      "metadata": {
        "id": "3w_5mIsGDq1E"
      },
      "source": [
        "We can see that we have about 25% of missing values in the most important column to our analysis, Compensation: Midpoint. This way, it doesn't seem to be a good idea fill in 25% of our values with the mean or other statistic about the data - it can bias our results. The chosen approach is to drop missing values and keep only the original ones, as we did in df related to 2020 survey\r\n",
        "\r\n"
      ]
    },
    {
      "cell_type": "code",
      "metadata": {
        "colab": {
          "base_uri": "https://localhost:8080/"
        },
        "id": "e1rohCa_DnHQ",
        "outputId": "950aa831-09e1-48e0-ccef-d215cb482471"
      },
      "source": [
        "new_df2.dropna(subset=['Compensation: midpoint'], inplace=True)\r\n",
        "new_df2.isnull().sum()"
      ],
      "execution_count": 120,
      "outputs": [
        {
          "output_type": "execute_result",
          "data": {
            "text/plain": [
              "Country                                                   244\n",
              "Age                                                        37\n",
              "Years IT / Programming Experience                          27\n",
              "Compensation: midpoint                                      0\n",
              "Training & Education: No formal training                11370\n",
              "Training & Education: On the job                        12243\n",
              "Training & Education: Boot camp or night school         18796\n",
              "Training & Education: Online Class                      15965\n",
              "Training & Education: Mentorship                        19273\n",
              "Training & Education: Industry certification            18271\n",
              "Training & Education: Some college, but no CS degree    16202\n",
              "Training & Education: BS in CS                          12032\n",
              "Training & Education: Masters in CS                     15902\n",
              "Training & Education: PhD in CS                         19079\n",
              "Training & Education: Other                             18637\n",
              "dtype: int64"
            ]
          },
          "metadata": {
            "tags": []
          },
          "execution_count": 120
        }
      ]
    },
    {
      "cell_type": "markdown",
      "metadata": {
        "id": "qDYMQ7vUDxrE"
      },
      "source": [
        "We still have too many missing values, mainly in Training & Educations columns. This is due to the method used to fill in these columns, which are only filled if the person is into that category, and the remaining columns from training and education can be all missing"
      ]
    },
    {
      "cell_type": "code",
      "metadata": {
        "colab": {
          "base_uri": "https://localhost:8080/"
        },
        "id": "-MR3fwUhDt66",
        "outputId": "c5168071-4bce-42f7-c7d9-a0a5226de4f8"
      },
      "source": [
        "new_df2.dropna(subset=['Country', 'Age', 'Years IT / Programming Experience'], inplace=True)\r\n",
        "new_df2.isnull().sum()"
      ],
      "execution_count": 122,
      "outputs": [
        {
          "output_type": "execute_result",
          "data": {
            "text/plain": [
              "Country                                                     0\n",
              "Age                                                         0\n",
              "Years IT / Programming Experience                           0\n",
              "Compensation: midpoint                                      0\n",
              "Training & Education: No formal training                11204\n",
              "Training & Education: On the job                        12053\n",
              "Training & Education: Boot camp or night school         18517\n",
              "Training & Education: Online Class                      15713\n",
              "Training & Education: Mentorship                        18987\n",
              "Training & Education: Industry certification            18004\n",
              "Training & Education: Some college, but no CS degree    15951\n",
              "Training & Education: BS in CS                          11835\n",
              "Training & Education: Masters in CS                     15654\n",
              "Training & Education: PhD in CS                         18802\n",
              "Training & Education: Other                             18379\n",
              "dtype: int64"
            ]
          },
          "metadata": {
            "tags": []
          },
          "execution_count": 122
        }
      ]
    },
    {
      "cell_type": "markdown",
      "metadata": {
        "id": "kY1ju5TkEI0P"
      },
      "source": [
        "Looking into Age"
      ]
    },
    {
      "cell_type": "code",
      "metadata": {
        "colab": {
          "base_uri": "https://localhost:8080/"
        },
        "id": "3PCEBwB6D_Yg",
        "outputId": "44c52095-ad27-46e7-ce37-5c2302eaf5c7"
      },
      "source": [
        "new_df2.Age.value_counts(normalize=True, dropna=True)"
      ],
      "execution_count": 124,
      "outputs": [
        {
          "output_type": "execute_result",
          "data": {
            "text/plain": [
              "25-29                     0.289116\n",
              "20-24                     0.233627\n",
              "30-34                     0.183921\n",
              "35-39                     0.097015\n",
              "< 20                      0.083051\n",
              "40-50                     0.081696\n",
              "51-60                     0.020164\n",
              "Prefer not to disclose    0.008076\n",
              "> 60                      0.003335\n",
              "Name: Age, dtype: float64"
            ]
          },
          "metadata": {
            "tags": []
          },
          "execution_count": 124
        }
      ]
    },
    {
      "cell_type": "markdown",
      "metadata": {
        "id": "2rmsV2K7EUQh"
      },
      "source": [
        "Looking into Years IT / Programming Experience"
      ]
    },
    {
      "cell_type": "code",
      "metadata": {
        "colab": {
          "base_uri": "https://localhost:8080/"
        },
        "id": "BqPkhwBUELUe",
        "outputId": "bedd82b1-c442-4cdc-ba7d-6c56641a4633"
      },
      "source": [
        "new_df2['Years IT / Programming Experience'].value_counts(normalize=True, dropna=True)"
      ],
      "execution_count": 126,
      "outputs": [
        {
          "output_type": "execute_result",
          "data": {
            "text/plain": [
              "2 - 5 years         0.322618\n",
              "11+ years           0.257073\n",
              "6 - 10 years        0.240140\n",
              "1 - 2 years         0.126348\n",
              "Less than 1 year    0.053822\n",
              "Name: Years IT / Programming Experience, dtype: float64"
            ]
          },
          "metadata": {
            "tags": []
          },
          "execution_count": 126
        }
      ]
    },
    {
      "cell_type": "markdown",
      "metadata": {
        "id": "7F-Z-0VlEj-D"
      },
      "source": [
        "Looking into Compensation (MidPoint)"
      ]
    },
    {
      "cell_type": "code",
      "metadata": {
        "colab": {
          "base_uri": "https://localhost:8080/"
        },
        "id": "pO_NNOuwEgUt",
        "outputId": "cd830cf3-b38a-4735-e612-0eb3d3870983"
      },
      "source": [
        "new_df2['Compensation: midpoint'].value_counts(normalize=True, dropna=True)"
      ],
      "execution_count": 127,
      "outputs": [
        {
          "output_type": "execute_result",
          "data": {
            "text/plain": [
              "10000             0.204814\n",
              "30000             0.140364\n",
              "Rather not say    0.134528\n",
              "50000             0.125046\n",
              "70000             0.102954\n",
              "Unemployed        0.102277\n",
              "90000             0.072058\n",
              "110000            0.050956\n",
              "130000            0.028917\n",
              "170000            0.023707\n",
              "150000            0.014380\n",
              "Name: Compensation: midpoint, dtype: float64"
            ]
          },
          "metadata": {
            "tags": []
          },
          "execution_count": 127
        }
      ]
    },
    {
      "cell_type": "markdown",
      "metadata": {
        "id": "OyYuBrU4EqIQ"
      },
      "source": [
        "We can delete \"rather not say\" data since it does not mean anything to our analysis\r\n",
        "\r\n",
        "We will change Unemployed to 0"
      ]
    },
    {
      "cell_type": "code",
      "metadata": {
        "id": "lQh6HrqYEnW5"
      },
      "source": [
        "new_df2 = new_df2[new_df2['Compensation: midpoint'] != 'Rather not say']\r\n",
        "new_df2['Compensation: midpoint'][new_df2['Compensation: midpoint'] == 'Unemployed'] =  0\r\n",
        "new_df2['Compensation: midpoint'] = new_df2['Compensation: midpoint'].astype('int')"
      ],
      "execution_count": 128,
      "outputs": []
    },
    {
      "cell_type": "code",
      "metadata": {
        "colab": {
          "base_uri": "https://localhost:8080/",
          "height": 297
        },
        "id": "xWSbo_yzEtmE",
        "outputId": "1a8e497c-da95-47ea-c451-2ac7c99aafa4"
      },
      "source": [
        "#overview of Compensation Midpoint (but zero values)\r\n",
        "\r\n",
        "new_df2[new_df2['Compensation: midpoint'] != 0].describe()"
      ],
      "execution_count": 129,
      "outputs": [
        {
          "output_type": "execute_result",
          "data": {
            "text/html": [
              "<div>\n",
              "<style scoped>\n",
              "    .dataframe tbody tr th:only-of-type {\n",
              "        vertical-align: middle;\n",
              "    }\n",
              "\n",
              "    .dataframe tbody tr th {\n",
              "        vertical-align: top;\n",
              "    }\n",
              "\n",
              "    .dataframe thead th {\n",
              "        text-align: right;\n",
              "    }\n",
              "</style>\n",
              "<table border=\"1\" class=\"dataframe\">\n",
              "  <thead>\n",
              "    <tr style=\"text-align: right;\">\n",
              "      <th></th>\n",
              "      <th>Compensation: midpoint</th>\n",
              "    </tr>\n",
              "  </thead>\n",
              "  <tbody>\n",
              "    <tr>\n",
              "      <th>count</th>\n",
              "      <td>14648.000000</td>\n",
              "    </tr>\n",
              "    <tr>\n",
              "      <th>mean</th>\n",
              "      <td>54710.540688</td>\n",
              "    </tr>\n",
              "    <tr>\n",
              "      <th>std</th>\n",
              "      <td>42479.134507</td>\n",
              "    </tr>\n",
              "    <tr>\n",
              "      <th>min</th>\n",
              "      <td>10000.000000</td>\n",
              "    </tr>\n",
              "    <tr>\n",
              "      <th>25%</th>\n",
              "      <td>10000.000000</td>\n",
              "    </tr>\n",
              "    <tr>\n",
              "      <th>50%</th>\n",
              "      <td>50000.000000</td>\n",
              "    </tr>\n",
              "    <tr>\n",
              "      <th>75%</th>\n",
              "      <td>70000.000000</td>\n",
              "    </tr>\n",
              "    <tr>\n",
              "      <th>max</th>\n",
              "      <td>170000.000000</td>\n",
              "    </tr>\n",
              "  </tbody>\n",
              "</table>\n",
              "</div>"
            ],
            "text/plain": [
              "       Compensation: midpoint\n",
              "count            14648.000000\n",
              "mean             54710.540688\n",
              "std              42479.134507\n",
              "min              10000.000000\n",
              "25%              10000.000000\n",
              "50%              50000.000000\n",
              "75%              70000.000000\n",
              "max             170000.000000"
            ]
          },
          "metadata": {
            "tags": []
          },
          "execution_count": 129
        }
      ]
    },
    {
      "cell_type": "markdown",
      "metadata": {
        "id": "Me0LURDaE0Bt"
      },
      "source": [
        "Looking into Country"
      ]
    },
    {
      "cell_type": "code",
      "metadata": {
        "colab": {
          "base_uri": "https://localhost:8080/",
          "height": 1000
        },
        "id": "hs1_NEr0EwqU",
        "outputId": "bf665000-e3e9-4361-f614-a6926db2d6a1"
      },
      "source": [
        "#as did in the first dataframe, let's keep countries with more than 100 samplings\r\n",
        "\r\n",
        "new_df2.Country.value_counts().loc[lambda x : x > 100].to_frame()"
      ],
      "execution_count": 130,
      "outputs": [
        {
          "output_type": "execute_result",
          "data": {
            "text/html": [
              "<div>\n",
              "<style scoped>\n",
              "    .dataframe tbody tr th:only-of-type {\n",
              "        vertical-align: middle;\n",
              "    }\n",
              "\n",
              "    .dataframe tbody tr th {\n",
              "        vertical-align: top;\n",
              "    }\n",
              "\n",
              "    .dataframe thead th {\n",
              "        text-align: right;\n",
              "    }\n",
              "</style>\n",
              "<table border=\"1\" class=\"dataframe\">\n",
              "  <thead>\n",
              "    <tr style=\"text-align: right;\">\n",
              "      <th></th>\n",
              "      <th>Country</th>\n",
              "    </tr>\n",
              "  </thead>\n",
              "  <tbody>\n",
              "    <tr>\n",
              "      <th>United States</th>\n",
              "      <td>3567</td>\n",
              "    </tr>\n",
              "    <tr>\n",
              "      <th>United Kingdom</th>\n",
              "      <td>1672</td>\n",
              "    </tr>\n",
              "    <tr>\n",
              "      <th>India</th>\n",
              "      <td>1363</td>\n",
              "    </tr>\n",
              "    <tr>\n",
              "      <th>Germany</th>\n",
              "      <td>1138</td>\n",
              "    </tr>\n",
              "    <tr>\n",
              "      <th>Canada</th>\n",
              "      <td>605</td>\n",
              "    </tr>\n",
              "    <tr>\n",
              "      <th>France</th>\n",
              "      <td>544</td>\n",
              "    </tr>\n",
              "    <tr>\n",
              "      <th>Poland</th>\n",
              "      <td>510</td>\n",
              "    </tr>\n",
              "    <tr>\n",
              "      <th>Australia</th>\n",
              "      <td>445</td>\n",
              "    </tr>\n",
              "    <tr>\n",
              "      <th>Spain</th>\n",
              "      <td>435</td>\n",
              "    </tr>\n",
              "    <tr>\n",
              "      <th>Netherlands</th>\n",
              "      <td>409</td>\n",
              "    </tr>\n",
              "    <tr>\n",
              "      <th>Russian Federation</th>\n",
              "      <td>364</td>\n",
              "    </tr>\n",
              "    <tr>\n",
              "      <th>Sweden</th>\n",
              "      <td>358</td>\n",
              "    </tr>\n",
              "    <tr>\n",
              "      <th>Italy</th>\n",
              "      <td>335</td>\n",
              "    </tr>\n",
              "    <tr>\n",
              "      <th>Switzerland</th>\n",
              "      <td>264</td>\n",
              "    </tr>\n",
              "    <tr>\n",
              "      <th>Brazil</th>\n",
              "      <td>257</td>\n",
              "    </tr>\n",
              "    <tr>\n",
              "      <th>Denmark</th>\n",
              "      <td>176</td>\n",
              "    </tr>\n",
              "    <tr>\n",
              "      <th>Austria</th>\n",
              "      <td>160</td>\n",
              "    </tr>\n",
              "    <tr>\n",
              "      <th>Belgium</th>\n",
              "      <td>159</td>\n",
              "    </tr>\n",
              "    <tr>\n",
              "      <th>China</th>\n",
              "      <td>156</td>\n",
              "    </tr>\n",
              "    <tr>\n",
              "      <th>Finland</th>\n",
              "      <td>155</td>\n",
              "    </tr>\n",
              "    <tr>\n",
              "      <th>Czech Republic</th>\n",
              "      <td>153</td>\n",
              "    </tr>\n",
              "    <tr>\n",
              "      <th>Portugal</th>\n",
              "      <td>150</td>\n",
              "    </tr>\n",
              "    <tr>\n",
              "      <th>Turkey</th>\n",
              "      <td>146</td>\n",
              "    </tr>\n",
              "    <tr>\n",
              "      <th>Iran</th>\n",
              "      <td>145</td>\n",
              "    </tr>\n",
              "    <tr>\n",
              "      <th>Ukraine</th>\n",
              "      <td>137</td>\n",
              "    </tr>\n",
              "    <tr>\n",
              "      <th>Ireland {Republic}</th>\n",
              "      <td>137</td>\n",
              "    </tr>\n",
              "    <tr>\n",
              "      <th>Norway</th>\n",
              "      <td>118</td>\n",
              "    </tr>\n",
              "    <tr>\n",
              "      <th>Romania</th>\n",
              "      <td>118</td>\n",
              "    </tr>\n",
              "    <tr>\n",
              "      <th>Mexico</th>\n",
              "      <td>114</td>\n",
              "    </tr>\n",
              "    <tr>\n",
              "      <th>Israel</th>\n",
              "      <td>112</td>\n",
              "    </tr>\n",
              "    <tr>\n",
              "      <th>Argentina</th>\n",
              "      <td>110</td>\n",
              "    </tr>\n",
              "    <tr>\n",
              "      <th>New Zealand</th>\n",
              "      <td>104</td>\n",
              "    </tr>\n",
              "    <tr>\n",
              "      <th>Hungary</th>\n",
              "      <td>101</td>\n",
              "    </tr>\n",
              "    <tr>\n",
              "      <th>Greece</th>\n",
              "      <td>101</td>\n",
              "    </tr>\n",
              "  </tbody>\n",
              "</table>\n",
              "</div>"
            ],
            "text/plain": [
              "                    Country\n",
              "United States          3567\n",
              "United Kingdom         1672\n",
              "India                  1363\n",
              "Germany                1138\n",
              "Canada                  605\n",
              "France                  544\n",
              "Poland                  510\n",
              "Australia               445\n",
              "Spain                   435\n",
              "Netherlands             409\n",
              "Russian Federation      364\n",
              "Sweden                  358\n",
              "Italy                   335\n",
              "Switzerland             264\n",
              "Brazil                  257\n",
              "Denmark                 176\n",
              "Austria                 160\n",
              "Belgium                 159\n",
              "China                   156\n",
              "Finland                 155\n",
              "Czech Republic          153\n",
              "Portugal                150\n",
              "Turkey                  146\n",
              "Iran                    145\n",
              "Ukraine                 137\n",
              "Ireland {Republic}      137\n",
              "Norway                  118\n",
              "Romania                 118\n",
              "Mexico                  114\n",
              "Israel                  112\n",
              "Argentina               110\n",
              "New Zealand             104\n",
              "Hungary                 101\n",
              "Greece                  101"
            ]
          },
          "metadata": {
            "tags": []
          },
          "execution_count": 130
        }
      ]
    },
    {
      "cell_type": "code",
      "metadata": {
        "id": "jjT0vOGFE15d"
      },
      "source": [
        "list_countries2 = list(new_df2.Country.value_counts().loc[lambda x : x > 100].to_frame().index)\r\n",
        "new_df2 = new_df2[new_df2['Country'].isin(list_countries2)]"
      ],
      "execution_count": 132,
      "outputs": []
    },
    {
      "cell_type": "markdown",
      "metadata": {
        "id": "xUM2MCzjFBpU"
      },
      "source": [
        "Looking into Training and Education variables"
      ]
    },
    {
      "cell_type": "code",
      "metadata": {
        "id": "hhDv4zLMFA-C"
      },
      "source": [
        "#Aggregating the data related to T&E\r\n",
        "\r\n",
        "Total_educ = {}\r\n",
        "\r\n",
        "for col in educ_list:\r\n",
        "  col_total = new_df2[col].notnull().sum()\r\n",
        "  Total_educ[col] = col_total"
      ],
      "execution_count": 134,
      "outputs": []
    },
    {
      "cell_type": "code",
      "metadata": {
        "colab": {
          "base_uri": "https://localhost:8080/",
          "height": 390
        },
        "id": "cuq0xHHRE-qT",
        "outputId": "d1e69940-b787-4938-e0ce-b451b5cba512"
      },
      "source": [
        "Count_educ_2015 = pd.DataFrame(list(Total_educ.items()),columns = ['Education','Quantity'])\r\n",
        "Count_educ_2015.sort_values(by='Quantity', ascending=False)"
      ],
      "execution_count": 135,
      "outputs": [
        {
          "output_type": "execute_result",
          "data": {
            "text/html": [
              "<div>\n",
              "<style scoped>\n",
              "    .dataframe tbody tr th:only-of-type {\n",
              "        vertical-align: middle;\n",
              "    }\n",
              "\n",
              "    .dataframe tbody tr th {\n",
              "        vertical-align: top;\n",
              "    }\n",
              "\n",
              "    .dataframe thead th {\n",
              "        text-align: right;\n",
              "    }\n",
              "</style>\n",
              "<table border=\"1\" class=\"dataframe\">\n",
              "  <thead>\n",
              "    <tr style=\"text-align: right;\">\n",
              "      <th></th>\n",
              "      <th>Education</th>\n",
              "      <th>Quantity</th>\n",
              "    </tr>\n",
              "  </thead>\n",
              "  <tbody>\n",
              "    <tr>\n",
              "      <th>0</th>\n",
              "      <td>Training &amp; Education: No formal training</td>\n",
              "      <td>6078</td>\n",
              "    </tr>\n",
              "    <tr>\n",
              "      <th>7</th>\n",
              "      <td>Training &amp; Education: BS in CS</td>\n",
              "      <td>5592</td>\n",
              "    </tr>\n",
              "    <tr>\n",
              "      <th>1</th>\n",
              "      <td>Training &amp; Education: On the job</td>\n",
              "      <td>5549</td>\n",
              "    </tr>\n",
              "    <tr>\n",
              "      <th>8</th>\n",
              "      <td>Training &amp; Education: Masters in CS</td>\n",
              "      <td>2789</td>\n",
              "    </tr>\n",
              "    <tr>\n",
              "      <th>3</th>\n",
              "      <td>Training &amp; Education: Online Class</td>\n",
              "      <td>2656</td>\n",
              "    </tr>\n",
              "    <tr>\n",
              "      <th>6</th>\n",
              "      <td>Training &amp; Education: Some college, but no CS ...</td>\n",
              "      <td>2556</td>\n",
              "    </tr>\n",
              "    <tr>\n",
              "      <th>5</th>\n",
              "      <td>Training &amp; Education: Industry certification</td>\n",
              "      <td>926</td>\n",
              "    </tr>\n",
              "    <tr>\n",
              "      <th>10</th>\n",
              "      <td>Training &amp; Education: Other</td>\n",
              "      <td>605</td>\n",
              "    </tr>\n",
              "    <tr>\n",
              "      <th>2</th>\n",
              "      <td>Training &amp; Education: Boot camp or night school</td>\n",
              "      <td>518</td>\n",
              "    </tr>\n",
              "    <tr>\n",
              "      <th>9</th>\n",
              "      <td>Training &amp; Education: PhD in CS</td>\n",
              "      <td>296</td>\n",
              "    </tr>\n",
              "    <tr>\n",
              "      <th>4</th>\n",
              "      <td>Training &amp; Education: Mentorship</td>\n",
              "      <td>152</td>\n",
              "    </tr>\n",
              "  </tbody>\n",
              "</table>\n",
              "</div>"
            ],
            "text/plain": [
              "                                            Education  Quantity\n",
              "0            Training & Education: No formal training      6078\n",
              "7                      Training & Education: BS in CS      5592\n",
              "1                    Training & Education: On the job      5549\n",
              "8                 Training & Education: Masters in CS      2789\n",
              "3                  Training & Education: Online Class      2656\n",
              "6   Training & Education: Some college, but no CS ...      2556\n",
              "5        Training & Education: Industry certification       926\n",
              "10                        Training & Education: Other       605\n",
              "2     Training & Education: Boot camp or night school       518\n",
              "9                     Training & Education: PhD in CS       296\n",
              "4                    Training & Education: Mentorship       152"
            ]
          },
          "metadata": {
            "tags": []
          },
          "execution_count": 135
        }
      ]
    },
    {
      "cell_type": "code",
      "metadata": {
        "colab": {
          "base_uri": "https://localhost:8080/",
          "height": 556
        },
        "id": "M2iLRzTTFGPc",
        "outputId": "c1ca2661-5631-47fb-f6d3-78dec28c9b14"
      },
      "source": [
        "Count_educ_2015.set_index('Education', inplace=True)\r\n",
        "Count_educ_2015.sort_values(by='Quantity', ascending=False).plot(kind='bar')"
      ],
      "execution_count": 136,
      "outputs": [
        {
          "output_type": "execute_result",
          "data": {
            "text/plain": [
              "<matplotlib.axes._subplots.AxesSubplot at 0x7f1d70741a58>"
            ]
          },
          "metadata": {
            "tags": []
          },
          "execution_count": 136
        },
        {
          "output_type": "display_data",
          "data": {
            "image/png": "[encoded data removed]",
            "text/plain": [
              "<Figure size 432x288 with 1 Axes>"
            ]
          },
          "metadata": {
            "tags": [],
            "needs_background": "light"
          }
        }
      ]
    },
    {
      "cell_type": "code",
      "metadata": {
        "colab": {
          "base_uri": "https://localhost:8080/",
          "height": 556
        },
        "id": "8R2BdoIhFjq0",
        "outputId": "a45ed692-6ea9-4407-f786-ce6dc3684f07"
      },
      "source": [
        "normalized_educ = Count_educ_2015 / Count_educ_2015.Quantity.sum()\r\n",
        "normalized_educ.sort_values(by='Quantity', ascending=False).plot(kind='bar')"
      ],
      "execution_count": 137,
      "outputs": [
        {
          "output_type": "execute_result",
          "data": {
            "text/plain": [
              "<matplotlib.axes._subplots.AxesSubplot at 0x7f1d70722e80>"
            ]
          },
          "metadata": {
            "tags": []
          },
          "execution_count": 137
        },
        {
          "output_type": "display_data",
          "data": {
            "image/png": "[encoded data removed]",
            "text/plain": [
              "<Figure size 432x288 with 1 Axes>"
            ]
          },
          "metadata": {
            "tags": [],
            "needs_background": "light"
          }
        }
      ]
    },
    {
      "cell_type": "markdown",
      "metadata": {
        "id": "wZ5qagasFqjL"
      },
      "source": [
        "##**Data analysis and project motivation answers - 2015 x 2020**"
      ]
    },
    {
      "cell_type": "markdown",
      "metadata": {
        "id": "kZvL3x0AF1Ob"
      },
      "source": [
        "**1 - Average Salary 2015 x 2020**"
      ]
    },
    {
      "cell_type": "code",
      "metadata": {
        "colab": {
          "base_uri": "https://localhost:8080/",
          "height": 297
        },
        "id": "8eoa5fIWFnbY",
        "outputId": "751e8c90-52b3-4658-c4fd-2cb621416e2d"
      },
      "source": [
        "#Average salary 2015\r\n",
        "\r\n",
        "new_df2['Compensation: midpoint'].describe().to_frame()"
      ],
      "execution_count": 139,
      "outputs": [
        {
          "output_type": "execute_result",
          "data": {
            "text/html": [
              "<div>\n",
              "<style scoped>\n",
              "    .dataframe tbody tr th:only-of-type {\n",
              "        vertical-align: middle;\n",
              "    }\n",
              "\n",
              "    .dataframe tbody tr th {\n",
              "        vertical-align: top;\n",
              "    }\n",
              "\n",
              "    .dataframe thead th {\n",
              "        text-align: right;\n",
              "    }\n",
              "</style>\n",
              "<table border=\"1\" class=\"dataframe\">\n",
              "  <thead>\n",
              "    <tr style=\"text-align: right;\">\n",
              "      <th></th>\n",
              "      <th>Compensation: midpoint</th>\n",
              "    </tr>\n",
              "  </thead>\n",
              "  <tbody>\n",
              "    <tr>\n",
              "      <th>count</th>\n",
              "      <td>14818.000000</td>\n",
              "    </tr>\n",
              "    <tr>\n",
              "      <th>mean</th>\n",
              "      <td>51083.142124</td>\n",
              "    </tr>\n",
              "    <tr>\n",
              "      <th>std</th>\n",
              "      <td>44223.990391</td>\n",
              "    </tr>\n",
              "    <tr>\n",
              "      <th>min</th>\n",
              "      <td>0.000000</td>\n",
              "    </tr>\n",
              "    <tr>\n",
              "      <th>25%</th>\n",
              "      <td>10000.000000</td>\n",
              "    </tr>\n",
              "    <tr>\n",
              "      <th>50%</th>\n",
              "      <td>50000.000000</td>\n",
              "    </tr>\n",
              "    <tr>\n",
              "      <th>75%</th>\n",
              "      <td>70000.000000</td>\n",
              "    </tr>\n",
              "    <tr>\n",
              "      <th>max</th>\n",
              "      <td>170000.000000</td>\n",
              "    </tr>\n",
              "  </tbody>\n",
              "</table>\n",
              "</div>"
            ],
            "text/plain": [
              "       Compensation: midpoint\n",
              "count            14818.000000\n",
              "mean             51083.142124\n",
              "std              44223.990391\n",
              "min                  0.000000\n",
              "25%              10000.000000\n",
              "50%              50000.000000\n",
              "75%              70000.000000\n",
              "max             170000.000000"
            ]
          },
          "metadata": {
            "tags": []
          },
          "execution_count": 139
        }
      ]
    },
    {
      "cell_type": "code",
      "metadata": {
        "colab": {
          "base_uri": "https://localhost:8080/"
        },
        "id": "LMwMf9taF4Li",
        "outputId": "50fd5560-f700-47d5-e64a-10dad179a583"
      },
      "source": [
        "avg_sal_2015 = new_df2['Compensation: midpoint'].describe().to_frame().loc['mean'][0]\r\n",
        "print(\"{:.2f}\".format(avg_sal_2015))"
      ],
      "execution_count": 140,
      "outputs": [
        {
          "output_type": "stream",
          "text": [
            "51083.14\n"
          ],
          "name": "stdout"
        }
      ]
    },
    {
      "cell_type": "code",
      "metadata": {
        "colab": {
          "base_uri": "https://localhost:8080/",
          "height": 297
        },
        "id": "ut6S6-ztGFrO",
        "outputId": "9635a065-9af9-4950-850b-696b1fcd61f6"
      },
      "source": [
        "#Average salary 2020\r\n",
        "\r\n",
        "new_df['ConvertedComp'].describe().to_frame()"
      ],
      "execution_count": 141,
      "outputs": [
        {
          "output_type": "execute_result",
          "data": {
            "text/html": [
              "<div>\n",
              "<style scoped>\n",
              "    .dataframe tbody tr th:only-of-type {\n",
              "        vertical-align: middle;\n",
              "    }\n",
              "\n",
              "    .dataframe tbody tr th {\n",
              "        vertical-align: top;\n",
              "    }\n",
              "\n",
              "    .dataframe thead th {\n",
              "        text-align: right;\n",
              "    }\n",
              "</style>\n",
              "<table border=\"1\" class=\"dataframe\">\n",
              "  <thead>\n",
              "    <tr style=\"text-align: right;\">\n",
              "      <th></th>\n",
              "      <th>ConvertedComp</th>\n",
              "    </tr>\n",
              "  </thead>\n",
              "  <tbody>\n",
              "    <tr>\n",
              "      <th>count</th>\n",
              "      <td>25974.000000</td>\n",
              "    </tr>\n",
              "    <tr>\n",
              "      <th>mean</th>\n",
              "      <td>66719.303919</td>\n",
              "    </tr>\n",
              "    <tr>\n",
              "      <th>std</th>\n",
              "      <td>52947.962079</td>\n",
              "    </tr>\n",
              "    <tr>\n",
              "      <th>min</th>\n",
              "      <td>0.000000</td>\n",
              "    </tr>\n",
              "    <tr>\n",
              "      <th>25%</th>\n",
              "      <td>27896.000000</td>\n",
              "    </tr>\n",
              "    <tr>\n",
              "      <th>50%</th>\n",
              "      <td>55123.000000</td>\n",
              "    </tr>\n",
              "    <tr>\n",
              "      <th>75%</th>\n",
              "      <td>90751.000000</td>\n",
              "    </tr>\n",
              "    <tr>\n",
              "      <th>max</th>\n",
              "      <td>349043.000000</td>\n",
              "    </tr>\n",
              "  </tbody>\n",
              "</table>\n",
              "</div>"
            ],
            "text/plain": [
              "       ConvertedComp\n",
              "count   25974.000000\n",
              "mean    66719.303919\n",
              "std     52947.962079\n",
              "min         0.000000\n",
              "25%     27896.000000\n",
              "50%     55123.000000\n",
              "75%     90751.000000\n",
              "max    349043.000000"
            ]
          },
          "metadata": {
            "tags": []
          },
          "execution_count": 141
        }
      ]
    },
    {
      "cell_type": "code",
      "metadata": {
        "colab": {
          "base_uri": "https://localhost:8080/"
        },
        "id": "1JBgPCGRF-R6",
        "outputId": "c0f6efe0-8158-4332-b7d7-b95a91a8a60b"
      },
      "source": [
        "avg_sal_2020 = new_df['ConvertedComp'].describe().to_frame().loc['mean'][0]\r\n",
        "print(\"{:.2f}\".format(avg_sal_2020))"
      ],
      "execution_count": 147,
      "outputs": [
        {
          "output_type": "stream",
          "text": [
            "66719.30\n"
          ],
          "name": "stdout"
        }
      ]
    },
    {
      "cell_type": "code",
      "metadata": {
        "colab": {
          "base_uri": "https://localhost:8080/",
          "height": 35
        },
        "id": "GghflMSGGTtk",
        "outputId": "5fd9595b-43ea-4ea2-e723-809f391b58ff"
      },
      "source": [
        "Dif_avg_sal = avg_sal_2020 - avg_sal_2015\r\n",
        "\"The difference of average salary between 2015 and 2020 is: {:.2f}\".format(Dif_avg_sal)"
      ],
      "execution_count": 145,
      "outputs": [
        {
          "output_type": "execute_result",
          "data": {
            "application/vnd.google.colaboratory.intrinsic+json": {
              "type": "string"
            },
            "text/plain": [
              "'The difference of average salary between 2015 and 2020 is: 15636.16'"
            ]
          },
          "metadata": {
            "tags": []
          },
          "execution_count": 145
        }
      ]
    },
    {
      "cell_type": "code",
      "metadata": {
        "colab": {
          "base_uri": "https://localhost:8080/",
          "height": 35
        },
        "id": "kh7w8VbDGlSV",
        "outputId": "db5278a1-4d1d-427f-886a-70cfa0987c3c"
      },
      "source": [
        "\"The salaries in 2020 are {:.2f} % higher in average.\".format(Dif_avg_sal / avg_sal_2015 * 100)"
      ],
      "execution_count": 146,
      "outputs": [
        {
          "output_type": "execute_result",
          "data": {
            "application/vnd.google.colaboratory.intrinsic+json": {
              "type": "string"
            },
            "text/plain": [
              "'The salaries in 2020 are 30.61 % higher in average.'"
            ]
          },
          "metadata": {
            "tags": []
          },
          "execution_count": 146
        }
      ]
    },
    {
      "cell_type": "markdown",
      "metadata": {
        "id": "2LDjJrIGnnsa"
      },
      "source": [
        "We can clearly see that salaries are growing over time."
      ]
    },
    {
      "cell_type": "markdown",
      "metadata": {
        "id": "gcK5kvCMLqGY"
      },
      "source": [
        "**2 - Education profile 2015 x 2020**"
      ]
    },
    {
      "cell_type": "markdown",
      "metadata": {
        "id": "WowVa7KjLwDk"
      },
      "source": [
        "**2015**"
      ]
    },
    {
      "cell_type": "code",
      "metadata": {
        "colab": {
          "base_uri": "https://localhost:8080/",
          "height": 421
        },
        "id": "TS1g7_dqLk6P",
        "outputId": "613f22ae-c52e-4867-859a-d766ca1b6c58"
      },
      "source": [
        "normalized_educ = Count_educ_2015 / Count_educ_2015.Quantity.sum()\r\n",
        "normalized_educ.sort_values(by='Quantity', ascending=False)"
      ],
      "execution_count": 148,
      "outputs": [
        {
          "output_type": "execute_result",
          "data": {
            "text/html": [
              "<div>\n",
              "<style scoped>\n",
              "    .dataframe tbody tr th:only-of-type {\n",
              "        vertical-align: middle;\n",
              "    }\n",
              "\n",
              "    .dataframe tbody tr th {\n",
              "        vertical-align: top;\n",
              "    }\n",
              "\n",
              "    .dataframe thead th {\n",
              "        text-align: right;\n",
              "    }\n",
              "</style>\n",
              "<table border=\"1\" class=\"dataframe\">\n",
              "  <thead>\n",
              "    <tr style=\"text-align: right;\">\n",
              "      <th></th>\n",
              "      <th>Quantity</th>\n",
              "    </tr>\n",
              "    <tr>\n",
              "      <th>Education</th>\n",
              "      <th></th>\n",
              "    </tr>\n",
              "  </thead>\n",
              "  <tbody>\n",
              "    <tr>\n",
              "      <th>Training &amp; Education: No formal training</th>\n",
              "      <td>0.219288</td>\n",
              "    </tr>\n",
              "    <tr>\n",
              "      <th>Training &amp; Education: BS in CS</th>\n",
              "      <td>0.201753</td>\n",
              "    </tr>\n",
              "    <tr>\n",
              "      <th>Training &amp; Education: On the job</th>\n",
              "      <td>0.200202</td>\n",
              "    </tr>\n",
              "    <tr>\n",
              "      <th>Training &amp; Education: Masters in CS</th>\n",
              "      <td>0.100624</td>\n",
              "    </tr>\n",
              "    <tr>\n",
              "      <th>Training &amp; Education: Online Class</th>\n",
              "      <td>0.095826</td>\n",
              "    </tr>\n",
              "    <tr>\n",
              "      <th>Training &amp; Education: Some college, but no CS degree</th>\n",
              "      <td>0.092218</td>\n",
              "    </tr>\n",
              "    <tr>\n",
              "      <th>Training &amp; Education: Industry certification</th>\n",
              "      <td>0.033409</td>\n",
              "    </tr>\n",
              "    <tr>\n",
              "      <th>Training &amp; Education: Other</th>\n",
              "      <td>0.021828</td>\n",
              "    </tr>\n",
              "    <tr>\n",
              "      <th>Training &amp; Education: Boot camp or night school</th>\n",
              "      <td>0.018689</td>\n",
              "    </tr>\n",
              "    <tr>\n",
              "      <th>Training &amp; Education: PhD in CS</th>\n",
              "      <td>0.010679</td>\n",
              "    </tr>\n",
              "    <tr>\n",
              "      <th>Training &amp; Education: Mentorship</th>\n",
              "      <td>0.005484</td>\n",
              "    </tr>\n",
              "  </tbody>\n",
              "</table>\n",
              "</div>"
            ],
            "text/plain": [
              "                                                    Quantity\n",
              "Education                                                   \n",
              "Training & Education: No formal training            0.219288\n",
              "Training & Education: BS in CS                      0.201753\n",
              "Training & Education: On the job                    0.200202\n",
              "Training & Education: Masters in CS                 0.100624\n",
              "Training & Education: Online Class                  0.095826\n",
              "Training & Education: Some college, but no CS d...  0.092218\n",
              "Training & Education: Industry certification        0.033409\n",
              "Training & Education: Other                         0.021828\n",
              "Training & Education: Boot camp or night school     0.018689\n",
              "Training & Education: PhD in CS                     0.010679\n",
              "Training & Education: Mentorship                    0.005484"
            ]
          },
          "metadata": {
            "tags": []
          },
          "execution_count": 148
        }
      ]
    },
    {
      "cell_type": "code",
      "metadata": {
        "colab": {
          "base_uri": "https://localhost:8080/",
          "height": 556
        },
        "id": "nR6-TaiLLy6t",
        "outputId": "1dc08abf-c0d5-46a5-fc82-7087d89b781b"
      },
      "source": [
        "normalized_educ.sort_values(by='Quantity', ascending=False).plot(kind='bar')"
      ],
      "execution_count": 149,
      "outputs": [
        {
          "output_type": "execute_result",
          "data": {
            "text/plain": [
              "<matplotlib.axes._subplots.AxesSubplot at 0x7f1d70656e10>"
            ]
          },
          "metadata": {
            "tags": []
          },
          "execution_count": 149
        },
        {
          "output_type": "display_data",
          "data": {
            "image/png": "[encoded data removed]",
            "text/plain": [
              "<Figure size 432x288 with 1 Axes>"
            ]
          },
          "metadata": {
            "tags": [],
            "needs_background": "light"
          }
        }
      ]
    },
    {
      "cell_type": "markdown",
      "metadata": {
        "id": "7n6vik1YMNOK"
      },
      "source": [
        "**2020**"
      ]
    },
    {
      "cell_type": "code",
      "metadata": {
        "colab": {
          "base_uri": "https://localhost:8080/",
          "height": 328
        },
        "id": "j5NJNH-zL5Zd",
        "outputId": "1b17732f-b3cd-4b22-cec1-e32274aeb62e"
      },
      "source": [
        "new_df['EdLevel'].value_counts(normalize=True).to_frame()"
      ],
      "execution_count": 150,
      "outputs": [
        {
          "output_type": "execute_result",
          "data": {
            "text/html": [
              "<div>\n",
              "<style scoped>\n",
              "    .dataframe tbody tr th:only-of-type {\n",
              "        vertical-align: middle;\n",
              "    }\n",
              "\n",
              "    .dataframe tbody tr th {\n",
              "        vertical-align: top;\n",
              "    }\n",
              "\n",
              "    .dataframe thead th {\n",
              "        text-align: right;\n",
              "    }\n",
              "</style>\n",
              "<table border=\"1\" class=\"dataframe\">\n",
              "  <thead>\n",
              "    <tr style=\"text-align: right;\">\n",
              "      <th></th>\n",
              "      <th>EdLevel</th>\n",
              "    </tr>\n",
              "  </thead>\n",
              "  <tbody>\n",
              "    <tr>\n",
              "      <th>Bachelor’s degree (B.A., B.S., B.Eng., etc.)</th>\n",
              "      <td>0.487680</td>\n",
              "    </tr>\n",
              "    <tr>\n",
              "      <th>Master’s degree (M.A., M.S., M.Eng., MBA, etc.)</th>\n",
              "      <td>0.257488</td>\n",
              "    </tr>\n",
              "    <tr>\n",
              "      <th>Some college/university study without earning a degree</th>\n",
              "      <td>0.120236</td>\n",
              "    </tr>\n",
              "    <tr>\n",
              "      <th>Secondary school (e.g. American high school, German Realschule or Gymnasium, etc.)</th>\n",
              "      <td>0.044699</td>\n",
              "    </tr>\n",
              "    <tr>\n",
              "      <th>Associate degree (A.A., A.S., etc.)</th>\n",
              "      <td>0.034958</td>\n",
              "    </tr>\n",
              "    <tr>\n",
              "      <th>Other doctoral degree (Ph.D., Ed.D., etc.)</th>\n",
              "      <td>0.033880</td>\n",
              "    </tr>\n",
              "    <tr>\n",
              "      <th>Professional degree (JD, MD, etc.)</th>\n",
              "      <td>0.012936</td>\n",
              "    </tr>\n",
              "    <tr>\n",
              "      <th>I never completed any formal education</th>\n",
              "      <td>0.004120</td>\n",
              "    </tr>\n",
              "    <tr>\n",
              "      <th>Primary/elementary school</th>\n",
              "      <td>0.004004</td>\n",
              "    </tr>\n",
              "  </tbody>\n",
              "</table>\n",
              "</div>"
            ],
            "text/plain": [
              "                                                     EdLevel\n",
              "Bachelor’s degree (B.A., B.S., B.Eng., etc.)        0.487680\n",
              "Master’s degree (M.A., M.S., M.Eng., MBA, etc.)     0.257488\n",
              "Some college/university study without earning a...  0.120236\n",
              "Secondary school (e.g. American high school, Ge...  0.044699\n",
              "Associate degree (A.A., A.S., etc.)                 0.034958\n",
              "Other doctoral degree (Ph.D., Ed.D., etc.)          0.033880\n",
              "Professional degree (JD, MD, etc.)                  0.012936\n",
              "I never completed any formal education              0.004120\n",
              "Primary/elementary school                           0.004004"
            ]
          },
          "metadata": {
            "tags": []
          },
          "execution_count": 150
        }
      ]
    },
    {
      "cell_type": "code",
      "metadata": {
        "colab": {
          "base_uri": "https://localhost:8080/",
          "height": 706
        },
        "id": "hJ1Ip-2oMRHC",
        "outputId": "31f0c27c-0b93-421d-d8c5-ad4dc875e19a"
      },
      "source": [
        "new_df['EdLevel'].value_counts(normalize=True).plot(kind='bar')"
      ],
      "execution_count": 151,
      "outputs": [
        {
          "output_type": "execute_result",
          "data": {
            "text/plain": [
              "<matplotlib.axes._subplots.AxesSubplot at 0x7f1d704a5940>"
            ]
          },
          "metadata": {
            "tags": []
          },
          "execution_count": 151
        },
        {
          "output_type": "display_data",
          "data": {
            "image/png": "[encoded data removed]",
            "text/plain": [
              "<Figure size 432x288 with 1 Axes>"
            ]
          },
          "metadata": {
            "tags": [],
            "needs_background": "light"
          }
        }
      ]
    },
    {
      "cell_type": "markdown",
      "metadata": {
        "id": "0N99TiD1MisC"
      },
      "source": [
        "Analyzing the education profile, we can clearly see that formal education is much more present in 2020 than in 2015 - no formal education is in the top of the ranking in 2015. \r\n",
        "\r\n",
        "Adding only BS and MS from 2020 dataset, we have almost 75% of our sampling, whereas we have only 40% (adding college that is not in CS + BS in CS + MS) in 2015. "
      ]
    },
    {
      "cell_type": "markdown",
      "metadata": {
        "id": "qZNtXEVVNjh7"
      },
      "source": [
        "**2.1 - Salary by profile Education**"
      ]
    },
    {
      "cell_type": "markdown",
      "metadata": {
        "id": "_Wa_kojLNnEF"
      },
      "source": [
        "**2015**"
      ]
    },
    {
      "cell_type": "code",
      "metadata": {
        "colab": {
          "base_uri": "https://localhost:8080/"
        },
        "id": "p_vjsbUAMW1d",
        "outputId": "00608043-9025-414c-98c4-9b53f7252b13"
      },
      "source": [
        "educ_2015_list = list(normalized_educ.index)\r\n",
        "educ_2015_list"
      ],
      "execution_count": 152,
      "outputs": [
        {
          "output_type": "execute_result",
          "data": {
            "text/plain": [
              "['Training & Education: No formal training',\n",
              " 'Training & Education: On the job',\n",
              " 'Training & Education: Boot camp or night school',\n",
              " 'Training & Education: Online Class',\n",
              " 'Training & Education: Mentorship',\n",
              " 'Training & Education: Industry certification',\n",
              " 'Training & Education: Some college, but no CS degree',\n",
              " 'Training & Education: BS in CS',\n",
              " 'Training & Education: Masters in CS',\n",
              " 'Training & Education: PhD in CS',\n",
              " 'Training & Education: Other']"
            ]
          },
          "metadata": {
            "tags": []
          },
          "execution_count": 152
        }
      ]
    },
    {
      "cell_type": "code",
      "metadata": {
        "id": "t6wmAupuNp6U"
      },
      "source": [
        "#Salary by Educ 2015\r\n",
        "\r\n",
        "avg_sal_educ_2015 = {}\r\n",
        "\r\n",
        "for col in educ_2015_list:\r\n",
        "  col_total = list(new_df2.groupby([col])['Compensation: midpoint'].mean())[0]\r\n",
        "  avg_sal_educ_2015[col] = col_total"
      ],
      "execution_count": 153,
      "outputs": []
    },
    {
      "cell_type": "code",
      "metadata": {
        "colab": {
          "base_uri": "https://localhost:8080/"
        },
        "id": "lQ_57ISvNr6a",
        "outputId": "9b2435b5-688d-45a2-f876-5210286fe3ce"
      },
      "source": [
        "avg_sal_educ_2015"
      ],
      "execution_count": 156,
      "outputs": [
        {
          "output_type": "execute_result",
          "data": {
            "text/plain": [
              "{'Training & Education: BS in CS': 57249.64234620887,\n",
              " 'Training & Education: Boot camp or night school': 63262.54826254826,\n",
              " 'Training & Education: Industry certification': 67127.42980561555,\n",
              " 'Training & Education: Masters in CS': 57490.13983506633,\n",
              " 'Training & Education: Mentorship': 48092.10526315789,\n",
              " 'Training & Education: No formal training': 44468.575189206975,\n",
              " 'Training & Education: On the job': 56444.404397188686,\n",
              " 'Training & Education: Online Class': 50542.1686746988,\n",
              " 'Training & Education: Other': 47123.96694214876,\n",
              " 'Training & Education: PhD in CS': 71993.24324324324,\n",
              " 'Training & Education: Some college, but no CS degree': 47707.35524256651}"
            ]
          },
          "metadata": {
            "tags": []
          },
          "execution_count": 156
        }
      ]
    },
    {
      "cell_type": "code",
      "metadata": {
        "colab": {
          "base_uri": "https://localhost:8080/",
          "height": 390
        },
        "id": "Bboaet3kNtk7",
        "outputId": "8c7ac647-7ee9-4793-f8f2-1956727fa767"
      },
      "source": [
        "avg_sal_educ_2015_df = pd.DataFrame(list(avg_sal_educ_2015.items()),columns = ['Education','Avg Salary'])\r\n",
        "avg_sal_educ_2015_df.sort_values(by='Avg Salary', ascending=False)"
      ],
      "execution_count": 158,
      "outputs": [
        {
          "output_type": "execute_result",
          "data": {
            "text/html": [
              "<div>\n",
              "<style scoped>\n",
              "    .dataframe tbody tr th:only-of-type {\n",
              "        vertical-align: middle;\n",
              "    }\n",
              "\n",
              "    .dataframe tbody tr th {\n",
              "        vertical-align: top;\n",
              "    }\n",
              "\n",
              "    .dataframe thead th {\n",
              "        text-align: right;\n",
              "    }\n",
              "</style>\n",
              "<table border=\"1\" class=\"dataframe\">\n",
              "  <thead>\n",
              "    <tr style=\"text-align: right;\">\n",
              "      <th></th>\n",
              "      <th>Education</th>\n",
              "      <th>Avg Salary</th>\n",
              "    </tr>\n",
              "  </thead>\n",
              "  <tbody>\n",
              "    <tr>\n",
              "      <th>9</th>\n",
              "      <td>Training &amp; Education: PhD in CS</td>\n",
              "      <td>71993.243243</td>\n",
              "    </tr>\n",
              "    <tr>\n",
              "      <th>5</th>\n",
              "      <td>Training &amp; Education: Industry certification</td>\n",
              "      <td>67127.429806</td>\n",
              "    </tr>\n",
              "    <tr>\n",
              "      <th>2</th>\n",
              "      <td>Training &amp; Education: Boot camp or night school</td>\n",
              "      <td>63262.548263</td>\n",
              "    </tr>\n",
              "    <tr>\n",
              "      <th>8</th>\n",
              "      <td>Training &amp; Education: Masters in CS</td>\n",
              "      <td>57490.139835</td>\n",
              "    </tr>\n",
              "    <tr>\n",
              "      <th>7</th>\n",
              "      <td>Training &amp; Education: BS in CS</td>\n",
              "      <td>57249.642346</td>\n",
              "    </tr>\n",
              "    <tr>\n",
              "      <th>1</th>\n",
              "      <td>Training &amp; Education: On the job</td>\n",
              "      <td>56444.404397</td>\n",
              "    </tr>\n",
              "    <tr>\n",
              "      <th>3</th>\n",
              "      <td>Training &amp; Education: Online Class</td>\n",
              "      <td>50542.168675</td>\n",
              "    </tr>\n",
              "    <tr>\n",
              "      <th>4</th>\n",
              "      <td>Training &amp; Education: Mentorship</td>\n",
              "      <td>48092.105263</td>\n",
              "    </tr>\n",
              "    <tr>\n",
              "      <th>6</th>\n",
              "      <td>Training &amp; Education: Some college, but no CS ...</td>\n",
              "      <td>47707.355243</td>\n",
              "    </tr>\n",
              "    <tr>\n",
              "      <th>10</th>\n",
              "      <td>Training &amp; Education: Other</td>\n",
              "      <td>47123.966942</td>\n",
              "    </tr>\n",
              "    <tr>\n",
              "      <th>0</th>\n",
              "      <td>Training &amp; Education: No formal training</td>\n",
              "      <td>44468.575189</td>\n",
              "    </tr>\n",
              "  </tbody>\n",
              "</table>\n",
              "</div>"
            ],
            "text/plain": [
              "                                            Education    Avg Salary\n",
              "9                     Training & Education: PhD in CS  71993.243243\n",
              "5        Training & Education: Industry certification  67127.429806\n",
              "2     Training & Education: Boot camp or night school  63262.548263\n",
              "8                 Training & Education: Masters in CS  57490.139835\n",
              "7                      Training & Education: BS in CS  57249.642346\n",
              "1                    Training & Education: On the job  56444.404397\n",
              "3                  Training & Education: Online Class  50542.168675\n",
              "4                    Training & Education: Mentorship  48092.105263\n",
              "6   Training & Education: Some college, but no CS ...  47707.355243\n",
              "10                        Training & Education: Other  47123.966942\n",
              "0            Training & Education: No formal training  44468.575189"
            ]
          },
          "metadata": {
            "tags": []
          },
          "execution_count": 158
        }
      ]
    },
    {
      "cell_type": "code",
      "metadata": {
        "colab": {
          "base_uri": "https://localhost:8080/",
          "height": 572
        },
        "id": "jG8saosQN86i",
        "outputId": "528fdcc8-b72b-4b6c-a11a-8ba50689aa5a"
      },
      "source": [
        "avg_sal_educ_2015_df.set_index('Education').sort_values(by='Avg Salary', ascending=False).plot(kind='bar', title='Avg salary by education 2015')"
      ],
      "execution_count": 159,
      "outputs": [
        {
          "output_type": "execute_result",
          "data": {
            "text/plain": [
              "<matplotlib.axes._subplots.AxesSubplot at 0x7f1d70430ba8>"
            ]
          },
          "metadata": {
            "tags": []
          },
          "execution_count": 159
        },
        {
          "output_type": "display_data",
          "data": {
            "image/png": "[encoded data removed]",
            "text/plain": [
              "<Figure size 432x288 with 1 Axes>"
            ]
          },
          "metadata": {
            "tags": [],
            "needs_background": "light"
          }
        }
      ]
    },
    {
      "cell_type": "markdown",
      "metadata": {
        "id": "vFZMWI-dN2D5"
      },
      "source": [
        "**2020**"
      ]
    },
    {
      "cell_type": "code",
      "metadata": {
        "colab": {
          "base_uri": "https://localhost:8080/",
          "height": 359
        },
        "id": "J_twISZFNwFN",
        "outputId": "b7018e18-a19c-4f43-c1a3-2c97d0dd9d7b"
      },
      "source": [
        "new_df.groupby('EdLevel')['ConvertedComp'].mean().to_frame().sort_values(by='ConvertedComp', ascending=False)"
      ],
      "execution_count": 160,
      "outputs": [
        {
          "output_type": "execute_result",
          "data": {
            "text/html": [
              "<div>\n",
              "<style scoped>\n",
              "    .dataframe tbody tr th:only-of-type {\n",
              "        vertical-align: middle;\n",
              "    }\n",
              "\n",
              "    .dataframe tbody tr th {\n",
              "        vertical-align: top;\n",
              "    }\n",
              "\n",
              "    .dataframe thead th {\n",
              "        text-align: right;\n",
              "    }\n",
              "</style>\n",
              "<table border=\"1\" class=\"dataframe\">\n",
              "  <thead>\n",
              "    <tr style=\"text-align: right;\">\n",
              "      <th></th>\n",
              "      <th>ConvertedComp</th>\n",
              "    </tr>\n",
              "    <tr>\n",
              "      <th>EdLevel</th>\n",
              "      <th></th>\n",
              "    </tr>\n",
              "  </thead>\n",
              "  <tbody>\n",
              "    <tr>\n",
              "      <th>Other doctoral degree (Ph.D., Ed.D., etc.)</th>\n",
              "      <td>83675.143182</td>\n",
              "    </tr>\n",
              "    <tr>\n",
              "      <th>Master’s degree (M.A., M.S., M.Eng., MBA, etc.)</th>\n",
              "      <td>68745.388756</td>\n",
              "    </tr>\n",
              "    <tr>\n",
              "      <th>Bachelor’s degree (B.A., B.S., B.Eng., etc.)</th>\n",
              "      <td>66928.507460</td>\n",
              "    </tr>\n",
              "    <tr>\n",
              "      <th>Primary/elementary school</th>\n",
              "      <td>66711.951923</td>\n",
              "    </tr>\n",
              "    <tr>\n",
              "      <th>Associate degree (A.A., A.S., etc.)</th>\n",
              "      <td>65613.959251</td>\n",
              "    </tr>\n",
              "    <tr>\n",
              "      <th>Some college/university study without earning a degree</th>\n",
              "      <td>64793.701889</td>\n",
              "    </tr>\n",
              "    <tr>\n",
              "      <th>I never completed any formal education</th>\n",
              "      <td>64738.822430</td>\n",
              "    </tr>\n",
              "    <tr>\n",
              "      <th>Secondary school (e.g. American high school, German Realschule or Gymnasium, etc.)</th>\n",
              "      <td>51465.782946</td>\n",
              "    </tr>\n",
              "    <tr>\n",
              "      <th>Professional degree (JD, MD, etc.)</th>\n",
              "      <td>48319.741071</td>\n",
              "    </tr>\n",
              "  </tbody>\n",
              "</table>\n",
              "</div>"
            ],
            "text/plain": [
              "                                                    ConvertedComp\n",
              "EdLevel                                                          \n",
              "Other doctoral degree (Ph.D., Ed.D., etc.)           83675.143182\n",
              "Master’s degree (M.A., M.S., M.Eng., MBA, etc.)      68745.388756\n",
              "Bachelor’s degree (B.A., B.S., B.Eng., etc.)         66928.507460\n",
              "Primary/elementary school                            66711.951923\n",
              "Associate degree (A.A., A.S., etc.)                  65613.959251\n",
              "Some college/university study without earning a...   64793.701889\n",
              "I never completed any formal education               64738.822430\n",
              "Secondary school (e.g. American high school, Ge...   51465.782946\n",
              "Professional degree (JD, MD, etc.)                   48319.741071"
            ]
          },
          "metadata": {
            "tags": []
          },
          "execution_count": 160
        }
      ]
    },
    {
      "cell_type": "code",
      "metadata": {
        "colab": {
          "base_uri": "https://localhost:8080/",
          "height": 736
        },
        "id": "fucN4v1BN6gx",
        "outputId": "0a41e293-df85-434e-feae-28cff9be1995"
      },
      "source": [
        "new_df.groupby('EdLevel')['ConvertedComp'].mean().to_frame().sort_values(by='ConvertedComp', ascending=False).plot(kind='bar', title='Avg salary by education 2020')"
      ],
      "execution_count": 161,
      "outputs": [
        {
          "output_type": "execute_result",
          "data": {
            "text/plain": [
              "<matplotlib.axes._subplots.AxesSubplot at 0x7f1d703bf208>"
            ]
          },
          "metadata": {
            "tags": []
          },
          "execution_count": 161
        },
        {
          "output_type": "display_data",
          "data": {
            "image/png": "[encoded data removed]",
            "text/plain": [
              "<Figure size 432x288 with 1 Axes>"
            ]
          },
          "metadata": {
            "tags": [],
            "needs_background": "light"
          }
        }
      ]
    },
    {
      "cell_type": "markdown",
      "metadata": {
        "id": "-DVQl1i4OpnR"
      },
      "source": [
        "Since the average salary is higher in 2020, it is also reflected in the average salary by profile education. People with formal education earns higher salaries in the sampling of 2020, but it is very interesting to note that in 2015 no formal education like industry certification and Boot Camps or night school, earned also elevated salaries, only below PHD developers. "
      ]
    },
    {
      "cell_type": "markdown",
      "metadata": {
        "id": "MgkrNR14O61B"
      },
      "source": [
        "**3 - Age Profile 2015 x 2020**"
      ]
    },
    {
      "cell_type": "markdown",
      "metadata": {
        "id": "f0I8WIa0PPR4"
      },
      "source": [
        "**2015**"
      ]
    },
    {
      "cell_type": "code",
      "metadata": {
        "colab": {
          "base_uri": "https://localhost:8080/",
          "height": 328
        },
        "id": "st3YT-k6OecN",
        "outputId": "7bc10d35-9a43-4b08-92e0-3516ddc591cb"
      },
      "source": [
        "new_df2.Age.value_counts(normalize=True, dropna=True).to_frame()\r\n"
      ],
      "execution_count": 163,
      "outputs": [
        {
          "output_type": "execute_result",
          "data": {
            "text/html": [
              "<div>\n",
              "<style scoped>\n",
              "    .dataframe tbody tr th:only-of-type {\n",
              "        vertical-align: middle;\n",
              "    }\n",
              "\n",
              "    .dataframe tbody tr th {\n",
              "        vertical-align: top;\n",
              "    }\n",
              "\n",
              "    .dataframe thead th {\n",
              "        text-align: right;\n",
              "    }\n",
              "</style>\n",
              "<table border=\"1\" class=\"dataframe\">\n",
              "  <thead>\n",
              "    <tr style=\"text-align: right;\">\n",
              "      <th></th>\n",
              "      <th>Age</th>\n",
              "    </tr>\n",
              "  </thead>\n",
              "  <tbody>\n",
              "    <tr>\n",
              "      <th>25-29</th>\n",
              "      <td>0.283102</td>\n",
              "    </tr>\n",
              "    <tr>\n",
              "      <th>20-24</th>\n",
              "      <td>0.227561</td>\n",
              "    </tr>\n",
              "    <tr>\n",
              "      <th>30-34</th>\n",
              "      <td>0.190377</td>\n",
              "    </tr>\n",
              "    <tr>\n",
              "      <th>35-39</th>\n",
              "      <td>0.102578</td>\n",
              "    </tr>\n",
              "    <tr>\n",
              "      <th>40-50</th>\n",
              "      <td>0.086584</td>\n",
              "    </tr>\n",
              "    <tr>\n",
              "      <th>&lt; 20</th>\n",
              "      <td>0.082467</td>\n",
              "    </tr>\n",
              "    <tr>\n",
              "      <th>51-60</th>\n",
              "      <td>0.020246</td>\n",
              "    </tr>\n",
              "    <tr>\n",
              "      <th>Prefer not to disclose</th>\n",
              "      <td>0.004656</td>\n",
              "    </tr>\n",
              "    <tr>\n",
              "      <th>&gt; 60</th>\n",
              "      <td>0.002429</td>\n",
              "    </tr>\n",
              "  </tbody>\n",
              "</table>\n",
              "</div>"
            ],
            "text/plain": [
              "                             Age\n",
              "25-29                   0.283102\n",
              "20-24                   0.227561\n",
              "30-34                   0.190377\n",
              "35-39                   0.102578\n",
              "40-50                   0.086584\n",
              "< 20                    0.082467\n",
              "51-60                   0.020246\n",
              "Prefer not to disclose  0.004656\n",
              "> 60                    0.002429"
            ]
          },
          "metadata": {
            "tags": []
          },
          "execution_count": 163
        }
      ]
    },
    {
      "cell_type": "markdown",
      "metadata": {
        "id": "bTMoRIB_PW-V"
      },
      "source": [
        "**2020**"
      ]
    },
    {
      "cell_type": "code",
      "metadata": {
        "colab": {
          "base_uri": "https://localhost:8080/",
          "height": 297
        },
        "id": "uyxhLuW8PTc_",
        "outputId": "1f8843b2-97fa-45d0-ef95-29d8cf948e79"
      },
      "source": [
        "label_ranges = [0, 19, 24, 29, 34, 39, 50, 60, np.inf]\r\n",
        "label_names = ['<20', '20-24', '25-29', '30-34', '35-39','40-50', '51-60', '>60']\r\n",
        "\r\n",
        "new_df['Age group'] = pd.cut(new_df['Age'], bins = label_ranges, labels = label_names)\r\n",
        "new_df['Age group'].value_counts(normalize=True, dropna=True).to_frame()"
      ],
      "execution_count": 164,
      "outputs": [
        {
          "output_type": "execute_result",
          "data": {
            "text/html": [
              "<div>\n",
              "<style scoped>\n",
              "    .dataframe tbody tr th:only-of-type {\n",
              "        vertical-align: middle;\n",
              "    }\n",
              "\n",
              "    .dataframe tbody tr th {\n",
              "        vertical-align: top;\n",
              "    }\n",
              "\n",
              "    .dataframe thead th {\n",
              "        text-align: right;\n",
              "    }\n",
              "</style>\n",
              "<table border=\"1\" class=\"dataframe\">\n",
              "  <thead>\n",
              "    <tr style=\"text-align: right;\">\n",
              "      <th></th>\n",
              "      <th>Age group</th>\n",
              "    </tr>\n",
              "  </thead>\n",
              "  <tbody>\n",
              "    <tr>\n",
              "      <th>25-29</th>\n",
              "      <td>0.295026</td>\n",
              "    </tr>\n",
              "    <tr>\n",
              "      <th>30-34</th>\n",
              "      <td>0.234234</td>\n",
              "    </tr>\n",
              "    <tr>\n",
              "      <th>35-39</th>\n",
              "      <td>0.150843</td>\n",
              "    </tr>\n",
              "    <tr>\n",
              "      <th>20-24</th>\n",
              "      <td>0.148264</td>\n",
              "    </tr>\n",
              "    <tr>\n",
              "      <th>40-50</th>\n",
              "      <td>0.131516</td>\n",
              "    </tr>\n",
              "    <tr>\n",
              "      <th>51-60</th>\n",
              "      <td>0.032995</td>\n",
              "    </tr>\n",
              "    <tr>\n",
              "      <th>&lt;20</th>\n",
              "      <td>0.007123</td>\n",
              "    </tr>\n",
              "    <tr>\n",
              "      <th>&gt;60</th>\n",
              "      <td>0.000000</td>\n",
              "    </tr>\n",
              "  </tbody>\n",
              "</table>\n",
              "</div>"
            ],
            "text/plain": [
              "       Age group\n",
              "25-29   0.295026\n",
              "30-34   0.234234\n",
              "35-39   0.150843\n",
              "20-24   0.148264\n",
              "40-50   0.131516\n",
              "51-60   0.032995\n",
              "<20     0.007123\n",
              ">60     0.000000"
            ]
          },
          "metadata": {
            "tags": []
          },
          "execution_count": 164
        }
      ]
    },
    {
      "cell_type": "markdown",
      "metadata": {
        "id": "xvgE9jNXPhJv"
      },
      "source": [
        "When it comes to compare the Age profile between 2015 and 2020, overall there is not that much difference, but we can note that it is getting a bit older in 2020."
      ]
    },
    {
      "cell_type": "markdown",
      "metadata": {
        "id": "_Uduh9x6QUcl"
      },
      "source": [
        "**3.1 - Salary by Age**"
      ]
    },
    {
      "cell_type": "markdown",
      "metadata": {
        "id": "YjAaVXChQiDt"
      },
      "source": [
        "**2015**"
      ]
    },
    {
      "cell_type": "code",
      "metadata": {
        "colab": {
          "base_uri": "https://localhost:8080/",
          "height": 359
        },
        "id": "nybSZP79Pckp",
        "outputId": "9d6a00be-3099-4346-f430-0a7a869bcdb2"
      },
      "source": [
        "new_df2.groupby('Age')['Compensation: midpoint'].mean().to_frame().sort_values(by='Compensation: midpoint', ascending=False)"
      ],
      "execution_count": 165,
      "outputs": [
        {
          "output_type": "execute_result",
          "data": {
            "text/html": [
              "<div>\n",
              "<style scoped>\n",
              "    .dataframe tbody tr th:only-of-type {\n",
              "        vertical-align: middle;\n",
              "    }\n",
              "\n",
              "    .dataframe tbody tr th {\n",
              "        vertical-align: top;\n",
              "    }\n",
              "\n",
              "    .dataframe thead th {\n",
              "        text-align: right;\n",
              "    }\n",
              "</style>\n",
              "<table border=\"1\" class=\"dataframe\">\n",
              "  <thead>\n",
              "    <tr style=\"text-align: right;\">\n",
              "      <th></th>\n",
              "      <th>Compensation: midpoint</th>\n",
              "    </tr>\n",
              "    <tr>\n",
              "      <th>Age</th>\n",
              "      <th></th>\n",
              "    </tr>\n",
              "  </thead>\n",
              "  <tbody>\n",
              "    <tr>\n",
              "      <th>51-60</th>\n",
              "      <td>98866.666667</td>\n",
              "    </tr>\n",
              "    <tr>\n",
              "      <th>40-50</th>\n",
              "      <td>95003.897116</td>\n",
              "    </tr>\n",
              "    <tr>\n",
              "      <th>35-39</th>\n",
              "      <td>79355.263158</td>\n",
              "    </tr>\n",
              "    <tr>\n",
              "      <th>&gt; 60</th>\n",
              "      <td>77777.777778</td>\n",
              "    </tr>\n",
              "    <tr>\n",
              "      <th>30-34</th>\n",
              "      <td>66313.364055</td>\n",
              "    </tr>\n",
              "    <tr>\n",
              "      <th>Prefer not to disclose</th>\n",
              "      <td>53043.478261</td>\n",
              "    </tr>\n",
              "    <tr>\n",
              "      <th>25-29</th>\n",
              "      <td>45930.870083</td>\n",
              "    </tr>\n",
              "    <tr>\n",
              "      <th>20-24</th>\n",
              "      <td>26705.219454</td>\n",
              "    </tr>\n",
              "    <tr>\n",
              "      <th>&lt; 20</th>\n",
              "      <td>6972.176759</td>\n",
              "    </tr>\n",
              "  </tbody>\n",
              "</table>\n",
              "</div>"
            ],
            "text/plain": [
              "                        Compensation: midpoint\n",
              "Age                                           \n",
              "51-60                             98866.666667\n",
              "40-50                             95003.897116\n",
              "35-39                             79355.263158\n",
              "> 60                              77777.777778\n",
              "30-34                             66313.364055\n",
              "Prefer not to disclose            53043.478261\n",
              "25-29                             45930.870083\n",
              "20-24                             26705.219454\n",
              "< 20                               6972.176759"
            ]
          },
          "metadata": {
            "tags": []
          },
          "execution_count": 165
        }
      ]
    },
    {
      "cell_type": "markdown",
      "metadata": {
        "id": "dp55SYzGQobc"
      },
      "source": [
        "**2020**"
      ]
    },
    {
      "cell_type": "code",
      "metadata": {
        "colab": {
          "base_uri": "https://localhost:8080/",
          "height": 328
        },
        "id": "9YDdS5BmQg30",
        "outputId": "c6497e5d-a6cb-4d17-ac95-1b81068b84cc"
      },
      "source": [
        "new_df.groupby('Age group')['ConvertedComp'].mean().to_frame().sort_values(by='ConvertedComp', ascending=False)"
      ],
      "execution_count": 166,
      "outputs": [
        {
          "output_type": "execute_result",
          "data": {
            "text/html": [
              "<div>\n",
              "<style scoped>\n",
              "    .dataframe tbody tr th:only-of-type {\n",
              "        vertical-align: middle;\n",
              "    }\n",
              "\n",
              "    .dataframe tbody tr th {\n",
              "        vertical-align: top;\n",
              "    }\n",
              "\n",
              "    .dataframe thead th {\n",
              "        text-align: right;\n",
              "    }\n",
              "</style>\n",
              "<table border=\"1\" class=\"dataframe\">\n",
              "  <thead>\n",
              "    <tr style=\"text-align: right;\">\n",
              "      <th></th>\n",
              "      <th>ConvertedComp</th>\n",
              "    </tr>\n",
              "    <tr>\n",
              "      <th>Age group</th>\n",
              "      <th></th>\n",
              "    </tr>\n",
              "  </thead>\n",
              "  <tbody>\n",
              "    <tr>\n",
              "      <th>51-60</th>\n",
              "      <td>105517.026838</td>\n",
              "    </tr>\n",
              "    <tr>\n",
              "      <th>40-50</th>\n",
              "      <td>93512.801815</td>\n",
              "    </tr>\n",
              "    <tr>\n",
              "      <th>35-39</th>\n",
              "      <td>83775.823379</td>\n",
              "    </tr>\n",
              "    <tr>\n",
              "      <th>30-34</th>\n",
              "      <td>69889.405490</td>\n",
              "    </tr>\n",
              "    <tr>\n",
              "      <th>25-29</th>\n",
              "      <td>54621.577581</td>\n",
              "    </tr>\n",
              "    <tr>\n",
              "      <th>20-24</th>\n",
              "      <td>37899.206440</td>\n",
              "    </tr>\n",
              "    <tr>\n",
              "      <th>&lt;20</th>\n",
              "      <td>27803.054054</td>\n",
              "    </tr>\n",
              "    <tr>\n",
              "      <th>&gt;60</th>\n",
              "      <td>NaN</td>\n",
              "    </tr>\n",
              "  </tbody>\n",
              "</table>\n",
              "</div>"
            ],
            "text/plain": [
              "           ConvertedComp\n",
              "Age group               \n",
              "51-60      105517.026838\n",
              "40-50       93512.801815\n",
              "35-39       83775.823379\n",
              "30-34       69889.405490\n",
              "25-29       54621.577581\n",
              "20-24       37899.206440\n",
              "<20         27803.054054\n",
              ">60                  NaN"
            ]
          },
          "metadata": {
            "tags": []
          },
          "execution_count": 166
        }
      ]
    },
    {
      "cell_type": "markdown",
      "metadata": {
        "id": "grnst0KqQwJN"
      },
      "source": [
        "When it comes to compare the range that can be found in both samplings, we note that the ranking of average salary by age does not change significantly."
      ]
    },
    {
      "cell_type": "markdown",
      "metadata": {
        "id": "3d8WiIcUQ27h"
      },
      "source": [
        "**4 - Years coding profile 2015 x 2020**"
      ]
    },
    {
      "cell_type": "markdown",
      "metadata": {
        "id": "AKD8tBCXQ6U3"
      },
      "source": [
        "**2015**"
      ]
    },
    {
      "cell_type": "code",
      "metadata": {
        "colab": {
          "base_uri": "https://localhost:8080/",
          "height": 204
        },
        "id": "UZI2wbIyQrWM",
        "outputId": "ff704f67-aea1-480a-fd82-ef29c76806f0"
      },
      "source": [
        "new_df2['Years IT / Programming Experience'].value_counts(normalize=True, dropna=True).to_frame()"
      ],
      "execution_count": 167,
      "outputs": [
        {
          "output_type": "execute_result",
          "data": {
            "text/html": [
              "<div>\n",
              "<style scoped>\n",
              "    .dataframe tbody tr th:only-of-type {\n",
              "        vertical-align: middle;\n",
              "    }\n",
              "\n",
              "    .dataframe tbody tr th {\n",
              "        vertical-align: top;\n",
              "    }\n",
              "\n",
              "    .dataframe thead th {\n",
              "        text-align: right;\n",
              "    }\n",
              "</style>\n",
              "<table border=\"1\" class=\"dataframe\">\n",
              "  <thead>\n",
              "    <tr style=\"text-align: right;\">\n",
              "      <th></th>\n",
              "      <th>Years IT / Programming Experience</th>\n",
              "    </tr>\n",
              "  </thead>\n",
              "  <tbody>\n",
              "    <tr>\n",
              "      <th>2 - 5 years</th>\n",
              "      <td>0.318666</td>\n",
              "    </tr>\n",
              "    <tr>\n",
              "      <th>11+ years</th>\n",
              "      <td>0.265555</td>\n",
              "    </tr>\n",
              "    <tr>\n",
              "      <th>6 - 10 years</th>\n",
              "      <td>0.241261</td>\n",
              "    </tr>\n",
              "    <tr>\n",
              "      <th>1 - 2 years</th>\n",
              "      <td>0.121676</td>\n",
              "    </tr>\n",
              "    <tr>\n",
              "      <th>Less than 1 year</th>\n",
              "      <td>0.052841</td>\n",
              "    </tr>\n",
              "  </tbody>\n",
              "</table>\n",
              "</div>"
            ],
            "text/plain": [
              "                  Years IT / Programming Experience\n",
              "2 - 5 years                                0.318666\n",
              "11+ years                                  0.265555\n",
              "6 - 10 years                               0.241261\n",
              "1 - 2 years                                0.121676\n",
              "Less than 1 year                           0.052841"
            ]
          },
          "metadata": {
            "tags": []
          },
          "execution_count": 167
        }
      ]
    },
    {
      "cell_type": "markdown",
      "metadata": {
        "id": "lzKvWw7BRBxp"
      },
      "source": [
        "**2020**"
      ]
    },
    {
      "cell_type": "code",
      "metadata": {
        "colab": {
          "base_uri": "https://localhost:8080/",
          "height": 204
        },
        "id": "Lp4pdyMhQ9Na",
        "outputId": "a5f27d38-82fa-4eb9-b4a0-e0c45a0597c7"
      },
      "source": [
        "label_ranges2 = [0, 1, 2, 5, 10, np.inf]\r\n",
        "label_names2 = ['0-1', '1-2', '2-5', '6-10', '>11']\r\n",
        "\r\n",
        "new_df['years coding group'] = pd.cut(new_df['YearsCodePro'], bins = label_ranges2, labels = label_names2)\r\n",
        "new_df['years coding group'].value_counts(normalize=True, dropna=True).to_frame()"
      ],
      "execution_count": 168,
      "outputs": [
        {
          "output_type": "execute_result",
          "data": {
            "text/html": [
              "<div>\n",
              "<style scoped>\n",
              "    .dataframe tbody tr th:only-of-type {\n",
              "        vertical-align: middle;\n",
              "    }\n",
              "\n",
              "    .dataframe tbody tr th {\n",
              "        vertical-align: top;\n",
              "    }\n",
              "\n",
              "    .dataframe thead th {\n",
              "        text-align: right;\n",
              "    }\n",
              "</style>\n",
              "<table border=\"1\" class=\"dataframe\">\n",
              "  <thead>\n",
              "    <tr style=\"text-align: right;\">\n",
              "      <th></th>\n",
              "      <th>years coding group</th>\n",
              "    </tr>\n",
              "  </thead>\n",
              "  <tbody>\n",
              "    <tr>\n",
              "      <th>&gt;11</th>\n",
              "      <td>0.281705</td>\n",
              "    </tr>\n",
              "    <tr>\n",
              "      <th>2-5</th>\n",
              "      <td>0.269500</td>\n",
              "    </tr>\n",
              "    <tr>\n",
              "      <th>6-10</th>\n",
              "      <td>0.257488</td>\n",
              "    </tr>\n",
              "    <tr>\n",
              "      <th>1-2</th>\n",
              "      <td>0.098098</td>\n",
              "    </tr>\n",
              "    <tr>\n",
              "      <th>0-1</th>\n",
              "      <td>0.093209</td>\n",
              "    </tr>\n",
              "  </tbody>\n",
              "</table>\n",
              "</div>"
            ],
            "text/plain": [
              "      years coding group\n",
              ">11             0.281705\n",
              "2-5             0.269500\n",
              "6-10            0.257488\n",
              "1-2             0.098098\n",
              "0-1             0.093209"
            ]
          },
          "metadata": {
            "tags": []
          },
          "execution_count": 168
        }
      ]
    },
    {
      "cell_type": "markdown",
      "metadata": {
        "id": "bQiMRvnnpXf8"
      },
      "source": [
        "Looking to the tables above, we can note that we have more experienced developers in 2020 than in 2015."
      ]
    },
    {
      "cell_type": "markdown",
      "metadata": {
        "id": "7S0eoneVRMHb"
      },
      "source": [
        "**4.1 - Salary by years coding**"
      ]
    },
    {
      "cell_type": "markdown",
      "metadata": {
        "id": "2-qAYHEMRO-L"
      },
      "source": [
        "**2015**"
      ]
    },
    {
      "cell_type": "code",
      "metadata": {
        "colab": {
          "base_uri": "https://localhost:8080/",
          "height": 235
        },
        "id": "FhOk-yiCRFID",
        "outputId": "b56b1b2b-cf66-4b85-b086-549b72a43cc9"
      },
      "source": [
        "new_df2.groupby('Years IT / Programming Experience')['Compensation: midpoint'].mean().to_frame().sort_values(by='Compensation: midpoint', ascending=False)"
      ],
      "execution_count": 169,
      "outputs": [
        {
          "output_type": "execute_result",
          "data": {
            "text/html": [
              "<div>\n",
              "<style scoped>\n",
              "    .dataframe tbody tr th:only-of-type {\n",
              "        vertical-align: middle;\n",
              "    }\n",
              "\n",
              "    .dataframe tbody tr th {\n",
              "        vertical-align: top;\n",
              "    }\n",
              "\n",
              "    .dataframe thead th {\n",
              "        text-align: right;\n",
              "    }\n",
              "</style>\n",
              "<table border=\"1\" class=\"dataframe\">\n",
              "  <thead>\n",
              "    <tr style=\"text-align: right;\">\n",
              "      <th></th>\n",
              "      <th>Compensation: midpoint</th>\n",
              "    </tr>\n",
              "    <tr>\n",
              "      <th>Years IT / Programming Experience</th>\n",
              "      <th></th>\n",
              "    </tr>\n",
              "  </thead>\n",
              "  <tbody>\n",
              "    <tr>\n",
              "      <th>11+ years</th>\n",
              "      <td>86424.396442</td>\n",
              "    </tr>\n",
              "    <tr>\n",
              "      <th>6 - 10 years</th>\n",
              "      <td>56688.111888</td>\n",
              "    </tr>\n",
              "    <tr>\n",
              "      <th>2 - 5 years</th>\n",
              "      <td>34487.505294</td>\n",
              "    </tr>\n",
              "    <tr>\n",
              "      <th>1 - 2 years</th>\n",
              "      <td>21447.587354</td>\n",
              "    </tr>\n",
              "    <tr>\n",
              "      <th>Less than 1 year</th>\n",
              "      <td>16206.896552</td>\n",
              "    </tr>\n",
              "  </tbody>\n",
              "</table>\n",
              "</div>"
            ],
            "text/plain": [
              "                                   Compensation: midpoint\n",
              "Years IT / Programming Experience                        \n",
              "11+ years                                    86424.396442\n",
              "6 - 10 years                                 56688.111888\n",
              "2 - 5 years                                  34487.505294\n",
              "1 - 2 years                                  21447.587354\n",
              "Less than 1 year                             16206.896552"
            ]
          },
          "metadata": {
            "tags": []
          },
          "execution_count": 169
        }
      ]
    },
    {
      "cell_type": "markdown",
      "metadata": {
        "id": "dpnBTHX4VowW"
      },
      "source": [
        "**2020**"
      ]
    },
    {
      "cell_type": "code",
      "metadata": {
        "colab": {
          "base_uri": "https://localhost:8080/",
          "height": 235
        },
        "id": "Zy7cmINsRTgn",
        "outputId": "a1e29cf0-ef53-49c2-f63c-c569a1c5c094"
      },
      "source": [
        "new_df.groupby('years coding group')['ConvertedComp'].mean().to_frame().sort_values(by='ConvertedComp', ascending=False)"
      ],
      "execution_count": 170,
      "outputs": [
        {
          "output_type": "execute_result",
          "data": {
            "text/html": [
              "<div>\n",
              "<style scoped>\n",
              "    .dataframe tbody tr th:only-of-type {\n",
              "        vertical-align: middle;\n",
              "    }\n",
              "\n",
              "    .dataframe tbody tr th {\n",
              "        vertical-align: top;\n",
              "    }\n",
              "\n",
              "    .dataframe thead th {\n",
              "        text-align: right;\n",
              "    }\n",
              "</style>\n",
              "<table border=\"1\" class=\"dataframe\">\n",
              "  <thead>\n",
              "    <tr style=\"text-align: right;\">\n",
              "      <th></th>\n",
              "      <th>ConvertedComp</th>\n",
              "    </tr>\n",
              "    <tr>\n",
              "      <th>years coding group</th>\n",
              "      <th></th>\n",
              "    </tr>\n",
              "  </thead>\n",
              "  <tbody>\n",
              "    <tr>\n",
              "      <th>&gt;11</th>\n",
              "      <td>93689.592183</td>\n",
              "    </tr>\n",
              "    <tr>\n",
              "      <th>6-10</th>\n",
              "      <td>70842.828200</td>\n",
              "    </tr>\n",
              "    <tr>\n",
              "      <th>2-5</th>\n",
              "      <td>53703.797571</td>\n",
              "    </tr>\n",
              "    <tr>\n",
              "      <th>1-2</th>\n",
              "      <td>41782.736656</td>\n",
              "    </tr>\n",
              "    <tr>\n",
              "      <th>0-1</th>\n",
              "      <td>37692.946303</td>\n",
              "    </tr>\n",
              "  </tbody>\n",
              "</table>\n",
              "</div>"
            ],
            "text/plain": [
              "                    ConvertedComp\n",
              "years coding group               \n",
              ">11                  93689.592183\n",
              "6-10                 70842.828200\n",
              "2-5                  53703.797571\n",
              "1-2                  41782.736656\n",
              "0-1                  37692.946303"
            ]
          },
          "metadata": {
            "tags": []
          },
          "execution_count": 170
        }
      ]
    },
    {
      "cell_type": "markdown",
      "metadata": {
        "id": "RnPVn-UQV4_v"
      },
      "source": [
        "Comparing both samplings we do not see difference in the ranking, as expected, since higher is years of experience, the more we expect a higher salary. The only difference is in the salary in average for every group (higher for 2020)."
      ]
    },
    {
      "cell_type": "markdown",
      "metadata": {
        "id": "FULfCtgldFYz"
      },
      "source": [
        "##**Data Modeling**"
      ]
    },
    {
      "cell_type": "markdown",
      "metadata": {
        "id": "zGWBHJPMWfYZ"
      },
      "source": [
        "**Using a linear regression model including only the variables we separed previously, let's check which one is the most important in terms of affecting salaries**"
      ]
    },
    {
      "cell_type": "markdown",
      "metadata": {
        "id": "RGWpOh3jXY6t"
      },
      "source": [
        "**2015**"
      ]
    },
    {
      "cell_type": "markdown",
      "metadata": {
        "id": "AmgXs6IVXk2-"
      },
      "source": [
        "Since the dataframe of 2015 survey has its numeric variables separated into groups, we are going to get their midpoint and transform them into int numbers \r\n",
        "\r\n",
        "Obs: it is important to note that we are doing this as a simple analysis, in order to create a more efficient model to predict the salaries, we'd better analyze other points"
      ]
    },
    {
      "cell_type": "code",
      "metadata": {
        "colab": {
          "base_uri": "https://localhost:8080/"
        },
        "id": "7oiXUA-yVuS5",
        "outputId": "d07642f1-16f6-4a03-d4ad-faf8e6fb8eeb"
      },
      "source": [
        "#Age data of 2015\r\n",
        "\r\n",
        "new_df2['Age'].value_counts()"
      ],
      "execution_count": 172,
      "outputs": [
        {
          "output_type": "execute_result",
          "data": {
            "text/plain": [
              "25-29                     4195\n",
              "20-24                     3372\n",
              "30-34                     2821\n",
              "35-39                     1520\n",
              "40-50                     1283\n",
              "< 20                      1222\n",
              "51-60                      300\n",
              "Prefer not to disclose      69\n",
              "> 60                        36\n",
              "Name: Age, dtype: int64"
            ]
          },
          "metadata": {
            "tags": []
          },
          "execution_count": 172
        }
      ]
    },
    {
      "cell_type": "code",
      "metadata": {
        "colab": {
          "base_uri": "https://localhost:8080/"
        },
        "id": "kTFtHovGXXTf",
        "outputId": "85bcabfd-9244-4305-dd13-a9033ad778af"
      },
      "source": [
        "#Eliminating 'prefer not to disclose'\r\n",
        "\r\n",
        "new_df2 = new_df2[new_df2['Age'] != 'Prefer not to disclose']\r\n",
        "new_df2['Age'].value_counts()"
      ],
      "execution_count": 173,
      "outputs": [
        {
          "output_type": "execute_result",
          "data": {
            "text/plain": [
              "25-29    4195\n",
              "20-24    3372\n",
              "30-34    2821\n",
              "35-39    1520\n",
              "40-50    1283\n",
              "< 20     1222\n",
              "51-60     300\n",
              "> 60       36\n",
              "Name: Age, dtype: int64"
            ]
          },
          "metadata": {
            "tags": []
          },
          "execution_count": 173
        }
      ]
    },
    {
      "cell_type": "code",
      "metadata": {
        "id": "-FnDX82-XeVn"
      },
      "source": [
        "#Transforming to numerical and int data\r\n",
        "\r\n",
        "def label_age (row):\r\n",
        "\r\n",
        "'''\r\n",
        "    INPUT:\r\n",
        "    row - row of a dataframe column \"Age\"\r\n",
        "    \r\n",
        "    OUTPUT:\r\n",
        "    an integer - row value changed according to the input value \r\n",
        "    \r\n",
        "    Ex.: If 25-29 then 27; 30-34: 32 ;\r\n",
        "    20-24: 22 ; 35-39: 37 ; 40-50: 45; 51-60: 56;\r\n",
        "    < 20: 18; > 60: 60\r\n",
        "    '''\r\n",
        "\r\n",
        "  if row['Age'] == '25-29' :\r\n",
        "    return '27'\r\n",
        "  if row['Age'] == '30-34' :\r\n",
        "    return '32'\r\n",
        "  if row['Age'] == '20-24' :\r\n",
        "    return '22'\r\n",
        "  if row['Age'] == '35-39' :\r\n",
        "    return '37'\r\n",
        "  if row['Age'] == '40-50' :\r\n",
        "    return '45'\r\n",
        "  if row['Age'] == '51-60' :\r\n",
        "    return '56'\r\n",
        "  if row['Age'] == '< 20' :\r\n",
        "    return '18'\r\n",
        "  if row['Age'] == '> 60' :\r\n",
        "    return '60'"
      ],
      "execution_count": 174,
      "outputs": []
    },
    {
      "cell_type": "code",
      "metadata": {
        "colab": {
          "base_uri": "https://localhost:8080/",
          "height": 649
        },
        "id": "BN14cM2iY8xk",
        "outputId": "154a82df-183b-4c3b-f98a-e5fcb08995fb"
      },
      "source": [
        "new_df2['Age_midpoint'] = new_df2.apply (lambda row: label_age(row), axis=1)\r\n",
        "new_df2.head()"
      ],
      "execution_count": 175,
      "outputs": [
        {
          "output_type": "execute_result",
          "data": {
            "text/html": [
              "<div>\n",
              "<style scoped>\n",
              "    .dataframe tbody tr th:only-of-type {\n",
              "        vertical-align: middle;\n",
              "    }\n",
              "\n",
              "    .dataframe tbody tr th {\n",
              "        vertical-align: top;\n",
              "    }\n",
              "\n",
              "    .dataframe thead th {\n",
              "        text-align: right;\n",
              "    }\n",
              "</style>\n",
              "<table border=\"1\" class=\"dataframe\">\n",
              "  <thead>\n",
              "    <tr style=\"text-align: right;\">\n",
              "      <th></th>\n",
              "      <th>Country</th>\n",
              "      <th>Age</th>\n",
              "      <th>Years IT / Programming Experience</th>\n",
              "      <th>Compensation: midpoint</th>\n",
              "      <th>Training &amp; Education: No formal training</th>\n",
              "      <th>Training &amp; Education: On the job</th>\n",
              "      <th>Training &amp; Education: Boot camp or night school</th>\n",
              "      <th>Training &amp; Education: Online Class</th>\n",
              "      <th>Training &amp; Education: Mentorship</th>\n",
              "      <th>Training &amp; Education: Industry certification</th>\n",
              "      <th>Training &amp; Education: Some college, but no CS degree</th>\n",
              "      <th>Training &amp; Education: BS in CS</th>\n",
              "      <th>Training &amp; Education: Masters in CS</th>\n",
              "      <th>Training &amp; Education: PhD in CS</th>\n",
              "      <th>Training &amp; Education: Other</th>\n",
              "      <th>Age_midpoint</th>\n",
              "    </tr>\n",
              "  </thead>\n",
              "  <tbody>\n",
              "    <tr>\n",
              "      <th>1</th>\n",
              "      <td>France</td>\n",
              "      <td>20-24</td>\n",
              "      <td>1 - 2 years</td>\n",
              "      <td>30000</td>\n",
              "      <td>NaN</td>\n",
              "      <td>NaN</td>\n",
              "      <td>NaN</td>\n",
              "      <td>Online class (ie. Coursera, Codecademy, Khan A...</td>\n",
              "      <td>NaN</td>\n",
              "      <td>Industry certification program</td>\n",
              "      <td>NaN</td>\n",
              "      <td>NaN</td>\n",
              "      <td>Masters Degree in Computer Science (or related...</td>\n",
              "      <td>NaN</td>\n",
              "      <td>NaN</td>\n",
              "      <td>22</td>\n",
              "    </tr>\n",
              "    <tr>\n",
              "      <th>2</th>\n",
              "      <td>India</td>\n",
              "      <td>20-24</td>\n",
              "      <td>1 - 2 years</td>\n",
              "      <td>90000</td>\n",
              "      <td>NaN</td>\n",
              "      <td>NaN</td>\n",
              "      <td>NaN</td>\n",
              "      <td>NaN</td>\n",
              "      <td>Mentorship program (ie. Flatiron School, GDI, ...</td>\n",
              "      <td>NaN</td>\n",
              "      <td>NaN</td>\n",
              "      <td>NaN</td>\n",
              "      <td>NaN</td>\n",
              "      <td>NaN</td>\n",
              "      <td>NaN</td>\n",
              "      <td>22</td>\n",
              "    </tr>\n",
              "    <tr>\n",
              "      <th>4</th>\n",
              "      <td>Norway</td>\n",
              "      <td>30-34</td>\n",
              "      <td>2 - 5 years</td>\n",
              "      <td>70000</td>\n",
              "      <td>NaN</td>\n",
              "      <td>NaN</td>\n",
              "      <td>NaN</td>\n",
              "      <td>NaN</td>\n",
              "      <td>NaN</td>\n",
              "      <td>NaN</td>\n",
              "      <td>NaN</td>\n",
              "      <td>Bachelor of Science in Computer Science (or re...</td>\n",
              "      <td>NaN</td>\n",
              "      <td>NaN</td>\n",
              "      <td>NaN</td>\n",
              "      <td>32</td>\n",
              "    </tr>\n",
              "    <tr>\n",
              "      <th>7</th>\n",
              "      <td>Argentina</td>\n",
              "      <td>25-29</td>\n",
              "      <td>6 - 10 years</td>\n",
              "      <td>70000</td>\n",
              "      <td>NaN</td>\n",
              "      <td>On-the-job training</td>\n",
              "      <td>NaN</td>\n",
              "      <td>Online class (ie. Coursera, Codecademy, Khan A...</td>\n",
              "      <td>NaN</td>\n",
              "      <td>NaN</td>\n",
              "      <td>NaN</td>\n",
              "      <td>Bachelor of Science in Computer Science (or re...</td>\n",
              "      <td>Masters Degree in Computer Science (or related...</td>\n",
              "      <td>NaN</td>\n",
              "      <td>NaN</td>\n",
              "      <td>27</td>\n",
              "    </tr>\n",
              "    <tr>\n",
              "      <th>11</th>\n",
              "      <td>Belgium</td>\n",
              "      <td>25-29</td>\n",
              "      <td>2 - 5 years</td>\n",
              "      <td>30000</td>\n",
              "      <td>NaN</td>\n",
              "      <td>On-the-job training</td>\n",
              "      <td>NaN</td>\n",
              "      <td>Online class (ie. Coursera, Codecademy, Khan A...</td>\n",
              "      <td>NaN</td>\n",
              "      <td>NaN</td>\n",
              "      <td>NaN</td>\n",
              "      <td>Bachelor of Science in Computer Science (or re...</td>\n",
              "      <td>NaN</td>\n",
              "      <td>NaN</td>\n",
              "      <td>NaN</td>\n",
              "      <td>27</td>\n",
              "    </tr>\n",
              "  </tbody>\n",
              "</table>\n",
              "</div>"
            ],
            "text/plain": [
              "      Country    Age  ... Training & Education: Other  Age_midpoint\n",
              "1      France  20-24  ...                         NaN            22\n",
              "2       India  20-24  ...                         NaN            22\n",
              "4      Norway  30-34  ...                         NaN            32\n",
              "7   Argentina  25-29  ...                         NaN            27\n",
              "11    Belgium  25-29  ...                         NaN            27\n",
              "\n",
              "[5 rows x 16 columns]"
            ]
          },
          "metadata": {
            "tags": []
          },
          "execution_count": 175
        }
      ]
    },
    {
      "cell_type": "code",
      "metadata": {
        "colab": {
          "base_uri": "https://localhost:8080/"
        },
        "id": "8IHJ2ejeZA1i",
        "outputId": "dccf8fb4-c587-4010-d42c-a3e0f869f17b"
      },
      "source": [
        "#Dealing with years of experience\r\n",
        "\r\n",
        "new_df2['Years IT / Programming Experience'].value_counts()"
      ],
      "execution_count": 176,
      "outputs": [
        {
          "output_type": "execute_result",
          "data": {
            "text/plain": [
              "2 - 5 years         4704\n",
              "11+ years           3914\n",
              "6 - 10 years        3565\n",
              "1 - 2 years         1789\n",
              "Less than 1 year     777\n",
              "Name: Years IT / Programming Experience, dtype: int64"
            ]
          },
          "metadata": {
            "tags": []
          },
          "execution_count": 176
        }
      ]
    },
    {
      "cell_type": "code",
      "metadata": {
        "id": "nrg8QvvOZE4K"
      },
      "source": [
        "def label_yearscod (row):\r\n",
        "\r\n",
        " '''\r\n",
        "    INPUT:\r\n",
        "    row - row of a dataframe column \"Years IT / Programming Experience\"\r\n",
        "    \r\n",
        "    OUTPUT:\r\n",
        "    an integer - row value changed according to the input value \r\n",
        "    \r\n",
        "    Ex.: If 11+ years then 11; 2 - 5 years: 4 ;\r\n",
        "    6 - 10 years: 8 ; 1 - 2 years: 2 ; Less than 1 year: 1\r\n",
        "    '''\r\n",
        "\r\n",
        "  if row['Years IT / Programming Experience'] == '11+ years' :\r\n",
        "    return '11'\r\n",
        "  if row['Years IT / Programming Experience'] == '2 - 5 years' :\r\n",
        "    return '4'\r\n",
        "  if row['Years IT / Programming Experience'] == '6 - 10 years' :\r\n",
        "    return '8'\r\n",
        "  if row['Years IT / Programming Experience'] == '1 - 2 years' :\r\n",
        "    return '2'\r\n",
        "  if row['Years IT / Programming Experience'] == 'Less than 1 year' :\r\n",
        "    return '1'"
      ],
      "execution_count": 177,
      "outputs": []
    },
    {
      "cell_type": "code",
      "metadata": {
        "colab": {
          "base_uri": "https://localhost:8080/",
          "height": 649
        },
        "id": "Sae477bBZT8p",
        "outputId": "66465605-454e-47f0-e0bf-36e3758cd578"
      },
      "source": [
        "new_df2['yearscod_midpoint'] = new_df2.apply (lambda row: label_yearscod(row), axis=1)\r\n",
        "new_df2.head()"
      ],
      "execution_count": 178,
      "outputs": [
        {
          "output_type": "execute_result",
          "data": {
            "text/html": [
              "<div>\n",
              "<style scoped>\n",
              "    .dataframe tbody tr th:only-of-type {\n",
              "        vertical-align: middle;\n",
              "    }\n",
              "\n",
              "    .dataframe tbody tr th {\n",
              "        vertical-align: top;\n",
              "    }\n",
              "\n",
              "    .dataframe thead th {\n",
              "        text-align: right;\n",
              "    }\n",
              "</style>\n",
              "<table border=\"1\" class=\"dataframe\">\n",
              "  <thead>\n",
              "    <tr style=\"text-align: right;\">\n",
              "      <th></th>\n",
              "      <th>Country</th>\n",
              "      <th>Age</th>\n",
              "      <th>Years IT / Programming Experience</th>\n",
              "      <th>Compensation: midpoint</th>\n",
              "      <th>Training &amp; Education: No formal training</th>\n",
              "      <th>Training &amp; Education: On the job</th>\n",
              "      <th>Training &amp; Education: Boot camp or night school</th>\n",
              "      <th>Training &amp; Education: Online Class</th>\n",
              "      <th>Training &amp; Education: Mentorship</th>\n",
              "      <th>Training &amp; Education: Industry certification</th>\n",
              "      <th>Training &amp; Education: Some college, but no CS degree</th>\n",
              "      <th>Training &amp; Education: BS in CS</th>\n",
              "      <th>Training &amp; Education: Masters in CS</th>\n",
              "      <th>Training &amp; Education: PhD in CS</th>\n",
              "      <th>Training &amp; Education: Other</th>\n",
              "      <th>Age_midpoint</th>\n",
              "      <th>yearscod_midpoint</th>\n",
              "    </tr>\n",
              "  </thead>\n",
              "  <tbody>\n",
              "    <tr>\n",
              "      <th>1</th>\n",
              "      <td>France</td>\n",
              "      <td>20-24</td>\n",
              "      <td>1 - 2 years</td>\n",
              "      <td>30000</td>\n",
              "      <td>NaN</td>\n",
              "      <td>NaN</td>\n",
              "      <td>NaN</td>\n",
              "      <td>Online class (ie. Coursera, Codecademy, Khan A...</td>\n",
              "      <td>NaN</td>\n",
              "      <td>Industry certification program</td>\n",
              "      <td>NaN</td>\n",
              "      <td>NaN</td>\n",
              "      <td>Masters Degree in Computer Science (or related...</td>\n",
              "      <td>NaN</td>\n",
              "      <td>NaN</td>\n",
              "      <td>22</td>\n",
              "      <td>2</td>\n",
              "    </tr>\n",
              "    <tr>\n",
              "      <th>2</th>\n",
              "      <td>India</td>\n",
              "      <td>20-24</td>\n",
              "      <td>1 - 2 years</td>\n",
              "      <td>90000</td>\n",
              "      <td>NaN</td>\n",
              "      <td>NaN</td>\n",
              "      <td>NaN</td>\n",
              "      <td>NaN</td>\n",
              "      <td>Mentorship program (ie. Flatiron School, GDI, ...</td>\n",
              "      <td>NaN</td>\n",
              "      <td>NaN</td>\n",
              "      <td>NaN</td>\n",
              "      <td>NaN</td>\n",
              "      <td>NaN</td>\n",
              "      <td>NaN</td>\n",
              "      <td>22</td>\n",
              "      <td>2</td>\n",
              "    </tr>\n",
              "    <tr>\n",
              "      <th>4</th>\n",
              "      <td>Norway</td>\n",
              "      <td>30-34</td>\n",
              "      <td>2 - 5 years</td>\n",
              "      <td>70000</td>\n",
              "      <td>NaN</td>\n",
              "      <td>NaN</td>\n",
              "      <td>NaN</td>\n",
              "      <td>NaN</td>\n",
              "      <td>NaN</td>\n",
              "      <td>NaN</td>\n",
              "      <td>NaN</td>\n",
              "      <td>Bachelor of Science in Computer Science (or re...</td>\n",
              "      <td>NaN</td>\n",
              "      <td>NaN</td>\n",
              "      <td>NaN</td>\n",
              "      <td>32</td>\n",
              "      <td>4</td>\n",
              "    </tr>\n",
              "    <tr>\n",
              "      <th>7</th>\n",
              "      <td>Argentina</td>\n",
              "      <td>25-29</td>\n",
              "      <td>6 - 10 years</td>\n",
              "      <td>70000</td>\n",
              "      <td>NaN</td>\n",
              "      <td>On-the-job training</td>\n",
              "      <td>NaN</td>\n",
              "      <td>Online class (ie. Coursera, Codecademy, Khan A...</td>\n",
              "      <td>NaN</td>\n",
              "      <td>NaN</td>\n",
              "      <td>NaN</td>\n",
              "      <td>Bachelor of Science in Computer Science (or re...</td>\n",
              "      <td>Masters Degree in Computer Science (or related...</td>\n",
              "      <td>NaN</td>\n",
              "      <td>NaN</td>\n",
              "      <td>27</td>\n",
              "      <td>8</td>\n",
              "    </tr>\n",
              "    <tr>\n",
              "      <th>11</th>\n",
              "      <td>Belgium</td>\n",
              "      <td>25-29</td>\n",
              "      <td>2 - 5 years</td>\n",
              "      <td>30000</td>\n",
              "      <td>NaN</td>\n",
              "      <td>On-the-job training</td>\n",
              "      <td>NaN</td>\n",
              "      <td>Online class (ie. Coursera, Codecademy, Khan A...</td>\n",
              "      <td>NaN</td>\n",
              "      <td>NaN</td>\n",
              "      <td>NaN</td>\n",
              "      <td>Bachelor of Science in Computer Science (or re...</td>\n",
              "      <td>NaN</td>\n",
              "      <td>NaN</td>\n",
              "      <td>NaN</td>\n",
              "      <td>27</td>\n",
              "      <td>4</td>\n",
              "    </tr>\n",
              "  </tbody>\n",
              "</table>\n",
              "</div>"
            ],
            "text/plain": [
              "      Country    Age  ... Age_midpoint  yearscod_midpoint\n",
              "1      France  20-24  ...           22                  2\n",
              "2       India  20-24  ...           22                  2\n",
              "4      Norway  30-34  ...           32                  4\n",
              "7   Argentina  25-29  ...           27                  8\n",
              "11    Belgium  25-29  ...           27                  4\n",
              "\n",
              "[5 rows x 17 columns]"
            ]
          },
          "metadata": {
            "tags": []
          },
          "execution_count": 178
        }
      ]
    },
    {
      "cell_type": "code",
      "metadata": {
        "colab": {
          "base_uri": "https://localhost:8080/",
          "height": 297
        },
        "id": "NaSm6dHDZVcD",
        "outputId": "128e3bd9-f822-4fa3-d72f-06eefdb4631e"
      },
      "source": [
        "new_df2['yearscod_midpoint'] = new_df2['yearscod_midpoint'].astype('int')\r\n",
        "new_df2['Age_midpoint'] = new_df2['Age_midpoint'].astype('int')\r\n",
        "new_df2.describe()"
      ],
      "execution_count": 179,
      "outputs": [
        {
          "output_type": "execute_result",
          "data": {
            "text/html": [
              "<div>\n",
              "<style scoped>\n",
              "    .dataframe tbody tr th:only-of-type {\n",
              "        vertical-align: middle;\n",
              "    }\n",
              "\n",
              "    .dataframe tbody tr th {\n",
              "        vertical-align: top;\n",
              "    }\n",
              "\n",
              "    .dataframe thead th {\n",
              "        text-align: right;\n",
              "    }\n",
              "</style>\n",
              "<table border=\"1\" class=\"dataframe\">\n",
              "  <thead>\n",
              "    <tr style=\"text-align: right;\">\n",
              "      <th></th>\n",
              "      <th>Compensation: midpoint</th>\n",
              "      <th>Age_midpoint</th>\n",
              "      <th>yearscod_midpoint</th>\n",
              "    </tr>\n",
              "  </thead>\n",
              "  <tbody>\n",
              "    <tr>\n",
              "      <th>count</th>\n",
              "      <td>14749.000000</td>\n",
              "      <td>14749.000000</td>\n",
              "      <td>14749.000000</td>\n",
              "    </tr>\n",
              "    <tr>\n",
              "      <th>mean</th>\n",
              "      <td>51073.971117</td>\n",
              "      <td>29.334328</td>\n",
              "      <td>6.423825</td>\n",
              "    </tr>\n",
              "    <tr>\n",
              "      <th>std</th>\n",
              "      <td>44154.956432</td>\n",
              "      <td>8.367712</td>\n",
              "      <td>3.457731</td>\n",
              "    </tr>\n",
              "    <tr>\n",
              "      <th>min</th>\n",
              "      <td>0.000000</td>\n",
              "      <td>18.000000</td>\n",
              "      <td>1.000000</td>\n",
              "    </tr>\n",
              "    <tr>\n",
              "      <th>25%</th>\n",
              "      <td>10000.000000</td>\n",
              "      <td>22.000000</td>\n",
              "      <td>4.000000</td>\n",
              "    </tr>\n",
              "    <tr>\n",
              "      <th>50%</th>\n",
              "      <td>50000.000000</td>\n",
              "      <td>27.000000</td>\n",
              "      <td>8.000000</td>\n",
              "    </tr>\n",
              "    <tr>\n",
              "      <th>75%</th>\n",
              "      <td>70000.000000</td>\n",
              "      <td>32.000000</td>\n",
              "      <td>11.000000</td>\n",
              "    </tr>\n",
              "    <tr>\n",
              "      <th>max</th>\n",
              "      <td>170000.000000</td>\n",
              "      <td>60.000000</td>\n",
              "      <td>11.000000</td>\n",
              "    </tr>\n",
              "  </tbody>\n",
              "</table>\n",
              "</div>"
            ],
            "text/plain": [
              "       Compensation: midpoint  Age_midpoint  yearscod_midpoint\n",
              "count            14749.000000  14749.000000       14749.000000\n",
              "mean             51073.971117     29.334328           6.423825\n",
              "std              44154.956432      8.367712           3.457731\n",
              "min                  0.000000     18.000000           1.000000\n",
              "25%              10000.000000     22.000000           4.000000\n",
              "50%              50000.000000     27.000000           8.000000\n",
              "75%              70000.000000     32.000000          11.000000\n",
              "max             170000.000000     60.000000          11.000000"
            ]
          },
          "metadata": {
            "tags": []
          },
          "execution_count": 179
        }
      ]
    },
    {
      "cell_type": "code",
      "metadata": {
        "id": "FkS14Bo9Zbiv"
      },
      "source": [
        "#Working with categorical variables\r\n",
        "\r\n",
        "new_df2_cat = pd.get_dummies(new_df2[['Training & Education: No formal training',\r\n",
        "       'Training & Education: On the job',\r\n",
        "       'Training & Education: Boot camp or night school',\r\n",
        "       'Training & Education: Online Class',\r\n",
        "       'Training & Education: Mentorship',\r\n",
        "       'Training & Education: Industry certification',\r\n",
        "       'Training & Education: Some college, but no CS degree',\r\n",
        "       'Training & Education: BS in CS', 'Training & Education: Masters in CS',\r\n",
        "       'Training & Education: PhD in CS', 'Training & Education: Other']])"
      ],
      "execution_count": 180,
      "outputs": []
    },
    {
      "cell_type": "code",
      "metadata": {
        "id": "3Gak0lyJZwgN"
      },
      "source": [
        "new_df2_cat2 = pd.get_dummies(new_df2['Country'], drop_first=True)"
      ],
      "execution_count": 181,
      "outputs": []
    },
    {
      "cell_type": "code",
      "metadata": {
        "id": "hQzgBLUCZw7m"
      },
      "source": [
        "X = pd.concat([new_df2[['yearscod_midpoint', 'Age_midpoint']], new_df2_cat, new_df2_cat2], axis=1)\r\n",
        "y = new_df2['Compensation: midpoint']"
      ],
      "execution_count": 182,
      "outputs": []
    },
    {
      "cell_type": "code",
      "metadata": {
        "id": "sTri_uQcZ5Bd"
      },
      "source": [
        "X_train, X_test, y_train, y_test = train_test_split(X, y, test_size = .30, random_state=42) "
      ],
      "execution_count": 183,
      "outputs": []
    },
    {
      "cell_type": "code",
      "metadata": {
        "colab": {
          "base_uri": "https://localhost:8080/"
        },
        "id": "568J5S-oZ77U",
        "outputId": "ea905910-e499-451c-9fa7-aace08c2a821"
      },
      "source": [
        "#Apply a linear regression model\r\n",
        "\r\n",
        "lm_model = LinearRegression(normalize=True) # Instantiate\r\n",
        "lm_model.fit(X_train, y_train) #Fit\r\n",
        "\r\n",
        "y_test_preds = lm_model.predict(X_test) \r\n",
        "\r\n",
        "print(r2_score(y_test, y_test_preds))"
      ],
      "execution_count": 184,
      "outputs": [
        {
          "output_type": "stream",
          "text": [
            "0.5517128475053994\n"
          ],
          "name": "stdout"
        }
      ]
    },
    {
      "cell_type": "code",
      "metadata": {
        "id": "GesMwO0QaPjG"
      },
      "source": [
        "#Function to analyze the coefs that affects the salary the most\r\n",
        "\r\n",
        "def coef_weights(coefficients, X_train):\r\n",
        "    '''\r\n",
        "    INPUT:\r\n",
        "    coefficients - the coefficients of the linear model \r\n",
        "    X_train - the training data, so the column names can be used\r\n",
        "    OUTPUT:\r\n",
        "    coefs_df - a dataframe holding the coefficient, estimate, and abs(estimate)\r\n",
        "    \r\n",
        "    Provides a dataframe that can be used to understand the most influential coefficients\r\n",
        "    in a linear model by providing the coefficient estimates along with the name of the \r\n",
        "    variable attached to the coefficient.\r\n",
        "    '''\r\n",
        "    coefs_df = pd.DataFrame()\r\n",
        "    coefs_df['est_int'] = X_train.columns\r\n",
        "    coefs_df['coefs'] = lm_model.coef_\r\n",
        "    coefs_df['abs_coefs'] = np.abs(lm_model.coef_)\r\n",
        "    coefs_df = coefs_df.sort_values('abs_coefs', ascending=False)\r\n",
        "    return coefs_df"
      ],
      "execution_count": 185,
      "outputs": []
    },
    {
      "cell_type": "code",
      "metadata": {
        "colab": {
          "base_uri": "https://localhost:8080/",
          "height": 669
        },
        "id": "XvR_ZatKad_l",
        "outputId": "ad9b76f8-14f9-41f5-ae16-1ec4921d6f8b"
      },
      "source": [
        "#Use the function\r\n",
        "coef_df = coef_weights(lm_model.coef_, X_train)\r\n",
        "\r\n",
        "#A quick look at the top results\r\n",
        "coef_df.head(20)"
      ],
      "execution_count": 186,
      "outputs": [
        {
          "output_type": "execute_result",
          "data": {
            "text/html": [
              "<div>\n",
              "<style scoped>\n",
              "    .dataframe tbody tr th:only-of-type {\n",
              "        vertical-align: middle;\n",
              "    }\n",
              "\n",
              "    .dataframe tbody tr th {\n",
              "        vertical-align: top;\n",
              "    }\n",
              "\n",
              "    .dataframe thead th {\n",
              "        text-align: right;\n",
              "    }\n",
              "</style>\n",
              "<table border=\"1\" class=\"dataframe\">\n",
              "  <thead>\n",
              "    <tr style=\"text-align: right;\">\n",
              "      <th></th>\n",
              "      <th>est_int</th>\n",
              "      <th>coefs</th>\n",
              "      <th>abs_coefs</th>\n",
              "    </tr>\n",
              "  </thead>\n",
              "  <tbody>\n",
              "    <tr>\n",
              "      <th>41</th>\n",
              "      <td>Switzerland</td>\n",
              "      <td>53558.069338</td>\n",
              "      <td>53558.069338</td>\n",
              "    </tr>\n",
              "    <tr>\n",
              "      <th>45</th>\n",
              "      <td>United States</td>\n",
              "      <td>51810.571930</td>\n",
              "      <td>51810.571930</td>\n",
              "    </tr>\n",
              "    <tr>\n",
              "      <th>13</th>\n",
              "      <td>Australia</td>\n",
              "      <td>45546.489698</td>\n",
              "      <td>45546.489698</td>\n",
              "    </tr>\n",
              "    <tr>\n",
              "      <th>34</th>\n",
              "      <td>Norway</td>\n",
              "      <td>45021.522245</td>\n",
              "      <td>45021.522245</td>\n",
              "    </tr>\n",
              "    <tr>\n",
              "      <th>20</th>\n",
              "      <td>Denmark</td>\n",
              "      <td>39368.581940</td>\n",
              "      <td>39368.581940</td>\n",
              "    </tr>\n",
              "    <tr>\n",
              "      <th>29</th>\n",
              "      <td>Israel</td>\n",
              "      <td>36885.007326</td>\n",
              "      <td>36885.007326</td>\n",
              "    </tr>\n",
              "    <tr>\n",
              "      <th>17</th>\n",
              "      <td>Canada</td>\n",
              "      <td>36088.479582</td>\n",
              "      <td>36088.479582</td>\n",
              "    </tr>\n",
              "    <tr>\n",
              "      <th>44</th>\n",
              "      <td>United Kingdom</td>\n",
              "      <td>35562.229294</td>\n",
              "      <td>35562.229294</td>\n",
              "    </tr>\n",
              "    <tr>\n",
              "      <th>28</th>\n",
              "      <td>Ireland {Republic}</td>\n",
              "      <td>30334.974673</td>\n",
              "      <td>30334.974673</td>\n",
              "    </tr>\n",
              "    <tr>\n",
              "      <th>33</th>\n",
              "      <td>New Zealand</td>\n",
              "      <td>29627.334385</td>\n",
              "      <td>29627.334385</td>\n",
              "    </tr>\n",
              "    <tr>\n",
              "      <th>40</th>\n",
              "      <td>Sweden</td>\n",
              "      <td>23752.965342</td>\n",
              "      <td>23752.965342</td>\n",
              "    </tr>\n",
              "    <tr>\n",
              "      <th>23</th>\n",
              "      <td>Germany</td>\n",
              "      <td>23267.924333</td>\n",
              "      <td>23267.924333</td>\n",
              "    </tr>\n",
              "    <tr>\n",
              "      <th>14</th>\n",
              "      <td>Austria</td>\n",
              "      <td>20534.983494</td>\n",
              "      <td>20534.983494</td>\n",
              "    </tr>\n",
              "    <tr>\n",
              "      <th>32</th>\n",
              "      <td>Netherlands</td>\n",
              "      <td>20468.235739</td>\n",
              "      <td>20468.235739</td>\n",
              "    </tr>\n",
              "    <tr>\n",
              "      <th>15</th>\n",
              "      <td>Belgium</td>\n",
              "      <td>18639.706346</td>\n",
              "      <td>18639.706346</td>\n",
              "    </tr>\n",
              "    <tr>\n",
              "      <th>18</th>\n",
              "      <td>China</td>\n",
              "      <td>18334.632902</td>\n",
              "      <td>18334.632902</td>\n",
              "    </tr>\n",
              "    <tr>\n",
              "      <th>21</th>\n",
              "      <td>Finland</td>\n",
              "      <td>17472.783088</td>\n",
              "      <td>17472.783088</td>\n",
              "    </tr>\n",
              "    <tr>\n",
              "      <th>22</th>\n",
              "      <td>France</td>\n",
              "      <td>16665.887527</td>\n",
              "      <td>16665.887527</td>\n",
              "    </tr>\n",
              "    <tr>\n",
              "      <th>26</th>\n",
              "      <td>India</td>\n",
              "      <td>10170.310492</td>\n",
              "      <td>10170.310492</td>\n",
              "    </tr>\n",
              "    <tr>\n",
              "      <th>43</th>\n",
              "      <td>Ukraine</td>\n",
              "      <td>9012.260171</td>\n",
              "      <td>9012.260171</td>\n",
              "    </tr>\n",
              "  </tbody>\n",
              "</table>\n",
              "</div>"
            ],
            "text/plain": [
              "               est_int         coefs     abs_coefs\n",
              "41         Switzerland  53558.069338  53558.069338\n",
              "45       United States  51810.571930  51810.571930\n",
              "13           Australia  45546.489698  45546.489698\n",
              "34              Norway  45021.522245  45021.522245\n",
              "20             Denmark  39368.581940  39368.581940\n",
              "29              Israel  36885.007326  36885.007326\n",
              "17              Canada  36088.479582  36088.479582\n",
              "44      United Kingdom  35562.229294  35562.229294\n",
              "28  Ireland {Republic}  30334.974673  30334.974673\n",
              "33         New Zealand  29627.334385  29627.334385\n",
              "40              Sweden  23752.965342  23752.965342\n",
              "23             Germany  23267.924333  23267.924333\n",
              "14             Austria  20534.983494  20534.983494\n",
              "32         Netherlands  20468.235739  20468.235739\n",
              "15             Belgium  18639.706346  18639.706346\n",
              "18               China  18334.632902  18334.632902\n",
              "21             Finland  17472.783088  17472.783088\n",
              "22              France  16665.887527  16665.887527\n",
              "26               India  10170.310492  10170.310492\n",
              "43             Ukraine   9012.260171   9012.260171"
            ]
          },
          "metadata": {
            "tags": []
          },
          "execution_count": 186
        }
      ]
    },
    {
      "cell_type": "markdown",
      "metadata": {
        "id": "OwfoTgssadNF"
      },
      "source": [
        "**2020**"
      ]
    },
    {
      "cell_type": "code",
      "metadata": {
        "id": "gUt_XgodatlZ"
      },
      "source": [
        "#working with categorical\r\n",
        "\r\n",
        "new_df_cat = pd.get_dummies(new_df[['EdLevel','Country']], drop_first=True)"
      ],
      "execution_count": 187,
      "outputs": []
    },
    {
      "cell_type": "code",
      "metadata": {
        "id": "W2wTu5exax-o"
      },
      "source": [
        "X = pd.concat([new_df[['Age', 'YearsCodePro']], new_df_cat], axis=1)\r\n",
        "y = new_df['ConvertedComp']"
      ],
      "execution_count": 188,
      "outputs": []
    },
    {
      "cell_type": "code",
      "metadata": {
        "colab": {
          "base_uri": "https://localhost:8080/"
        },
        "id": "rZ0sikI9az5z",
        "outputId": "286a7468-dd14-486e-d6af-e8b9793c6731"
      },
      "source": [
        "#Apply linear regression model\r\n",
        "\r\n",
        "X_train, X_test, y_train, y_test = train_test_split(X, y, test_size = .30, random_state=42) \r\n",
        "\r\n",
        "lm_model = LinearRegression(normalize=True) # Instantiate\r\n",
        "lm_model.fit(X_train, y_train) #Fit\r\n",
        "\r\n",
        "y_test_preds = lm_model.predict(X_test) \r\n",
        "\r\n",
        "print(r2_score(y_test, y_test_preds))"
      ],
      "execution_count": 189,
      "outputs": [
        {
          "output_type": "stream",
          "text": [
            "0.5322057233417667\n"
          ],
          "name": "stdout"
        }
      ]
    },
    {
      "cell_type": "code",
      "metadata": {
        "colab": {
          "base_uri": "https://localhost:8080/",
          "height": 669
        },
        "id": "sNJsSI7ua7zm",
        "outputId": "bb9836da-aea6-4ee1-f6d1-35a4343815a7"
      },
      "source": [
        "coef_df = coef_weights(lm_model.coef_, X_train)\r\n",
        "\r\n",
        "#A quick look at the top results\r\n",
        "coef_df.head(20)"
      ],
      "execution_count": 190,
      "outputs": [
        {
          "output_type": "execute_result",
          "data": {
            "text/html": [
              "<div>\n",
              "<style scoped>\n",
              "    .dataframe tbody tr th:only-of-type {\n",
              "        vertical-align: middle;\n",
              "    }\n",
              "\n",
              "    .dataframe tbody tr th {\n",
              "        vertical-align: top;\n",
              "    }\n",
              "\n",
              "    .dataframe thead th {\n",
              "        text-align: right;\n",
              "    }\n",
              "</style>\n",
              "<table border=\"1\" class=\"dataframe\">\n",
              "  <thead>\n",
              "    <tr style=\"text-align: right;\">\n",
              "      <th></th>\n",
              "      <th>est_int</th>\n",
              "      <th>coefs</th>\n",
              "      <th>abs_coefs</th>\n",
              "    </tr>\n",
              "  </thead>\n",
              "  <tbody>\n",
              "    <tr>\n",
              "      <th>52</th>\n",
              "      <td>Country_United States</td>\n",
              "      <td>90333.344912</td>\n",
              "      <td>90333.344912</td>\n",
              "    </tr>\n",
              "    <tr>\n",
              "      <th>29</th>\n",
              "      <td>Country_Israel</td>\n",
              "      <td>77415.876826</td>\n",
              "      <td>77415.876826</td>\n",
              "    </tr>\n",
              "    <tr>\n",
              "      <th>48</th>\n",
              "      <td>Country_Switzerland</td>\n",
              "      <td>72362.477989</td>\n",
              "      <td>72362.477989</td>\n",
              "    </tr>\n",
              "    <tr>\n",
              "      <th>19</th>\n",
              "      <td>Country_Denmark</td>\n",
              "      <td>54897.698429</td>\n",
              "      <td>54897.698429</td>\n",
              "    </tr>\n",
              "    <tr>\n",
              "      <th>28</th>\n",
              "      <td>Country_Ireland</td>\n",
              "      <td>53858.710115</td>\n",
              "      <td>53858.710115</td>\n",
              "    </tr>\n",
              "    <tr>\n",
              "      <th>37</th>\n",
              "      <td>Country_Norway</td>\n",
              "      <td>52022.237657</td>\n",
              "      <td>52022.237657</td>\n",
              "    </tr>\n",
              "    <tr>\n",
              "      <th>10</th>\n",
              "      <td>Country_Australia</td>\n",
              "      <td>49713.055963</td>\n",
              "      <td>49713.055963</td>\n",
              "    </tr>\n",
              "    <tr>\n",
              "      <th>51</th>\n",
              "      <td>Country_United Kingdom</td>\n",
              "      <td>47124.681609</td>\n",
              "      <td>47124.681609</td>\n",
              "    </tr>\n",
              "    <tr>\n",
              "      <th>16</th>\n",
              "      <td>Country_Canada</td>\n",
              "      <td>46017.842555</td>\n",
              "      <td>46017.842555</td>\n",
              "    </tr>\n",
              "    <tr>\n",
              "      <th>31</th>\n",
              "      <td>Country_Japan</td>\n",
              "      <td>41486.947878</td>\n",
              "      <td>41486.947878</td>\n",
              "    </tr>\n",
              "    <tr>\n",
              "      <th>22</th>\n",
              "      <td>Country_Germany</td>\n",
              "      <td>38962.057141</td>\n",
              "      <td>38962.057141</td>\n",
              "    </tr>\n",
              "    <tr>\n",
              "      <th>35</th>\n",
              "      <td>Country_New Zealand</td>\n",
              "      <td>38796.242234</td>\n",
              "      <td>38796.242234</td>\n",
              "    </tr>\n",
              "    <tr>\n",
              "      <th>34</th>\n",
              "      <td>Country_Netherlands</td>\n",
              "      <td>38152.927588</td>\n",
              "      <td>38152.927588</td>\n",
              "    </tr>\n",
              "    <tr>\n",
              "      <th>20</th>\n",
              "      <td>Country_Finland</td>\n",
              "      <td>31746.717026</td>\n",
              "      <td>31746.717026</td>\n",
              "    </tr>\n",
              "    <tr>\n",
              "      <th>47</th>\n",
              "      <td>Country_Sweden</td>\n",
              "      <td>31007.711195</td>\n",
              "      <td>31007.711195</td>\n",
              "    </tr>\n",
              "    <tr>\n",
              "      <th>13</th>\n",
              "      <td>Country_Belgium</td>\n",
              "      <td>30844.421189</td>\n",
              "      <td>30844.421189</td>\n",
              "    </tr>\n",
              "    <tr>\n",
              "      <th>11</th>\n",
              "      <td>Country_Austria</td>\n",
              "      <td>29454.016302</td>\n",
              "      <td>29454.016302</td>\n",
              "    </tr>\n",
              "    <tr>\n",
              "      <th>21</th>\n",
              "      <td>Country_France</td>\n",
              "      <td>24448.961163</td>\n",
              "      <td>24448.961163</td>\n",
              "    </tr>\n",
              "    <tr>\n",
              "      <th>32</th>\n",
              "      <td>Country_Lithuania</td>\n",
              "      <td>23350.584504</td>\n",
              "      <td>23350.584504</td>\n",
              "    </tr>\n",
              "    <tr>\n",
              "      <th>46</th>\n",
              "      <td>Country_Spain</td>\n",
              "      <td>22390.578995</td>\n",
              "      <td>22390.578995</td>\n",
              "    </tr>\n",
              "  </tbody>\n",
              "</table>\n",
              "</div>"
            ],
            "text/plain": [
              "                   est_int         coefs     abs_coefs\n",
              "52   Country_United States  90333.344912  90333.344912\n",
              "29          Country_Israel  77415.876826  77415.876826\n",
              "48     Country_Switzerland  72362.477989  72362.477989\n",
              "19         Country_Denmark  54897.698429  54897.698429\n",
              "28         Country_Ireland  53858.710115  53858.710115\n",
              "37          Country_Norway  52022.237657  52022.237657\n",
              "10       Country_Australia  49713.055963  49713.055963\n",
              "51  Country_United Kingdom  47124.681609  47124.681609\n",
              "16          Country_Canada  46017.842555  46017.842555\n",
              "31           Country_Japan  41486.947878  41486.947878\n",
              "22         Country_Germany  38962.057141  38962.057141\n",
              "35     Country_New Zealand  38796.242234  38796.242234\n",
              "34     Country_Netherlands  38152.927588  38152.927588\n",
              "20         Country_Finland  31746.717026  31746.717026\n",
              "47          Country_Sweden  31007.711195  31007.711195\n",
              "13         Country_Belgium  30844.421189  30844.421189\n",
              "11         Country_Austria  29454.016302  29454.016302\n",
              "21          Country_France  24448.961163  24448.961163\n",
              "32       Country_Lithuania  23350.584504  23350.584504\n",
              "46           Country_Spain  22390.578995  22390.578995"
            ]
          },
          "metadata": {
            "tags": []
          },
          "execution_count": 190
        }
      ]
    },
    {
      "cell_type": "markdown",
      "metadata": {
        "id": "CjMVSyw9zDOl"
      },
      "source": [
        "##**Evaluating our model**"
      ]
    },
    {
      "cell_type": "markdown",
      "metadata": {
        "id": "hICVIdU9bGUo"
      },
      "source": [
        "Looking into this comparison, coefficients from 2015 and 2020, we can note that Country was the most important variable to influence the salaries - **according to the variables chosen in this model.**\r\n",
        "\r\n",
        "In order to predict salaries, we built a model of 0.552 of r2 score for 2015 data, and 0.532 for 2020 data.\r\n",
        "\r\n",
        "Obs.: It is important to remember once more that our focus here is not to create the best model to predict salaries. We should analyze other factors if this was the case. For example, Age and years coding are very correlated variables, and we could eliminate one of them, but we decided to keep both since, as mentioned, the focus is not create a model to predict salaries, but rather compare 2015 data with 2020.  "
      ]
    },
    {
      "cell_type": "code",
      "metadata": {
        "id": "-5HQOrrHa8mq"
      },
      "source": [
        ""
      ],
      "execution_count": null,
      "outputs": []
    }
  ]
}