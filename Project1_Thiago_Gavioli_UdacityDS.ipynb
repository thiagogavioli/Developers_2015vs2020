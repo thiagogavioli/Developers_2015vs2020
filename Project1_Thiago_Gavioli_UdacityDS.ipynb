{
  "nbformat": 4,
  "nbformat_minor": 0,
  "metadata": {
    "colab": {
      "name": "Project1_Thiago_Gavioli_UdacityDS.ipynb",
      "provenance": []
    },
    "kernelspec": {
      "name": "python3",
      "display_name": "Python 3"
    }
  },
  "cells": [
    {
      "cell_type": "markdown",
      "metadata": {
        "id": "3ivbmWQMdGWi"
      },
      "source": [
        "**Set up Google directory**"
      ]
    },
    {
      "cell_type": "code",
      "metadata": {
        "colab": {
          "base_uri": "https://localhost:8080/"
        },
        "id": "Kz7c6afsdIrs",
        "outputId": "aea803b1-adb5-4892-f795-bc0f49f4b518"
      },
      "source": [
        "from google.colab import drive\r\n",
        "drive.mount('/content/drive')"
      ],
      "execution_count": 47,
      "outputs": [
        {
          "output_type": "stream",
          "text": [
            "Drive already mounted at /content/drive; to attempt to forcibly remount, call drive.mount(\"/content/drive\", force_remount=True).\n"
          ],
          "name": "stdout"
        }
      ]
    },
    {
      "cell_type": "code",
      "metadata": {
        "id": "_enjCJx1dRr3"
      },
      "source": [
        "import os\r\n",
        "workdir_path = '/content/drive/My Drive/Project1'  # Inserir o local da pasta onde estão os arquivos de entrada (treino e teste)\r\n",
        "os.chdir(workdir_path)"
      ],
      "execution_count": 48,
      "outputs": []
    },
    {
      "cell_type": "markdown",
      "metadata": {
        "id": "XnQB080BdbNL"
      },
      "source": [
        "**Import necessary libraries and load the files**"
      ]
    },
    {
      "cell_type": "code",
      "metadata": {
        "id": "f0i32NyQdb_g"
      },
      "source": [
        "import numpy as np\r\n",
        "import pandas as pd\r\n",
        "import matplotlib.pyplot as plt\r\n",
        "from sklearn.linear_model import LinearRegression\r\n",
        "from sklearn.model_selection import train_test_split\r\n",
        "from sklearn.metrics import r2_score, mean_squared_error\r\n",
        "import seaborn as sns\r\n",
        "%matplotlib inline"
      ],
      "execution_count": 49,
      "outputs": []
    },
    {
      "cell_type": "code",
      "metadata": {
        "colab": {
          "base_uri": "https://localhost:8080/",
          "height": 632
        },
        "id": "-9nD6L9vdgmt",
        "outputId": "c468ea96-e291-4aea-f202-58c07d63dc2c"
      },
      "source": [
        "#Load 2020 file and a quick look\r\n",
        "\r\n",
        "df = pd.read_csv('survey_results_public.csv')\r\n",
        "df.head()"
      ],
      "execution_count": 50,
      "outputs": [
        {
          "output_type": "execute_result",
          "data": {
            "text/html": [
              "<div>\n",
              "<style scoped>\n",
              "    .dataframe tbody tr th:only-of-type {\n",
              "        vertical-align: middle;\n",
              "    }\n",
              "\n",
              "    .dataframe tbody tr th {\n",
              "        vertical-align: top;\n",
              "    }\n",
              "\n",
              "    .dataframe thead th {\n",
              "        text-align: right;\n",
              "    }\n",
              "</style>\n",
              "<table border=\"1\" class=\"dataframe\">\n",
              "  <thead>\n",
              "    <tr style=\"text-align: right;\">\n",
              "      <th></th>\n",
              "      <th>Respondent</th>\n",
              "      <th>MainBranch</th>\n",
              "      <th>Hobbyist</th>\n",
              "      <th>Age</th>\n",
              "      <th>Age1stCode</th>\n",
              "      <th>CompFreq</th>\n",
              "      <th>CompTotal</th>\n",
              "      <th>ConvertedComp</th>\n",
              "      <th>Country</th>\n",
              "      <th>CurrencyDesc</th>\n",
              "      <th>CurrencySymbol</th>\n",
              "      <th>DatabaseDesireNextYear</th>\n",
              "      <th>DatabaseWorkedWith</th>\n",
              "      <th>DevType</th>\n",
              "      <th>EdLevel</th>\n",
              "      <th>Employment</th>\n",
              "      <th>Ethnicity</th>\n",
              "      <th>Gender</th>\n",
              "      <th>JobFactors</th>\n",
              "      <th>JobSat</th>\n",
              "      <th>JobSeek</th>\n",
              "      <th>LanguageDesireNextYear</th>\n",
              "      <th>LanguageWorkedWith</th>\n",
              "      <th>MiscTechDesireNextYear</th>\n",
              "      <th>MiscTechWorkedWith</th>\n",
              "      <th>NEWCollabToolsDesireNextYear</th>\n",
              "      <th>NEWCollabToolsWorkedWith</th>\n",
              "      <th>NEWDevOps</th>\n",
              "      <th>NEWDevOpsImpt</th>\n",
              "      <th>NEWEdImpt</th>\n",
              "      <th>NEWJobHunt</th>\n",
              "      <th>NEWJobHuntResearch</th>\n",
              "      <th>NEWLearn</th>\n",
              "      <th>NEWOffTopic</th>\n",
              "      <th>NEWOnboardGood</th>\n",
              "      <th>NEWOtherComms</th>\n",
              "      <th>NEWOvertime</th>\n",
              "      <th>NEWPurchaseResearch</th>\n",
              "      <th>NEWPurpleLink</th>\n",
              "      <th>NEWSOSites</th>\n",
              "      <th>NEWStuck</th>\n",
              "      <th>OpSys</th>\n",
              "      <th>OrgSize</th>\n",
              "      <th>PlatformDesireNextYear</th>\n",
              "      <th>PlatformWorkedWith</th>\n",
              "      <th>PurchaseWhat</th>\n",
              "      <th>Sexuality</th>\n",
              "      <th>SOAccount</th>\n",
              "      <th>SOComm</th>\n",
              "      <th>SOPartFreq</th>\n",
              "      <th>SOVisitFreq</th>\n",
              "      <th>SurveyEase</th>\n",
              "      <th>SurveyLength</th>\n",
              "      <th>Trans</th>\n",
              "      <th>UndergradMajor</th>\n",
              "      <th>WebframeDesireNextYear</th>\n",
              "      <th>WebframeWorkedWith</th>\n",
              "      <th>WelcomeChange</th>\n",
              "      <th>WorkWeekHrs</th>\n",
              "      <th>YearsCode</th>\n",
              "      <th>YearsCodePro</th>\n",
              "    </tr>\n",
              "  </thead>\n",
              "  <tbody>\n",
              "    <tr>\n",
              "      <th>0</th>\n",
              "      <td>1</td>\n",
              "      <td>I am a developer by profession</td>\n",
              "      <td>Yes</td>\n",
              "      <td>NaN</td>\n",
              "      <td>13</td>\n",
              "      <td>Monthly</td>\n",
              "      <td>NaN</td>\n",
              "      <td>NaN</td>\n",
              "      <td>Germany</td>\n",
              "      <td>European Euro</td>\n",
              "      <td>EUR</td>\n",
              "      <td>Microsoft SQL Server</td>\n",
              "      <td>Elasticsearch;Microsoft SQL Server;Oracle</td>\n",
              "      <td>Developer, desktop or enterprise applications;...</td>\n",
              "      <td>Master’s degree (M.A., M.S., M.Eng., MBA, etc.)</td>\n",
              "      <td>Independent contractor, freelancer, or self-em...</td>\n",
              "      <td>White or of European descent</td>\n",
              "      <td>Man</td>\n",
              "      <td>Languages, frameworks, and other technologies ...</td>\n",
              "      <td>Slightly satisfied</td>\n",
              "      <td>I am not interested in new job opportunities</td>\n",
              "      <td>C#;HTML/CSS;JavaScript</td>\n",
              "      <td>C#;HTML/CSS;JavaScript</td>\n",
              "      <td>.NET Core;Xamarin</td>\n",
              "      <td>.NET;.NET Core</td>\n",
              "      <td>Microsoft Teams;Microsoft Azure;Trello</td>\n",
              "      <td>Confluence;Jira;Slack;Microsoft Azure;Trello</td>\n",
              "      <td>No</td>\n",
              "      <td>Somewhat important</td>\n",
              "      <td>Fairly important</td>\n",
              "      <td>NaN</td>\n",
              "      <td>NaN</td>\n",
              "      <td>Once a year</td>\n",
              "      <td>Not sure</td>\n",
              "      <td>NaN</td>\n",
              "      <td>No</td>\n",
              "      <td>Often: 1-2 days per week or more</td>\n",
              "      <td>Start a free trial;Ask developers I know/work ...</td>\n",
              "      <td>Amused</td>\n",
              "      <td>Stack Overflow (public Q&amp;A for anyone who codes)</td>\n",
              "      <td>Visit Stack Overflow;Go for a walk or other ph...</td>\n",
              "      <td>Windows</td>\n",
              "      <td>2 to 9 employees</td>\n",
              "      <td>Android;iOS;Kubernetes;Microsoft Azure;Windows</td>\n",
              "      <td>Windows</td>\n",
              "      <td>NaN</td>\n",
              "      <td>Straight / Heterosexual</td>\n",
              "      <td>No</td>\n",
              "      <td>No, not at all</td>\n",
              "      <td>NaN</td>\n",
              "      <td>Multiple times per day</td>\n",
              "      <td>Neither easy nor difficult</td>\n",
              "      <td>Appropriate in length</td>\n",
              "      <td>No</td>\n",
              "      <td>Computer science, computer engineering, or sof...</td>\n",
              "      <td>ASP.NET Core</td>\n",
              "      <td>ASP.NET;ASP.NET Core</td>\n",
              "      <td>Just as welcome now as I felt last year</td>\n",
              "      <td>50.0</td>\n",
              "      <td>36</td>\n",
              "      <td>27</td>\n",
              "    </tr>\n",
              "    <tr>\n",
              "      <th>1</th>\n",
              "      <td>2</td>\n",
              "      <td>I am a developer by profession</td>\n",
              "      <td>No</td>\n",
              "      <td>NaN</td>\n",
              "      <td>19</td>\n",
              "      <td>NaN</td>\n",
              "      <td>NaN</td>\n",
              "      <td>NaN</td>\n",
              "      <td>United Kingdom</td>\n",
              "      <td>Pound sterling</td>\n",
              "      <td>GBP</td>\n",
              "      <td>NaN</td>\n",
              "      <td>NaN</td>\n",
              "      <td>Developer, full-stack;Developer, mobile</td>\n",
              "      <td>Bachelor’s degree (B.A., B.S., B.Eng., etc.)</td>\n",
              "      <td>Employed full-time</td>\n",
              "      <td>NaN</td>\n",
              "      <td>NaN</td>\n",
              "      <td>NaN</td>\n",
              "      <td>Very dissatisfied</td>\n",
              "      <td>I am not interested in new job opportunities</td>\n",
              "      <td>Python;Swift</td>\n",
              "      <td>JavaScript;Swift</td>\n",
              "      <td>React Native;TensorFlow;Unity 3D</td>\n",
              "      <td>React Native</td>\n",
              "      <td>Github;Slack</td>\n",
              "      <td>Confluence;Jira;Github;Gitlab;Slack</td>\n",
              "      <td>NaN</td>\n",
              "      <td>NaN</td>\n",
              "      <td>Fairly important</td>\n",
              "      <td>NaN</td>\n",
              "      <td>NaN</td>\n",
              "      <td>Once a year</td>\n",
              "      <td>Not sure</td>\n",
              "      <td>NaN</td>\n",
              "      <td>No</td>\n",
              "      <td>NaN</td>\n",
              "      <td>NaN</td>\n",
              "      <td>Amused</td>\n",
              "      <td>Stack Overflow (public Q&amp;A for anyone who code...</td>\n",
              "      <td>Visit Stack Overflow;Go for a walk or other ph...</td>\n",
              "      <td>MacOS</td>\n",
              "      <td>1,000 to 4,999 employees</td>\n",
              "      <td>iOS;Kubernetes;Linux;MacOS</td>\n",
              "      <td>iOS</td>\n",
              "      <td>I have little or no influence</td>\n",
              "      <td>NaN</td>\n",
              "      <td>Yes</td>\n",
              "      <td>Yes, definitely</td>\n",
              "      <td>Less than once per month or monthly</td>\n",
              "      <td>Multiple times per day</td>\n",
              "      <td>NaN</td>\n",
              "      <td>NaN</td>\n",
              "      <td>NaN</td>\n",
              "      <td>Computer science, computer engineering, or sof...</td>\n",
              "      <td>NaN</td>\n",
              "      <td>NaN</td>\n",
              "      <td>Somewhat more welcome now than last year</td>\n",
              "      <td>NaN</td>\n",
              "      <td>7</td>\n",
              "      <td>4</td>\n",
              "    </tr>\n",
              "    <tr>\n",
              "      <th>2</th>\n",
              "      <td>3</td>\n",
              "      <td>I code primarily as a hobby</td>\n",
              "      <td>Yes</td>\n",
              "      <td>NaN</td>\n",
              "      <td>15</td>\n",
              "      <td>NaN</td>\n",
              "      <td>NaN</td>\n",
              "      <td>NaN</td>\n",
              "      <td>Russian Federation</td>\n",
              "      <td>NaN</td>\n",
              "      <td>NaN</td>\n",
              "      <td>NaN</td>\n",
              "      <td>NaN</td>\n",
              "      <td>NaN</td>\n",
              "      <td>NaN</td>\n",
              "      <td>NaN</td>\n",
              "      <td>NaN</td>\n",
              "      <td>NaN</td>\n",
              "      <td>NaN</td>\n",
              "      <td>NaN</td>\n",
              "      <td>NaN</td>\n",
              "      <td>Objective-C;Python;Swift</td>\n",
              "      <td>Objective-C;Python;Swift</td>\n",
              "      <td>NaN</td>\n",
              "      <td>NaN</td>\n",
              "      <td>NaN</td>\n",
              "      <td>NaN</td>\n",
              "      <td>NaN</td>\n",
              "      <td>NaN</td>\n",
              "      <td>NaN</td>\n",
              "      <td>NaN</td>\n",
              "      <td>NaN</td>\n",
              "      <td>Once a decade</td>\n",
              "      <td>NaN</td>\n",
              "      <td>NaN</td>\n",
              "      <td>No</td>\n",
              "      <td>NaN</td>\n",
              "      <td>NaN</td>\n",
              "      <td>NaN</td>\n",
              "      <td>Stack Overflow (public Q&amp;A for anyone who codes)</td>\n",
              "      <td>NaN</td>\n",
              "      <td>Linux-based</td>\n",
              "      <td>NaN</td>\n",
              "      <td>NaN</td>\n",
              "      <td>NaN</td>\n",
              "      <td>NaN</td>\n",
              "      <td>NaN</td>\n",
              "      <td>Yes</td>\n",
              "      <td>Yes, somewhat</td>\n",
              "      <td>A few times per month or weekly</td>\n",
              "      <td>Daily or almost daily</td>\n",
              "      <td>Neither easy nor difficult</td>\n",
              "      <td>Appropriate in length</td>\n",
              "      <td>NaN</td>\n",
              "      <td>NaN</td>\n",
              "      <td>NaN</td>\n",
              "      <td>NaN</td>\n",
              "      <td>Somewhat more welcome now than last year</td>\n",
              "      <td>NaN</td>\n",
              "      <td>4</td>\n",
              "      <td>NaN</td>\n",
              "    </tr>\n",
              "    <tr>\n",
              "      <th>3</th>\n",
              "      <td>4</td>\n",
              "      <td>I am a developer by profession</td>\n",
              "      <td>Yes</td>\n",
              "      <td>25.0</td>\n",
              "      <td>18</td>\n",
              "      <td>NaN</td>\n",
              "      <td>NaN</td>\n",
              "      <td>NaN</td>\n",
              "      <td>Albania</td>\n",
              "      <td>Albanian lek</td>\n",
              "      <td>ALL</td>\n",
              "      <td>NaN</td>\n",
              "      <td>NaN</td>\n",
              "      <td>NaN</td>\n",
              "      <td>Master’s degree (M.A., M.S., M.Eng., MBA, etc.)</td>\n",
              "      <td>NaN</td>\n",
              "      <td>White or of European descent</td>\n",
              "      <td>Man</td>\n",
              "      <td>Flex time or a flexible schedule;Office enviro...</td>\n",
              "      <td>Slightly dissatisfied</td>\n",
              "      <td>I’m not actively looking, but I am open to new...</td>\n",
              "      <td>NaN</td>\n",
              "      <td>NaN</td>\n",
              "      <td>NaN</td>\n",
              "      <td>NaN</td>\n",
              "      <td>NaN</td>\n",
              "      <td>NaN</td>\n",
              "      <td>No</td>\n",
              "      <td>NaN</td>\n",
              "      <td>Not at all important/not necessary</td>\n",
              "      <td>Curious about other opportunities;Wanting to w...</td>\n",
              "      <td>NaN</td>\n",
              "      <td>Once a year</td>\n",
              "      <td>Not sure</td>\n",
              "      <td>Yes</td>\n",
              "      <td>Yes</td>\n",
              "      <td>Occasionally: 1-2 days per quarter but less th...</td>\n",
              "      <td>NaN</td>\n",
              "      <td>NaN</td>\n",
              "      <td>Stack Overflow (public Q&amp;A for anyone who code...</td>\n",
              "      <td>NaN</td>\n",
              "      <td>Linux-based</td>\n",
              "      <td>20 to 99 employees</td>\n",
              "      <td>NaN</td>\n",
              "      <td>NaN</td>\n",
              "      <td>I have a great deal of influence</td>\n",
              "      <td>Straight / Heterosexual</td>\n",
              "      <td>Yes</td>\n",
              "      <td>Yes, definitely</td>\n",
              "      <td>A few times per month or weekly</td>\n",
              "      <td>Multiple times per day</td>\n",
              "      <td>NaN</td>\n",
              "      <td>NaN</td>\n",
              "      <td>No</td>\n",
              "      <td>Computer science, computer engineering, or sof...</td>\n",
              "      <td>NaN</td>\n",
              "      <td>NaN</td>\n",
              "      <td>Somewhat less welcome now than last year</td>\n",
              "      <td>40.0</td>\n",
              "      <td>7</td>\n",
              "      <td>4</td>\n",
              "    </tr>\n",
              "    <tr>\n",
              "      <th>4</th>\n",
              "      <td>5</td>\n",
              "      <td>I used to be a developer by profession, but no...</td>\n",
              "      <td>Yes</td>\n",
              "      <td>31.0</td>\n",
              "      <td>16</td>\n",
              "      <td>NaN</td>\n",
              "      <td>NaN</td>\n",
              "      <td>NaN</td>\n",
              "      <td>United States</td>\n",
              "      <td>NaN</td>\n",
              "      <td>NaN</td>\n",
              "      <td>MySQL;PostgreSQL</td>\n",
              "      <td>MySQL;PostgreSQL;Redis;SQLite</td>\n",
              "      <td>NaN</td>\n",
              "      <td>Bachelor’s degree (B.A., B.S., B.Eng., etc.)</td>\n",
              "      <td>Employed full-time</td>\n",
              "      <td>White or of European descent</td>\n",
              "      <td>Man</td>\n",
              "      <td>NaN</td>\n",
              "      <td>NaN</td>\n",
              "      <td>NaN</td>\n",
              "      <td>Java;Ruby;Scala</td>\n",
              "      <td>HTML/CSS;Ruby;SQL</td>\n",
              "      <td>Ansible;Chef</td>\n",
              "      <td>Ansible</td>\n",
              "      <td>Github;Google Suite (Docs, Meet, etc)</td>\n",
              "      <td>Confluence;Jira;Github;Slack;Google Suite (Doc...</td>\n",
              "      <td>NaN</td>\n",
              "      <td>NaN</td>\n",
              "      <td>Very important</td>\n",
              "      <td>NaN</td>\n",
              "      <td>NaN</td>\n",
              "      <td>Once a year</td>\n",
              "      <td>No</td>\n",
              "      <td>NaN</td>\n",
              "      <td>Yes</td>\n",
              "      <td>NaN</td>\n",
              "      <td>Start a free trial;Ask developers I know/work ...</td>\n",
              "      <td>Hello, old friend</td>\n",
              "      <td>Stack Overflow (public Q&amp;A for anyone who code...</td>\n",
              "      <td>Call a coworker or friend;Visit Stack Overflow...</td>\n",
              "      <td>Windows</td>\n",
              "      <td>NaN</td>\n",
              "      <td>Docker;Google Cloud Platform;Heroku;Linux;Windows</td>\n",
              "      <td>AWS;Docker;Linux;MacOS;Windows</td>\n",
              "      <td>NaN</td>\n",
              "      <td>Straight / Heterosexual</td>\n",
              "      <td>Yes</td>\n",
              "      <td>Yes, somewhat</td>\n",
              "      <td>Less than once per month or monthly</td>\n",
              "      <td>A few times per month or weekly</td>\n",
              "      <td>Easy</td>\n",
              "      <td>Too short</td>\n",
              "      <td>No</td>\n",
              "      <td>Computer science, computer engineering, or sof...</td>\n",
              "      <td>Django;Ruby on Rails</td>\n",
              "      <td>Ruby on Rails</td>\n",
              "      <td>Just as welcome now as I felt last year</td>\n",
              "      <td>NaN</td>\n",
              "      <td>15</td>\n",
              "      <td>8</td>\n",
              "    </tr>\n",
              "  </tbody>\n",
              "</table>\n",
              "</div>"
            ],
            "text/plain": [
              "   Respondent  ... YearsCodePro\n",
              "0           1  ...           27\n",
              "1           2  ...            4\n",
              "2           3  ...          NaN\n",
              "3           4  ...            4\n",
              "4           5  ...            8\n",
              "\n",
              "[5 rows x 61 columns]"
            ]
          },
          "metadata": {
            "tags": []
          },
          "execution_count": 50
        }
      ]
    },
    {
      "cell_type": "code",
      "metadata": {
        "colab": {
          "base_uri": "https://localhost:8080/"
        },
        "id": "98PPTxBmdgxJ",
        "outputId": "122242bc-a1e9-452d-b275-68c06eb0e928"
      },
      "source": [
        "df.shape"
      ],
      "execution_count": 51,
      "outputs": [
        {
          "output_type": "execute_result",
          "data": {
            "text/plain": [
              "(64461, 61)"
            ]
          },
          "metadata": {
            "tags": []
          },
          "execution_count": 51
        }
      ]
    },
    {
      "cell_type": "code",
      "metadata": {
        "colab": {
          "base_uri": "https://localhost:8080/",
          "height": 797
        },
        "id": "tAqAOca8dg0P",
        "outputId": "822f67f2-1538-4b97-d6da-3f4f44fe4682"
      },
      "source": [
        "#Load 2015 file and a quick look\r\n",
        "\r\n",
        "df2 = pd.read_csv('2015 Stack Overflow Developer Survey Responses.csv', header=1)\r\n",
        "df2.head()"
      ],
      "execution_count": 52,
      "outputs": [
        {
          "output_type": "stream",
          "text": [
            "/usr/local/lib/python3.6/dist-packages/IPython/core/interactiveshell.py:2718: DtypeWarning: Columns (5,108,121,196,197,198) have mixed types.Specify dtype option on import or set low_memory=False.\n",
            "  interactivity=interactivity, compiler=compiler, result=result)\n"
          ],
          "name": "stderr"
        },
        {
          "output_type": "execute_result",
          "data": {
            "text/html": [
              "<div>\n",
              "<style scoped>\n",
              "    .dataframe tbody tr th:only-of-type {\n",
              "        vertical-align: middle;\n",
              "    }\n",
              "\n",
              "    .dataframe tbody tr th {\n",
              "        vertical-align: top;\n",
              "    }\n",
              "\n",
              "    .dataframe thead th {\n",
              "        text-align: right;\n",
              "    }\n",
              "</style>\n",
              "<table border=\"1\" class=\"dataframe\">\n",
              "  <thead>\n",
              "    <tr style=\"text-align: right;\">\n",
              "      <th></th>\n",
              "      <th>Country</th>\n",
              "      <th>Age</th>\n",
              "      <th>Gender</th>\n",
              "      <th>Tabs or Spaces</th>\n",
              "      <th>Years IT / Programming Experience</th>\n",
              "      <th>Occupation</th>\n",
              "      <th>Desktop Operating System</th>\n",
              "      <th>Desktop Operating System: write-in</th>\n",
              "      <th>Current Lang &amp; Tech: Android</th>\n",
              "      <th>Current Lang &amp; Tech: Arduino</th>\n",
              "      <th>Current Lang &amp; Tech: AngularJS</th>\n",
              "      <th>Current Lang &amp; Tech: C</th>\n",
              "      <th>Current Lang &amp; Tech: C++</th>\n",
              "      <th>Current Lang &amp; Tech: C++11</th>\n",
              "      <th>Current Lang &amp; Tech: C#</th>\n",
              "      <th>Current Lang &amp; Tech: Cassandra</th>\n",
              "      <th>Current Lang &amp; Tech: CoffeeScript</th>\n",
              "      <th>Current Lang &amp; Tech: Cordova</th>\n",
              "      <th>Current Lang &amp; Tech: Clojure</th>\n",
              "      <th>Current Lang &amp; Tech: Cloud</th>\n",
              "      <th>Current Lang &amp; Tech: Dart</th>\n",
              "      <th>Current Lang &amp; Tech: F#</th>\n",
              "      <th>Current Lang &amp; Tech: Go</th>\n",
              "      <th>Current Lang &amp; Tech: Hadoop</th>\n",
              "      <th>Current Lang &amp; Tech: Haskell</th>\n",
              "      <th>Current Lang &amp; Tech: iOS</th>\n",
              "      <th>Current Lang &amp; Tech: Java</th>\n",
              "      <th>Current Lang &amp; Tech: JavaScript</th>\n",
              "      <th>Current Lang &amp; Tech: LAMP</th>\n",
              "      <th>Current Lang &amp; Tech: Matlab</th>\n",
              "      <th>Current Lang &amp; Tech: MongoDB</th>\n",
              "      <th>Current Lang &amp; Tech: Node.js</th>\n",
              "      <th>Current Lang &amp; Tech: Objective-C</th>\n",
              "      <th>Current Lang &amp; Tech: Perl</th>\n",
              "      <th>Current Lang &amp; Tech: PHP</th>\n",
              "      <th>Current Lang &amp; Tech: Python</th>\n",
              "      <th>Current Lang &amp; Tech: R</th>\n",
              "      <th>Current Lang &amp; Tech: Redis</th>\n",
              "      <th>Current Lang &amp; Tech: Ruby</th>\n",
              "      <th>Current Lang &amp; Tech: Rust</th>\n",
              "      <th>...</th>\n",
              "      <th>Why try Stack Overflow Careers: Showcase Stack Overflow activity</th>\n",
              "      <th>Why try Stack Overflow Careers: Jobs are on Stack Overflow</th>\n",
              "      <th>Why try Stack Overflow Careers: Other</th>\n",
              "      <th>How many caffeinated beverages per day?</th>\n",
              "      <th>How many hours programming as hobby per week?</th>\n",
              "      <th>How frequently land on or read Stack Overflow</th>\n",
              "      <th>Preferred text editor</th>\n",
              "      <th>Preferred text editor: write-in</th>\n",
              "      <th>Prefered IDE theme</th>\n",
              "      <th>Source control used: Git</th>\n",
              "      <th>Source control used: Mercurial</th>\n",
              "      <th>Source control used: SVN</th>\n",
              "      <th>Source control used: CVS</th>\n",
              "      <th>Source control used: Perforce</th>\n",
              "      <th>Source control used: TFS</th>\n",
              "      <th>Source control used: DCVS</th>\n",
              "      <th>Source control used: Bitkeeper</th>\n",
              "      <th>Source control used: Legacy / Custom</th>\n",
              "      <th>Source control used: I don't use source control</th>\n",
              "      <th>Source control used: write-in</th>\n",
              "      <th>Prefered Source Control</th>\n",
              "      <th>Prefered Source Control: write-in</th>\n",
              "      <th>Why use Stack Overflow: Help for job</th>\n",
              "      <th>Why use Stack Overflow: To give help</th>\n",
              "      <th>Why use Stack Overflow: Can't do job without it</th>\n",
              "      <th>Why use Stack Overflow: Maintain online presence</th>\n",
              "      <th>Why use Stack Overflow: Demonstrate expertise</th>\n",
              "      <th>Why use Stack Overflow: Communicate with others</th>\n",
              "      <th>Why use Stack Overflow: Receive help on personal projects</th>\n",
              "      <th>Why use Stack Overflow: Love to learn</th>\n",
              "      <th>Why use Stack Overflow: I don't use Stack Overflow</th>\n",
              "      <th>How often are Stack Overflow's answers helpful</th>\n",
              "      <th>Why answer: Help a programmer in need</th>\n",
              "      <th>Why answer: Help future programmers</th>\n",
              "      <th>Why answer: Demonstrate expertise</th>\n",
              "      <th>Why answer: Self promotion</th>\n",
              "      <th>Why answer: Sense of responsibility to developers</th>\n",
              "      <th>Why answer: No idea</th>\n",
              "      <th>Why answer: I don't answer and I don't want to</th>\n",
              "      <th>Why answer: I don't answer but I want to</th>\n",
              "    </tr>\n",
              "  </thead>\n",
              "  <tbody>\n",
              "    <tr>\n",
              "      <th>0</th>\n",
              "      <td>Croatia</td>\n",
              "      <td>25-29</td>\n",
              "      <td>Male</td>\n",
              "      <td>Tabs</td>\n",
              "      <td>2 - 5 years</td>\n",
              "      <td>Back-end web developer</td>\n",
              "      <td>Ubuntu</td>\n",
              "      <td>NaN</td>\n",
              "      <td>NaN</td>\n",
              "      <td>NaN</td>\n",
              "      <td>NaN</td>\n",
              "      <td>NaN</td>\n",
              "      <td>NaN</td>\n",
              "      <td>NaN</td>\n",
              "      <td>NaN</td>\n",
              "      <td>NaN</td>\n",
              "      <td>NaN</td>\n",
              "      <td>NaN</td>\n",
              "      <td>NaN</td>\n",
              "      <td>NaN</td>\n",
              "      <td>NaN</td>\n",
              "      <td>NaN</td>\n",
              "      <td>NaN</td>\n",
              "      <td>NaN</td>\n",
              "      <td>NaN</td>\n",
              "      <td>NaN</td>\n",
              "      <td>Java</td>\n",
              "      <td>NaN</td>\n",
              "      <td>NaN</td>\n",
              "      <td>NaN</td>\n",
              "      <td>NaN</td>\n",
              "      <td>NaN</td>\n",
              "      <td>NaN</td>\n",
              "      <td>NaN</td>\n",
              "      <td>NaN</td>\n",
              "      <td>NaN</td>\n",
              "      <td>NaN</td>\n",
              "      <td>NaN</td>\n",
              "      <td>NaN</td>\n",
              "      <td>NaN</td>\n",
              "      <td>...</td>\n",
              "      <td>To showcase my Stack Overflow activity</td>\n",
              "      <td>Because the jobs ads are right there on Stack ...</td>\n",
              "      <td>NaN</td>\n",
              "      <td>0</td>\n",
              "      <td>5-10 hours per week</td>\n",
              "      <td>Multipleætimes a day</td>\n",
              "      <td>Sublime Text</td>\n",
              "      <td>NaN</td>\n",
              "      <td>Dark</td>\n",
              "      <td>NaN</td>\n",
              "      <td>Mercurial</td>\n",
              "      <td>NaN</td>\n",
              "      <td>NaN</td>\n",
              "      <td>NaN</td>\n",
              "      <td>NaN</td>\n",
              "      <td>NaN</td>\n",
              "      <td>NaN</td>\n",
              "      <td>NaN</td>\n",
              "      <td>NaN</td>\n",
              "      <td>NaN</td>\n",
              "      <td>Mercurial</td>\n",
              "      <td>NaN</td>\n",
              "      <td>To get help for my job</td>\n",
              "      <td>To give help to others</td>\n",
              "      <td>Because I can't do my job without it</td>\n",
              "      <td>NaN</td>\n",
              "      <td>To demonstrate that I'm good at what I do</td>\n",
              "      <td>NaN</td>\n",
              "      <td>To receive help onæmy personal projects</td>\n",
              "      <td>Because I love to learn</td>\n",
              "      <td>NaN</td>\n",
              "      <td>Usually</td>\n",
              "      <td>NaN</td>\n",
              "      <td>NaN</td>\n",
              "      <td>It feels good to demonstrate my expertise.</td>\n",
              "      <td>Demonstrating my expertise will benefit me</td>\n",
              "      <td>I feel a sense of responsibility to the develo...</td>\n",
              "      <td>NaN</td>\n",
              "      <td>NaN</td>\n",
              "      <td>NaN</td>\n",
              "    </tr>\n",
              "    <tr>\n",
              "      <th>1</th>\n",
              "      <td>France</td>\n",
              "      <td>20-24</td>\n",
              "      <td>Male</td>\n",
              "      <td>Spaces</td>\n",
              "      <td>1 - 2 years</td>\n",
              "      <td>Back-end web developer</td>\n",
              "      <td>Windows 7</td>\n",
              "      <td>NaN</td>\n",
              "      <td>NaN</td>\n",
              "      <td>NaN</td>\n",
              "      <td>NaN</td>\n",
              "      <td>NaN</td>\n",
              "      <td>NaN</td>\n",
              "      <td>NaN</td>\n",
              "      <td>C#</td>\n",
              "      <td>NaN</td>\n",
              "      <td>NaN</td>\n",
              "      <td>NaN</td>\n",
              "      <td>NaN</td>\n",
              "      <td>NaN</td>\n",
              "      <td>NaN</td>\n",
              "      <td>NaN</td>\n",
              "      <td>NaN</td>\n",
              "      <td>NaN</td>\n",
              "      <td>NaN</td>\n",
              "      <td>NaN</td>\n",
              "      <td>NaN</td>\n",
              "      <td>NaN</td>\n",
              "      <td>NaN</td>\n",
              "      <td>NaN</td>\n",
              "      <td>NaN</td>\n",
              "      <td>NaN</td>\n",
              "      <td>NaN</td>\n",
              "      <td>NaN</td>\n",
              "      <td>NaN</td>\n",
              "      <td>NaN</td>\n",
              "      <td>NaN</td>\n",
              "      <td>NaN</td>\n",
              "      <td>NaN</td>\n",
              "      <td>NaN</td>\n",
              "      <td>...</td>\n",
              "      <td>NaN</td>\n",
              "      <td>NaN</td>\n",
              "      <td>NaN</td>\n",
              "      <td>3</td>\n",
              "      <td>2-5 hours per week</td>\n",
              "      <td>Once a day</td>\n",
              "      <td>NaN</td>\n",
              "      <td>Visual Studio 2013</td>\n",
              "      <td>Light</td>\n",
              "      <td>Git</td>\n",
              "      <td>NaN</td>\n",
              "      <td>NaN</td>\n",
              "      <td>NaN</td>\n",
              "      <td>NaN</td>\n",
              "      <td>TFS</td>\n",
              "      <td>NaN</td>\n",
              "      <td>NaN</td>\n",
              "      <td>NaN</td>\n",
              "      <td>NaN</td>\n",
              "      <td>NaN</td>\n",
              "      <td>TFS</td>\n",
              "      <td>NaN</td>\n",
              "      <td>To get help for my job</td>\n",
              "      <td>To give help to others</td>\n",
              "      <td>NaN</td>\n",
              "      <td>NaN</td>\n",
              "      <td>NaN</td>\n",
              "      <td>NaN</td>\n",
              "      <td>To receive help onæmy personal projects</td>\n",
              "      <td>NaN</td>\n",
              "      <td>NaN</td>\n",
              "      <td>Usually</td>\n",
              "      <td>NaN</td>\n",
              "      <td>My answer will help lots of people who have th...</td>\n",
              "      <td>It feels good to demonstrate my expertise.</td>\n",
              "      <td>NaN</td>\n",
              "      <td>NaN</td>\n",
              "      <td>NaN</td>\n",
              "      <td>NaN</td>\n",
              "      <td>NaN</td>\n",
              "    </tr>\n",
              "    <tr>\n",
              "      <th>2</th>\n",
              "      <td>India</td>\n",
              "      <td>20-24</td>\n",
              "      <td>Male</td>\n",
              "      <td>Tabs</td>\n",
              "      <td>1 - 2 years</td>\n",
              "      <td>Back-end web developer</td>\n",
              "      <td>Windows 7</td>\n",
              "      <td>NaN</td>\n",
              "      <td>NaN</td>\n",
              "      <td>NaN</td>\n",
              "      <td>NaN</td>\n",
              "      <td>NaN</td>\n",
              "      <td>NaN</td>\n",
              "      <td>NaN</td>\n",
              "      <td>C#</td>\n",
              "      <td>NaN</td>\n",
              "      <td>NaN</td>\n",
              "      <td>NaN</td>\n",
              "      <td>NaN</td>\n",
              "      <td>NaN</td>\n",
              "      <td>NaN</td>\n",
              "      <td>NaN</td>\n",
              "      <td>NaN</td>\n",
              "      <td>NaN</td>\n",
              "      <td>NaN</td>\n",
              "      <td>NaN</td>\n",
              "      <td>NaN</td>\n",
              "      <td>NaN</td>\n",
              "      <td>NaN</td>\n",
              "      <td>NaN</td>\n",
              "      <td>NaN</td>\n",
              "      <td>NaN</td>\n",
              "      <td>NaN</td>\n",
              "      <td>NaN</td>\n",
              "      <td>NaN</td>\n",
              "      <td>NaN</td>\n",
              "      <td>NaN</td>\n",
              "      <td>NaN</td>\n",
              "      <td>NaN</td>\n",
              "      <td>NaN</td>\n",
              "      <td>...</td>\n",
              "      <td>NaN</td>\n",
              "      <td>NaN</td>\n",
              "      <td>NaN</td>\n",
              "      <td>4</td>\n",
              "      <td>5-10 hours per week</td>\n",
              "      <td>Once a day</td>\n",
              "      <td>XEmacs</td>\n",
              "      <td>NaN</td>\n",
              "      <td>Dark</td>\n",
              "      <td>NaN</td>\n",
              "      <td>NaN</td>\n",
              "      <td>SVN</td>\n",
              "      <td>NaN</td>\n",
              "      <td>NaN</td>\n",
              "      <td>NaN</td>\n",
              "      <td>NaN</td>\n",
              "      <td>NaN</td>\n",
              "      <td>NaN</td>\n",
              "      <td>NaN</td>\n",
              "      <td>NaN</td>\n",
              "      <td>SVN</td>\n",
              "      <td>NaN</td>\n",
              "      <td>NaN</td>\n",
              "      <td>NaN</td>\n",
              "      <td>NaN</td>\n",
              "      <td>NaN</td>\n",
              "      <td>NaN</td>\n",
              "      <td>NaN</td>\n",
              "      <td>To receive help onæmy personal projects</td>\n",
              "      <td>NaN</td>\n",
              "      <td>NaN</td>\n",
              "      <td>Rarely</td>\n",
              "      <td>NaN</td>\n",
              "      <td>NaN</td>\n",
              "      <td>NaN</td>\n",
              "      <td>Demonstrating my expertise will benefit me</td>\n",
              "      <td>NaN</td>\n",
              "      <td>NaN</td>\n",
              "      <td>NaN</td>\n",
              "      <td>NaN</td>\n",
              "    </tr>\n",
              "    <tr>\n",
              "      <th>3</th>\n",
              "      <td>Latvia</td>\n",
              "      <td>25-29</td>\n",
              "      <td>Male</td>\n",
              "      <td>It depends</td>\n",
              "      <td>6 - 10 years</td>\n",
              "      <td>Back-end web developer</td>\n",
              "      <td>Ubuntu</td>\n",
              "      <td>NaN</td>\n",
              "      <td>NaN</td>\n",
              "      <td>NaN</td>\n",
              "      <td>NaN</td>\n",
              "      <td>NaN</td>\n",
              "      <td>NaN</td>\n",
              "      <td>NaN</td>\n",
              "      <td>NaN</td>\n",
              "      <td>NaN</td>\n",
              "      <td>NaN</td>\n",
              "      <td>NaN</td>\n",
              "      <td>NaN</td>\n",
              "      <td>NaN</td>\n",
              "      <td>NaN</td>\n",
              "      <td>NaN</td>\n",
              "      <td>NaN</td>\n",
              "      <td>NaN</td>\n",
              "      <td>NaN</td>\n",
              "      <td>NaN</td>\n",
              "      <td>NaN</td>\n",
              "      <td>JavaScript</td>\n",
              "      <td>LAMP</td>\n",
              "      <td>NaN</td>\n",
              "      <td>NaN</td>\n",
              "      <td>Node.js</td>\n",
              "      <td>NaN</td>\n",
              "      <td>NaN</td>\n",
              "      <td>PHP</td>\n",
              "      <td>Python</td>\n",
              "      <td>NaN</td>\n",
              "      <td>Redis</td>\n",
              "      <td>NaN</td>\n",
              "      <td>NaN</td>\n",
              "      <td>...</td>\n",
              "      <td>To showcase my Stack Overflow activity</td>\n",
              "      <td>NaN</td>\n",
              "      <td>NaN</td>\n",
              "      <td>2</td>\n",
              "      <td>5-10 hours per week</td>\n",
              "      <td>Multipleætimes a day</td>\n",
              "      <td>Sublime Text</td>\n",
              "      <td>NaN</td>\n",
              "      <td>Dark</td>\n",
              "      <td>Git</td>\n",
              "      <td>NaN</td>\n",
              "      <td>SVN</td>\n",
              "      <td>NaN</td>\n",
              "      <td>NaN</td>\n",
              "      <td>NaN</td>\n",
              "      <td>NaN</td>\n",
              "      <td>NaN</td>\n",
              "      <td>NaN</td>\n",
              "      <td>NaN</td>\n",
              "      <td>NaN</td>\n",
              "      <td>Git</td>\n",
              "      <td>NaN</td>\n",
              "      <td>To get help for my job</td>\n",
              "      <td>To give help to others</td>\n",
              "      <td>NaN</td>\n",
              "      <td>NaN</td>\n",
              "      <td>To demonstrate that I'm good at what I do</td>\n",
              "      <td>To communicate with others like me</td>\n",
              "      <td>NaN</td>\n",
              "      <td>Because I love to learn</td>\n",
              "      <td>NaN</td>\n",
              "      <td>Usually</td>\n",
              "      <td>It feels good to help a programmer in need</td>\n",
              "      <td>My answer will help lots of people who have th...</td>\n",
              "      <td>It feels good to demonstrate my expertise.</td>\n",
              "      <td>Demonstrating my expertise will benefit me</td>\n",
              "      <td>I feel a sense of responsibility to the develo...</td>\n",
              "      <td>NaN</td>\n",
              "      <td>NaN</td>\n",
              "      <td>NaN</td>\n",
              "    </tr>\n",
              "    <tr>\n",
              "      <th>4</th>\n",
              "      <td>Norway</td>\n",
              "      <td>30-34</td>\n",
              "      <td>Male</td>\n",
              "      <td>Tabs</td>\n",
              "      <td>2 - 5 years</td>\n",
              "      <td>Back-end web developer</td>\n",
              "      <td>Windows 8</td>\n",
              "      <td>NaN</td>\n",
              "      <td>NaN</td>\n",
              "      <td>NaN</td>\n",
              "      <td>NaN</td>\n",
              "      <td>NaN</td>\n",
              "      <td>NaN</td>\n",
              "      <td>NaN</td>\n",
              "      <td>C#</td>\n",
              "      <td>NaN</td>\n",
              "      <td>NaN</td>\n",
              "      <td>NaN</td>\n",
              "      <td>NaN</td>\n",
              "      <td>NaN</td>\n",
              "      <td>NaN</td>\n",
              "      <td>NaN</td>\n",
              "      <td>Go</td>\n",
              "      <td>NaN</td>\n",
              "      <td>NaN</td>\n",
              "      <td>NaN</td>\n",
              "      <td>NaN</td>\n",
              "      <td>NaN</td>\n",
              "      <td>NaN</td>\n",
              "      <td>NaN</td>\n",
              "      <td>NaN</td>\n",
              "      <td>NaN</td>\n",
              "      <td>NaN</td>\n",
              "      <td>NaN</td>\n",
              "      <td>NaN</td>\n",
              "      <td>NaN</td>\n",
              "      <td>NaN</td>\n",
              "      <td>NaN</td>\n",
              "      <td>NaN</td>\n",
              "      <td>NaN</td>\n",
              "      <td>...</td>\n",
              "      <td>NaN</td>\n",
              "      <td>NaN</td>\n",
              "      <td>NaN</td>\n",
              "      <td>6</td>\n",
              "      <td>5-10 hours per week</td>\n",
              "      <td>Multipleætimes a day</td>\n",
              "      <td>Sublime Text</td>\n",
              "      <td>NaN</td>\n",
              "      <td>Dark</td>\n",
              "      <td>Git</td>\n",
              "      <td>NaN</td>\n",
              "      <td>NaN</td>\n",
              "      <td>NaN</td>\n",
              "      <td>NaN</td>\n",
              "      <td>TFS</td>\n",
              "      <td>NaN</td>\n",
              "      <td>NaN</td>\n",
              "      <td>NaN</td>\n",
              "      <td>NaN</td>\n",
              "      <td>NaN</td>\n",
              "      <td>Git</td>\n",
              "      <td>NaN</td>\n",
              "      <td>To get help for my job</td>\n",
              "      <td>NaN</td>\n",
              "      <td>NaN</td>\n",
              "      <td>NaN</td>\n",
              "      <td>NaN</td>\n",
              "      <td>NaN</td>\n",
              "      <td>NaN</td>\n",
              "      <td>Because I love to learn</td>\n",
              "      <td>NaN</td>\n",
              "      <td>Usually</td>\n",
              "      <td>It feels good to help a programmer in need</td>\n",
              "      <td>NaN</td>\n",
              "      <td>NaN</td>\n",
              "      <td>Demonstrating my expertise will benefit me</td>\n",
              "      <td>NaN</td>\n",
              "      <td>NaN</td>\n",
              "      <td>NaN</td>\n",
              "      <td>I don't answer much (or at all), but I want to...</td>\n",
              "    </tr>\n",
              "  </tbody>\n",
              "</table>\n",
              "<p>5 rows × 222 columns</p>\n",
              "</div>"
            ],
            "text/plain": [
              "   Country  ...           Why answer: I don't answer but I want to\n",
              "0  Croatia  ...                                                NaN\n",
              "1   France  ...                                                NaN\n",
              "2    India  ...                                                NaN\n",
              "3   Latvia  ...                                                NaN\n",
              "4   Norway  ...  I don't answer much (or at all), but I want to...\n",
              "\n",
              "[5 rows x 222 columns]"
            ]
          },
          "metadata": {
            "tags": []
          },
          "execution_count": 52
        }
      ]
    },
    {
      "cell_type": "code",
      "metadata": {
        "colab": {
          "base_uri": "https://localhost:8080/"
        },
        "id": "DCyrzvOPdg2r",
        "outputId": "ad1da71e-cd05-4d1b-e3bd-6801ee4413fe"
      },
      "source": [
        "df2.shape"
      ],
      "execution_count": 53,
      "outputs": [
        {
          "output_type": "execute_result",
          "data": {
            "text/plain": [
              "(26086, 222)"
            ]
          },
          "metadata": {
            "tags": []
          },
          "execution_count": 53
        }
      ]
    },
    {
      "cell_type": "markdown",
      "metadata": {
        "id": "vlnf_4WXds8o"
      },
      "source": [
        "##**Assess and clean the data**"
      ]
    },
    {
      "cell_type": "markdown",
      "metadata": {
        "id": "1vRWqh1od2wj"
      },
      "source": [
        "**First, df (2020 survey)**"
      ]
    },
    {
      "cell_type": "code",
      "metadata": {
        "colab": {
          "base_uri": "https://localhost:8080/"
        },
        "id": "oyyJKGNndg6O",
        "outputId": "0ab4ed78-fec1-4a7c-fb73-e2bcb1d3e54e"
      },
      "source": [
        "#Quick look at the columns\r\n",
        "\r\n",
        "df.columns"
      ],
      "execution_count": 54,
      "outputs": [
        {
          "output_type": "execute_result",
          "data": {
            "text/plain": [
              "Index(['Respondent', 'MainBranch', 'Hobbyist', 'Age', 'Age1stCode', 'CompFreq',\n",
              "       'CompTotal', 'ConvertedComp', 'Country', 'CurrencyDesc',\n",
              "       'CurrencySymbol', 'DatabaseDesireNextYear', 'DatabaseWorkedWith',\n",
              "       'DevType', 'EdLevel', 'Employment', 'Ethnicity', 'Gender', 'JobFactors',\n",
              "       'JobSat', 'JobSeek', 'LanguageDesireNextYear', 'LanguageWorkedWith',\n",
              "       'MiscTechDesireNextYear', 'MiscTechWorkedWith',\n",
              "       'NEWCollabToolsDesireNextYear', 'NEWCollabToolsWorkedWith', 'NEWDevOps',\n",
              "       'NEWDevOpsImpt', 'NEWEdImpt', 'NEWJobHunt', 'NEWJobHuntResearch',\n",
              "       'NEWLearn', 'NEWOffTopic', 'NEWOnboardGood', 'NEWOtherComms',\n",
              "       'NEWOvertime', 'NEWPurchaseResearch', 'NEWPurpleLink', 'NEWSOSites',\n",
              "       'NEWStuck', 'OpSys', 'OrgSize', 'PlatformDesireNextYear',\n",
              "       'PlatformWorkedWith', 'PurchaseWhat', 'Sexuality', 'SOAccount',\n",
              "       'SOComm', 'SOPartFreq', 'SOVisitFreq', 'SurveyEase', 'SurveyLength',\n",
              "       'Trans', 'UndergradMajor', 'WebframeDesireNextYear',\n",
              "       'WebframeWorkedWith', 'WelcomeChange', 'WorkWeekHrs', 'YearsCode',\n",
              "       'YearsCodePro'],\n",
              "      dtype='object')"
            ]
          },
          "metadata": {
            "tags": []
          },
          "execution_count": 54
        }
      ]
    },
    {
      "cell_type": "code",
      "metadata": {
        "colab": {
          "base_uri": "https://localhost:8080/"
        },
        "id": "VqQ5F7v2dg9I",
        "outputId": "126d9d47-1f3b-4f68-d348-bfe45ce9870f"
      },
      "source": [
        "#Select only the important columns to our analysis and check null values\r\n",
        "\r\n",
        "new_df = df[['Age', 'ConvertedComp', \t'YearsCodePro', 'Country', 'EdLevel']]\r\n",
        "new_df.isnull().mean()"
      ],
      "execution_count": 55,
      "outputs": [
        {
          "output_type": "execute_result",
          "data": {
            "text/plain": [
              "Age              0.294985\n",
              "ConvertedComp    0.460821\n",
              "YearsCodePro     0.280976\n",
              "Country          0.006035\n",
              "EdLevel          0.109058\n",
              "dtype: float64"
            ]
          },
          "metadata": {
            "tags": []
          },
          "execution_count": 55
        }
      ]
    },
    {
      "cell_type": "markdown",
      "metadata": {
        "id": "pZAYIHMSepMQ"
      },
      "source": [
        "We can see that we have more missing values in the most important column to our analysis, ConvertedComp. This way, it doesn't seem to be a good idea fill in almost 50% of our values with the mean or other statistic about the data - it can bias our results. The chosen approach is to drop missing values and keep only the original ones. "
      ]
    },
    {
      "cell_type": "code",
      "metadata": {
        "colab": {
          "base_uri": "https://localhost:8080/"
        },
        "id": "0Apqnn_kdg_p",
        "outputId": "b5cfeba3-662a-4d65-fb6e-266cd6a91f53"
      },
      "source": [
        "#Drop missing values by ConvertedComp\r\n",
        "\r\n",
        "new_df.dropna(subset=['ConvertedComp'],inplace=True)\r\n",
        "new_df.isnull().mean()"
      ],
      "execution_count": 56,
      "outputs": [
        {
          "output_type": "stream",
          "text": [
            "/usr/local/lib/python3.6/dist-packages/ipykernel_launcher.py:3: SettingWithCopyWarning: \n",
            "A value is trying to be set on a copy of a slice from a DataFrame\n",
            "\n",
            "See the caveats in the documentation: https://pandas.pydata.org/pandas-docs/stable/user_guide/indexing.html#returning-a-view-versus-a-copy\n",
            "  This is separate from the ipykernel package so we can avoid doing imports until\n"
          ],
          "name": "stderr"
        },
        {
          "output_type": "execute_result",
          "data": {
            "text/plain": [
              "Age              0.119692\n",
              "ConvertedComp    0.000000\n",
              "YearsCodePro     0.003884\n",
              "Country          0.000000\n",
              "EdLevel          0.016343\n",
              "dtype: float64"
            ]
          },
          "metadata": {
            "tags": []
          },
          "execution_count": 56
        }
      ]
    },
    {
      "cell_type": "markdown",
      "metadata": {
        "id": "RwYPQUv4ej-K"
      },
      "source": [
        "After dropping missing values from ConvertedComp, the only variable with a high number of missing values is Age. Let's look into that for more details."
      ]
    },
    {
      "cell_type": "code",
      "metadata": {
        "colab": {
          "base_uri": "https://localhost:8080/"
        },
        "id": "y2m_Y047dhCA",
        "outputId": "c335a7cf-6b2e-4c3a-a386-0f8f796cdca2"
      },
      "source": [
        "new_df[\"Age\"].describe().apply(lambda x: format(x, 'f'))"
      ],
      "execution_count": 57,
      "outputs": [
        {
          "output_type": "execute_result",
          "data": {
            "text/plain": [
              "count    30596.000000\n",
              "mean        32.164388\n",
              "std          8.616750\n",
              "min          1.000000\n",
              "25%         26.000000\n",
              "50%         30.000000\n",
              "75%         36.000000\n",
              "max        279.000000\n",
              "Name: Age, dtype: object"
            ]
          },
          "metadata": {
            "tags": []
          },
          "execution_count": 57
        }
      ]
    },
    {
      "cell_type": "markdown",
      "metadata": {
        "id": "_BEsvkBte3nn"
      },
      "source": [
        "We can see from min and max values (1 - 279) that some data are inconsistent. Anyway, lets check if the mean value changes too much keeping only a different range of values - from 15 to 60."
      ]
    },
    {
      "cell_type": "code",
      "metadata": {
        "colab": {
          "base_uri": "https://localhost:8080/"
        },
        "id": "P8NdOyAQdhE8",
        "outputId": "1690194f-2a12-4f5d-b3fa-1680857b22dd"
      },
      "source": [
        "new_df.query('Age < 60 & Age > 15').mean()"
      ],
      "execution_count": 58,
      "outputs": [
        {
          "output_type": "execute_result",
          "data": {
            "text/plain": [
              "Age                  31.847022\n",
              "ConvertedComp    102598.236034\n",
              "dtype: float64"
            ]
          },
          "metadata": {
            "tags": []
          },
          "execution_count": 58
        }
      ]
    },
    {
      "cell_type": "markdown",
      "metadata": {
        "id": "9mO64gmFe_eu"
      },
      "source": [
        "Since the Mean does not change too much, we are already going to fill in nan values with the mean."
      ]
    },
    {
      "cell_type": "code",
      "metadata": {
        "colab": {
          "base_uri": "https://localhost:8080/"
        },
        "id": "s5nurxeSe6lh",
        "outputId": "95e68fdb-f79f-453e-d81b-217f61afd81c"
      },
      "source": [
        "new_df['Age'] = new_df['Age'].fillna(new_df['Age'].mean())\r\n",
        "new_df['Age'].isnull().sum()"
      ],
      "execution_count": 59,
      "outputs": [
        {
          "output_type": "stream",
          "text": [
            "/usr/local/lib/python3.6/dist-packages/ipykernel_launcher.py:1: SettingWithCopyWarning: \n",
            "A value is trying to be set on a copy of a slice from a DataFrame.\n",
            "Try using .loc[row_indexer,col_indexer] = value instead\n",
            "\n",
            "See the caveats in the documentation: https://pandas.pydata.org/pandas-docs/stable/user_guide/indexing.html#returning-a-view-versus-a-copy\n",
            "  \"\"\"Entry point for launching an IPython kernel.\n"
          ],
          "name": "stderr"
        },
        {
          "output_type": "execute_result",
          "data": {
            "text/plain": [
              "0"
            ]
          },
          "metadata": {
            "tags": []
          },
          "execution_count": 59
        }
      ]
    },
    {
      "cell_type": "code",
      "metadata": {
        "colab": {
          "base_uri": "https://localhost:8080/"
        },
        "id": "ix2Sow28fBtl",
        "outputId": "039fc11e-3403-41f2-8ac4-b4bf589d8f0c"
      },
      "source": [
        "#Tukey test on Age data to check min and max values to identify outliers\r\n",
        "\r\n",
        "Q1 = new_df['Age'].quantile(0.25)\r\n",
        "Q3 = new_df['Age'].quantile(0.75)\r\n",
        "\r\n",
        "IQR = Q3 -Q1\r\n",
        "\r\n",
        "Max = Q3 + 1.5*IQR\r\n",
        "Min = Q1 - 1.5*IQR\r\n",
        "print('Min value {} , Max value {}'.format(Min,Max))"
      ],
      "execution_count": 60,
      "outputs": [
        {
          "output_type": "stream",
          "text": [
            "Min value 15.0 , Max value 47.0\n"
          ],
          "name": "stdout"
        }
      ]
    },
    {
      "cell_type": "code",
      "metadata": {
        "colab": {
          "base_uri": "https://localhost:8080/"
        },
        "id": "CZpBJHkcfIQ_",
        "outputId": "288dd153-1e3d-4182-8150-d6f7c28deebb"
      },
      "source": [
        "new_df[new_df['Age'] > 47]['Age'].count() / new_df['Age'].shape[0]"
      ],
      "execution_count": 61,
      "outputs": [
        {
          "output_type": "execute_result",
          "data": {
            "text/plain": [
              "0.0555012084244447"
            ]
          },
          "metadata": {
            "tags": []
          },
          "execution_count": 61
        }
      ]
    },
    {
      "cell_type": "code",
      "metadata": {
        "colab": {
          "base_uri": "https://localhost:8080/"
        },
        "id": "UuYT4ihdfLW-",
        "outputId": "1afcb0e6-bd3f-4e2c-d6cb-f8032763300d"
      },
      "source": [
        "new_df[new_df['Age'] > 60]['Age'].count() / new_df['Age'].shape[0]"
      ],
      "execution_count": 62,
      "outputs": [
        {
          "output_type": "execute_result",
          "data": {
            "text/plain": [
              "0.006847738519967775"
            ]
          },
          "metadata": {
            "tags": []
          },
          "execution_count": 62
        }
      ]
    },
    {
      "cell_type": "markdown",
      "metadata": {
        "id": "pFZnP2TVfQoU"
      },
      "source": [
        "Since we still have a substantial percentage of data between 47 and 60, let's change the threshold to 60"
      ]
    },
    {
      "cell_type": "code",
      "metadata": {
        "colab": {
          "base_uri": "https://localhost:8080/"
        },
        "id": "7hhv4PdnfL3O",
        "outputId": "ebf3f18b-79f6-4482-f42c-3aa20c6794ea"
      },
      "source": [
        "new_df = new_df.query('Age < 60 & Age > 15')\r\n",
        "new_df.Age.describe()"
      ],
      "execution_count": 63,
      "outputs": [
        {
          "output_type": "execute_result",
          "data": {
            "text/plain": [
              "count    34448.000000\n",
              "mean        31.885348\n",
              "std          7.366108\n",
              "min         16.000000\n",
              "25%         27.000000\n",
              "50%         31.000000\n",
              "75%         35.000000\n",
              "max         59.000000\n",
              "Name: Age, dtype: float64"
            ]
          },
          "metadata": {
            "tags": []
          },
          "execution_count": 63
        }
      ]
    },
    {
      "cell_type": "markdown",
      "metadata": {
        "id": "_UZLLX4IfYNg"
      },
      "source": [
        "Looking at ConvertedComp - compensation in USD"
      ]
    },
    {
      "cell_type": "code",
      "metadata": {
        "colab": {
          "base_uri": "https://localhost:8080/"
        },
        "id": "mOfyfEuvfZdh",
        "outputId": "75080d43-3510-4c3b-bddb-52407345d0a3"
      },
      "source": [
        "new_df[\"ConvertedComp\"].describe().apply(lambda x: format(x, 'f'))"
      ],
      "execution_count": 64,
      "outputs": [
        {
          "output_type": "execute_result",
          "data": {
            "text/plain": [
              "count      34448.000000\n",
              "mean      103198.940490\n",
              "std       226385.268379\n",
              "min            0.000000\n",
              "25%        24515.500000\n",
              "50%        53508.000000\n",
              "75%        94600.000000\n",
              "max      2000000.000000\n",
              "Name: ConvertedComp, dtype: object"
            ]
          },
          "metadata": {
            "tags": []
          },
          "execution_count": 64
        }
      ]
    },
    {
      "cell_type": "code",
      "metadata": {
        "colab": {
          "base_uri": "https://localhost:8080/"
        },
        "id": "KhhqD8E-ffPG",
        "outputId": "03ec2cde-e75e-4e1c-947c-e5018d4f3b3a"
      },
      "source": [
        "#Tukey rule for Outliers\r\n",
        "Q1 = new_df['ConvertedComp'].quantile(0.25)\r\n",
        "Q3 = new_df['ConvertedComp'].quantile(0.75)\r\n",
        "\r\n",
        "IQR = Q3 -Q1\r\n",
        "\r\n",
        "Max = Q3 + 1.5*IQR\r\n",
        "Min = Q1 - 1.5*IQR\r\n",
        "print('Min value {} , Max value {}'.format(Min,Max))"
      ],
      "execution_count": 65,
      "outputs": [
        {
          "output_type": "stream",
          "text": [
            "Min value -80611.25 , Max value 199726.75\n"
          ],
          "name": "stdout"
        }
      ]
    },
    {
      "cell_type": "code",
      "metadata": {
        "colab": {
          "base_uri": "https://localhost:8080/"
        },
        "id": "1ym90Qs_hPLd",
        "outputId": "2424dfd5-0d18-4b2d-e18e-0c269804b4f7"
      },
      "source": [
        "#Quantity of values above 200000 (changed 199726 to 200000)\r\n",
        "\r\n",
        "new_df[new_df['ConvertedComp'] > 200000]['ConvertedComp'].count()"
      ],
      "execution_count": 66,
      "outputs": [
        {
          "output_type": "execute_result",
          "data": {
            "text/plain": [
              "2266"
            ]
          },
          "metadata": {
            "tags": []
          },
          "execution_count": 66
        }
      ]
    },
    {
      "cell_type": "code",
      "metadata": {
        "colab": {
          "base_uri": "https://localhost:8080/"
        },
        "id": "orILgYa6hSPu",
        "outputId": "34663616-c51c-4c8f-c0cb-d71031187e5b"
      },
      "source": [
        "#Percentage of values above 350000\r\n",
        "\r\n",
        "new_df[new_df['ConvertedComp'] > 350000].shape[0] / new_df['ConvertedComp'].shape[0]"
      ],
      "execution_count": 67,
      "outputs": [
        {
          "output_type": "execute_result",
          "data": {
            "text/plain": [
              "0.04284718996748723"
            ]
          },
          "metadata": {
            "tags": []
          },
          "execution_count": 67
        }
      ]
    },
    {
      "cell_type": "markdown",
      "metadata": {
        "id": "JyjSR5HohXg4"
      },
      "source": [
        "In order to keep our data of ConvertedComp closer to the range of tukey rule we are going to set out threshold to 350.000 (losing about 4% of that column)"
      ]
    },
    {
      "cell_type": "code",
      "metadata": {
        "colab": {
          "base_uri": "https://localhost:8080/"
        },
        "id": "aJYyiJYYhYiQ",
        "outputId": "1de31245-4971-4a90-fa64-c805cacb3024"
      },
      "source": [
        "new_df = new_df.query('ConvertedComp < 350000')\r\n",
        "new_df.ConvertedComp.describe()"
      ],
      "execution_count": 68,
      "outputs": [
        {
          "output_type": "execute_result",
          "data": {
            "text/plain": [
              "count     32949.000000\n",
              "mean      62924.632189\n",
              "std       53066.744267\n",
              "min           0.000000\n",
              "25%       23232.000000\n",
              "50%       50806.000000\n",
              "75%       86478.000000\n",
              "max      349043.000000\n",
              "Name: ConvertedComp, dtype: float64"
            ]
          },
          "metadata": {
            "tags": []
          },
          "execution_count": 68
        }
      ]
    },
    {
      "cell_type": "markdown",
      "metadata": {
        "id": "iU-12oRchiXm"
      },
      "source": [
        "Looking at YearsCodePro (years coding professionally)"
      ]
    },
    {
      "cell_type": "code",
      "metadata": {
        "colab": {
          "base_uri": "https://localhost:8080/"
        },
        "id": "ABDnCws4hcXW",
        "outputId": "e68bbd52-0aae-45a0-db01-122ec1eff676"
      },
      "source": [
        "new_df['YearsCodePro'].value_counts()"
      ],
      "execution_count": 69,
      "outputs": [
        {
          "output_type": "execute_result",
          "data": {
            "text/plain": [
              "3                     3451\n",
              "2                     3379\n",
              "5                     2876\n",
              "4                     2679\n",
              "6                     2066\n",
              "10                    1942\n",
              "1                     1885\n",
              "8                     1676\n",
              "7                     1657\n",
              "Less than 1 year      1406\n",
              "12                    1086\n",
              "15                    1067\n",
              "20                     956\n",
              "9                      926\n",
              "11                     739\n",
              "13                     674\n",
              "14                     553\n",
              "16                     457\n",
              "25                     384\n",
              "18                     367\n",
              "17                     329\n",
              "22                     311\n",
              "19                     273\n",
              "21                     265\n",
              "23                     227\n",
              "30                     215\n",
              "24                     174\n",
              "26                     128\n",
              "27                     104\n",
              "35                      87\n",
              "28                      85\n",
              "32                      65\n",
              "34                      54\n",
              "33                      51\n",
              "31                      50\n",
              "29                      47\n",
              "38                      27\n",
              "36                      27\n",
              "40                      25\n",
              "37                      19\n",
              "39                      10\n",
              "42                       7\n",
              "41                       4\n",
              "45                       3\n",
              "43                       3\n",
              "More than 50 years       2\n",
              "47                       1\n",
              "44                       1\n",
              "46                       1\n",
              "Name: YearsCodePro, dtype: int64"
            ]
          },
          "metadata": {
            "tags": []
          },
          "execution_count": 69
        }
      ]
    },
    {
      "cell_type": "markdown",
      "metadata": {
        "id": "JGvQ0OfrhvRc"
      },
      "source": [
        "To keep only numerical values, lets transform \"less than 1 year\" to 1 year and\r\n",
        "\"more than 50 years\" to 50"
      ]
    },
    {
      "cell_type": "code",
      "metadata": {
        "colab": {
          "base_uri": "https://localhost:8080/"
        },
        "id": "ZvyRrV0FhlDY",
        "outputId": "05228270-509f-4ab4-d155-66733c438969"
      },
      "source": [
        "new_df['YearsCodePro'][new_df['YearsCodePro'] == 'Less than 1 year'] = 1\r\n",
        "new_df['YearsCodePro'][new_df['YearsCodePro'] == 'More than 50 years'] = 50\r\n",
        "new_df['YearsCodePro'].value_counts()"
      ],
      "execution_count": 70,
      "outputs": [
        {
          "output_type": "stream",
          "text": [
            "/usr/local/lib/python3.6/dist-packages/ipykernel_launcher.py:2: SettingWithCopyWarning: \n",
            "A value is trying to be set on a copy of a slice from a DataFrame\n",
            "\n",
            "See the caveats in the documentation: https://pandas.pydata.org/pandas-docs/stable/user_guide/indexing.html#returning-a-view-versus-a-copy\n",
            "  \n"
          ],
          "name": "stderr"
        },
        {
          "output_type": "execute_result",
          "data": {
            "text/plain": [
              "3     3451\n",
              "2     3379\n",
              "5     2876\n",
              "4     2679\n",
              "6     2066\n",
              "10    1942\n",
              "1     1885\n",
              "8     1676\n",
              "7     1657\n",
              "1     1406\n",
              "12    1086\n",
              "15    1067\n",
              "20     956\n",
              "9      926\n",
              "11     739\n",
              "13     674\n",
              "14     553\n",
              "16     457\n",
              "25     384\n",
              "18     367\n",
              "17     329\n",
              "22     311\n",
              "19     273\n",
              "21     265\n",
              "23     227\n",
              "30     215\n",
              "24     174\n",
              "26     128\n",
              "27     104\n",
              "35      87\n",
              "28      85\n",
              "32      65\n",
              "34      54\n",
              "33      51\n",
              "31      50\n",
              "29      47\n",
              "38      27\n",
              "36      27\n",
              "40      25\n",
              "37      19\n",
              "39      10\n",
              "42       7\n",
              "41       4\n",
              "45       3\n",
              "43       3\n",
              "50       2\n",
              "46       1\n",
              "44       1\n",
              "47       1\n",
              "Name: YearsCodePro, dtype: int64"
            ]
          },
          "metadata": {
            "tags": []
          },
          "execution_count": 70
        }
      ]
    },
    {
      "cell_type": "code",
      "metadata": {
        "id": "FMFRskwfiyu-"
      },
      "source": [
        "#Since we have few percentage of missing, we'll drop them\r\n",
        "\r\n",
        "new_df.dropna(subset=['YearsCodePro'], inplace=True)"
      ],
      "execution_count": 71,
      "outputs": []
    },
    {
      "cell_type": "code",
      "metadata": {
        "colab": {
          "base_uri": "https://localhost:8080/"
        },
        "id": "yy_4GAfJi6uh",
        "outputId": "aec79d22-8d4e-4031-aa6a-5c70159e84bb"
      },
      "source": [
        "#Changing the column to int\r\n",
        "\r\n",
        "new_df['YearsCodePro'] = new_df['YearsCodePro'].astype('int')\r\n",
        "new_df['YearsCodePro'].describe()"
      ],
      "execution_count": 72,
      "outputs": [
        {
          "output_type": "execute_result",
          "data": {
            "text/plain": [
              "count    32821.000000\n",
              "mean         8.260565\n",
              "std          7.199562\n",
              "min          1.000000\n",
              "25%          3.000000\n",
              "50%          6.000000\n",
              "75%         11.000000\n",
              "max         50.000000\n",
              "Name: YearsCodePro, dtype: float64"
            ]
          },
          "metadata": {
            "tags": []
          },
          "execution_count": 72
        }
      ]
    },
    {
      "cell_type": "code",
      "metadata": {
        "colab": {
          "base_uri": "https://localhost:8080/",
          "height": 282
        },
        "id": "KF2QCbRhi7Nm",
        "outputId": "f3892d01-9980-4f59-b0d4-9488ad63e2bd"
      },
      "source": [
        "new_df['YearsCodePro'].plot(kind ='box')"
      ],
      "execution_count": 73,
      "outputs": [
        {
          "output_type": "execute_result",
          "data": {
            "text/plain": [
              "<matplotlib.axes._subplots.AxesSubplot at 0x7fc830e9d518>"
            ]
          },
          "metadata": {
            "tags": []
          },
          "execution_count": 73
        },
        {
          "output_type": "display_data",
          "data": {
            "image/png": "[encoded data removed]",
            "text/plain": [
              "<Figure size 432x288 with 1 Axes>"
            ]
          },
          "metadata": {
            "tags": [],
            "needs_background": "light"
          }
        }
      ]
    },
    {
      "cell_type": "code",
      "metadata": {
        "colab": {
          "base_uri": "https://localhost:8080/"
        },
        "id": "y30hR44YjAID",
        "outputId": "e5eb1ca7-26e7-4234-dbdc-a549a599d25f"
      },
      "source": [
        "#Tukey rule for outliers\r\n",
        "\r\n",
        "Q1 = new_df['YearsCodePro'].quantile(0.25)\r\n",
        "Q3 = new_df['YearsCodePro'].quantile(0.75)\r\n",
        "\r\n",
        "IQR = Q3 -Q1\r\n",
        "\r\n",
        "Max = Q3 + 1.5*IQR\r\n",
        "Min = Q1 - 1.5*IQR\r\n",
        "print('Min value {} , Max value {}'.format(Min,Max))"
      ],
      "execution_count": 74,
      "outputs": [
        {
          "output_type": "stream",
          "text": [
            "Min value -9.0 , Max value 23.0\n"
          ],
          "name": "stdout"
        }
      ]
    },
    {
      "cell_type": "code",
      "metadata": {
        "colab": {
          "base_uri": "https://localhost:8080/"
        },
        "id": "63v-lKuQjLx7",
        "outputId": "ebbceaff-c10b-4cbb-d1a6-ed1a1567f1b3"
      },
      "source": [
        "np.sort(new_df[new_df['YearsCodePro'] > 25]['YearsCodePro'].unique())"
      ],
      "execution_count": 75,
      "outputs": [
        {
          "output_type": "execute_result",
          "data": {
            "text/plain": [
              "array([26, 27, 28, 29, 30, 31, 32, 33, 34, 35, 36, 37, 38, 39, 40, 41, 42,\n",
              "       43, 44, 45, 46, 47, 50])"
            ]
          },
          "metadata": {
            "tags": []
          },
          "execution_count": 75
        }
      ]
    },
    {
      "cell_type": "markdown",
      "metadata": {
        "id": "9Tht078ojQ8D"
      },
      "source": [
        "After checking the above-listed values, we found a problem in YearsCodePro = 47, the Age is only 2 years higher than 47"
      ]
    },
    {
      "cell_type": "code",
      "metadata": {
        "colab": {
          "base_uri": "https://localhost:8080/",
          "height": 80
        },
        "id": "fSM86fokjMZc",
        "outputId": "843ede81-0f37-42e3-ebec-d6053efa7f7e"
      },
      "source": [
        "new_df[new_df['YearsCodePro'] == 47]"
      ],
      "execution_count": 76,
      "outputs": [
        {
          "output_type": "execute_result",
          "data": {
            "text/html": [
              "<div>\n",
              "<style scoped>\n",
              "    .dataframe tbody tr th:only-of-type {\n",
              "        vertical-align: middle;\n",
              "    }\n",
              "\n",
              "    .dataframe tbody tr th {\n",
              "        vertical-align: top;\n",
              "    }\n",
              "\n",
              "    .dataframe thead th {\n",
              "        text-align: right;\n",
              "    }\n",
              "</style>\n",
              "<table border=\"1\" class=\"dataframe\">\n",
              "  <thead>\n",
              "    <tr style=\"text-align: right;\">\n",
              "      <th></th>\n",
              "      <th>Age</th>\n",
              "      <th>ConvertedComp</th>\n",
              "      <th>YearsCodePro</th>\n",
              "      <th>Country</th>\n",
              "      <th>EdLevel</th>\n",
              "    </tr>\n",
              "  </thead>\n",
              "  <tbody>\n",
              "    <tr>\n",
              "      <th>52606</th>\n",
              "      <td>49.0</td>\n",
              "      <td>0.0</td>\n",
              "      <td>47</td>\n",
              "      <td>United States</td>\n",
              "      <td>Bachelor’s degree (B.A., B.S., B.Eng., etc.)</td>\n",
              "    </tr>\n",
              "  </tbody>\n",
              "</table>\n",
              "</div>"
            ],
            "text/plain": [
              "        Age  ...                                       EdLevel\n",
              "52606  49.0  ...  Bachelor’s degree (B.A., B.S., B.Eng., etc.)\n",
              "\n",
              "[1 rows x 5 columns]"
            ]
          },
          "metadata": {
            "tags": []
          },
          "execution_count": 76
        }
      ]
    },
    {
      "cell_type": "code",
      "metadata": {
        "colab": {
          "base_uri": "https://localhost:8080/"
        },
        "id": "oeTHRAD7jUJh",
        "outputId": "ed3d6610-6d79-4919-fb2e-6731335bd4b9"
      },
      "source": [
        "#dropp 47\r\n",
        "\r\n",
        "new_df = new_df[new_df.YearsCodePro != 47]\r\n",
        "new_df.shape"
      ],
      "execution_count": 77,
      "outputs": [
        {
          "output_type": "execute_result",
          "data": {
            "text/plain": [
              "(32820, 5)"
            ]
          },
          "metadata": {
            "tags": []
          },
          "execution_count": 77
        }
      ]
    },
    {
      "cell_type": "code",
      "metadata": {
        "colab": {
          "base_uri": "https://localhost:8080/",
          "height": 297
        },
        "id": "24ae6EJ-jXJQ",
        "outputId": "e754bcda-6b98-4b18-9700-e692ddb659c2"
      },
      "source": [
        "#Numerical Data from df (2020 survey)\r\n",
        "\r\n",
        "new_df.describe()"
      ],
      "execution_count": 78,
      "outputs": [
        {
          "output_type": "execute_result",
          "data": {
            "text/html": [
              "<div>\n",
              "<style scoped>\n",
              "    .dataframe tbody tr th:only-of-type {\n",
              "        vertical-align: middle;\n",
              "    }\n",
              "\n",
              "    .dataframe tbody tr th {\n",
              "        vertical-align: top;\n",
              "    }\n",
              "\n",
              "    .dataframe thead th {\n",
              "        text-align: right;\n",
              "    }\n",
              "</style>\n",
              "<table border=\"1\" class=\"dataframe\">\n",
              "  <thead>\n",
              "    <tr style=\"text-align: right;\">\n",
              "      <th></th>\n",
              "      <th>Age</th>\n",
              "      <th>ConvertedComp</th>\n",
              "      <th>YearsCodePro</th>\n",
              "    </tr>\n",
              "  </thead>\n",
              "  <tbody>\n",
              "    <tr>\n",
              "      <th>count</th>\n",
              "      <td>32820.000000</td>\n",
              "      <td>32820.000000</td>\n",
              "      <td>32820.000000</td>\n",
              "    </tr>\n",
              "    <tr>\n",
              "      <th>mean</th>\n",
              "      <td>31.834969</td>\n",
              "      <td>62999.763498</td>\n",
              "      <td>8.259385</td>\n",
              "    </tr>\n",
              "    <tr>\n",
              "      <th>std</th>\n",
              "      <td>7.368948</td>\n",
              "      <td>53084.304048</td>\n",
              "      <td>7.196495</td>\n",
              "    </tr>\n",
              "    <tr>\n",
              "      <th>min</th>\n",
              "      <td>16.000000</td>\n",
              "      <td>0.000000</td>\n",
              "      <td>1.000000</td>\n",
              "    </tr>\n",
              "    <tr>\n",
              "      <th>25%</th>\n",
              "      <td>26.600000</td>\n",
              "      <td>23301.000000</td>\n",
              "      <td>3.000000</td>\n",
              "    </tr>\n",
              "    <tr>\n",
              "      <th>50%</th>\n",
              "      <td>31.000000</td>\n",
              "      <td>50824.000000</td>\n",
              "      <td>6.000000</td>\n",
              "    </tr>\n",
              "    <tr>\n",
              "      <th>75%</th>\n",
              "      <td>35.000000</td>\n",
              "      <td>86478.000000</td>\n",
              "      <td>11.000000</td>\n",
              "    </tr>\n",
              "    <tr>\n",
              "      <th>max</th>\n",
              "      <td>59.000000</td>\n",
              "      <td>349043.000000</td>\n",
              "      <td>50.000000</td>\n",
              "    </tr>\n",
              "  </tbody>\n",
              "</table>\n",
              "</div>"
            ],
            "text/plain": [
              "                Age  ConvertedComp  YearsCodePro\n",
              "count  32820.000000   32820.000000  32820.000000\n",
              "mean      31.834969   62999.763498      8.259385\n",
              "std        7.368948   53084.304048      7.196495\n",
              "min       16.000000       0.000000      1.000000\n",
              "25%       26.600000   23301.000000      3.000000\n",
              "50%       31.000000   50824.000000      6.000000\n",
              "75%       35.000000   86478.000000     11.000000\n",
              "max       59.000000  349043.000000     50.000000"
            ]
          },
          "metadata": {
            "tags": []
          },
          "execution_count": 78
        }
      ]
    },
    {
      "cell_type": "markdown",
      "metadata": {
        "id": "jHcwG7XjjhJw"
      },
      "source": [
        "Looking into \"Country\" data"
      ]
    },
    {
      "cell_type": "code",
      "metadata": {
        "colab": {
          "base_uri": "https://localhost:8080/"
        },
        "id": "6Zvv5LUDjgTP",
        "outputId": "fb40af41-af8b-4d2f-f1ff-108de5f162be"
      },
      "source": [
        "new_df.Country.value_counts()"
      ],
      "execution_count": 79,
      "outputs": [
        {
          "output_type": "execute_result",
          "data": {
            "text/plain": [
              "United States                       7379\n",
              "India                               2613\n",
              "United Kingdom                      2295\n",
              "Germany                             2193\n",
              "Canada                              1260\n",
              "                                    ... \n",
              "Burkina Faso                           1\n",
              "Niger                                  1\n",
              "Yemen                                  1\n",
              "Malawi                                 1\n",
              "Saint Vincent and the Grenadines       1\n",
              "Name: Country, Length: 159, dtype: int64"
            ]
          },
          "metadata": {
            "tags": []
          },
          "execution_count": 79
        }
      ]
    },
    {
      "cell_type": "code",
      "metadata": {
        "colab": {
          "base_uri": "https://localhost:8080/"
        },
        "id": "iduvPTNWjjfX",
        "outputId": "de776516-27d1-40da-854f-2c265a8cd72b"
      },
      "source": [
        "list_countries = list(new_df.Country.value_counts().loc[lambda x : x > 100].to_frame().index)\r\n",
        "(new_df.shape[0] - new_df[new_df['Country'].isin(list_countries)].shape[0]) / new_df.shape[0]"
      ],
      "execution_count": 80,
      "outputs": [
        {
          "output_type": "execute_result",
          "data": {
            "text/plain": [
              "0.06828153564899452"
            ]
          },
          "metadata": {
            "tags": []
          },
          "execution_count": 80
        }
      ]
    },
    {
      "cell_type": "markdown",
      "metadata": {
        "id": "jCO-SfgejpuE"
      },
      "source": [
        "We are going to discard countries with less than 100 total of population, since it can bias a future model (few samplings to train)"
      ]
    },
    {
      "cell_type": "code",
      "metadata": {
        "id": "de9g8m43jm1a"
      },
      "source": [
        "new_df = new_df[new_df['Country'].isin(list_countries)]"
      ],
      "execution_count": 81,
      "outputs": []
    },
    {
      "cell_type": "markdown",
      "metadata": {
        "id": "5vxiDXjejvsF"
      },
      "source": [
        "Looking into EdLevel (Education data)"
      ]
    },
    {
      "cell_type": "code",
      "metadata": {
        "colab": {
          "base_uri": "https://localhost:8080/"
        },
        "id": "BHIWBiHJjtEz",
        "outputId": "98aeb599-99f8-4991-d713-4cd5574a5dbc"
      },
      "source": [
        "new_df['EdLevel'].isnull().sum()"
      ],
      "execution_count": 82,
      "outputs": [
        {
          "output_type": "execute_result",
          "data": {
            "text/plain": [
              "499"
            ]
          },
          "metadata": {
            "tags": []
          },
          "execution_count": 82
        }
      ]
    },
    {
      "cell_type": "code",
      "metadata": {
        "id": "TCau9rmYj4wD"
      },
      "source": [
        "#Dropping remaining missing values from new_df\r\n",
        "\r\n",
        "new_df.dropna(subset=['EdLevel', 'Country'], inplace=True)"
      ],
      "execution_count": 83,
      "outputs": []
    },
    {
      "cell_type": "code",
      "metadata": {
        "colab": {
          "base_uri": "https://localhost:8080/"
        },
        "id": "vLV_zjpzkAmp",
        "outputId": "93027d68-924c-40ce-9358-e393f52a50a6"
      },
      "source": [
        "new_df['EdLevel'].value_counts(normalize=True)"
      ],
      "execution_count": 84,
      "outputs": [
        {
          "output_type": "execute_result",
          "data": {
            "text/plain": [
              "Bachelor’s degree (B.A., B.S., B.Eng., etc.)                                          0.489328\n",
              "Master’s degree (M.A., M.S., M.Eng., MBA, etc.)                                       0.257148\n",
              "Some college/university study without earning a degree                                0.119049\n",
              "Secondary school (e.g. American high school, German Realschule or Gymnasium, etc.)    0.044182\n",
              "Associate degree (A.A., A.S., etc.)                                                   0.034707\n",
              "Other doctoral degree (Ph.D., Ed.D., etc.)                                            0.033610\n",
              "Professional degree (JD, MD, etc.)                                                    0.013597\n",
              "Primary/elementary school                                                             0.004255\n",
              "I never completed any formal education                                                0.004122\n",
              "Name: EdLevel, dtype: float64"
            ]
          },
          "metadata": {
            "tags": []
          },
          "execution_count": 84
        }
      ]
    },
    {
      "cell_type": "code",
      "metadata": {
        "colab": {
          "base_uri": "https://localhost:8080/",
          "height": 706
        },
        "id": "I1tlCDvdkKV0",
        "outputId": "d1920c46-2b82-4a67-c1fb-7f26595c360b"
      },
      "source": [
        "new_df['EdLevel'].value_counts(normalize=True).plot(kind='bar')"
      ],
      "execution_count": 85,
      "outputs": [
        {
          "output_type": "execute_result",
          "data": {
            "text/plain": [
              "<matplotlib.axes._subplots.AxesSubplot at 0x7fc830e646a0>"
            ]
          },
          "metadata": {
            "tags": []
          },
          "execution_count": 85
        },
        {
          "output_type": "display_data",
          "data": {
            "image/png": "[encoded data removed]",
            "text/plain": [
              "<Figure size 432x288 with 1 Axes>"
            ]
          },
          "metadata": {
            "tags": [],
            "needs_background": "light"
          }
        }
      ]
    },
    {
      "cell_type": "markdown",
      "metadata": {
        "id": "CVGBXhAlj2GZ"
      },
      "source": [
        "**Asses and clean df2 (2015 survey)**"
      ]
    },
    {
      "cell_type": "code",
      "metadata": {
        "colab": {
          "base_uri": "https://localhost:8080/",
          "height": 763
        },
        "id": "Sgslp5w1kVU5",
        "outputId": "55e4a1a0-a2df-4002-ef91-911b1d0e258c"
      },
      "source": [
        "df2.head()"
      ],
      "execution_count": 86,
      "outputs": [
        {
          "output_type": "execute_result",
          "data": {
            "text/html": [
              "<div>\n",
              "<style scoped>\n",
              "    .dataframe tbody tr th:only-of-type {\n",
              "        vertical-align: middle;\n",
              "    }\n",
              "\n",
              "    .dataframe tbody tr th {\n",
              "        vertical-align: top;\n",
              "    }\n",
              "\n",
              "    .dataframe thead th {\n",
              "        text-align: right;\n",
              "    }\n",
              "</style>\n",
              "<table border=\"1\" class=\"dataframe\">\n",
              "  <thead>\n",
              "    <tr style=\"text-align: right;\">\n",
              "      <th></th>\n",
              "      <th>Country</th>\n",
              "      <th>Age</th>\n",
              "      <th>Gender</th>\n",
              "      <th>Tabs or Spaces</th>\n",
              "      <th>Years IT / Programming Experience</th>\n",
              "      <th>Occupation</th>\n",
              "      <th>Desktop Operating System</th>\n",
              "      <th>Desktop Operating System: write-in</th>\n",
              "      <th>Current Lang &amp; Tech: Android</th>\n",
              "      <th>Current Lang &amp; Tech: Arduino</th>\n",
              "      <th>Current Lang &amp; Tech: AngularJS</th>\n",
              "      <th>Current Lang &amp; Tech: C</th>\n",
              "      <th>Current Lang &amp; Tech: C++</th>\n",
              "      <th>Current Lang &amp; Tech: C++11</th>\n",
              "      <th>Current Lang &amp; Tech: C#</th>\n",
              "      <th>Current Lang &amp; Tech: Cassandra</th>\n",
              "      <th>Current Lang &amp; Tech: CoffeeScript</th>\n",
              "      <th>Current Lang &amp; Tech: Cordova</th>\n",
              "      <th>Current Lang &amp; Tech: Clojure</th>\n",
              "      <th>Current Lang &amp; Tech: Cloud</th>\n",
              "      <th>Current Lang &amp; Tech: Dart</th>\n",
              "      <th>Current Lang &amp; Tech: F#</th>\n",
              "      <th>Current Lang &amp; Tech: Go</th>\n",
              "      <th>Current Lang &amp; Tech: Hadoop</th>\n",
              "      <th>Current Lang &amp; Tech: Haskell</th>\n",
              "      <th>Current Lang &amp; Tech: iOS</th>\n",
              "      <th>Current Lang &amp; Tech: Java</th>\n",
              "      <th>Current Lang &amp; Tech: JavaScript</th>\n",
              "      <th>Current Lang &amp; Tech: LAMP</th>\n",
              "      <th>Current Lang &amp; Tech: Matlab</th>\n",
              "      <th>Current Lang &amp; Tech: MongoDB</th>\n",
              "      <th>Current Lang &amp; Tech: Node.js</th>\n",
              "      <th>Current Lang &amp; Tech: Objective-C</th>\n",
              "      <th>Current Lang &amp; Tech: Perl</th>\n",
              "      <th>Current Lang &amp; Tech: PHP</th>\n",
              "      <th>Current Lang &amp; Tech: Python</th>\n",
              "      <th>Current Lang &amp; Tech: R</th>\n",
              "      <th>Current Lang &amp; Tech: Redis</th>\n",
              "      <th>Current Lang &amp; Tech: Ruby</th>\n",
              "      <th>Current Lang &amp; Tech: Rust</th>\n",
              "      <th>...</th>\n",
              "      <th>Why try Stack Overflow Careers: Showcase Stack Overflow activity</th>\n",
              "      <th>Why try Stack Overflow Careers: Jobs are on Stack Overflow</th>\n",
              "      <th>Why try Stack Overflow Careers: Other</th>\n",
              "      <th>How many caffeinated beverages per day?</th>\n",
              "      <th>How many hours programming as hobby per week?</th>\n",
              "      <th>How frequently land on or read Stack Overflow</th>\n",
              "      <th>Preferred text editor</th>\n",
              "      <th>Preferred text editor: write-in</th>\n",
              "      <th>Prefered IDE theme</th>\n",
              "      <th>Source control used: Git</th>\n",
              "      <th>Source control used: Mercurial</th>\n",
              "      <th>Source control used: SVN</th>\n",
              "      <th>Source control used: CVS</th>\n",
              "      <th>Source control used: Perforce</th>\n",
              "      <th>Source control used: TFS</th>\n",
              "      <th>Source control used: DCVS</th>\n",
              "      <th>Source control used: Bitkeeper</th>\n",
              "      <th>Source control used: Legacy / Custom</th>\n",
              "      <th>Source control used: I don't use source control</th>\n",
              "      <th>Source control used: write-in</th>\n",
              "      <th>Prefered Source Control</th>\n",
              "      <th>Prefered Source Control: write-in</th>\n",
              "      <th>Why use Stack Overflow: Help for job</th>\n",
              "      <th>Why use Stack Overflow: To give help</th>\n",
              "      <th>Why use Stack Overflow: Can't do job without it</th>\n",
              "      <th>Why use Stack Overflow: Maintain online presence</th>\n",
              "      <th>Why use Stack Overflow: Demonstrate expertise</th>\n",
              "      <th>Why use Stack Overflow: Communicate with others</th>\n",
              "      <th>Why use Stack Overflow: Receive help on personal projects</th>\n",
              "      <th>Why use Stack Overflow: Love to learn</th>\n",
              "      <th>Why use Stack Overflow: I don't use Stack Overflow</th>\n",
              "      <th>How often are Stack Overflow's answers helpful</th>\n",
              "      <th>Why answer: Help a programmer in need</th>\n",
              "      <th>Why answer: Help future programmers</th>\n",
              "      <th>Why answer: Demonstrate expertise</th>\n",
              "      <th>Why answer: Self promotion</th>\n",
              "      <th>Why answer: Sense of responsibility to developers</th>\n",
              "      <th>Why answer: No idea</th>\n",
              "      <th>Why answer: I don't answer and I don't want to</th>\n",
              "      <th>Why answer: I don't answer but I want to</th>\n",
              "    </tr>\n",
              "  </thead>\n",
              "  <tbody>\n",
              "    <tr>\n",
              "      <th>0</th>\n",
              "      <td>Croatia</td>\n",
              "      <td>25-29</td>\n",
              "      <td>Male</td>\n",
              "      <td>Tabs</td>\n",
              "      <td>2 - 5 years</td>\n",
              "      <td>Back-end web developer</td>\n",
              "      <td>Ubuntu</td>\n",
              "      <td>NaN</td>\n",
              "      <td>NaN</td>\n",
              "      <td>NaN</td>\n",
              "      <td>NaN</td>\n",
              "      <td>NaN</td>\n",
              "      <td>NaN</td>\n",
              "      <td>NaN</td>\n",
              "      <td>NaN</td>\n",
              "      <td>NaN</td>\n",
              "      <td>NaN</td>\n",
              "      <td>NaN</td>\n",
              "      <td>NaN</td>\n",
              "      <td>NaN</td>\n",
              "      <td>NaN</td>\n",
              "      <td>NaN</td>\n",
              "      <td>NaN</td>\n",
              "      <td>NaN</td>\n",
              "      <td>NaN</td>\n",
              "      <td>NaN</td>\n",
              "      <td>Java</td>\n",
              "      <td>NaN</td>\n",
              "      <td>NaN</td>\n",
              "      <td>NaN</td>\n",
              "      <td>NaN</td>\n",
              "      <td>NaN</td>\n",
              "      <td>NaN</td>\n",
              "      <td>NaN</td>\n",
              "      <td>NaN</td>\n",
              "      <td>NaN</td>\n",
              "      <td>NaN</td>\n",
              "      <td>NaN</td>\n",
              "      <td>NaN</td>\n",
              "      <td>NaN</td>\n",
              "      <td>...</td>\n",
              "      <td>To showcase my Stack Overflow activity</td>\n",
              "      <td>Because the jobs ads are right there on Stack ...</td>\n",
              "      <td>NaN</td>\n",
              "      <td>0</td>\n",
              "      <td>5-10 hours per week</td>\n",
              "      <td>Multipleætimes a day</td>\n",
              "      <td>Sublime Text</td>\n",
              "      <td>NaN</td>\n",
              "      <td>Dark</td>\n",
              "      <td>NaN</td>\n",
              "      <td>Mercurial</td>\n",
              "      <td>NaN</td>\n",
              "      <td>NaN</td>\n",
              "      <td>NaN</td>\n",
              "      <td>NaN</td>\n",
              "      <td>NaN</td>\n",
              "      <td>NaN</td>\n",
              "      <td>NaN</td>\n",
              "      <td>NaN</td>\n",
              "      <td>NaN</td>\n",
              "      <td>Mercurial</td>\n",
              "      <td>NaN</td>\n",
              "      <td>To get help for my job</td>\n",
              "      <td>To give help to others</td>\n",
              "      <td>Because I can't do my job without it</td>\n",
              "      <td>NaN</td>\n",
              "      <td>To demonstrate that I'm good at what I do</td>\n",
              "      <td>NaN</td>\n",
              "      <td>To receive help onæmy personal projects</td>\n",
              "      <td>Because I love to learn</td>\n",
              "      <td>NaN</td>\n",
              "      <td>Usually</td>\n",
              "      <td>NaN</td>\n",
              "      <td>NaN</td>\n",
              "      <td>It feels good to demonstrate my expertise.</td>\n",
              "      <td>Demonstrating my expertise will benefit me</td>\n",
              "      <td>I feel a sense of responsibility to the develo...</td>\n",
              "      <td>NaN</td>\n",
              "      <td>NaN</td>\n",
              "      <td>NaN</td>\n",
              "    </tr>\n",
              "    <tr>\n",
              "      <th>1</th>\n",
              "      <td>France</td>\n",
              "      <td>20-24</td>\n",
              "      <td>Male</td>\n",
              "      <td>Spaces</td>\n",
              "      <td>1 - 2 years</td>\n",
              "      <td>Back-end web developer</td>\n",
              "      <td>Windows 7</td>\n",
              "      <td>NaN</td>\n",
              "      <td>NaN</td>\n",
              "      <td>NaN</td>\n",
              "      <td>NaN</td>\n",
              "      <td>NaN</td>\n",
              "      <td>NaN</td>\n",
              "      <td>NaN</td>\n",
              "      <td>C#</td>\n",
              "      <td>NaN</td>\n",
              "      <td>NaN</td>\n",
              "      <td>NaN</td>\n",
              "      <td>NaN</td>\n",
              "      <td>NaN</td>\n",
              "      <td>NaN</td>\n",
              "      <td>NaN</td>\n",
              "      <td>NaN</td>\n",
              "      <td>NaN</td>\n",
              "      <td>NaN</td>\n",
              "      <td>NaN</td>\n",
              "      <td>NaN</td>\n",
              "      <td>NaN</td>\n",
              "      <td>NaN</td>\n",
              "      <td>NaN</td>\n",
              "      <td>NaN</td>\n",
              "      <td>NaN</td>\n",
              "      <td>NaN</td>\n",
              "      <td>NaN</td>\n",
              "      <td>NaN</td>\n",
              "      <td>NaN</td>\n",
              "      <td>NaN</td>\n",
              "      <td>NaN</td>\n",
              "      <td>NaN</td>\n",
              "      <td>NaN</td>\n",
              "      <td>...</td>\n",
              "      <td>NaN</td>\n",
              "      <td>NaN</td>\n",
              "      <td>NaN</td>\n",
              "      <td>3</td>\n",
              "      <td>2-5 hours per week</td>\n",
              "      <td>Once a day</td>\n",
              "      <td>NaN</td>\n",
              "      <td>Visual Studio 2013</td>\n",
              "      <td>Light</td>\n",
              "      <td>Git</td>\n",
              "      <td>NaN</td>\n",
              "      <td>NaN</td>\n",
              "      <td>NaN</td>\n",
              "      <td>NaN</td>\n",
              "      <td>TFS</td>\n",
              "      <td>NaN</td>\n",
              "      <td>NaN</td>\n",
              "      <td>NaN</td>\n",
              "      <td>NaN</td>\n",
              "      <td>NaN</td>\n",
              "      <td>TFS</td>\n",
              "      <td>NaN</td>\n",
              "      <td>To get help for my job</td>\n",
              "      <td>To give help to others</td>\n",
              "      <td>NaN</td>\n",
              "      <td>NaN</td>\n",
              "      <td>NaN</td>\n",
              "      <td>NaN</td>\n",
              "      <td>To receive help onæmy personal projects</td>\n",
              "      <td>NaN</td>\n",
              "      <td>NaN</td>\n",
              "      <td>Usually</td>\n",
              "      <td>NaN</td>\n",
              "      <td>My answer will help lots of people who have th...</td>\n",
              "      <td>It feels good to demonstrate my expertise.</td>\n",
              "      <td>NaN</td>\n",
              "      <td>NaN</td>\n",
              "      <td>NaN</td>\n",
              "      <td>NaN</td>\n",
              "      <td>NaN</td>\n",
              "    </tr>\n",
              "    <tr>\n",
              "      <th>2</th>\n",
              "      <td>India</td>\n",
              "      <td>20-24</td>\n",
              "      <td>Male</td>\n",
              "      <td>Tabs</td>\n",
              "      <td>1 - 2 years</td>\n",
              "      <td>Back-end web developer</td>\n",
              "      <td>Windows 7</td>\n",
              "      <td>NaN</td>\n",
              "      <td>NaN</td>\n",
              "      <td>NaN</td>\n",
              "      <td>NaN</td>\n",
              "      <td>NaN</td>\n",
              "      <td>NaN</td>\n",
              "      <td>NaN</td>\n",
              "      <td>C#</td>\n",
              "      <td>NaN</td>\n",
              "      <td>NaN</td>\n",
              "      <td>NaN</td>\n",
              "      <td>NaN</td>\n",
              "      <td>NaN</td>\n",
              "      <td>NaN</td>\n",
              "      <td>NaN</td>\n",
              "      <td>NaN</td>\n",
              "      <td>NaN</td>\n",
              "      <td>NaN</td>\n",
              "      <td>NaN</td>\n",
              "      <td>NaN</td>\n",
              "      <td>NaN</td>\n",
              "      <td>NaN</td>\n",
              "      <td>NaN</td>\n",
              "      <td>NaN</td>\n",
              "      <td>NaN</td>\n",
              "      <td>NaN</td>\n",
              "      <td>NaN</td>\n",
              "      <td>NaN</td>\n",
              "      <td>NaN</td>\n",
              "      <td>NaN</td>\n",
              "      <td>NaN</td>\n",
              "      <td>NaN</td>\n",
              "      <td>NaN</td>\n",
              "      <td>...</td>\n",
              "      <td>NaN</td>\n",
              "      <td>NaN</td>\n",
              "      <td>NaN</td>\n",
              "      <td>4</td>\n",
              "      <td>5-10 hours per week</td>\n",
              "      <td>Once a day</td>\n",
              "      <td>XEmacs</td>\n",
              "      <td>NaN</td>\n",
              "      <td>Dark</td>\n",
              "      <td>NaN</td>\n",
              "      <td>NaN</td>\n",
              "      <td>SVN</td>\n",
              "      <td>NaN</td>\n",
              "      <td>NaN</td>\n",
              "      <td>NaN</td>\n",
              "      <td>NaN</td>\n",
              "      <td>NaN</td>\n",
              "      <td>NaN</td>\n",
              "      <td>NaN</td>\n",
              "      <td>NaN</td>\n",
              "      <td>SVN</td>\n",
              "      <td>NaN</td>\n",
              "      <td>NaN</td>\n",
              "      <td>NaN</td>\n",
              "      <td>NaN</td>\n",
              "      <td>NaN</td>\n",
              "      <td>NaN</td>\n",
              "      <td>NaN</td>\n",
              "      <td>To receive help onæmy personal projects</td>\n",
              "      <td>NaN</td>\n",
              "      <td>NaN</td>\n",
              "      <td>Rarely</td>\n",
              "      <td>NaN</td>\n",
              "      <td>NaN</td>\n",
              "      <td>NaN</td>\n",
              "      <td>Demonstrating my expertise will benefit me</td>\n",
              "      <td>NaN</td>\n",
              "      <td>NaN</td>\n",
              "      <td>NaN</td>\n",
              "      <td>NaN</td>\n",
              "    </tr>\n",
              "    <tr>\n",
              "      <th>3</th>\n",
              "      <td>Latvia</td>\n",
              "      <td>25-29</td>\n",
              "      <td>Male</td>\n",
              "      <td>It depends</td>\n",
              "      <td>6 - 10 years</td>\n",
              "      <td>Back-end web developer</td>\n",
              "      <td>Ubuntu</td>\n",
              "      <td>NaN</td>\n",
              "      <td>NaN</td>\n",
              "      <td>NaN</td>\n",
              "      <td>NaN</td>\n",
              "      <td>NaN</td>\n",
              "      <td>NaN</td>\n",
              "      <td>NaN</td>\n",
              "      <td>NaN</td>\n",
              "      <td>NaN</td>\n",
              "      <td>NaN</td>\n",
              "      <td>NaN</td>\n",
              "      <td>NaN</td>\n",
              "      <td>NaN</td>\n",
              "      <td>NaN</td>\n",
              "      <td>NaN</td>\n",
              "      <td>NaN</td>\n",
              "      <td>NaN</td>\n",
              "      <td>NaN</td>\n",
              "      <td>NaN</td>\n",
              "      <td>NaN</td>\n",
              "      <td>JavaScript</td>\n",
              "      <td>LAMP</td>\n",
              "      <td>NaN</td>\n",
              "      <td>NaN</td>\n",
              "      <td>Node.js</td>\n",
              "      <td>NaN</td>\n",
              "      <td>NaN</td>\n",
              "      <td>PHP</td>\n",
              "      <td>Python</td>\n",
              "      <td>NaN</td>\n",
              "      <td>Redis</td>\n",
              "      <td>NaN</td>\n",
              "      <td>NaN</td>\n",
              "      <td>...</td>\n",
              "      <td>To showcase my Stack Overflow activity</td>\n",
              "      <td>NaN</td>\n",
              "      <td>NaN</td>\n",
              "      <td>2</td>\n",
              "      <td>5-10 hours per week</td>\n",
              "      <td>Multipleætimes a day</td>\n",
              "      <td>Sublime Text</td>\n",
              "      <td>NaN</td>\n",
              "      <td>Dark</td>\n",
              "      <td>Git</td>\n",
              "      <td>NaN</td>\n",
              "      <td>SVN</td>\n",
              "      <td>NaN</td>\n",
              "      <td>NaN</td>\n",
              "      <td>NaN</td>\n",
              "      <td>NaN</td>\n",
              "      <td>NaN</td>\n",
              "      <td>NaN</td>\n",
              "      <td>NaN</td>\n",
              "      <td>NaN</td>\n",
              "      <td>Git</td>\n",
              "      <td>NaN</td>\n",
              "      <td>To get help for my job</td>\n",
              "      <td>To give help to others</td>\n",
              "      <td>NaN</td>\n",
              "      <td>NaN</td>\n",
              "      <td>To demonstrate that I'm good at what I do</td>\n",
              "      <td>To communicate with others like me</td>\n",
              "      <td>NaN</td>\n",
              "      <td>Because I love to learn</td>\n",
              "      <td>NaN</td>\n",
              "      <td>Usually</td>\n",
              "      <td>It feels good to help a programmer in need</td>\n",
              "      <td>My answer will help lots of people who have th...</td>\n",
              "      <td>It feels good to demonstrate my expertise.</td>\n",
              "      <td>Demonstrating my expertise will benefit me</td>\n",
              "      <td>I feel a sense of responsibility to the develo...</td>\n",
              "      <td>NaN</td>\n",
              "      <td>NaN</td>\n",
              "      <td>NaN</td>\n",
              "    </tr>\n",
              "    <tr>\n",
              "      <th>4</th>\n",
              "      <td>Norway</td>\n",
              "      <td>30-34</td>\n",
              "      <td>Male</td>\n",
              "      <td>Tabs</td>\n",
              "      <td>2 - 5 years</td>\n",
              "      <td>Back-end web developer</td>\n",
              "      <td>Windows 8</td>\n",
              "      <td>NaN</td>\n",
              "      <td>NaN</td>\n",
              "      <td>NaN</td>\n",
              "      <td>NaN</td>\n",
              "      <td>NaN</td>\n",
              "      <td>NaN</td>\n",
              "      <td>NaN</td>\n",
              "      <td>C#</td>\n",
              "      <td>NaN</td>\n",
              "      <td>NaN</td>\n",
              "      <td>NaN</td>\n",
              "      <td>NaN</td>\n",
              "      <td>NaN</td>\n",
              "      <td>NaN</td>\n",
              "      <td>NaN</td>\n",
              "      <td>Go</td>\n",
              "      <td>NaN</td>\n",
              "      <td>NaN</td>\n",
              "      <td>NaN</td>\n",
              "      <td>NaN</td>\n",
              "      <td>NaN</td>\n",
              "      <td>NaN</td>\n",
              "      <td>NaN</td>\n",
              "      <td>NaN</td>\n",
              "      <td>NaN</td>\n",
              "      <td>NaN</td>\n",
              "      <td>NaN</td>\n",
              "      <td>NaN</td>\n",
              "      <td>NaN</td>\n",
              "      <td>NaN</td>\n",
              "      <td>NaN</td>\n",
              "      <td>NaN</td>\n",
              "      <td>NaN</td>\n",
              "      <td>...</td>\n",
              "      <td>NaN</td>\n",
              "      <td>NaN</td>\n",
              "      <td>NaN</td>\n",
              "      <td>6</td>\n",
              "      <td>5-10 hours per week</td>\n",
              "      <td>Multipleætimes a day</td>\n",
              "      <td>Sublime Text</td>\n",
              "      <td>NaN</td>\n",
              "      <td>Dark</td>\n",
              "      <td>Git</td>\n",
              "      <td>NaN</td>\n",
              "      <td>NaN</td>\n",
              "      <td>NaN</td>\n",
              "      <td>NaN</td>\n",
              "      <td>TFS</td>\n",
              "      <td>NaN</td>\n",
              "      <td>NaN</td>\n",
              "      <td>NaN</td>\n",
              "      <td>NaN</td>\n",
              "      <td>NaN</td>\n",
              "      <td>Git</td>\n",
              "      <td>NaN</td>\n",
              "      <td>To get help for my job</td>\n",
              "      <td>NaN</td>\n",
              "      <td>NaN</td>\n",
              "      <td>NaN</td>\n",
              "      <td>NaN</td>\n",
              "      <td>NaN</td>\n",
              "      <td>NaN</td>\n",
              "      <td>Because I love to learn</td>\n",
              "      <td>NaN</td>\n",
              "      <td>Usually</td>\n",
              "      <td>It feels good to help a programmer in need</td>\n",
              "      <td>NaN</td>\n",
              "      <td>NaN</td>\n",
              "      <td>Demonstrating my expertise will benefit me</td>\n",
              "      <td>NaN</td>\n",
              "      <td>NaN</td>\n",
              "      <td>NaN</td>\n",
              "      <td>I don't answer much (or at all), but I want to...</td>\n",
              "    </tr>\n",
              "  </tbody>\n",
              "</table>\n",
              "<p>5 rows × 222 columns</p>\n",
              "</div>"
            ],
            "text/plain": [
              "   Country  ...           Why answer: I don't answer but I want to\n",
              "0  Croatia  ...                                                NaN\n",
              "1   France  ...                                                NaN\n",
              "2    India  ...                                                NaN\n",
              "3   Latvia  ...                                                NaN\n",
              "4   Norway  ...  I don't answer much (or at all), but I want to...\n",
              "\n",
              "[5 rows x 222 columns]"
            ]
          },
          "metadata": {
            "tags": []
          },
          "execution_count": 86
        }
      ]
    },
    {
      "cell_type": "code",
      "metadata": {
        "colab": {
          "base_uri": "https://localhost:8080/"
        },
        "id": "mkn7o53mkXFd",
        "outputId": "048378dd-9c8d-4f58-9c27-3c3d3f5c915f"
      },
      "source": [
        "df2.shape"
      ],
      "execution_count": 87,
      "outputs": [
        {
          "output_type": "execute_result",
          "data": {
            "text/plain": [
              "(26086, 222)"
            ]
          },
          "metadata": {
            "tags": []
          },
          "execution_count": 87
        }
      ]
    },
    {
      "cell_type": "markdown",
      "metadata": {
        "id": "plaIdcbDC-a3"
      },
      "source": [
        "Since we have too many columns, let's check columns with values missing in df2 (dataframe 2015) > 65%"
      ]
    },
    {
      "cell_type": "code",
      "metadata": {
        "colab": {
          "base_uri": "https://localhost:8080/"
        },
        "id": "WAt_ysCpC_sT",
        "outputId": "650dbe66-3632-4a44-b0fa-e1a32d213dd0"
      },
      "source": [
        "#columns with values missing in df2 (dataframe 2015) > 65%\r\n",
        " \r\n",
        "missing_df2 = list(df2.columns[df2.isnull().mean() > 0.65])\r\n",
        "missing_df2"
      ],
      "execution_count": 88,
      "outputs": [
        {
          "output_type": "execute_result",
          "data": {
            "text/plain": [
              "['Desktop Operating System: write-in',\n",
              " 'Current Lang & Tech: Android',\n",
              " 'Current Lang & Tech: Arduino',\n",
              " 'Current Lang & Tech: AngularJS',\n",
              " 'Current Lang & Tech: C',\n",
              " 'Current Lang & Tech: C++',\n",
              " 'Current Lang & Tech: C++11',\n",
              " 'Current Lang & Tech: C#',\n",
              " 'Current Lang & Tech: Cassandra',\n",
              " 'Current Lang & Tech: CoffeeScript',\n",
              " 'Current Lang & Tech: Cordova',\n",
              " 'Current Lang & Tech: Clojure',\n",
              " 'Current Lang & Tech: Cloud',\n",
              " 'Current Lang & Tech: Dart',\n",
              " 'Current Lang & Tech: F#',\n",
              " 'Current Lang & Tech: Go',\n",
              " 'Current Lang & Tech: Hadoop',\n",
              " 'Current Lang & Tech: Haskell',\n",
              " 'Current Lang & Tech: iOS',\n",
              " 'Current Lang & Tech: Java',\n",
              " 'Current Lang & Tech: LAMP',\n",
              " 'Current Lang & Tech: Matlab',\n",
              " 'Current Lang & Tech: MongoDB',\n",
              " 'Current Lang & Tech: Node.js',\n",
              " 'Current Lang & Tech: Objective-C',\n",
              " 'Current Lang & Tech: Perl',\n",
              " 'Current Lang & Tech: PHP',\n",
              " 'Current Lang & Tech: Python',\n",
              " 'Current Lang & Tech: R',\n",
              " 'Current Lang & Tech: Redis',\n",
              " 'Current Lang & Tech: Ruby',\n",
              " 'Current Lang & Tech: Rust',\n",
              " 'Current Lang & Tech: Salesforce',\n",
              " 'Current Lang & Tech: Scala',\n",
              " 'Current Lang & Tech: Sharepoint',\n",
              " 'Current Lang & Tech: Spark',\n",
              " 'Current Lang & Tech: SQL Server',\n",
              " 'Current Lang & Tech: Swift',\n",
              " 'Current Lang & Tech: Visual Basic',\n",
              " 'Current Lang & Tech: Windows Phone',\n",
              " 'Current Lang & Tech: Wordpress',\n",
              " 'Current Lang & Tech: Write-In',\n",
              " 'Future Lang & Tech: Android',\n",
              " 'Future Lang & Tech: Arduino',\n",
              " 'Future Lang & Tech: AngularJS',\n",
              " 'Future Lang & Tech: C',\n",
              " 'Future Lang & Tech: C++',\n",
              " 'Future Lang & Tech: C++11',\n",
              " 'Future Lang & Tech: C#',\n",
              " 'Future Lang & Tech: Cassandra',\n",
              " 'Future Lang & Tech: CoffeeScript',\n",
              " 'Future Lang & Tech: Cordova',\n",
              " 'Future Lang & Tech: Clojure',\n",
              " 'Future Lang & Tech: Cloud',\n",
              " 'Future Lang & Tech: Dart',\n",
              " 'Future Lang & Tech: F#',\n",
              " 'Future Lang & Tech: Go',\n",
              " 'Future Lang & Tech: Hadoop',\n",
              " 'Future Lang & Tech: Haskell',\n",
              " 'Future Lang & Tech: iOS',\n",
              " 'Future Lang & Tech: Java',\n",
              " 'Future Lang & Tech: JavaScript',\n",
              " 'Future Lang & Tech: LAMP',\n",
              " 'Future Lang & Tech: Matlab',\n",
              " 'Future Lang & Tech: MongoDB',\n",
              " 'Future Lang & Tech: Node.js',\n",
              " 'Future Lang & Tech: Objective-C',\n",
              " 'Future Lang & Tech: Perl',\n",
              " 'Future Lang & Tech: PHP',\n",
              " 'Future Lang & Tech: Python',\n",
              " 'Future Lang & Tech: R',\n",
              " 'Future Lang & Tech: Redis',\n",
              " 'Future Lang & Tech: Ruby',\n",
              " 'Future Lang & Tech: Rust',\n",
              " 'Future Lang & Tech: Salesforce',\n",
              " 'Future Lang & Tech: Scala',\n",
              " 'Future Lang & Tech: Sharepoint',\n",
              " 'Future Lang & Tech: Spark',\n",
              " 'Future Lang & Tech: SQL',\n",
              " 'Future Lang & Tech: SQL Server',\n",
              " 'Future Lang & Tech: Swift',\n",
              " 'Future Lang & Tech: Visual Basic',\n",
              " 'Future Lang & Tech: Windows Phone',\n",
              " 'Future Lang & Tech: Wordpress',\n",
              " 'Future Lang & Tech: Write-In',\n",
              " 'Training & Education: No formal training',\n",
              " 'Training & Education: On the job',\n",
              " 'Training & Education: Boot camp or night school',\n",
              " 'Training & Education: Online Class',\n",
              " 'Training & Education: Mentorship',\n",
              " 'Training & Education: Industry certification',\n",
              " 'Training & Education: Some college, but no CS degree',\n",
              " 'Training & Education: BS in CS',\n",
              " 'Training & Education: Masters in CS',\n",
              " 'Training & Education: PhD in CS',\n",
              " 'Training & Education: Other',\n",
              " 'Most important aspect of new job opportunity: Equity',\n",
              " 'Most important aspect of new job opportunity: Important decisions',\n",
              " 'Most important aspect of new job opportunity: Health insurance',\n",
              " 'Most important aspect of new job opportunity: Industry',\n",
              " 'Most important aspect of new job opportunity: Tech stack',\n",
              " 'Most important aspect of new job opportunity: Company size',\n",
              " 'Most important aspect of new job opportunity: Company stage',\n",
              " 'Most important aspect of new job opportunity: Work - Life balance',\n",
              " 'Most important aspect of new job opportunity: Advancement',\n",
              " 'Most important aspect of new job opportunity: Job title',\n",
              " 'Most important aspect of new job opportunity: Office location',\n",
              " 'Most important aspect of new job opportunity: Quality of colleagues',\n",
              " 'Most important aspect of new job opportunity: Company culture',\n",
              " 'Most important aspect of new job opportunity: Company reputation',\n",
              " 'Most important aspect of new job opportunity: Building something that matters',\n",
              " 'Most important aspect of new job opportunity: Remote working',\n",
              " 'Most important aspect of new job opportunity: Flexible work options',\n",
              " 'Most annoying about job search: Finding time',\n",
              " \"Most annoying about job search: Finding job I'm qualified for\",\n",
              " 'Most annoying about job search: Finding interesting job',\n",
              " 'Most annoying about job search: Interesting companies rarely respond',\n",
              " 'Most annoying about job search: Writing and updating CV',\n",
              " 'Most annoying about job search: Taking time off work to interview',\n",
              " 'Most annoying about job search: The Interview',\n",
              " 'Appealing message traits: Code or projects mentioned',\n",
              " 'Appealing message traits: Stack Overflow activity mentioned',\n",
              " 'Appealing message traits: Team described',\n",
              " 'Appealing message traits: Company culture described',\n",
              " 'Appealing message traits: Salary information',\n",
              " 'Appealing message traits: Benefits & Perks',\n",
              " 'Appealing message traits: Stack Overflow Company Page',\n",
              " 'Most urgent info about job opportunity: Benefits',\n",
              " 'Most urgent info about job opportunity: Company name',\n",
              " 'Most urgent info about job opportunity: Tech stack',\n",
              " 'Most urgent info about job opportunity: Office location',\n",
              " 'Most urgent info about job opportunity: Job title',\n",
              " 'Most urgent info about job opportunity: Colleagues',\n",
              " 'How can companies improve interview process: More live code',\n",
              " 'How can companies improve interview process: Flexible interview schedule',\n",
              " 'How can companies improve interview process: Remote interviews',\n",
              " 'How can companies improve interview process: Introduce me to boss',\n",
              " 'How can companies improve interview process: Introduce me to team',\n",
              " 'How can companies improve interview process: Gimme coffee',\n",
              " 'How can companies improve interview process: Show me workplace',\n",
              " 'How can companies improve interview process: Fewer brainteasers',\n",
              " 'How can companies improve interview process: Better preparation',\n",
              " 'Why try Stack Overflow Careers: No spam',\n",
              " 'Why try Stack Overflow Careers: Jobs site for programmers',\n",
              " 'Why try Stack Overflow Careers: Selection of revelant jobs',\n",
              " 'Why try Stack Overflow Careers: Showcase Stack Overflow activity',\n",
              " 'Why try Stack Overflow Careers: Jobs are on Stack Overflow',\n",
              " 'Why try Stack Overflow Careers: Other',\n",
              " 'Preferred text editor: write-in',\n",
              " 'Source control used: Mercurial',\n",
              " 'Source control used: SVN',\n",
              " 'Source control used: CVS',\n",
              " 'Source control used: Perforce',\n",
              " 'Source control used: TFS',\n",
              " 'Source control used: DCVS',\n",
              " 'Source control used: Bitkeeper',\n",
              " 'Source control used: Legacy / Custom',\n",
              " \"Source control used: I don't use source control\",\n",
              " 'Source control used: write-in',\n",
              " 'Prefered Source Control: write-in',\n",
              " 'Why use Stack Overflow: To give help',\n",
              " \"Why use Stack Overflow: Can't do job without it\",\n",
              " 'Why use Stack Overflow: Maintain online presence',\n",
              " 'Why use Stack Overflow: Demonstrate expertise',\n",
              " 'Why use Stack Overflow: Communicate with others',\n",
              " 'Why use Stack Overflow: Receive help on personal projects',\n",
              " \"Why use Stack Overflow: I don't use Stack Overflow\",\n",
              " 'Why answer: Help future programmers',\n",
              " 'Why answer: Demonstrate expertise',\n",
              " 'Why answer: Self promotion',\n",
              " 'Why answer: Sense of responsibility to developers',\n",
              " 'Why answer: No idea',\n",
              " \"Why answer: I don't answer and I don't want to\",\n",
              " \"Why answer: I don't answer but I want to\"]"
            ]
          },
          "metadata": {
            "tags": []
          },
          "execution_count": 88
        }
      ]
    },
    {
      "cell_type": "code",
      "metadata": {
        "colab": {
          "base_uri": "https://localhost:8080/"
        },
        "id": "xWBGNikADG3d",
        "outputId": "cce43ba5-fd27-4a79-ce1f-a06a63a590e9"
      },
      "source": [
        "#Drop the columns with more than 65% of missing values in df2 (dataframe 2015)\r\n",
        "\r\n",
        "new_df2 = df2.drop(missing_df2, axis=1)\r\n",
        "new_df2.shape"
      ],
      "execution_count": 89,
      "outputs": [
        {
          "output_type": "execute_result",
          "data": {
            "text/plain": [
              "(26086, 48)"
            ]
          },
          "metadata": {
            "tags": []
          },
          "execution_count": 89
        }
      ]
    },
    {
      "cell_type": "code",
      "metadata": {
        "colab": {
          "base_uri": "https://localhost:8080/"
        },
        "id": "kBK5IPFyDJ_9",
        "outputId": "7977c341-283c-41e7-f697-2a14abfafaf3"
      },
      "source": [
        "#Select only the important columns to our analysis\r\n",
        "\r\n",
        "new_df2 = new_df2[['Country', 'Age','Years IT / Programming Experience', 'Compensation: midpoint']]\r\n",
        "new_df2.shape"
      ],
      "execution_count": 90,
      "outputs": [
        {
          "output_type": "execute_result",
          "data": {
            "text/plain": [
              "(26086, 4)"
            ]
          },
          "metadata": {
            "tags": []
          },
          "execution_count": 90
        }
      ]
    },
    {
      "cell_type": "markdown",
      "metadata": {
        "id": "1ZVszUVMDVEp"
      },
      "source": [
        "From the original DataFrame we can see the Education information in the columns named as Training & Education: (as prefix). Then, we are going to separate these columns in another DataFrame"
      ]
    },
    {
      "cell_type": "code",
      "metadata": {
        "colab": {
          "base_uri": "https://localhost:8080/"
        },
        "id": "SJm2KZXHDSST",
        "outputId": "2732c180-25a9-45d2-89ab-09822fa5a82e"
      },
      "source": [
        "educ_list = list(df2.columns[df2.columns.str.contains('Training & Education:')])\r\n",
        "educ_list"
      ],
      "execution_count": 91,
      "outputs": [
        {
          "output_type": "execute_result",
          "data": {
            "text/plain": [
              "['Training & Education: No formal training',\n",
              " 'Training & Education: On the job',\n",
              " 'Training & Education: Boot camp or night school',\n",
              " 'Training & Education: Online Class',\n",
              " 'Training & Education: Mentorship',\n",
              " 'Training & Education: Industry certification',\n",
              " 'Training & Education: Some college, but no CS degree',\n",
              " 'Training & Education: BS in CS',\n",
              " 'Training & Education: Masters in CS',\n",
              " 'Training & Education: PhD in CS',\n",
              " 'Training & Education: Other']"
            ]
          },
          "metadata": {
            "tags": []
          },
          "execution_count": 91
        }
      ]
    },
    {
      "cell_type": "code",
      "metadata": {
        "colab": {
          "base_uri": "https://localhost:8080/",
          "height": 649
        },
        "id": "vzyyUt2GDXYP",
        "outputId": "a2126967-c913-4ce6-e116-c497c3261980"
      },
      "source": [
        "#Concatenating both Dataframes\r\n",
        "\r\n",
        "educ_df2 = df2[educ_list]\r\n",
        "new_df2 = pd.concat([new_df2, educ_df2], axis=1)\r\n",
        "new_df2.head()"
      ],
      "execution_count": 92,
      "outputs": [
        {
          "output_type": "execute_result",
          "data": {
            "text/html": [
              "<div>\n",
              "<style scoped>\n",
              "    .dataframe tbody tr th:only-of-type {\n",
              "        vertical-align: middle;\n",
              "    }\n",
              "\n",
              "    .dataframe tbody tr th {\n",
              "        vertical-align: top;\n",
              "    }\n",
              "\n",
              "    .dataframe thead th {\n",
              "        text-align: right;\n",
              "    }\n",
              "</style>\n",
              "<table border=\"1\" class=\"dataframe\">\n",
              "  <thead>\n",
              "    <tr style=\"text-align: right;\">\n",
              "      <th></th>\n",
              "      <th>Country</th>\n",
              "      <th>Age</th>\n",
              "      <th>Years IT / Programming Experience</th>\n",
              "      <th>Compensation: midpoint</th>\n",
              "      <th>Training &amp; Education: No formal training</th>\n",
              "      <th>Training &amp; Education: On the job</th>\n",
              "      <th>Training &amp; Education: Boot camp or night school</th>\n",
              "      <th>Training &amp; Education: Online Class</th>\n",
              "      <th>Training &amp; Education: Mentorship</th>\n",
              "      <th>Training &amp; Education: Industry certification</th>\n",
              "      <th>Training &amp; Education: Some college, but no CS degree</th>\n",
              "      <th>Training &amp; Education: BS in CS</th>\n",
              "      <th>Training &amp; Education: Masters in CS</th>\n",
              "      <th>Training &amp; Education: PhD in CS</th>\n",
              "      <th>Training &amp; Education: Other</th>\n",
              "    </tr>\n",
              "  </thead>\n",
              "  <tbody>\n",
              "    <tr>\n",
              "      <th>0</th>\n",
              "      <td>Croatia</td>\n",
              "      <td>25-29</td>\n",
              "      <td>2 - 5 years</td>\n",
              "      <td>30000</td>\n",
              "      <td>NaN</td>\n",
              "      <td>On-the-job training</td>\n",
              "      <td>NaN</td>\n",
              "      <td>Online class (ie. Coursera, Codecademy, Khan A...</td>\n",
              "      <td>NaN</td>\n",
              "      <td>NaN</td>\n",
              "      <td>NaN</td>\n",
              "      <td>NaN</td>\n",
              "      <td>Masters Degree in Computer Science (or related...</td>\n",
              "      <td>NaN</td>\n",
              "      <td>NaN</td>\n",
              "    </tr>\n",
              "    <tr>\n",
              "      <th>1</th>\n",
              "      <td>France</td>\n",
              "      <td>20-24</td>\n",
              "      <td>1 - 2 years</td>\n",
              "      <td>30000</td>\n",
              "      <td>NaN</td>\n",
              "      <td>NaN</td>\n",
              "      <td>NaN</td>\n",
              "      <td>Online class (ie. Coursera, Codecademy, Khan A...</td>\n",
              "      <td>NaN</td>\n",
              "      <td>Industry certification program</td>\n",
              "      <td>NaN</td>\n",
              "      <td>NaN</td>\n",
              "      <td>Masters Degree in Computer Science (or related...</td>\n",
              "      <td>NaN</td>\n",
              "      <td>NaN</td>\n",
              "    </tr>\n",
              "    <tr>\n",
              "      <th>2</th>\n",
              "      <td>India</td>\n",
              "      <td>20-24</td>\n",
              "      <td>1 - 2 years</td>\n",
              "      <td>90000</td>\n",
              "      <td>NaN</td>\n",
              "      <td>NaN</td>\n",
              "      <td>NaN</td>\n",
              "      <td>NaN</td>\n",
              "      <td>Mentorship program (ie. Flatiron School, GDI, ...</td>\n",
              "      <td>NaN</td>\n",
              "      <td>NaN</td>\n",
              "      <td>NaN</td>\n",
              "      <td>NaN</td>\n",
              "      <td>NaN</td>\n",
              "      <td>NaN</td>\n",
              "    </tr>\n",
              "    <tr>\n",
              "      <th>3</th>\n",
              "      <td>Latvia</td>\n",
              "      <td>25-29</td>\n",
              "      <td>6 - 10 years</td>\n",
              "      <td>NaN</td>\n",
              "      <td>NaN</td>\n",
              "      <td>On-the-job training</td>\n",
              "      <td>NaN</td>\n",
              "      <td>NaN</td>\n",
              "      <td>Mentorship program (ie. Flatiron School, GDI, ...</td>\n",
              "      <td>NaN</td>\n",
              "      <td>NaN</td>\n",
              "      <td>Bachelor of Science in Computer Science (or re...</td>\n",
              "      <td>NaN</td>\n",
              "      <td>NaN</td>\n",
              "      <td>NaN</td>\n",
              "    </tr>\n",
              "    <tr>\n",
              "      <th>4</th>\n",
              "      <td>Norway</td>\n",
              "      <td>30-34</td>\n",
              "      <td>2 - 5 years</td>\n",
              "      <td>70000</td>\n",
              "      <td>NaN</td>\n",
              "      <td>NaN</td>\n",
              "      <td>NaN</td>\n",
              "      <td>NaN</td>\n",
              "      <td>NaN</td>\n",
              "      <td>NaN</td>\n",
              "      <td>NaN</td>\n",
              "      <td>Bachelor of Science in Computer Science (or re...</td>\n",
              "      <td>NaN</td>\n",
              "      <td>NaN</td>\n",
              "      <td>NaN</td>\n",
              "    </tr>\n",
              "  </tbody>\n",
              "</table>\n",
              "</div>"
            ],
            "text/plain": [
              "   Country    Age  ... Training & Education: PhD in CS Training & Education: Other\n",
              "0  Croatia  25-29  ...                             NaN                         NaN\n",
              "1   France  20-24  ...                             NaN                         NaN\n",
              "2    India  20-24  ...                             NaN                         NaN\n",
              "3   Latvia  25-29  ...                             NaN                         NaN\n",
              "4   Norway  30-34  ...                             NaN                         NaN\n",
              "\n",
              "[5 rows x 15 columns]"
            ]
          },
          "metadata": {
            "tags": []
          },
          "execution_count": 92
        }
      ]
    },
    {
      "cell_type": "code",
      "metadata": {
        "colab": {
          "base_uri": "https://localhost:8080/"
        },
        "id": "xfZ7ERSlDgBb",
        "outputId": "baf51e19-6b73-4641-d8af-01d755d448e7"
      },
      "source": [
        "#Checking missing values from new_df2 dataframe\r\n",
        "\r\n",
        "new_df2.isnull().mean()"
      ],
      "execution_count": 93,
      "outputs": [
        {
          "output_type": "execute_result",
          "data": {
            "text/plain": [
              "Country                                                 0.030936\n",
              "Age                                                     0.009775\n",
              "Years IT / Programming Experience                       0.048263\n",
              "Compensation: midpoint                                  0.253201\n",
              "Training & Education: No formal training                0.658361\n",
              "Training & Education: On the job                        0.699877\n",
              "Training & Education: Boot camp or night school         0.971824\n",
              "Training & Education: Online Class                      0.854903\n",
              "Training & Education: Mentorship                        0.991490\n",
              "Training & Education: Industry certification            0.949896\n",
              "Training & Education: Some college, but no CS degree    0.863912\n",
              "Training & Education: BS in CS                          0.692019\n",
              "Training & Education: Masters in CS                     0.849421\n",
              "Training & Education: PhD in CS                         0.982404\n",
              "Training & Education: Other                             0.965230\n",
              "dtype: float64"
            ]
          },
          "metadata": {
            "tags": []
          },
          "execution_count": 93
        }
      ]
    },
    {
      "cell_type": "markdown",
      "metadata": {
        "id": "3w_5mIsGDq1E"
      },
      "source": [
        "We can see that we have about 25% of missing values in the most important column to our analysis, Compensation: Midpoint. This way, it doesn't seem to be a good idea fill in 25% of our values with the mean or other statistic about the data - it can bias our results. The chosen approach is to drop missing values and keep only the original ones, as we did in df related to 2020 survey\r\n",
        "\r\n"
      ]
    },
    {
      "cell_type": "code",
      "metadata": {
        "colab": {
          "base_uri": "https://localhost:8080/"
        },
        "id": "e1rohCa_DnHQ",
        "outputId": "c86d21c0-d7a2-443d-ae4d-003559f336ec"
      },
      "source": [
        "new_df2.dropna(subset=['Compensation: midpoint'], inplace=True)\r\n",
        "new_df2.isnull().sum()"
      ],
      "execution_count": 94,
      "outputs": [
        {
          "output_type": "execute_result",
          "data": {
            "text/plain": [
              "Country                                                   244\n",
              "Age                                                        37\n",
              "Years IT / Programming Experience                          27\n",
              "Compensation: midpoint                                      0\n",
              "Training & Education: No formal training                11370\n",
              "Training & Education: On the job                        12243\n",
              "Training & Education: Boot camp or night school         18796\n",
              "Training & Education: Online Class                      15965\n",
              "Training & Education: Mentorship                        19273\n",
              "Training & Education: Industry certification            18271\n",
              "Training & Education: Some college, but no CS degree    16202\n",
              "Training & Education: BS in CS                          12032\n",
              "Training & Education: Masters in CS                     15902\n",
              "Training & Education: PhD in CS                         19079\n",
              "Training & Education: Other                             18637\n",
              "dtype: int64"
            ]
          },
          "metadata": {
            "tags": []
          },
          "execution_count": 94
        }
      ]
    },
    {
      "cell_type": "markdown",
      "metadata": {
        "id": "qDYMQ7vUDxrE"
      },
      "source": [
        "We still have too many missing values, mainly in Training & Educations columns. This is due to the method used to fill in these columns, which are only filled if the person is into that category, and the remaining columns from training and education can be all missing"
      ]
    },
    {
      "cell_type": "code",
      "metadata": {
        "colab": {
          "base_uri": "https://localhost:8080/"
        },
        "id": "-MR3fwUhDt66",
        "outputId": "76130cf3-0b1c-4bd4-f61e-9e44fa4a9510"
      },
      "source": [
        "new_df2.dropna(subset=['Country', 'Age', 'Years IT / Programming Experience'], inplace=True)\r\n",
        "new_df2.isnull().sum()"
      ],
      "execution_count": 95,
      "outputs": [
        {
          "output_type": "execute_result",
          "data": {
            "text/plain": [
              "Country                                                     0\n",
              "Age                                                         0\n",
              "Years IT / Programming Experience                           0\n",
              "Compensation: midpoint                                      0\n",
              "Training & Education: No formal training                11204\n",
              "Training & Education: On the job                        12053\n",
              "Training & Education: Boot camp or night school         18517\n",
              "Training & Education: Online Class                      15713\n",
              "Training & Education: Mentorship                        18987\n",
              "Training & Education: Industry certification            18004\n",
              "Training & Education: Some college, but no CS degree    15951\n",
              "Training & Education: BS in CS                          11835\n",
              "Training & Education: Masters in CS                     15654\n",
              "Training & Education: PhD in CS                         18802\n",
              "Training & Education: Other                             18379\n",
              "dtype: int64"
            ]
          },
          "metadata": {
            "tags": []
          },
          "execution_count": 95
        }
      ]
    },
    {
      "cell_type": "markdown",
      "metadata": {
        "id": "kY1ju5TkEI0P"
      },
      "source": [
        "Looking into Age"
      ]
    },
    {
      "cell_type": "code",
      "metadata": {
        "colab": {
          "base_uri": "https://localhost:8080/"
        },
        "id": "3PCEBwB6D_Yg",
        "outputId": "6c7acd73-1b68-4707-fedf-da3e3682fe36"
      },
      "source": [
        "new_df2.Age.value_counts(normalize=True, dropna=True)"
      ],
      "execution_count": 96,
      "outputs": [
        {
          "output_type": "execute_result",
          "data": {
            "text/plain": [
              "25-29                     0.289116\n",
              "20-24                     0.233627\n",
              "30-34                     0.183921\n",
              "35-39                     0.097015\n",
              "< 20                      0.083051\n",
              "40-50                     0.081696\n",
              "51-60                     0.020164\n",
              "Prefer not to disclose    0.008076\n",
              "> 60                      0.003335\n",
              "Name: Age, dtype: float64"
            ]
          },
          "metadata": {
            "tags": []
          },
          "execution_count": 96
        }
      ]
    },
    {
      "cell_type": "markdown",
      "metadata": {
        "id": "2rmsV2K7EUQh"
      },
      "source": [
        "Looking into Years IT / Programming Experience"
      ]
    },
    {
      "cell_type": "code",
      "metadata": {
        "colab": {
          "base_uri": "https://localhost:8080/"
        },
        "id": "BqPkhwBUELUe",
        "outputId": "a67ba404-a24c-43e8-efa2-5b9583e81953"
      },
      "source": [
        "new_df2['Years IT / Programming Experience'].value_counts(normalize=True, dropna=True)"
      ],
      "execution_count": 97,
      "outputs": [
        {
          "output_type": "execute_result",
          "data": {
            "text/plain": [
              "2 - 5 years         0.322618\n",
              "11+ years           0.257073\n",
              "6 - 10 years        0.240140\n",
              "1 - 2 years         0.126348\n",
              "Less than 1 year    0.053822\n",
              "Name: Years IT / Programming Experience, dtype: float64"
            ]
          },
          "metadata": {
            "tags": []
          },
          "execution_count": 97
        }
      ]
    },
    {
      "cell_type": "markdown",
      "metadata": {
        "id": "7F-Z-0VlEj-D"
      },
      "source": [
        "Looking into Compensation (MidPoint)"
      ]
    },
    {
      "cell_type": "code",
      "metadata": {
        "colab": {
          "base_uri": "https://localhost:8080/"
        },
        "id": "pO_NNOuwEgUt",
        "outputId": "cf2bd390-4a81-4593-fb93-909c53d8b588"
      },
      "source": [
        "new_df2['Compensation: midpoint'].value_counts(normalize=True, dropna=True)"
      ],
      "execution_count": 99,
      "outputs": [
        {
          "output_type": "execute_result",
          "data": {
            "text/plain": [
              "10000             0.204814\n",
              "30000             0.140364\n",
              "Rather not say    0.134528\n",
              "50000             0.125046\n",
              "70000             0.102954\n",
              "Unemployed        0.102277\n",
              "90000             0.072058\n",
              "110000            0.050956\n",
              "130000            0.028917\n",
              "170000            0.023707\n",
              "150000            0.014380\n",
              "Name: Compensation: midpoint, dtype: float64"
            ]
          },
          "metadata": {
            "tags": []
          },
          "execution_count": 99
        }
      ]
    },
    {
      "cell_type": "markdown",
      "metadata": {
        "id": "OyYuBrU4EqIQ"
      },
      "source": [
        "We can delete \"rather not say\" data since it does not mean anything to our analysis\r\n",
        "\r\n",
        "We will change Unemployed to 0"
      ]
    },
    {
      "cell_type": "code",
      "metadata": {
        "colab": {
          "base_uri": "https://localhost:8080/"
        },
        "id": "lQh6HrqYEnW5",
        "outputId": "d253d0f2-2156-4655-a6ea-c586822d589a"
      },
      "source": [
        "new_df2 = new_df2[new_df2['Compensation: midpoint'] != 'Rather not say']\r\n",
        "new_df2['Compensation: midpoint'][new_df2['Compensation: midpoint'] == 'Unemployed'] =  0\r\n",
        "new_df2['Compensation: midpoint'] = new_df2['Compensation: midpoint'].astype('int')"
      ],
      "execution_count": 100,
      "outputs": [
        {
          "output_type": "stream",
          "text": [
            "/usr/local/lib/python3.6/dist-packages/pandas/core/series.py:1021: SettingWithCopyWarning: \n",
            "A value is trying to be set on a copy of a slice from a DataFrame\n",
            "\n",
            "See the caveats in the documentation: https://pandas.pydata.org/pandas-docs/stable/user_guide/indexing.html#returning-a-view-versus-a-copy\n",
            "  self._where(~key, value, inplace=True)\n",
            "/usr/local/lib/python3.6/dist-packages/ipykernel_launcher.py:3: SettingWithCopyWarning: \n",
            "A value is trying to be set on a copy of a slice from a DataFrame.\n",
            "Try using .loc[row_indexer,col_indexer] = value instead\n",
            "\n",
            "See the caveats in the documentation: https://pandas.pydata.org/pandas-docs/stable/user_guide/indexing.html#returning-a-view-versus-a-copy\n",
            "  This is separate from the ipykernel package so we can avoid doing imports until\n"
          ],
          "name": "stderr"
        }
      ]
    },
    {
      "cell_type": "code",
      "metadata": {
        "colab": {
          "base_uri": "https://localhost:8080/",
          "height": 297
        },
        "id": "xWSbo_yzEtmE",
        "outputId": "19da91e2-f029-4fbe-ba4b-1c1fa6c3f42c"
      },
      "source": [
        "#overview of Compensation Midpoint (but zero values)\r\n",
        "\r\n",
        "new_df2[new_df2['Compensation: midpoint'] != 0].describe()"
      ],
      "execution_count": 101,
      "outputs": [
        {
          "output_type": "execute_result",
          "data": {
            "text/html": [
              "<div>\n",
              "<style scoped>\n",
              "    .dataframe tbody tr th:only-of-type {\n",
              "        vertical-align: middle;\n",
              "    }\n",
              "\n",
              "    .dataframe tbody tr th {\n",
              "        vertical-align: top;\n",
              "    }\n",
              "\n",
              "    .dataframe thead th {\n",
              "        text-align: right;\n",
              "    }\n",
              "</style>\n",
              "<table border=\"1\" class=\"dataframe\">\n",
              "  <thead>\n",
              "    <tr style=\"text-align: right;\">\n",
              "      <th></th>\n",
              "      <th>Compensation: midpoint</th>\n",
              "    </tr>\n",
              "  </thead>\n",
              "  <tbody>\n",
              "    <tr>\n",
              "      <th>count</th>\n",
              "      <td>14648.000000</td>\n",
              "    </tr>\n",
              "    <tr>\n",
              "      <th>mean</th>\n",
              "      <td>54710.540688</td>\n",
              "    </tr>\n",
              "    <tr>\n",
              "      <th>std</th>\n",
              "      <td>42479.134507</td>\n",
              "    </tr>\n",
              "    <tr>\n",
              "      <th>min</th>\n",
              "      <td>10000.000000</td>\n",
              "    </tr>\n",
              "    <tr>\n",
              "      <th>25%</th>\n",
              "      <td>10000.000000</td>\n",
              "    </tr>\n",
              "    <tr>\n",
              "      <th>50%</th>\n",
              "      <td>50000.000000</td>\n",
              "    </tr>\n",
              "    <tr>\n",
              "      <th>75%</th>\n",
              "      <td>70000.000000</td>\n",
              "    </tr>\n",
              "    <tr>\n",
              "      <th>max</th>\n",
              "      <td>170000.000000</td>\n",
              "    </tr>\n",
              "  </tbody>\n",
              "</table>\n",
              "</div>"
            ],
            "text/plain": [
              "       Compensation: midpoint\n",
              "count            14648.000000\n",
              "mean             54710.540688\n",
              "std              42479.134507\n",
              "min              10000.000000\n",
              "25%              10000.000000\n",
              "50%              50000.000000\n",
              "75%              70000.000000\n",
              "max             170000.000000"
            ]
          },
          "metadata": {
            "tags": []
          },
          "execution_count": 101
        }
      ]
    },
    {
      "cell_type": "markdown",
      "metadata": {
        "id": "Me0LURDaE0Bt"
      },
      "source": [
        "Looking into Country"
      ]
    },
    {
      "cell_type": "code",
      "metadata": {
        "colab": {
          "base_uri": "https://localhost:8080/",
          "height": 1000
        },
        "id": "hs1_NEr0EwqU",
        "outputId": "9c65102b-2257-44b9-9b95-ea10ff65db5c"
      },
      "source": [
        "#as did in the first dataframe, let's keep countries with more than 100 samplings\r\n",
        "\r\n",
        "new_df2.Country.value_counts().loc[lambda x : x > 100].to_frame()"
      ],
      "execution_count": 102,
      "outputs": [
        {
          "output_type": "execute_result",
          "data": {
            "text/html": [
              "<div>\n",
              "<style scoped>\n",
              "    .dataframe tbody tr th:only-of-type {\n",
              "        vertical-align: middle;\n",
              "    }\n",
              "\n",
              "    .dataframe tbody tr th {\n",
              "        vertical-align: top;\n",
              "    }\n",
              "\n",
              "    .dataframe thead th {\n",
              "        text-align: right;\n",
              "    }\n",
              "</style>\n",
              "<table border=\"1\" class=\"dataframe\">\n",
              "  <thead>\n",
              "    <tr style=\"text-align: right;\">\n",
              "      <th></th>\n",
              "      <th>Country</th>\n",
              "    </tr>\n",
              "  </thead>\n",
              "  <tbody>\n",
              "    <tr>\n",
              "      <th>United States</th>\n",
              "      <td>3567</td>\n",
              "    </tr>\n",
              "    <tr>\n",
              "      <th>United Kingdom</th>\n",
              "      <td>1672</td>\n",
              "    </tr>\n",
              "    <tr>\n",
              "      <th>India</th>\n",
              "      <td>1363</td>\n",
              "    </tr>\n",
              "    <tr>\n",
              "      <th>Germany</th>\n",
              "      <td>1138</td>\n",
              "    </tr>\n",
              "    <tr>\n",
              "      <th>Canada</th>\n",
              "      <td>605</td>\n",
              "    </tr>\n",
              "    <tr>\n",
              "      <th>France</th>\n",
              "      <td>544</td>\n",
              "    </tr>\n",
              "    <tr>\n",
              "      <th>Poland</th>\n",
              "      <td>510</td>\n",
              "    </tr>\n",
              "    <tr>\n",
              "      <th>Australia</th>\n",
              "      <td>445</td>\n",
              "    </tr>\n",
              "    <tr>\n",
              "      <th>Spain</th>\n",
              "      <td>435</td>\n",
              "    </tr>\n",
              "    <tr>\n",
              "      <th>Netherlands</th>\n",
              "      <td>409</td>\n",
              "    </tr>\n",
              "    <tr>\n",
              "      <th>Russian Federation</th>\n",
              "      <td>364</td>\n",
              "    </tr>\n",
              "    <tr>\n",
              "      <th>Sweden</th>\n",
              "      <td>358</td>\n",
              "    </tr>\n",
              "    <tr>\n",
              "      <th>Italy</th>\n",
              "      <td>335</td>\n",
              "    </tr>\n",
              "    <tr>\n",
              "      <th>Switzerland</th>\n",
              "      <td>264</td>\n",
              "    </tr>\n",
              "    <tr>\n",
              "      <th>Brazil</th>\n",
              "      <td>257</td>\n",
              "    </tr>\n",
              "    <tr>\n",
              "      <th>Denmark</th>\n",
              "      <td>176</td>\n",
              "    </tr>\n",
              "    <tr>\n",
              "      <th>Austria</th>\n",
              "      <td>160</td>\n",
              "    </tr>\n",
              "    <tr>\n",
              "      <th>Belgium</th>\n",
              "      <td>159</td>\n",
              "    </tr>\n",
              "    <tr>\n",
              "      <th>China</th>\n",
              "      <td>156</td>\n",
              "    </tr>\n",
              "    <tr>\n",
              "      <th>Finland</th>\n",
              "      <td>155</td>\n",
              "    </tr>\n",
              "    <tr>\n",
              "      <th>Czech Republic</th>\n",
              "      <td>153</td>\n",
              "    </tr>\n",
              "    <tr>\n",
              "      <th>Portugal</th>\n",
              "      <td>150</td>\n",
              "    </tr>\n",
              "    <tr>\n",
              "      <th>Turkey</th>\n",
              "      <td>146</td>\n",
              "    </tr>\n",
              "    <tr>\n",
              "      <th>Iran</th>\n",
              "      <td>145</td>\n",
              "    </tr>\n",
              "    <tr>\n",
              "      <th>Ireland {Republic}</th>\n",
              "      <td>137</td>\n",
              "    </tr>\n",
              "    <tr>\n",
              "      <th>Ukraine</th>\n",
              "      <td>137</td>\n",
              "    </tr>\n",
              "    <tr>\n",
              "      <th>Norway</th>\n",
              "      <td>118</td>\n",
              "    </tr>\n",
              "    <tr>\n",
              "      <th>Romania</th>\n",
              "      <td>118</td>\n",
              "    </tr>\n",
              "    <tr>\n",
              "      <th>Mexico</th>\n",
              "      <td>114</td>\n",
              "    </tr>\n",
              "    <tr>\n",
              "      <th>Israel</th>\n",
              "      <td>112</td>\n",
              "    </tr>\n",
              "    <tr>\n",
              "      <th>Argentina</th>\n",
              "      <td>110</td>\n",
              "    </tr>\n",
              "    <tr>\n",
              "      <th>New Zealand</th>\n",
              "      <td>104</td>\n",
              "    </tr>\n",
              "    <tr>\n",
              "      <th>Hungary</th>\n",
              "      <td>101</td>\n",
              "    </tr>\n",
              "    <tr>\n",
              "      <th>Greece</th>\n",
              "      <td>101</td>\n",
              "    </tr>\n",
              "  </tbody>\n",
              "</table>\n",
              "</div>"
            ],
            "text/plain": [
              "                    Country\n",
              "United States          3567\n",
              "United Kingdom         1672\n",
              "India                  1363\n",
              "Germany                1138\n",
              "Canada                  605\n",
              "France                  544\n",
              "Poland                  510\n",
              "Australia               445\n",
              "Spain                   435\n",
              "Netherlands             409\n",
              "Russian Federation      364\n",
              "Sweden                  358\n",
              "Italy                   335\n",
              "Switzerland             264\n",
              "Brazil                  257\n",
              "Denmark                 176\n",
              "Austria                 160\n",
              "Belgium                 159\n",
              "China                   156\n",
              "Finland                 155\n",
              "Czech Republic          153\n",
              "Portugal                150\n",
              "Turkey                  146\n",
              "Iran                    145\n",
              "Ireland {Republic}      137\n",
              "Ukraine                 137\n",
              "Norway                  118\n",
              "Romania                 118\n",
              "Mexico                  114\n",
              "Israel                  112\n",
              "Argentina               110\n",
              "New Zealand             104\n",
              "Hungary                 101\n",
              "Greece                  101"
            ]
          },
          "metadata": {
            "tags": []
          },
          "execution_count": 102
        }
      ]
    },
    {
      "cell_type": "code",
      "metadata": {
        "id": "jjT0vOGFE15d"
      },
      "source": [
        "list_countries2 = list(new_df2.Country.value_counts().loc[lambda x : x > 100].to_frame().index)\r\n",
        "new_df2 = new_df2[new_df2['Country'].isin(list_countries2)]"
      ],
      "execution_count": 103,
      "outputs": []
    },
    {
      "cell_type": "markdown",
      "metadata": {
        "id": "xUM2MCzjFBpU"
      },
      "source": [
        "Looking into Training and Education variables"
      ]
    },
    {
      "cell_type": "code",
      "metadata": {
        "id": "hhDv4zLMFA-C"
      },
      "source": [
        "#Aggregating the data related to T&E\r\n",
        "\r\n",
        "Total_educ = {}\r\n",
        "\r\n",
        "for col in educ_list:\r\n",
        "  col_total = new_df2[col].notnull().sum()\r\n",
        "  Total_educ[col] = col_total"
      ],
      "execution_count": 104,
      "outputs": []
    },
    {
      "cell_type": "code",
      "metadata": {
        "colab": {
          "base_uri": "https://localhost:8080/",
          "height": 390
        },
        "id": "cuq0xHHRE-qT",
        "outputId": "e0170c2d-8ae1-4b56-adc7-5c86457d4009"
      },
      "source": [
        "Count_educ_2015 = pd.DataFrame(list(Total_educ.items()),columns = ['Education','Quantity'])\r\n",
        "Count_educ_2015.sort_values(by='Quantity', ascending=False)"
      ],
      "execution_count": 105,
      "outputs": [
        {
          "output_type": "execute_result",
          "data": {
            "text/html": [
              "<div>\n",
              "<style scoped>\n",
              "    .dataframe tbody tr th:only-of-type {\n",
              "        vertical-align: middle;\n",
              "    }\n",
              "\n",
              "    .dataframe tbody tr th {\n",
              "        vertical-align: top;\n",
              "    }\n",
              "\n",
              "    .dataframe thead th {\n",
              "        text-align: right;\n",
              "    }\n",
              "</style>\n",
              "<table border=\"1\" class=\"dataframe\">\n",
              "  <thead>\n",
              "    <tr style=\"text-align: right;\">\n",
              "      <th></th>\n",
              "      <th>Education</th>\n",
              "      <th>Quantity</th>\n",
              "    </tr>\n",
              "  </thead>\n",
              "  <tbody>\n",
              "    <tr>\n",
              "      <th>0</th>\n",
              "      <td>Training &amp; Education: No formal training</td>\n",
              "      <td>6078</td>\n",
              "    </tr>\n",
              "    <tr>\n",
              "      <th>7</th>\n",
              "      <td>Training &amp; Education: BS in CS</td>\n",
              "      <td>5592</td>\n",
              "    </tr>\n",
              "    <tr>\n",
              "      <th>1</th>\n",
              "      <td>Training &amp; Education: On the job</td>\n",
              "      <td>5549</td>\n",
              "    </tr>\n",
              "    <tr>\n",
              "      <th>8</th>\n",
              "      <td>Training &amp; Education: Masters in CS</td>\n",
              "      <td>2789</td>\n",
              "    </tr>\n",
              "    <tr>\n",
              "      <th>3</th>\n",
              "      <td>Training &amp; Education: Online Class</td>\n",
              "      <td>2656</td>\n",
              "    </tr>\n",
              "    <tr>\n",
              "      <th>6</th>\n",
              "      <td>Training &amp; Education: Some college, but no CS ...</td>\n",
              "      <td>2556</td>\n",
              "    </tr>\n",
              "    <tr>\n",
              "      <th>5</th>\n",
              "      <td>Training &amp; Education: Industry certification</td>\n",
              "      <td>926</td>\n",
              "    </tr>\n",
              "    <tr>\n",
              "      <th>10</th>\n",
              "      <td>Training &amp; Education: Other</td>\n",
              "      <td>605</td>\n",
              "    </tr>\n",
              "    <tr>\n",
              "      <th>2</th>\n",
              "      <td>Training &amp; Education: Boot camp or night school</td>\n",
              "      <td>518</td>\n",
              "    </tr>\n",
              "    <tr>\n",
              "      <th>9</th>\n",
              "      <td>Training &amp; Education: PhD in CS</td>\n",
              "      <td>296</td>\n",
              "    </tr>\n",
              "    <tr>\n",
              "      <th>4</th>\n",
              "      <td>Training &amp; Education: Mentorship</td>\n",
              "      <td>152</td>\n",
              "    </tr>\n",
              "  </tbody>\n",
              "</table>\n",
              "</div>"
            ],
            "text/plain": [
              "                                            Education  Quantity\n",
              "0            Training & Education: No formal training      6078\n",
              "7                      Training & Education: BS in CS      5592\n",
              "1                    Training & Education: On the job      5549\n",
              "8                 Training & Education: Masters in CS      2789\n",
              "3                  Training & Education: Online Class      2656\n",
              "6   Training & Education: Some college, but no CS ...      2556\n",
              "5        Training & Education: Industry certification       926\n",
              "10                        Training & Education: Other       605\n",
              "2     Training & Education: Boot camp or night school       518\n",
              "9                     Training & Education: PhD in CS       296\n",
              "4                    Training & Education: Mentorship       152"
            ]
          },
          "metadata": {
            "tags": []
          },
          "execution_count": 105
        }
      ]
    },
    {
      "cell_type": "code",
      "metadata": {
        "colab": {
          "base_uri": "https://localhost:8080/",
          "height": 556
        },
        "id": "M2iLRzTTFGPc",
        "outputId": "c201bbaf-c344-4553-f86d-635430c6bbe2"
      },
      "source": [
        "Count_educ_2015.set_index('Education', inplace=True)\r\n",
        "Count_educ_2015.sort_values(by='Quantity', ascending=False).plot(kind='bar')"
      ],
      "execution_count": 106,
      "outputs": [
        {
          "output_type": "execute_result",
          "data": {
            "text/plain": [
              "<matplotlib.axes._subplots.AxesSubplot at 0x7fc830daa240>"
            ]
          },
          "metadata": {
            "tags": []
          },
          "execution_count": 106
        },
        {
          "output_type": "display_data",
          "data": {
            "image/png": "[encoded data removed]",
            "text/plain": [
              "<Figure size 432x288 with 1 Axes>"
            ]
          },
          "metadata": {
            "tags": [],
            "needs_background": "light"
          }
        }
      ]
    },
    {
      "cell_type": "code",
      "metadata": {
        "colab": {
          "base_uri": "https://localhost:8080/",
          "height": 556
        },
        "id": "8R2BdoIhFjq0",
        "outputId": "9a95f8e2-8c7a-4079-c29b-dd5fd97c0254"
      },
      "source": [
        "normalized_educ = Count_educ_2015 / Count_educ_2015.Quantity.sum()\r\n",
        "normalized_educ.sort_values(by='Quantity', ascending=False).plot(kind='bar')"
      ],
      "execution_count": 107,
      "outputs": [
        {
          "output_type": "execute_result",
          "data": {
            "text/plain": [
              "<matplotlib.axes._subplots.AxesSubplot at 0x7fc830d89c18>"
            ]
          },
          "metadata": {
            "tags": []
          },
          "execution_count": 107
        },
        {
          "output_type": "display_data",
          "data": {
            "image/png": "[encoded data removed]",
            "text/plain": [
              "<Figure size 432x288 with 1 Axes>"
            ]
          },
          "metadata": {
            "tags": [],
            "needs_background": "light"
          }
        }
      ]
    },
    {
      "cell_type": "markdown",
      "metadata": {
        "id": "wZ5qagasFqjL"
      },
      "source": [
        "##**Analyzing the Data - 2015 x 2020**"
      ]
    },
    {
      "cell_type": "markdown",
      "metadata": {
        "id": "kZvL3x0AF1Ob"
      },
      "source": [
        "**Average Salary 2015 x 2020**"
      ]
    },
    {
      "cell_type": "code",
      "metadata": {
        "colab": {
          "base_uri": "https://localhost:8080/",
          "height": 297
        },
        "id": "8eoa5fIWFnbY",
        "outputId": "e53ee021-83f3-4917-c710-78792c80131c"
      },
      "source": [
        "#Average salary 2015\r\n",
        "\r\n",
        "new_df2['Compensation: midpoint'].describe().to_frame()"
      ],
      "execution_count": 108,
      "outputs": [
        {
          "output_type": "execute_result",
          "data": {
            "text/html": [
              "<div>\n",
              "<style scoped>\n",
              "    .dataframe tbody tr th:only-of-type {\n",
              "        vertical-align: middle;\n",
              "    }\n",
              "\n",
              "    .dataframe tbody tr th {\n",
              "        vertical-align: top;\n",
              "    }\n",
              "\n",
              "    .dataframe thead th {\n",
              "        text-align: right;\n",
              "    }\n",
              "</style>\n",
              "<table border=\"1\" class=\"dataframe\">\n",
              "  <thead>\n",
              "    <tr style=\"text-align: right;\">\n",
              "      <th></th>\n",
              "      <th>Compensation: midpoint</th>\n",
              "    </tr>\n",
              "  </thead>\n",
              "  <tbody>\n",
              "    <tr>\n",
              "      <th>count</th>\n",
              "      <td>14818.000000</td>\n",
              "    </tr>\n",
              "    <tr>\n",
              "      <th>mean</th>\n",
              "      <td>51083.142124</td>\n",
              "    </tr>\n",
              "    <tr>\n",
              "      <th>std</th>\n",
              "      <td>44223.990391</td>\n",
              "    </tr>\n",
              "    <tr>\n",
              "      <th>min</th>\n",
              "      <td>0.000000</td>\n",
              "    </tr>\n",
              "    <tr>\n",
              "      <th>25%</th>\n",
              "      <td>10000.000000</td>\n",
              "    </tr>\n",
              "    <tr>\n",
              "      <th>50%</th>\n",
              "      <td>50000.000000</td>\n",
              "    </tr>\n",
              "    <tr>\n",
              "      <th>75%</th>\n",
              "      <td>70000.000000</td>\n",
              "    </tr>\n",
              "    <tr>\n",
              "      <th>max</th>\n",
              "      <td>170000.000000</td>\n",
              "    </tr>\n",
              "  </tbody>\n",
              "</table>\n",
              "</div>"
            ],
            "text/plain": [
              "       Compensation: midpoint\n",
              "count            14818.000000\n",
              "mean             51083.142124\n",
              "std              44223.990391\n",
              "min                  0.000000\n",
              "25%              10000.000000\n",
              "50%              50000.000000\n",
              "75%              70000.000000\n",
              "max             170000.000000"
            ]
          },
          "metadata": {
            "tags": []
          },
          "execution_count": 108
        }
      ]
    },
    {
      "cell_type": "code",
      "metadata": {
        "colab": {
          "base_uri": "https://localhost:8080/"
        },
        "id": "LMwMf9taF4Li",
        "outputId": "543a473f-9ec7-4c68-e9d1-397f2203648c"
      },
      "source": [
        "avg_sal_2015 = new_df2['Compensation: midpoint'].describe().to_frame().loc['mean'][0]\r\n",
        "print(\"{:.2f}\".format(avg_sal_2015))"
      ],
      "execution_count": 109,
      "outputs": [
        {
          "output_type": "stream",
          "text": [
            "51083.14\n"
          ],
          "name": "stdout"
        }
      ]
    },
    {
      "cell_type": "code",
      "metadata": {
        "colab": {
          "base_uri": "https://localhost:8080/",
          "height": 297
        },
        "id": "ut6S6-ztGFrO",
        "outputId": "bd2d26a3-5bfb-4127-e4b2-98696e05383e"
      },
      "source": [
        "#Average salary 2020\r\n",
        "\r\n",
        "new_df['ConvertedComp'].describe().to_frame()"
      ],
      "execution_count": 112,
      "outputs": [
        {
          "output_type": "execute_result",
          "data": {
            "text/html": [
              "<div>\n",
              "<style scoped>\n",
              "    .dataframe tbody tr th:only-of-type {\n",
              "        vertical-align: middle;\n",
              "    }\n",
              "\n",
              "    .dataframe tbody tr th {\n",
              "        vertical-align: top;\n",
              "    }\n",
              "\n",
              "    .dataframe thead th {\n",
              "        text-align: right;\n",
              "    }\n",
              "</style>\n",
              "<table border=\"1\" class=\"dataframe\">\n",
              "  <thead>\n",
              "    <tr style=\"text-align: right;\">\n",
              "      <th></th>\n",
              "      <th>ConvertedComp</th>\n",
              "    </tr>\n",
              "  </thead>\n",
              "  <tbody>\n",
              "    <tr>\n",
              "      <th>count</th>\n",
              "      <td>30080.000000</td>\n",
              "    </tr>\n",
              "    <tr>\n",
              "      <th>mean</th>\n",
              "      <td>65653.821210</td>\n",
              "    </tr>\n",
              "    <tr>\n",
              "      <th>std</th>\n",
              "      <td>53456.919243</td>\n",
              "    </tr>\n",
              "    <tr>\n",
              "      <th>min</th>\n",
              "      <td>0.000000</td>\n",
              "    </tr>\n",
              "    <tr>\n",
              "      <th>25%</th>\n",
              "      <td>25944.000000</td>\n",
              "    </tr>\n",
              "    <tr>\n",
              "      <th>50%</th>\n",
              "      <td>54049.000000</td>\n",
              "    </tr>\n",
              "    <tr>\n",
              "      <th>75%</th>\n",
              "      <td>90000.000000</td>\n",
              "    </tr>\n",
              "    <tr>\n",
              "      <th>max</th>\n",
              "      <td>349043.000000</td>\n",
              "    </tr>\n",
              "  </tbody>\n",
              "</table>\n",
              "</div>"
            ],
            "text/plain": [
              "       ConvertedComp\n",
              "count   30080.000000\n",
              "mean    65653.821210\n",
              "std     53456.919243\n",
              "min         0.000000\n",
              "25%     25944.000000\n",
              "50%     54049.000000\n",
              "75%     90000.000000\n",
              "max    349043.000000"
            ]
          },
          "metadata": {
            "tags": []
          },
          "execution_count": 112
        }
      ]
    },
    {
      "cell_type": "code",
      "metadata": {
        "colab": {
          "base_uri": "https://localhost:8080/"
        },
        "id": "1JBgPCGRF-R6",
        "outputId": "09400252-d91a-4210-9c56-22df46995df8"
      },
      "source": [
        "avg_sal_2020 = new_df['ConvertedComp'].describe().to_frame().loc['mean'][0]\r\n",
        "print(\"{:.2f}\".format(avg_sal_2020))"
      ],
      "execution_count": 113,
      "outputs": [
        {
          "output_type": "stream",
          "text": [
            "65653.82\n"
          ],
          "name": "stdout"
        }
      ]
    },
    {
      "cell_type": "code",
      "metadata": {
        "colab": {
          "base_uri": "https://localhost:8080/",
          "height": 35
        },
        "id": "GghflMSGGTtk",
        "outputId": "d6de0dc7-74a8-4ea2-83ce-2893219096d7"
      },
      "source": [
        "Dif_avg_sal = avg_sal_2020 - avg_sal_2015\r\n",
        "\"The difference of average salary between 2015 and 2020 is: {:.2f}\".format(Dif_avg_sal)"
      ],
      "execution_count": 114,
      "outputs": [
        {
          "output_type": "execute_result",
          "data": {
            "application/vnd.google.colaboratory.intrinsic+json": {
              "type": "string"
            },
            "text/plain": [
              "'The difference of average salary between 2015 and 2020 is: 14570.68'"
            ]
          },
          "metadata": {
            "tags": []
          },
          "execution_count": 114
        }
      ]
    },
    {
      "cell_type": "code",
      "metadata": {
        "colab": {
          "base_uri": "https://localhost:8080/",
          "height": 35
        },
        "id": "kh7w8VbDGlSV",
        "outputId": "16b40c81-2fc4-4871-f568-a39118c4df54"
      },
      "source": [
        "\"The salaries in 2020 are {:.2f} % higher in average.\".format(Dif_avg_sal / avg_sal_2015 * 100)"
      ],
      "execution_count": 115,
      "outputs": [
        {
          "output_type": "execute_result",
          "data": {
            "application/vnd.google.colaboratory.intrinsic+json": {
              "type": "string"
            },
            "text/plain": [
              "'The salaries in 2020 are 28.52 % higher in average.'"
            ]
          },
          "metadata": {
            "tags": []
          },
          "execution_count": 115
        }
      ]
    },
    {
      "cell_type": "markdown",
      "metadata": {
        "id": "gcK5kvCMLqGY"
      },
      "source": [
        "**Education profile 2015 x 2020**"
      ]
    },
    {
      "cell_type": "markdown",
      "metadata": {
        "id": "WowVa7KjLwDk"
      },
      "source": [
        "**2015**"
      ]
    },
    {
      "cell_type": "code",
      "metadata": {
        "colab": {
          "base_uri": "https://localhost:8080/",
          "height": 421
        },
        "id": "TS1g7_dqLk6P",
        "outputId": "5c4e6f89-ffc2-47ca-e170-115c203cc083"
      },
      "source": [
        "normalized_educ = Count_educ_2015 / Count_educ_2015.Quantity.sum()\r\n",
        "normalized_educ.sort_values(by='Quantity', ascending=False)"
      ],
      "execution_count": 117,
      "outputs": [
        {
          "output_type": "execute_result",
          "data": {
            "text/html": [
              "<div>\n",
              "<style scoped>\n",
              "    .dataframe tbody tr th:only-of-type {\n",
              "        vertical-align: middle;\n",
              "    }\n",
              "\n",
              "    .dataframe tbody tr th {\n",
              "        vertical-align: top;\n",
              "    }\n",
              "\n",
              "    .dataframe thead th {\n",
              "        text-align: right;\n",
              "    }\n",
              "</style>\n",
              "<table border=\"1\" class=\"dataframe\">\n",
              "  <thead>\n",
              "    <tr style=\"text-align: right;\">\n",
              "      <th></th>\n",
              "      <th>Quantity</th>\n",
              "    </tr>\n",
              "    <tr>\n",
              "      <th>Education</th>\n",
              "      <th></th>\n",
              "    </tr>\n",
              "  </thead>\n",
              "  <tbody>\n",
              "    <tr>\n",
              "      <th>Training &amp; Education: No formal training</th>\n",
              "      <td>0.219288</td>\n",
              "    </tr>\n",
              "    <tr>\n",
              "      <th>Training &amp; Education: BS in CS</th>\n",
              "      <td>0.201753</td>\n",
              "    </tr>\n",
              "    <tr>\n",
              "      <th>Training &amp; Education: On the job</th>\n",
              "      <td>0.200202</td>\n",
              "    </tr>\n",
              "    <tr>\n",
              "      <th>Training &amp; Education: Masters in CS</th>\n",
              "      <td>0.100624</td>\n",
              "    </tr>\n",
              "    <tr>\n",
              "      <th>Training &amp; Education: Online Class</th>\n",
              "      <td>0.095826</td>\n",
              "    </tr>\n",
              "    <tr>\n",
              "      <th>Training &amp; Education: Some college, but no CS degree</th>\n",
              "      <td>0.092218</td>\n",
              "    </tr>\n",
              "    <tr>\n",
              "      <th>Training &amp; Education: Industry certification</th>\n",
              "      <td>0.033409</td>\n",
              "    </tr>\n",
              "    <tr>\n",
              "      <th>Training &amp; Education: Other</th>\n",
              "      <td>0.021828</td>\n",
              "    </tr>\n",
              "    <tr>\n",
              "      <th>Training &amp; Education: Boot camp or night school</th>\n",
              "      <td>0.018689</td>\n",
              "    </tr>\n",
              "    <tr>\n",
              "      <th>Training &amp; Education: PhD in CS</th>\n",
              "      <td>0.010679</td>\n",
              "    </tr>\n",
              "    <tr>\n",
              "      <th>Training &amp; Education: Mentorship</th>\n",
              "      <td>0.005484</td>\n",
              "    </tr>\n",
              "  </tbody>\n",
              "</table>\n",
              "</div>"
            ],
            "text/plain": [
              "                                                    Quantity\n",
              "Education                                                   \n",
              "Training & Education: No formal training            0.219288\n",
              "Training & Education: BS in CS                      0.201753\n",
              "Training & Education: On the job                    0.200202\n",
              "Training & Education: Masters in CS                 0.100624\n",
              "Training & Education: Online Class                  0.095826\n",
              "Training & Education: Some college, but no CS d...  0.092218\n",
              "Training & Education: Industry certification        0.033409\n",
              "Training & Education: Other                         0.021828\n",
              "Training & Education: Boot camp or night school     0.018689\n",
              "Training & Education: PhD in CS                     0.010679\n",
              "Training & Education: Mentorship                    0.005484"
            ]
          },
          "metadata": {
            "tags": []
          },
          "execution_count": 117
        }
      ]
    },
    {
      "cell_type": "code",
      "metadata": {
        "colab": {
          "base_uri": "https://localhost:8080/",
          "height": 556
        },
        "id": "nR6-TaiLLy6t",
        "outputId": "289e7ec2-1d6f-4864-c699-d63d643fe9da"
      },
      "source": [
        "normalized_educ.sort_values(by='Quantity', ascending=False).plot(kind='bar')"
      ],
      "execution_count": 121,
      "outputs": [
        {
          "output_type": "execute_result",
          "data": {
            "text/plain": [
              "<matplotlib.axes._subplots.AxesSubplot at 0x7fc828d14b00>"
            ]
          },
          "metadata": {
            "tags": []
          },
          "execution_count": 121
        },
        {
          "output_type": "display_data",
          "data": {
            "image/png": "[encoded data removed]",
            "text/plain": [
              "<Figure size 432x288 with 1 Axes>"
            ]
          },
          "metadata": {
            "tags": [],
            "needs_background": "light"
          }
        }
      ]
    },
    {
      "cell_type": "markdown",
      "metadata": {
        "id": "7n6vik1YMNOK"
      },
      "source": [
        "**2020**"
      ]
    },
    {
      "cell_type": "code",
      "metadata": {
        "colab": {
          "base_uri": "https://localhost:8080/",
          "height": 328
        },
        "id": "j5NJNH-zL5Zd",
        "outputId": "16d37693-395f-4f93-8317-21d535c53519"
      },
      "source": [
        "new_df['EdLevel'].value_counts(normalize=True).to_frame()"
      ],
      "execution_count": 122,
      "outputs": [
        {
          "output_type": "execute_result",
          "data": {
            "text/html": [
              "<div>\n",
              "<style scoped>\n",
              "    .dataframe tbody tr th:only-of-type {\n",
              "        vertical-align: middle;\n",
              "    }\n",
              "\n",
              "    .dataframe tbody tr th {\n",
              "        vertical-align: top;\n",
              "    }\n",
              "\n",
              "    .dataframe thead th {\n",
              "        text-align: right;\n",
              "    }\n",
              "</style>\n",
              "<table border=\"1\" class=\"dataframe\">\n",
              "  <thead>\n",
              "    <tr style=\"text-align: right;\">\n",
              "      <th></th>\n",
              "      <th>EdLevel</th>\n",
              "    </tr>\n",
              "  </thead>\n",
              "  <tbody>\n",
              "    <tr>\n",
              "      <th>Bachelor’s degree (B.A., B.S., B.Eng., etc.)</th>\n",
              "      <td>0.489328</td>\n",
              "    </tr>\n",
              "    <tr>\n",
              "      <th>Master’s degree (M.A., M.S., M.Eng., MBA, etc.)</th>\n",
              "      <td>0.257148</td>\n",
              "    </tr>\n",
              "    <tr>\n",
              "      <th>Some college/university study without earning a degree</th>\n",
              "      <td>0.119049</td>\n",
              "    </tr>\n",
              "    <tr>\n",
              "      <th>Secondary school (e.g. American high school, German Realschule or Gymnasium, etc.)</th>\n",
              "      <td>0.044182</td>\n",
              "    </tr>\n",
              "    <tr>\n",
              "      <th>Associate degree (A.A., A.S., etc.)</th>\n",
              "      <td>0.034707</td>\n",
              "    </tr>\n",
              "    <tr>\n",
              "      <th>Other doctoral degree (Ph.D., Ed.D., etc.)</th>\n",
              "      <td>0.033610</td>\n",
              "    </tr>\n",
              "    <tr>\n",
              "      <th>Professional degree (JD, MD, etc.)</th>\n",
              "      <td>0.013597</td>\n",
              "    </tr>\n",
              "    <tr>\n",
              "      <th>Primary/elementary school</th>\n",
              "      <td>0.004255</td>\n",
              "    </tr>\n",
              "    <tr>\n",
              "      <th>I never completed any formal education</th>\n",
              "      <td>0.004122</td>\n",
              "    </tr>\n",
              "  </tbody>\n",
              "</table>\n",
              "</div>"
            ],
            "text/plain": [
              "                                                     EdLevel\n",
              "Bachelor’s degree (B.A., B.S., B.Eng., etc.)        0.489328\n",
              "Master’s degree (M.A., M.S., M.Eng., MBA, etc.)     0.257148\n",
              "Some college/university study without earning a...  0.119049\n",
              "Secondary school (e.g. American high school, Ge...  0.044182\n",
              "Associate degree (A.A., A.S., etc.)                 0.034707\n",
              "Other doctoral degree (Ph.D., Ed.D., etc.)          0.033610\n",
              "Professional degree (JD, MD, etc.)                  0.013597\n",
              "Primary/elementary school                           0.004255\n",
              "I never completed any formal education              0.004122"
            ]
          },
          "metadata": {
            "tags": []
          },
          "execution_count": 122
        }
      ]
    },
    {
      "cell_type": "code",
      "metadata": {
        "colab": {
          "base_uri": "https://localhost:8080/",
          "height": 706
        },
        "id": "hJ1Ip-2oMRHC",
        "outputId": "bcd4ab65-34a8-40d4-bdf2-013604be53d1"
      },
      "source": [
        "new_df['EdLevel'].value_counts(normalize=True).plot(kind='bar')"
      ],
      "execution_count": 123,
      "outputs": [
        {
          "output_type": "execute_result",
          "data": {
            "text/plain": [
              "<matplotlib.axes._subplots.AxesSubplot at 0x7fc828c47c50>"
            ]
          },
          "metadata": {
            "tags": []
          },
          "execution_count": 123
        },
        {
          "output_type": "display_data",
          "data": {
            "image/png": "[encoded data removed]",
            "text/plain": [
              "<Figure size 432x288 with 1 Axes>"
            ]
          },
          "metadata": {
            "tags": [],
            "needs_background": "light"
          }
        }
      ]
    },
    {
      "cell_type": "markdown",
      "metadata": {
        "id": "0N99TiD1MisC"
      },
      "source": [
        "Analyzing the education profile, we can clearly see that formal education is much more present in 2020 than in 2015 - no formal education is in the top of the ranking in 2015. \r\n",
        "\r\n",
        "Adding only BS and MS from 2020 dataset, we have 75% of our sampling, whereas we have only 40% (adding college that is not in CS + BS in CS + MS) in 2015. "
      ]
    },
    {
      "cell_type": "markdown",
      "metadata": {
        "id": "qZNtXEVVNjh7"
      },
      "source": [
        "**Salary by profile Education**"
      ]
    },
    {
      "cell_type": "markdown",
      "metadata": {
        "id": "_Wa_kojLNnEF"
      },
      "source": [
        "**2015**"
      ]
    },
    {
      "cell_type": "code",
      "metadata": {
        "colab": {
          "base_uri": "https://localhost:8080/"
        },
        "id": "p_vjsbUAMW1d",
        "outputId": "8c5845b0-2ab1-4eaa-cc2e-e434cbc61547"
      },
      "source": [
        "educ_2015_list = list(normalized_educ.index)\r\n",
        "educ_2015_list"
      ],
      "execution_count": 124,
      "outputs": [
        {
          "output_type": "execute_result",
          "data": {
            "text/plain": [
              "['Training & Education: No formal training',\n",
              " 'Training & Education: On the job',\n",
              " 'Training & Education: Boot camp or night school',\n",
              " 'Training & Education: Online Class',\n",
              " 'Training & Education: Mentorship',\n",
              " 'Training & Education: Industry certification',\n",
              " 'Training & Education: Some college, but no CS degree',\n",
              " 'Training & Education: BS in CS',\n",
              " 'Training & Education: Masters in CS',\n",
              " 'Training & Education: PhD in CS',\n",
              " 'Training & Education: Other']"
            ]
          },
          "metadata": {
            "tags": []
          },
          "execution_count": 124
        }
      ]
    },
    {
      "cell_type": "code",
      "metadata": {
        "id": "t6wmAupuNp6U"
      },
      "source": [
        "#Salary by Educ 2015\r\n",
        "\r\n",
        "avg_sal_educ_2015 = {}\r\n",
        "\r\n",
        "for col in educ_2015_list:\r\n",
        "  col_total = list(new_df2.groupby([col])['Compensation: midpoint'].mean())[0]\r\n",
        "  avg_sal_educ_2015[col] = col_total"
      ],
      "execution_count": 125,
      "outputs": []
    },
    {
      "cell_type": "code",
      "metadata": {
        "colab": {
          "base_uri": "https://localhost:8080/"
        },
        "id": "lQ_57ISvNr6a",
        "outputId": "16454358-3fa8-4072-aa5a-49a3ecad035f"
      },
      "source": [
        "avg_sal_educ_2015"
      ],
      "execution_count": 126,
      "outputs": [
        {
          "output_type": "execute_result",
          "data": {
            "text/plain": [
              "{'Training & Education: BS in CS': 57249.64234620887,\n",
              " 'Training & Education: Boot camp or night school': 63262.54826254826,\n",
              " 'Training & Education: Industry certification': 67127.42980561555,\n",
              " 'Training & Education: Masters in CS': 57490.13983506633,\n",
              " 'Training & Education: Mentorship': 48092.10526315789,\n",
              " 'Training & Education: No formal training': 44468.575189206975,\n",
              " 'Training & Education: On the job': 56444.404397188686,\n",
              " 'Training & Education: Online Class': 50542.1686746988,\n",
              " 'Training & Education: Other': 47123.96694214876,\n",
              " 'Training & Education: PhD in CS': 71993.24324324324,\n",
              " 'Training & Education: Some college, but no CS degree': 47707.35524256651}"
            ]
          },
          "metadata": {
            "tags": []
          },
          "execution_count": 126
        }
      ]
    },
    {
      "cell_type": "code",
      "metadata": {
        "colab": {
          "base_uri": "https://localhost:8080/",
          "height": 390
        },
        "id": "Bboaet3kNtk7",
        "outputId": "77540909-9f56-410b-9bef-27e4ef68a182"
      },
      "source": [
        "avg_sal_educ_2015_df = pd.DataFrame(list(avg_sal_educ_2015.items()),columns = ['Education','Avg Salary'])\r\n",
        "avg_sal_educ_2015_df.sort_values(by='Avg Salary', ascending=False)"
      ],
      "execution_count": 127,
      "outputs": [
        {
          "output_type": "execute_result",
          "data": {
            "text/html": [
              "<div>\n",
              "<style scoped>\n",
              "    .dataframe tbody tr th:only-of-type {\n",
              "        vertical-align: middle;\n",
              "    }\n",
              "\n",
              "    .dataframe tbody tr th {\n",
              "        vertical-align: top;\n",
              "    }\n",
              "\n",
              "    .dataframe thead th {\n",
              "        text-align: right;\n",
              "    }\n",
              "</style>\n",
              "<table border=\"1\" class=\"dataframe\">\n",
              "  <thead>\n",
              "    <tr style=\"text-align: right;\">\n",
              "      <th></th>\n",
              "      <th>Education</th>\n",
              "      <th>Avg Salary</th>\n",
              "    </tr>\n",
              "  </thead>\n",
              "  <tbody>\n",
              "    <tr>\n",
              "      <th>9</th>\n",
              "      <td>Training &amp; Education: PhD in CS</td>\n",
              "      <td>71993.243243</td>\n",
              "    </tr>\n",
              "    <tr>\n",
              "      <th>5</th>\n",
              "      <td>Training &amp; Education: Industry certification</td>\n",
              "      <td>67127.429806</td>\n",
              "    </tr>\n",
              "    <tr>\n",
              "      <th>2</th>\n",
              "      <td>Training &amp; Education: Boot camp or night school</td>\n",
              "      <td>63262.548263</td>\n",
              "    </tr>\n",
              "    <tr>\n",
              "      <th>8</th>\n",
              "      <td>Training &amp; Education: Masters in CS</td>\n",
              "      <td>57490.139835</td>\n",
              "    </tr>\n",
              "    <tr>\n",
              "      <th>7</th>\n",
              "      <td>Training &amp; Education: BS in CS</td>\n",
              "      <td>57249.642346</td>\n",
              "    </tr>\n",
              "    <tr>\n",
              "      <th>1</th>\n",
              "      <td>Training &amp; Education: On the job</td>\n",
              "      <td>56444.404397</td>\n",
              "    </tr>\n",
              "    <tr>\n",
              "      <th>3</th>\n",
              "      <td>Training &amp; Education: Online Class</td>\n",
              "      <td>50542.168675</td>\n",
              "    </tr>\n",
              "    <tr>\n",
              "      <th>4</th>\n",
              "      <td>Training &amp; Education: Mentorship</td>\n",
              "      <td>48092.105263</td>\n",
              "    </tr>\n",
              "    <tr>\n",
              "      <th>6</th>\n",
              "      <td>Training &amp; Education: Some college, but no CS ...</td>\n",
              "      <td>47707.355243</td>\n",
              "    </tr>\n",
              "    <tr>\n",
              "      <th>10</th>\n",
              "      <td>Training &amp; Education: Other</td>\n",
              "      <td>47123.966942</td>\n",
              "    </tr>\n",
              "    <tr>\n",
              "      <th>0</th>\n",
              "      <td>Training &amp; Education: No formal training</td>\n",
              "      <td>44468.575189</td>\n",
              "    </tr>\n",
              "  </tbody>\n",
              "</table>\n",
              "</div>"
            ],
            "text/plain": [
              "                                            Education    Avg Salary\n",
              "9                     Training & Education: PhD in CS  71993.243243\n",
              "5        Training & Education: Industry certification  67127.429806\n",
              "2     Training & Education: Boot camp or night school  63262.548263\n",
              "8                 Training & Education: Masters in CS  57490.139835\n",
              "7                      Training & Education: BS in CS  57249.642346\n",
              "1                    Training & Education: On the job  56444.404397\n",
              "3                  Training & Education: Online Class  50542.168675\n",
              "4                    Training & Education: Mentorship  48092.105263\n",
              "6   Training & Education: Some college, but no CS ...  47707.355243\n",
              "10                        Training & Education: Other  47123.966942\n",
              "0            Training & Education: No formal training  44468.575189"
            ]
          },
          "metadata": {
            "tags": []
          },
          "execution_count": 127
        }
      ]
    },
    {
      "cell_type": "code",
      "metadata": {
        "colab": {
          "base_uri": "https://localhost:8080/",
          "height": 572
        },
        "id": "jG8saosQN86i",
        "outputId": "08e066e9-0e80-4724-a34d-e0d1d0749b2b"
      },
      "source": [
        "avg_sal_educ_2015_df.set_index('Education').sort_values(by='Avg Salary', ascending=False).plot(kind='bar', title='Avg salary by education 2015')"
      ],
      "execution_count": 134,
      "outputs": [
        {
          "output_type": "execute_result",
          "data": {
            "text/plain": [
              "<matplotlib.axes._subplots.AxesSubplot at 0x7fc8289dbef0>"
            ]
          },
          "metadata": {
            "tags": []
          },
          "execution_count": 134
        },
        {
          "output_type": "display_data",
          "data": {
            "image/png": "[encoded data removed]",
            "text/plain": [
              "<Figure size 432x288 with 1 Axes>"
            ]
          },
          "metadata": {
            "tags": [],
            "needs_background": "light"
          }
        }
      ]
    },
    {
      "cell_type": "markdown",
      "metadata": {
        "id": "vFZMWI-dN2D5"
      },
      "source": [
        "**2020**"
      ]
    },
    {
      "cell_type": "code",
      "metadata": {
        "colab": {
          "base_uri": "https://localhost:8080/",
          "height": 359
        },
        "id": "J_twISZFNwFN",
        "outputId": "e28793dd-9a9d-46ba-a2a6-351fe20bc45e"
      },
      "source": [
        "new_df.groupby('EdLevel')['ConvertedComp'].mean().to_frame().sort_values(by='ConvertedComp', ascending=False)"
      ],
      "execution_count": 128,
      "outputs": [
        {
          "output_type": "execute_result",
          "data": {
            "text/html": [
              "<div>\n",
              "<style scoped>\n",
              "    .dataframe tbody tr th:only-of-type {\n",
              "        vertical-align: middle;\n",
              "    }\n",
              "\n",
              "    .dataframe tbody tr th {\n",
              "        vertical-align: top;\n",
              "    }\n",
              "\n",
              "    .dataframe thead th {\n",
              "        text-align: right;\n",
              "    }\n",
              "</style>\n",
              "<table border=\"1\" class=\"dataframe\">\n",
              "  <thead>\n",
              "    <tr style=\"text-align: right;\">\n",
              "      <th></th>\n",
              "      <th>ConvertedComp</th>\n",
              "    </tr>\n",
              "    <tr>\n",
              "      <th>EdLevel</th>\n",
              "      <th></th>\n",
              "    </tr>\n",
              "  </thead>\n",
              "  <tbody>\n",
              "    <tr>\n",
              "      <th>Other doctoral degree (Ph.D., Ed.D., etc.)</th>\n",
              "      <td>84285.905045</td>\n",
              "    </tr>\n",
              "    <tr>\n",
              "      <th>Master’s degree (M.A., M.S., M.Eng., MBA, etc.)</th>\n",
              "      <td>68045.608016</td>\n",
              "    </tr>\n",
              "    <tr>\n",
              "      <th>I never completed any formal education</th>\n",
              "      <td>65939.903226</td>\n",
              "    </tr>\n",
              "    <tr>\n",
              "      <th>Bachelor’s degree (B.A., B.S., B.Eng., etc.)</th>\n",
              "      <td>65629.356818</td>\n",
              "    </tr>\n",
              "    <tr>\n",
              "      <th>Associate degree (A.A., A.S., etc.)</th>\n",
              "      <td>65104.136015</td>\n",
              "    </tr>\n",
              "    <tr>\n",
              "      <th>Some college/university study without earning a degree</th>\n",
              "      <td>63069.324211</td>\n",
              "    </tr>\n",
              "    <tr>\n",
              "      <th>Primary/elementary school</th>\n",
              "      <td>62116.765625</td>\n",
              "    </tr>\n",
              "    <tr>\n",
              "      <th>Secondary school (e.g. American high school, German Realschule or Gymnasium, etc.)</th>\n",
              "      <td>51662.425132</td>\n",
              "    </tr>\n",
              "    <tr>\n",
              "      <th>Professional degree (JD, MD, etc.)</th>\n",
              "      <td>45759.867971</td>\n",
              "    </tr>\n",
              "  </tbody>\n",
              "</table>\n",
              "</div>"
            ],
            "text/plain": [
              "                                                    ConvertedComp\n",
              "EdLevel                                                          \n",
              "Other doctoral degree (Ph.D., Ed.D., etc.)           84285.905045\n",
              "Master’s degree (M.A., M.S., M.Eng., MBA, etc.)      68045.608016\n",
              "I never completed any formal education               65939.903226\n",
              "Bachelor’s degree (B.A., B.S., B.Eng., etc.)         65629.356818\n",
              "Associate degree (A.A., A.S., etc.)                  65104.136015\n",
              "Some college/university study without earning a...   63069.324211\n",
              "Primary/elementary school                            62116.765625\n",
              "Secondary school (e.g. American high school, Ge...   51662.425132\n",
              "Professional degree (JD, MD, etc.)                   45759.867971"
            ]
          },
          "metadata": {
            "tags": []
          },
          "execution_count": 128
        }
      ]
    },
    {
      "cell_type": "code",
      "metadata": {
        "colab": {
          "base_uri": "https://localhost:8080/",
          "height": 736
        },
        "id": "fucN4v1BN6gx",
        "outputId": "08f6ce69-16b2-4b3f-a083-9157670170af"
      },
      "source": [
        "new_df.groupby('EdLevel')['ConvertedComp'].mean().to_frame().sort_values(by='ConvertedComp', ascending=False).plot(kind='bar', title='Avg salary by education 2020')"
      ],
      "execution_count": 133,
      "outputs": [
        {
          "output_type": "execute_result",
          "data": {
            "text/plain": [
              "<matplotlib.axes._subplots.AxesSubplot at 0x7fc8289b42e8>"
            ]
          },
          "metadata": {
            "tags": []
          },
          "execution_count": 133
        },
        {
          "output_type": "display_data",
          "data": {
            "image/png": "[encoded data removed]",
            "text/plain": [
              "<Figure size 432x288 with 1 Axes>"
            ]
          },
          "metadata": {
            "tags": [],
            "needs_background": "light"
          }
        }
      ]
    },
    {
      "cell_type": "markdown",
      "metadata": {
        "id": "-DVQl1i4OpnR"
      },
      "source": [
        "Since the average salary is higher in 2020, it is also reflected in the average salary by profile education. People with formal education earns higher salaries in the sampling of 2020, but it is very interesting to note that in 2015 no formal education like industry certification and Boot Camps or night school, earned also elevated salaries, only below PHD developers. "
      ]
    },
    {
      "cell_type": "markdown",
      "metadata": {
        "id": "MgkrNR14O61B"
      },
      "source": [
        "**Age Profile 2015 x 2020**"
      ]
    },
    {
      "cell_type": "markdown",
      "metadata": {
        "id": "f0I8WIa0PPR4"
      },
      "source": [
        "**2015**"
      ]
    },
    {
      "cell_type": "code",
      "metadata": {
        "colab": {
          "base_uri": "https://localhost:8080/",
          "height": 328
        },
        "id": "st3YT-k6OecN",
        "outputId": "7d360e89-2451-4eeb-a2ba-a9ba5556ee6d"
      },
      "source": [
        "new_df2.Age.value_counts(normalize=True, dropna=True).to_frame()\r\n"
      ],
      "execution_count": 135,
      "outputs": [
        {
          "output_type": "execute_result",
          "data": {
            "text/html": [
              "<div>\n",
              "<style scoped>\n",
              "    .dataframe tbody tr th:only-of-type {\n",
              "        vertical-align: middle;\n",
              "    }\n",
              "\n",
              "    .dataframe tbody tr th {\n",
              "        vertical-align: top;\n",
              "    }\n",
              "\n",
              "    .dataframe thead th {\n",
              "        text-align: right;\n",
              "    }\n",
              "</style>\n",
              "<table border=\"1\" class=\"dataframe\">\n",
              "  <thead>\n",
              "    <tr style=\"text-align: right;\">\n",
              "      <th></th>\n",
              "      <th>Age</th>\n",
              "    </tr>\n",
              "  </thead>\n",
              "  <tbody>\n",
              "    <tr>\n",
              "      <th>25-29</th>\n",
              "      <td>0.283102</td>\n",
              "    </tr>\n",
              "    <tr>\n",
              "      <th>20-24</th>\n",
              "      <td>0.227561</td>\n",
              "    </tr>\n",
              "    <tr>\n",
              "      <th>30-34</th>\n",
              "      <td>0.190377</td>\n",
              "    </tr>\n",
              "    <tr>\n",
              "      <th>35-39</th>\n",
              "      <td>0.102578</td>\n",
              "    </tr>\n",
              "    <tr>\n",
              "      <th>40-50</th>\n",
              "      <td>0.086584</td>\n",
              "    </tr>\n",
              "    <tr>\n",
              "      <th>&lt; 20</th>\n",
              "      <td>0.082467</td>\n",
              "    </tr>\n",
              "    <tr>\n",
              "      <th>51-60</th>\n",
              "      <td>0.020246</td>\n",
              "    </tr>\n",
              "    <tr>\n",
              "      <th>Prefer not to disclose</th>\n",
              "      <td>0.004656</td>\n",
              "    </tr>\n",
              "    <tr>\n",
              "      <th>&gt; 60</th>\n",
              "      <td>0.002429</td>\n",
              "    </tr>\n",
              "  </tbody>\n",
              "</table>\n",
              "</div>"
            ],
            "text/plain": [
              "                             Age\n",
              "25-29                   0.283102\n",
              "20-24                   0.227561\n",
              "30-34                   0.190377\n",
              "35-39                   0.102578\n",
              "40-50                   0.086584\n",
              "< 20                    0.082467\n",
              "51-60                   0.020246\n",
              "Prefer not to disclose  0.004656\n",
              "> 60                    0.002429"
            ]
          },
          "metadata": {
            "tags": []
          },
          "execution_count": 135
        }
      ]
    },
    {
      "cell_type": "markdown",
      "metadata": {
        "id": "bTMoRIB_PW-V"
      },
      "source": [
        "**2020**"
      ]
    },
    {
      "cell_type": "code",
      "metadata": {
        "colab": {
          "base_uri": "https://localhost:8080/",
          "height": 297
        },
        "id": "uyxhLuW8PTc_",
        "outputId": "6d686b0c-14b0-47af-9344-04aab17521b5"
      },
      "source": [
        "label_ranges = [0, 19, 24, 29, 34, 39, 50, 60, np.inf]\r\n",
        "label_names = ['<20', '20-24', '25-29', '30-34', '35-39','40-50', '51-60', '>60']\r\n",
        "\r\n",
        "new_df['Age group'] = pd.cut(new_df['Age'], bins = label_ranges, labels = label_names)\r\n",
        "new_df['Age group'].value_counts(normalize=True, dropna=True).to_frame()"
      ],
      "execution_count": 136,
      "outputs": [
        {
          "output_type": "execute_result",
          "data": {
            "text/html": [
              "<div>\n",
              "<style scoped>\n",
              "    .dataframe tbody tr th:only-of-type {\n",
              "        vertical-align: middle;\n",
              "    }\n",
              "\n",
              "    .dataframe tbody tr th {\n",
              "        vertical-align: top;\n",
              "    }\n",
              "\n",
              "    .dataframe thead th {\n",
              "        text-align: right;\n",
              "    }\n",
              "</style>\n",
              "<table border=\"1\" class=\"dataframe\">\n",
              "  <thead>\n",
              "    <tr style=\"text-align: right;\">\n",
              "      <th></th>\n",
              "      <th>Age group</th>\n",
              "    </tr>\n",
              "  </thead>\n",
              "  <tbody>\n",
              "    <tr>\n",
              "      <th>30-34</th>\n",
              "      <td>0.323404</td>\n",
              "    </tr>\n",
              "    <tr>\n",
              "      <th>25-29</th>\n",
              "      <td>0.262467</td>\n",
              "    </tr>\n",
              "    <tr>\n",
              "      <th>35-39</th>\n",
              "      <td>0.132746</td>\n",
              "    </tr>\n",
              "    <tr>\n",
              "      <th>20-24</th>\n",
              "      <td>0.130818</td>\n",
              "    </tr>\n",
              "    <tr>\n",
              "      <th>40-50</th>\n",
              "      <td>0.115426</td>\n",
              "    </tr>\n",
              "    <tr>\n",
              "      <th>51-60</th>\n",
              "      <td>0.028790</td>\n",
              "    </tr>\n",
              "    <tr>\n",
              "      <th>&lt;20</th>\n",
              "      <td>0.006350</td>\n",
              "    </tr>\n",
              "    <tr>\n",
              "      <th>&gt;60</th>\n",
              "      <td>0.000000</td>\n",
              "    </tr>\n",
              "  </tbody>\n",
              "</table>\n",
              "</div>"
            ],
            "text/plain": [
              "       Age group\n",
              "30-34   0.323404\n",
              "25-29   0.262467\n",
              "35-39   0.132746\n",
              "20-24   0.130818\n",
              "40-50   0.115426\n",
              "51-60   0.028790\n",
              "<20     0.006350\n",
              ">60     0.000000"
            ]
          },
          "metadata": {
            "tags": []
          },
          "execution_count": 136
        }
      ]
    },
    {
      "cell_type": "markdown",
      "metadata": {
        "id": "xvgE9jNXPhJv"
      },
      "source": [
        "When it comes to compare the Age profile between 2015 and 2020, overall there is not that much difference, but we can note that it is getting a bit older in 2020."
      ]
    },
    {
      "cell_type": "markdown",
      "metadata": {
        "id": "_Uduh9x6QUcl"
      },
      "source": [
        "**Salary by Age**"
      ]
    },
    {
      "cell_type": "markdown",
      "metadata": {
        "id": "YjAaVXChQiDt"
      },
      "source": [
        "**2015**"
      ]
    },
    {
      "cell_type": "code",
      "metadata": {
        "colab": {
          "base_uri": "https://localhost:8080/",
          "height": 359
        },
        "id": "nybSZP79Pckp",
        "outputId": "6eb29911-2ff1-4ae8-d636-aeca7b286a96"
      },
      "source": [
        "new_df2.groupby('Age')['Compensation: midpoint'].mean().to_frame().sort_values(by='Compensation: midpoint', ascending=False)"
      ],
      "execution_count": 137,
      "outputs": [
        {
          "output_type": "execute_result",
          "data": {
            "text/html": [
              "<div>\n",
              "<style scoped>\n",
              "    .dataframe tbody tr th:only-of-type {\n",
              "        vertical-align: middle;\n",
              "    }\n",
              "\n",
              "    .dataframe tbody tr th {\n",
              "        vertical-align: top;\n",
              "    }\n",
              "\n",
              "    .dataframe thead th {\n",
              "        text-align: right;\n",
              "    }\n",
              "</style>\n",
              "<table border=\"1\" class=\"dataframe\">\n",
              "  <thead>\n",
              "    <tr style=\"text-align: right;\">\n",
              "      <th></th>\n",
              "      <th>Compensation: midpoint</th>\n",
              "    </tr>\n",
              "    <tr>\n",
              "      <th>Age</th>\n",
              "      <th></th>\n",
              "    </tr>\n",
              "  </thead>\n",
              "  <tbody>\n",
              "    <tr>\n",
              "      <th>51-60</th>\n",
              "      <td>98866.666667</td>\n",
              "    </tr>\n",
              "    <tr>\n",
              "      <th>40-50</th>\n",
              "      <td>95003.897116</td>\n",
              "    </tr>\n",
              "    <tr>\n",
              "      <th>35-39</th>\n",
              "      <td>79355.263158</td>\n",
              "    </tr>\n",
              "    <tr>\n",
              "      <th>&gt; 60</th>\n",
              "      <td>77777.777778</td>\n",
              "    </tr>\n",
              "    <tr>\n",
              "      <th>30-34</th>\n",
              "      <td>66313.364055</td>\n",
              "    </tr>\n",
              "    <tr>\n",
              "      <th>Prefer not to disclose</th>\n",
              "      <td>53043.478261</td>\n",
              "    </tr>\n",
              "    <tr>\n",
              "      <th>25-29</th>\n",
              "      <td>45930.870083</td>\n",
              "    </tr>\n",
              "    <tr>\n",
              "      <th>20-24</th>\n",
              "      <td>26705.219454</td>\n",
              "    </tr>\n",
              "    <tr>\n",
              "      <th>&lt; 20</th>\n",
              "      <td>6972.176759</td>\n",
              "    </tr>\n",
              "  </tbody>\n",
              "</table>\n",
              "</div>"
            ],
            "text/plain": [
              "                        Compensation: midpoint\n",
              "Age                                           \n",
              "51-60                             98866.666667\n",
              "40-50                             95003.897116\n",
              "35-39                             79355.263158\n",
              "> 60                              77777.777778\n",
              "30-34                             66313.364055\n",
              "Prefer not to disclose            53043.478261\n",
              "25-29                             45930.870083\n",
              "20-24                             26705.219454\n",
              "< 20                               6972.176759"
            ]
          },
          "metadata": {
            "tags": []
          },
          "execution_count": 137
        }
      ]
    },
    {
      "cell_type": "markdown",
      "metadata": {
        "id": "dp55SYzGQobc"
      },
      "source": [
        "**2020**"
      ]
    },
    {
      "cell_type": "code",
      "metadata": {
        "colab": {
          "base_uri": "https://localhost:8080/",
          "height": 328
        },
        "id": "9YDdS5BmQg30",
        "outputId": "fae90a6e-ef0a-465e-f0eb-d8579d60bb82"
      },
      "source": [
        "new_df.groupby('Age group')['ConvertedComp'].mean().to_frame().sort_values(by='ConvertedComp', ascending=False)"
      ],
      "execution_count": 138,
      "outputs": [
        {
          "output_type": "execute_result",
          "data": {
            "text/html": [
              "<div>\n",
              "<style scoped>\n",
              "    .dataframe tbody tr th:only-of-type {\n",
              "        vertical-align: middle;\n",
              "    }\n",
              "\n",
              "    .dataframe tbody tr th {\n",
              "        vertical-align: top;\n",
              "    }\n",
              "\n",
              "    .dataframe thead th {\n",
              "        text-align: right;\n",
              "    }\n",
              "</style>\n",
              "<table border=\"1\" class=\"dataframe\">\n",
              "  <thead>\n",
              "    <tr style=\"text-align: right;\">\n",
              "      <th></th>\n",
              "      <th>ConvertedComp</th>\n",
              "    </tr>\n",
              "    <tr>\n",
              "      <th>Age group</th>\n",
              "      <th></th>\n",
              "    </tr>\n",
              "  </thead>\n",
              "  <tbody>\n",
              "    <tr>\n",
              "      <th>51-60</th>\n",
              "      <td>104965.963048</td>\n",
              "    </tr>\n",
              "    <tr>\n",
              "      <th>40-50</th>\n",
              "      <td>92811.601382</td>\n",
              "    </tr>\n",
              "    <tr>\n",
              "      <th>35-39</th>\n",
              "      <td>83208.914100</td>\n",
              "    </tr>\n",
              "    <tr>\n",
              "      <th>30-34</th>\n",
              "      <td>67043.553043</td>\n",
              "    </tr>\n",
              "    <tr>\n",
              "      <th>25-29</th>\n",
              "      <td>53785.215959</td>\n",
              "    </tr>\n",
              "    <tr>\n",
              "      <th>20-24</th>\n",
              "      <td>37462.726048</td>\n",
              "    </tr>\n",
              "    <tr>\n",
              "      <th>&lt;20</th>\n",
              "      <td>27337.973822</td>\n",
              "    </tr>\n",
              "    <tr>\n",
              "      <th>&gt;60</th>\n",
              "      <td>NaN</td>\n",
              "    </tr>\n",
              "  </tbody>\n",
              "</table>\n",
              "</div>"
            ],
            "text/plain": [
              "           ConvertedComp\n",
              "Age group               \n",
              "51-60      104965.963048\n",
              "40-50       92811.601382\n",
              "35-39       83208.914100\n",
              "30-34       67043.553043\n",
              "25-29       53785.215959\n",
              "20-24       37462.726048\n",
              "<20         27337.973822\n",
              ">60                  NaN"
            ]
          },
          "metadata": {
            "tags": []
          },
          "execution_count": 138
        }
      ]
    },
    {
      "cell_type": "markdown",
      "metadata": {
        "id": "grnst0KqQwJN"
      },
      "source": [
        "When it comes to compare the range that can be found in both samplings, we note that the ranking of average salary by age does not change significantly."
      ]
    },
    {
      "cell_type": "markdown",
      "metadata": {
        "id": "3d8WiIcUQ27h"
      },
      "source": [
        "**Years coding profile 2015 x 2020**"
      ]
    },
    {
      "cell_type": "markdown",
      "metadata": {
        "id": "AKD8tBCXQ6U3"
      },
      "source": [
        "**2015**"
      ]
    },
    {
      "cell_type": "code",
      "metadata": {
        "colab": {
          "base_uri": "https://localhost:8080/",
          "height": 204
        },
        "id": "UZI2wbIyQrWM",
        "outputId": "c9b59557-0ee9-49fa-fe79-16455d577a18"
      },
      "source": [
        "new_df2['Years IT / Programming Experience'].value_counts(normalize=True, dropna=True).to_frame()"
      ],
      "execution_count": 139,
      "outputs": [
        {
          "output_type": "execute_result",
          "data": {
            "text/html": [
              "<div>\n",
              "<style scoped>\n",
              "    .dataframe tbody tr th:only-of-type {\n",
              "        vertical-align: middle;\n",
              "    }\n",
              "\n",
              "    .dataframe tbody tr th {\n",
              "        vertical-align: top;\n",
              "    }\n",
              "\n",
              "    .dataframe thead th {\n",
              "        text-align: right;\n",
              "    }\n",
              "</style>\n",
              "<table border=\"1\" class=\"dataframe\">\n",
              "  <thead>\n",
              "    <tr style=\"text-align: right;\">\n",
              "      <th></th>\n",
              "      <th>Years IT / Programming Experience</th>\n",
              "    </tr>\n",
              "  </thead>\n",
              "  <tbody>\n",
              "    <tr>\n",
              "      <th>2 - 5 years</th>\n",
              "      <td>0.318666</td>\n",
              "    </tr>\n",
              "    <tr>\n",
              "      <th>11+ years</th>\n",
              "      <td>0.265555</td>\n",
              "    </tr>\n",
              "    <tr>\n",
              "      <th>6 - 10 years</th>\n",
              "      <td>0.241261</td>\n",
              "    </tr>\n",
              "    <tr>\n",
              "      <th>1 - 2 years</th>\n",
              "      <td>0.121676</td>\n",
              "    </tr>\n",
              "    <tr>\n",
              "      <th>Less than 1 year</th>\n",
              "      <td>0.052841</td>\n",
              "    </tr>\n",
              "  </tbody>\n",
              "</table>\n",
              "</div>"
            ],
            "text/plain": [
              "                  Years IT / Programming Experience\n",
              "2 - 5 years                                0.318666\n",
              "11+ years                                  0.265555\n",
              "6 - 10 years                               0.241261\n",
              "1 - 2 years                                0.121676\n",
              "Less than 1 year                           0.052841"
            ]
          },
          "metadata": {
            "tags": []
          },
          "execution_count": 139
        }
      ]
    },
    {
      "cell_type": "markdown",
      "metadata": {
        "id": "lzKvWw7BRBxp"
      },
      "source": [
        "**2020**"
      ]
    },
    {
      "cell_type": "code",
      "metadata": {
        "colab": {
          "base_uri": "https://localhost:8080/",
          "height": 204
        },
        "id": "Lp4pdyMhQ9Na",
        "outputId": "2afcda69-cf4f-4536-ba3b-bb3127fadbbe"
      },
      "source": [
        "label_ranges2 = [0, 1, 2, 5, 10, np.inf]\r\n",
        "label_names2 = ['0-1', '1-2', '2-5', '6-10', '>11']\r\n",
        "\r\n",
        "new_df['years coding group'] = pd.cut(new_df['YearsCodePro'], bins = label_ranges2, labels = label_names2)\r\n",
        "new_df['years coding group'].value_counts(normalize=True, dropna=True).to_frame()"
      ],
      "execution_count": 141,
      "outputs": [
        {
          "output_type": "execute_result",
          "data": {
            "text/html": [
              "<div>\n",
              "<style scoped>\n",
              "    .dataframe tbody tr th:only-of-type {\n",
              "        vertical-align: middle;\n",
              "    }\n",
              "\n",
              "    .dataframe tbody tr th {\n",
              "        vertical-align: top;\n",
              "    }\n",
              "\n",
              "    .dataframe thead th {\n",
              "        text-align: right;\n",
              "    }\n",
              "</style>\n",
              "<table border=\"1\" class=\"dataframe\">\n",
              "  <thead>\n",
              "    <tr style=\"text-align: right;\">\n",
              "      <th></th>\n",
              "      <th>years coding group</th>\n",
              "    </tr>\n",
              "  </thead>\n",
              "  <tbody>\n",
              "    <tr>\n",
              "      <th>&gt;11</th>\n",
              "      <td>0.278856</td>\n",
              "    </tr>\n",
              "    <tr>\n",
              "      <th>2-5</th>\n",
              "      <td>0.270346</td>\n",
              "    </tr>\n",
              "    <tr>\n",
              "      <th>6-10</th>\n",
              "      <td>0.254388</td>\n",
              "    </tr>\n",
              "    <tr>\n",
              "      <th>1-2</th>\n",
              "      <td>0.099967</td>\n",
              "    </tr>\n",
              "    <tr>\n",
              "      <th>0-1</th>\n",
              "      <td>0.096443</td>\n",
              "    </tr>\n",
              "  </tbody>\n",
              "</table>\n",
              "</div>"
            ],
            "text/plain": [
              "      years coding group\n",
              ">11             0.278856\n",
              "2-5             0.270346\n",
              "6-10            0.254388\n",
              "1-2             0.099967\n",
              "0-1             0.096443"
            ]
          },
          "metadata": {
            "tags": []
          },
          "execution_count": 141
        }
      ]
    },
    {
      "cell_type": "markdown",
      "metadata": {
        "id": "7S0eoneVRMHb"
      },
      "source": [
        "**Salary by years coding**"
      ]
    },
    {
      "cell_type": "markdown",
      "metadata": {
        "id": "2-qAYHEMRO-L"
      },
      "source": [
        "**2015**"
      ]
    },
    {
      "cell_type": "code",
      "metadata": {
        "colab": {
          "base_uri": "https://localhost:8080/",
          "height": 235
        },
        "id": "FhOk-yiCRFID",
        "outputId": "497773da-0256-4ee3-a6c5-c72184dbf2f1"
      },
      "source": [
        "new_df2.groupby('Years IT / Programming Experience')['Compensation: midpoint'].mean().to_frame().sort_values(by='Compensation: midpoint', ascending=False)"
      ],
      "execution_count": 142,
      "outputs": [
        {
          "output_type": "execute_result",
          "data": {
            "text/html": [
              "<div>\n",
              "<style scoped>\n",
              "    .dataframe tbody tr th:only-of-type {\n",
              "        vertical-align: middle;\n",
              "    }\n",
              "\n",
              "    .dataframe tbody tr th {\n",
              "        vertical-align: top;\n",
              "    }\n",
              "\n",
              "    .dataframe thead th {\n",
              "        text-align: right;\n",
              "    }\n",
              "</style>\n",
              "<table border=\"1\" class=\"dataframe\">\n",
              "  <thead>\n",
              "    <tr style=\"text-align: right;\">\n",
              "      <th></th>\n",
              "      <th>Compensation: midpoint</th>\n",
              "    </tr>\n",
              "    <tr>\n",
              "      <th>Years IT / Programming Experience</th>\n",
              "      <th></th>\n",
              "    </tr>\n",
              "  </thead>\n",
              "  <tbody>\n",
              "    <tr>\n",
              "      <th>11+ years</th>\n",
              "      <td>86424.396442</td>\n",
              "    </tr>\n",
              "    <tr>\n",
              "      <th>6 - 10 years</th>\n",
              "      <td>56688.111888</td>\n",
              "    </tr>\n",
              "    <tr>\n",
              "      <th>2 - 5 years</th>\n",
              "      <td>34487.505294</td>\n",
              "    </tr>\n",
              "    <tr>\n",
              "      <th>1 - 2 years</th>\n",
              "      <td>21447.587354</td>\n",
              "    </tr>\n",
              "    <tr>\n",
              "      <th>Less than 1 year</th>\n",
              "      <td>16206.896552</td>\n",
              "    </tr>\n",
              "  </tbody>\n",
              "</table>\n",
              "</div>"
            ],
            "text/plain": [
              "                                   Compensation: midpoint\n",
              "Years IT / Programming Experience                        \n",
              "11+ years                                    86424.396442\n",
              "6 - 10 years                                 56688.111888\n",
              "2 - 5 years                                  34487.505294\n",
              "1 - 2 years                                  21447.587354\n",
              "Less than 1 year                             16206.896552"
            ]
          },
          "metadata": {
            "tags": []
          },
          "execution_count": 142
        }
      ]
    },
    {
      "cell_type": "markdown",
      "metadata": {
        "id": "dpnBTHX4VowW"
      },
      "source": [
        "**2020**"
      ]
    },
    {
      "cell_type": "code",
      "metadata": {
        "colab": {
          "base_uri": "https://localhost:8080/",
          "height": 235
        },
        "id": "Zy7cmINsRTgn",
        "outputId": "f0e86c1c-97a9-4bdd-9bc5-0ddd75e3a949"
      },
      "source": [
        "new_df.groupby('years coding group')['ConvertedComp'].mean().to_frame().sort_values(by='ConvertedComp', ascending=False)"
      ],
      "execution_count": 143,
      "outputs": [
        {
          "output_type": "execute_result",
          "data": {
            "text/html": [
              "<div>\n",
              "<style scoped>\n",
              "    .dataframe tbody tr th:only-of-type {\n",
              "        vertical-align: middle;\n",
              "    }\n",
              "\n",
              "    .dataframe tbody tr th {\n",
              "        vertical-align: top;\n",
              "    }\n",
              "\n",
              "    .dataframe thead th {\n",
              "        text-align: right;\n",
              "    }\n",
              "</style>\n",
              "<table border=\"1\" class=\"dataframe\">\n",
              "  <thead>\n",
              "    <tr style=\"text-align: right;\">\n",
              "      <th></th>\n",
              "      <th>ConvertedComp</th>\n",
              "    </tr>\n",
              "    <tr>\n",
              "      <th>years coding group</th>\n",
              "      <th></th>\n",
              "    </tr>\n",
              "  </thead>\n",
              "  <tbody>\n",
              "    <tr>\n",
              "      <th>&gt;11</th>\n",
              "      <td>93411.716261</td>\n",
              "    </tr>\n",
              "    <tr>\n",
              "      <th>6-10</th>\n",
              "      <td>70010.699948</td>\n",
              "    </tr>\n",
              "    <tr>\n",
              "      <th>2-5</th>\n",
              "      <td>52793.476513</td>\n",
              "    </tr>\n",
              "    <tr>\n",
              "      <th>1-2</th>\n",
              "      <td>40487.825075</td>\n",
              "    </tr>\n",
              "    <tr>\n",
              "      <th>0-1</th>\n",
              "      <td>36037.279903</td>\n",
              "    </tr>\n",
              "  </tbody>\n",
              "</table>\n",
              "</div>"
            ],
            "text/plain": [
              "                    ConvertedComp\n",
              "years coding group               \n",
              ">11                  93411.716261\n",
              "6-10                 70010.699948\n",
              "2-5                  52793.476513\n",
              "1-2                  40487.825075\n",
              "0-1                  36037.279903"
            ]
          },
          "metadata": {
            "tags": []
          },
          "execution_count": 143
        }
      ]
    },
    {
      "cell_type": "markdown",
      "metadata": {
        "id": "RnPVn-UQV4_v"
      },
      "source": [
        "Comparing both samplings we do not see difference in the ranking, as expected, since higher is years of experience, the more we expect a higher salary. The only difference is in the salary in average for every group (higher for 2020)."
      ]
    },
    {
      "cell_type": "markdown",
      "metadata": {
        "id": "zGWBHJPMWfYZ"
      },
      "source": [
        "##**Using a linear regression model including only the variables we separed previously, let's check which one is the most important in terms of affecting salaries**"
      ]
    },
    {
      "cell_type": "markdown",
      "metadata": {
        "id": "RGWpOh3jXY6t"
      },
      "source": [
        "**2015**"
      ]
    },
    {
      "cell_type": "markdown",
      "metadata": {
        "id": "AmgXs6IVXk2-"
      },
      "source": [
        "Since the dataframe of 2015 survey has its numeric variables separated into groups, we are going to get their midpoint and transform them into int numbers \r\n",
        "\r\n",
        "Obs: it is important to note that we are doing this as a simple analysis, in order to create a more efficient model to predict the salaries, we'd better analyze other points"
      ]
    },
    {
      "cell_type": "code",
      "metadata": {
        "colab": {
          "base_uri": "https://localhost:8080/"
        },
        "id": "7oiXUA-yVuS5",
        "outputId": "a6c6d15e-ad79-4ca7-a44e-185e3cde26c1"
      },
      "source": [
        "#Age data of 2015\r\n",
        "\r\n",
        "new_df2['Age'].value_counts()"
      ],
      "execution_count": 146,
      "outputs": [
        {
          "output_type": "execute_result",
          "data": {
            "text/plain": [
              "25-29    4195\n",
              "20-24    3372\n",
              "30-34    2821\n",
              "35-39    1520\n",
              "40-50    1283\n",
              "< 20     1222\n",
              "51-60     300\n",
              "> 60       36\n",
              "Name: Age, dtype: int64"
            ]
          },
          "metadata": {
            "tags": []
          },
          "execution_count": 146
        }
      ]
    },
    {
      "cell_type": "code",
      "metadata": {
        "colab": {
          "base_uri": "https://localhost:8080/"
        },
        "id": "kTFtHovGXXTf",
        "outputId": "f8248d81-ffb6-4d39-a0cb-095e7b7c814c"
      },
      "source": [
        "#Eliminating 'prefer not to disclose'\r\n",
        "\r\n",
        "new_df2 = new_df2[new_df2['Age'] != 'Prefer not to disclose']\r\n",
        "new_df2['Age'].value_counts()"
      ],
      "execution_count": 148,
      "outputs": [
        {
          "output_type": "execute_result",
          "data": {
            "text/plain": [
              "25-29    4195\n",
              "20-24    3372\n",
              "30-34    2821\n",
              "35-39    1520\n",
              "40-50    1283\n",
              "< 20     1222\n",
              "51-60     300\n",
              "> 60       36\n",
              "Name: Age, dtype: int64"
            ]
          },
          "metadata": {
            "tags": []
          },
          "execution_count": 148
        }
      ]
    },
    {
      "cell_type": "code",
      "metadata": {
        "id": "-FnDX82-XeVn"
      },
      "source": [
        "#Transforming to numerical and int data\r\n",
        "\r\n",
        "def label_age (row):\r\n",
        "  if row['Age'] == '25-29' :\r\n",
        "    return '27'\r\n",
        "  if row['Age'] == '30-34' :\r\n",
        "    return '32'\r\n",
        "  if row['Age'] == '20-24' :\r\n",
        "    return '22'\r\n",
        "  if row['Age'] == '35-39' :\r\n",
        "    return '37'\r\n",
        "  if row['Age'] == '40-50' :\r\n",
        "    return '45'\r\n",
        "  if row['Age'] == '51-60' :\r\n",
        "    return '56'\r\n",
        "  if row['Age'] == '< 20' :\r\n",
        "    return '18'\r\n",
        "  if row['Age'] == '> 60' :\r\n",
        "    return '60'"
      ],
      "execution_count": 149,
      "outputs": []
    },
    {
      "cell_type": "code",
      "metadata": {
        "colab": {
          "base_uri": "https://localhost:8080/",
          "height": 649
        },
        "id": "BN14cM2iY8xk",
        "outputId": "f6100410-cf35-4880-8491-351bb074d0fb"
      },
      "source": [
        "new_df2['Age_midpoint'] = new_df2.apply (lambda row: label_age(row), axis=1)\r\n",
        "new_df2.head()"
      ],
      "execution_count": 150,
      "outputs": [
        {
          "output_type": "execute_result",
          "data": {
            "text/html": [
              "<div>\n",
              "<style scoped>\n",
              "    .dataframe tbody tr th:only-of-type {\n",
              "        vertical-align: middle;\n",
              "    }\n",
              "\n",
              "    .dataframe tbody tr th {\n",
              "        vertical-align: top;\n",
              "    }\n",
              "\n",
              "    .dataframe thead th {\n",
              "        text-align: right;\n",
              "    }\n",
              "</style>\n",
              "<table border=\"1\" class=\"dataframe\">\n",
              "  <thead>\n",
              "    <tr style=\"text-align: right;\">\n",
              "      <th></th>\n",
              "      <th>Country</th>\n",
              "      <th>Age</th>\n",
              "      <th>Years IT / Programming Experience</th>\n",
              "      <th>Compensation: midpoint</th>\n",
              "      <th>Training &amp; Education: No formal training</th>\n",
              "      <th>Training &amp; Education: On the job</th>\n",
              "      <th>Training &amp; Education: Boot camp or night school</th>\n",
              "      <th>Training &amp; Education: Online Class</th>\n",
              "      <th>Training &amp; Education: Mentorship</th>\n",
              "      <th>Training &amp; Education: Industry certification</th>\n",
              "      <th>Training &amp; Education: Some college, but no CS degree</th>\n",
              "      <th>Training &amp; Education: BS in CS</th>\n",
              "      <th>Training &amp; Education: Masters in CS</th>\n",
              "      <th>Training &amp; Education: PhD in CS</th>\n",
              "      <th>Training &amp; Education: Other</th>\n",
              "      <th>Age_midpoint</th>\n",
              "    </tr>\n",
              "  </thead>\n",
              "  <tbody>\n",
              "    <tr>\n",
              "      <th>1</th>\n",
              "      <td>France</td>\n",
              "      <td>20-24</td>\n",
              "      <td>1 - 2 years</td>\n",
              "      <td>30000</td>\n",
              "      <td>NaN</td>\n",
              "      <td>NaN</td>\n",
              "      <td>NaN</td>\n",
              "      <td>Online class (ie. Coursera, Codecademy, Khan A...</td>\n",
              "      <td>NaN</td>\n",
              "      <td>Industry certification program</td>\n",
              "      <td>NaN</td>\n",
              "      <td>NaN</td>\n",
              "      <td>Masters Degree in Computer Science (or related...</td>\n",
              "      <td>NaN</td>\n",
              "      <td>NaN</td>\n",
              "      <td>22</td>\n",
              "    </tr>\n",
              "    <tr>\n",
              "      <th>2</th>\n",
              "      <td>India</td>\n",
              "      <td>20-24</td>\n",
              "      <td>1 - 2 years</td>\n",
              "      <td>90000</td>\n",
              "      <td>NaN</td>\n",
              "      <td>NaN</td>\n",
              "      <td>NaN</td>\n",
              "      <td>NaN</td>\n",
              "      <td>Mentorship program (ie. Flatiron School, GDI, ...</td>\n",
              "      <td>NaN</td>\n",
              "      <td>NaN</td>\n",
              "      <td>NaN</td>\n",
              "      <td>NaN</td>\n",
              "      <td>NaN</td>\n",
              "      <td>NaN</td>\n",
              "      <td>22</td>\n",
              "    </tr>\n",
              "    <tr>\n",
              "      <th>4</th>\n",
              "      <td>Norway</td>\n",
              "      <td>30-34</td>\n",
              "      <td>2 - 5 years</td>\n",
              "      <td>70000</td>\n",
              "      <td>NaN</td>\n",
              "      <td>NaN</td>\n",
              "      <td>NaN</td>\n",
              "      <td>NaN</td>\n",
              "      <td>NaN</td>\n",
              "      <td>NaN</td>\n",
              "      <td>NaN</td>\n",
              "      <td>Bachelor of Science in Computer Science (or re...</td>\n",
              "      <td>NaN</td>\n",
              "      <td>NaN</td>\n",
              "      <td>NaN</td>\n",
              "      <td>32</td>\n",
              "    </tr>\n",
              "    <tr>\n",
              "      <th>7</th>\n",
              "      <td>Argentina</td>\n",
              "      <td>25-29</td>\n",
              "      <td>6 - 10 years</td>\n",
              "      <td>70000</td>\n",
              "      <td>NaN</td>\n",
              "      <td>On-the-job training</td>\n",
              "      <td>NaN</td>\n",
              "      <td>Online class (ie. Coursera, Codecademy, Khan A...</td>\n",
              "      <td>NaN</td>\n",
              "      <td>NaN</td>\n",
              "      <td>NaN</td>\n",
              "      <td>Bachelor of Science in Computer Science (or re...</td>\n",
              "      <td>Masters Degree in Computer Science (or related...</td>\n",
              "      <td>NaN</td>\n",
              "      <td>NaN</td>\n",
              "      <td>27</td>\n",
              "    </tr>\n",
              "    <tr>\n",
              "      <th>11</th>\n",
              "      <td>Belgium</td>\n",
              "      <td>25-29</td>\n",
              "      <td>2 - 5 years</td>\n",
              "      <td>30000</td>\n",
              "      <td>NaN</td>\n",
              "      <td>On-the-job training</td>\n",
              "      <td>NaN</td>\n",
              "      <td>Online class (ie. Coursera, Codecademy, Khan A...</td>\n",
              "      <td>NaN</td>\n",
              "      <td>NaN</td>\n",
              "      <td>NaN</td>\n",
              "      <td>Bachelor of Science in Computer Science (or re...</td>\n",
              "      <td>NaN</td>\n",
              "      <td>NaN</td>\n",
              "      <td>NaN</td>\n",
              "      <td>27</td>\n",
              "    </tr>\n",
              "  </tbody>\n",
              "</table>\n",
              "</div>"
            ],
            "text/plain": [
              "      Country    Age  ... Training & Education: Other  Age_midpoint\n",
              "1      France  20-24  ...                         NaN            22\n",
              "2       India  20-24  ...                         NaN            22\n",
              "4      Norway  30-34  ...                         NaN            32\n",
              "7   Argentina  25-29  ...                         NaN            27\n",
              "11    Belgium  25-29  ...                         NaN            27\n",
              "\n",
              "[5 rows x 16 columns]"
            ]
          },
          "metadata": {
            "tags": []
          },
          "execution_count": 150
        }
      ]
    },
    {
      "cell_type": "code",
      "metadata": {
        "colab": {
          "base_uri": "https://localhost:8080/"
        },
        "id": "8IHJ2ejeZA1i",
        "outputId": "e560c216-fb9c-4cdf-985d-42c52f178f51"
      },
      "source": [
        "#Dealing with years of experience\r\n",
        "\r\n",
        "new_df2['Years IT / Programming Experience'].value_counts()"
      ],
      "execution_count": 152,
      "outputs": [
        {
          "output_type": "execute_result",
          "data": {
            "text/plain": [
              "2 - 5 years         4704\n",
              "11+ years           3914\n",
              "6 - 10 years        3565\n",
              "1 - 2 years         1789\n",
              "Less than 1 year     777\n",
              "Name: Years IT / Programming Experience, dtype: int64"
            ]
          },
          "metadata": {
            "tags": []
          },
          "execution_count": 152
        }
      ]
    },
    {
      "cell_type": "code",
      "metadata": {
        "id": "nrg8QvvOZE4K"
      },
      "source": [
        "def label_yearscod (row):\r\n",
        "  if row['Years IT / Programming Experience'] == '11+ years' :\r\n",
        "    return '11'\r\n",
        "  if row['Years IT / Programming Experience'] == '2 - 5 years' :\r\n",
        "    return '4'\r\n",
        "  if row['Years IT / Programming Experience'] == '6 - 10 years' :\r\n",
        "    return '8'\r\n",
        "  if row['Years IT / Programming Experience'] == '1 - 2 years' :\r\n",
        "    return '2'\r\n",
        "  if row['Years IT / Programming Experience'] == 'Less than 1 year' :\r\n",
        "    return '1'"
      ],
      "execution_count": 153,
      "outputs": []
    },
    {
      "cell_type": "code",
      "metadata": {
        "colab": {
          "base_uri": "https://localhost:8080/",
          "height": 649
        },
        "id": "Sae477bBZT8p",
        "outputId": "f1b468d7-a476-4a11-b135-baf308272456"
      },
      "source": [
        "new_df2['yearscod_midpoint'] = new_df2.apply (lambda row: label_yearscod(row), axis=1)\r\n",
        "new_df2.head()"
      ],
      "execution_count": 154,
      "outputs": [
        {
          "output_type": "execute_result",
          "data": {
            "text/html": [
              "<div>\n",
              "<style scoped>\n",
              "    .dataframe tbody tr th:only-of-type {\n",
              "        vertical-align: middle;\n",
              "    }\n",
              "\n",
              "    .dataframe tbody tr th {\n",
              "        vertical-align: top;\n",
              "    }\n",
              "\n",
              "    .dataframe thead th {\n",
              "        text-align: right;\n",
              "    }\n",
              "</style>\n",
              "<table border=\"1\" class=\"dataframe\">\n",
              "  <thead>\n",
              "    <tr style=\"text-align: right;\">\n",
              "      <th></th>\n",
              "      <th>Country</th>\n",
              "      <th>Age</th>\n",
              "      <th>Years IT / Programming Experience</th>\n",
              "      <th>Compensation: midpoint</th>\n",
              "      <th>Training &amp; Education: No formal training</th>\n",
              "      <th>Training &amp; Education: On the job</th>\n",
              "      <th>Training &amp; Education: Boot camp or night school</th>\n",
              "      <th>Training &amp; Education: Online Class</th>\n",
              "      <th>Training &amp; Education: Mentorship</th>\n",
              "      <th>Training &amp; Education: Industry certification</th>\n",
              "      <th>Training &amp; Education: Some college, but no CS degree</th>\n",
              "      <th>Training &amp; Education: BS in CS</th>\n",
              "      <th>Training &amp; Education: Masters in CS</th>\n",
              "      <th>Training &amp; Education: PhD in CS</th>\n",
              "      <th>Training &amp; Education: Other</th>\n",
              "      <th>Age_midpoint</th>\n",
              "      <th>yearscod_midpoint</th>\n",
              "    </tr>\n",
              "  </thead>\n",
              "  <tbody>\n",
              "    <tr>\n",
              "      <th>1</th>\n",
              "      <td>France</td>\n",
              "      <td>20-24</td>\n",
              "      <td>1 - 2 years</td>\n",
              "      <td>30000</td>\n",
              "      <td>NaN</td>\n",
              "      <td>NaN</td>\n",
              "      <td>NaN</td>\n",
              "      <td>Online class (ie. Coursera, Codecademy, Khan A...</td>\n",
              "      <td>NaN</td>\n",
              "      <td>Industry certification program</td>\n",
              "      <td>NaN</td>\n",
              "      <td>NaN</td>\n",
              "      <td>Masters Degree in Computer Science (or related...</td>\n",
              "      <td>NaN</td>\n",
              "      <td>NaN</td>\n",
              "      <td>22</td>\n",
              "      <td>2</td>\n",
              "    </tr>\n",
              "    <tr>\n",
              "      <th>2</th>\n",
              "      <td>India</td>\n",
              "      <td>20-24</td>\n",
              "      <td>1 - 2 years</td>\n",
              "      <td>90000</td>\n",
              "      <td>NaN</td>\n",
              "      <td>NaN</td>\n",
              "      <td>NaN</td>\n",
              "      <td>NaN</td>\n",
              "      <td>Mentorship program (ie. Flatiron School, GDI, ...</td>\n",
              "      <td>NaN</td>\n",
              "      <td>NaN</td>\n",
              "      <td>NaN</td>\n",
              "      <td>NaN</td>\n",
              "      <td>NaN</td>\n",
              "      <td>NaN</td>\n",
              "      <td>22</td>\n",
              "      <td>2</td>\n",
              "    </tr>\n",
              "    <tr>\n",
              "      <th>4</th>\n",
              "      <td>Norway</td>\n",
              "      <td>30-34</td>\n",
              "      <td>2 - 5 years</td>\n",
              "      <td>70000</td>\n",
              "      <td>NaN</td>\n",
              "      <td>NaN</td>\n",
              "      <td>NaN</td>\n",
              "      <td>NaN</td>\n",
              "      <td>NaN</td>\n",
              "      <td>NaN</td>\n",
              "      <td>NaN</td>\n",
              "      <td>Bachelor of Science in Computer Science (or re...</td>\n",
              "      <td>NaN</td>\n",
              "      <td>NaN</td>\n",
              "      <td>NaN</td>\n",
              "      <td>32</td>\n",
              "      <td>4</td>\n",
              "    </tr>\n",
              "    <tr>\n",
              "      <th>7</th>\n",
              "      <td>Argentina</td>\n",
              "      <td>25-29</td>\n",
              "      <td>6 - 10 years</td>\n",
              "      <td>70000</td>\n",
              "      <td>NaN</td>\n",
              "      <td>On-the-job training</td>\n",
              "      <td>NaN</td>\n",
              "      <td>Online class (ie. Coursera, Codecademy, Khan A...</td>\n",
              "      <td>NaN</td>\n",
              "      <td>NaN</td>\n",
              "      <td>NaN</td>\n",
              "      <td>Bachelor of Science in Computer Science (or re...</td>\n",
              "      <td>Masters Degree in Computer Science (or related...</td>\n",
              "      <td>NaN</td>\n",
              "      <td>NaN</td>\n",
              "      <td>27</td>\n",
              "      <td>8</td>\n",
              "    </tr>\n",
              "    <tr>\n",
              "      <th>11</th>\n",
              "      <td>Belgium</td>\n",
              "      <td>25-29</td>\n",
              "      <td>2 - 5 years</td>\n",
              "      <td>30000</td>\n",
              "      <td>NaN</td>\n",
              "      <td>On-the-job training</td>\n",
              "      <td>NaN</td>\n",
              "      <td>Online class (ie. Coursera, Codecademy, Khan A...</td>\n",
              "      <td>NaN</td>\n",
              "      <td>NaN</td>\n",
              "      <td>NaN</td>\n",
              "      <td>Bachelor of Science in Computer Science (or re...</td>\n",
              "      <td>NaN</td>\n",
              "      <td>NaN</td>\n",
              "      <td>NaN</td>\n",
              "      <td>27</td>\n",
              "      <td>4</td>\n",
              "    </tr>\n",
              "  </tbody>\n",
              "</table>\n",
              "</div>"
            ],
            "text/plain": [
              "      Country    Age  ... Age_midpoint  yearscod_midpoint\n",
              "1      France  20-24  ...           22                  2\n",
              "2       India  20-24  ...           22                  2\n",
              "4      Norway  30-34  ...           32                  4\n",
              "7   Argentina  25-29  ...           27                  8\n",
              "11    Belgium  25-29  ...           27                  4\n",
              "\n",
              "[5 rows x 17 columns]"
            ]
          },
          "metadata": {
            "tags": []
          },
          "execution_count": 154
        }
      ]
    },
    {
      "cell_type": "code",
      "metadata": {
        "colab": {
          "base_uri": "https://localhost:8080/",
          "height": 297
        },
        "id": "NaSm6dHDZVcD",
        "outputId": "6ae09db7-5be7-4480-9644-ec343326c7aa"
      },
      "source": [
        "new_df2['yearscod_midpoint'] = new_df2['yearscod_midpoint'].astype('int')\r\n",
        "new_df2['Age_midpoint'] = new_df2['Age_midpoint'].astype('int')\r\n",
        "new_df2.describe()"
      ],
      "execution_count": 156,
      "outputs": [
        {
          "output_type": "execute_result",
          "data": {
            "text/html": [
              "<div>\n",
              "<style scoped>\n",
              "    .dataframe tbody tr th:only-of-type {\n",
              "        vertical-align: middle;\n",
              "    }\n",
              "\n",
              "    .dataframe tbody tr th {\n",
              "        vertical-align: top;\n",
              "    }\n",
              "\n",
              "    .dataframe thead th {\n",
              "        text-align: right;\n",
              "    }\n",
              "</style>\n",
              "<table border=\"1\" class=\"dataframe\">\n",
              "  <thead>\n",
              "    <tr style=\"text-align: right;\">\n",
              "      <th></th>\n",
              "      <th>Compensation: midpoint</th>\n",
              "      <th>Age_midpoint</th>\n",
              "      <th>yearscod_midpoint</th>\n",
              "    </tr>\n",
              "  </thead>\n",
              "  <tbody>\n",
              "    <tr>\n",
              "      <th>count</th>\n",
              "      <td>14749.000000</td>\n",
              "      <td>14749.000000</td>\n",
              "      <td>14749.000000</td>\n",
              "    </tr>\n",
              "    <tr>\n",
              "      <th>mean</th>\n",
              "      <td>51073.971117</td>\n",
              "      <td>29.334328</td>\n",
              "      <td>6.423825</td>\n",
              "    </tr>\n",
              "    <tr>\n",
              "      <th>std</th>\n",
              "      <td>44154.956432</td>\n",
              "      <td>8.367712</td>\n",
              "      <td>3.457731</td>\n",
              "    </tr>\n",
              "    <tr>\n",
              "      <th>min</th>\n",
              "      <td>0.000000</td>\n",
              "      <td>18.000000</td>\n",
              "      <td>1.000000</td>\n",
              "    </tr>\n",
              "    <tr>\n",
              "      <th>25%</th>\n",
              "      <td>10000.000000</td>\n",
              "      <td>22.000000</td>\n",
              "      <td>4.000000</td>\n",
              "    </tr>\n",
              "    <tr>\n",
              "      <th>50%</th>\n",
              "      <td>50000.000000</td>\n",
              "      <td>27.000000</td>\n",
              "      <td>8.000000</td>\n",
              "    </tr>\n",
              "    <tr>\n",
              "      <th>75%</th>\n",
              "      <td>70000.000000</td>\n",
              "      <td>32.000000</td>\n",
              "      <td>11.000000</td>\n",
              "    </tr>\n",
              "    <tr>\n",
              "      <th>max</th>\n",
              "      <td>170000.000000</td>\n",
              "      <td>60.000000</td>\n",
              "      <td>11.000000</td>\n",
              "    </tr>\n",
              "  </tbody>\n",
              "</table>\n",
              "</div>"
            ],
            "text/plain": [
              "       Compensation: midpoint  Age_midpoint  yearscod_midpoint\n",
              "count            14749.000000  14749.000000       14749.000000\n",
              "mean             51073.971117     29.334328           6.423825\n",
              "std              44154.956432      8.367712           3.457731\n",
              "min                  0.000000     18.000000           1.000000\n",
              "25%              10000.000000     22.000000           4.000000\n",
              "50%              50000.000000     27.000000           8.000000\n",
              "75%              70000.000000     32.000000          11.000000\n",
              "max             170000.000000     60.000000          11.000000"
            ]
          },
          "metadata": {
            "tags": []
          },
          "execution_count": 156
        }
      ]
    },
    {
      "cell_type": "code",
      "metadata": {
        "id": "FkS14Bo9Zbiv"
      },
      "source": [
        "#Working with categorical variables\r\n",
        "\r\n",
        "new_df2_cat = pd.get_dummies(new_df2[['Training & Education: No formal training',\r\n",
        "       'Training & Education: On the job',\r\n",
        "       'Training & Education: Boot camp or night school',\r\n",
        "       'Training & Education: Online Class',\r\n",
        "       'Training & Education: Mentorship',\r\n",
        "       'Training & Education: Industry certification',\r\n",
        "       'Training & Education: Some college, but no CS degree',\r\n",
        "       'Training & Education: BS in CS', 'Training & Education: Masters in CS',\r\n",
        "       'Training & Education: PhD in CS', 'Training & Education: Other']])"
      ],
      "execution_count": 157,
      "outputs": []
    },
    {
      "cell_type": "code",
      "metadata": {
        "id": "3Gak0lyJZwgN"
      },
      "source": [
        "new_df2_cat2 = pd.get_dummies(new_df2['Country'], drop_first=True)"
      ],
      "execution_count": 158,
      "outputs": []
    },
    {
      "cell_type": "code",
      "metadata": {
        "id": "hQzgBLUCZw7m"
      },
      "source": [
        "X = pd.concat([new_df2[['yearscod_midpoint', 'Age_midpoint']], new_df2_cat, new_df2_cat2], axis=1)\r\n",
        "y = new_df2['Compensation: midpoint']"
      ],
      "execution_count": 159,
      "outputs": []
    },
    {
      "cell_type": "code",
      "metadata": {
        "id": "sTri_uQcZ5Bd"
      },
      "source": [
        "X_train, X_test, y_train, y_test = train_test_split(X, y, test_size = .30, random_state=42) "
      ],
      "execution_count": 161,
      "outputs": []
    },
    {
      "cell_type": "code",
      "metadata": {
        "colab": {
          "base_uri": "https://localhost:8080/"
        },
        "id": "568J5S-oZ77U",
        "outputId": "4325818e-da30-4f37-e551-8cf6721dc143"
      },
      "source": [
        "#Apply a linear regression model\r\n",
        "\r\n",
        "lm_model = LinearRegression(normalize=True) # Instantiate\r\n",
        "lm_model.fit(X_train, y_train) #Fit\r\n",
        "\r\n",
        "y_test_preds = lm_model.predict(X_test) \r\n",
        "\r\n",
        "print(r2_score(y_test, y_test_preds))"
      ],
      "execution_count": 162,
      "outputs": [
        {
          "output_type": "stream",
          "text": [
            "0.5517128475053994\n"
          ],
          "name": "stdout"
        }
      ]
    },
    {
      "cell_type": "code",
      "metadata": {
        "id": "GesMwO0QaPjG"
      },
      "source": [
        "#Function to analyze the coefs that affects the salary the most\r\n",
        "\r\n",
        "def coef_weights(coefficients, X_train):\r\n",
        "    '''\r\n",
        "    INPUT:\r\n",
        "    coefficients - the coefficients of the linear model \r\n",
        "    X_train - the training data, so the column names can be used\r\n",
        "    OUTPUT:\r\n",
        "    coefs_df - a dataframe holding the coefficient, estimate, and abs(estimate)\r\n",
        "    \r\n",
        "    Provides a dataframe that can be used to understand the most influential coefficients\r\n",
        "    in a linear model by providing the coefficient estimates along with the name of the \r\n",
        "    variable attached to the coefficient.\r\n",
        "    '''\r\n",
        "    coefs_df = pd.DataFrame()\r\n",
        "    coefs_df['est_int'] = X_train.columns\r\n",
        "    coefs_df['coefs'] = lm_model.coef_\r\n",
        "    coefs_df['abs_coefs'] = np.abs(lm_model.coef_)\r\n",
        "    coefs_df = coefs_df.sort_values('abs_coefs', ascending=False)\r\n",
        "    return coefs_df"
      ],
      "execution_count": 163,
      "outputs": []
    },
    {
      "cell_type": "code",
      "metadata": {
        "colab": {
          "base_uri": "https://localhost:8080/",
          "height": 669
        },
        "id": "XvR_ZatKad_l",
        "outputId": "789e9661-6f6b-4988-f862-5127c54b4d2d"
      },
      "source": [
        "#Use the function\r\n",
        "coef_df = coef_weights(lm_model.coef_, X_train)\r\n",
        "\r\n",
        "#A quick look at the top results\r\n",
        "coef_df.head(20)"
      ],
      "execution_count": 166,
      "outputs": [
        {
          "output_type": "execute_result",
          "data": {
            "text/html": [
              "<div>\n",
              "<style scoped>\n",
              "    .dataframe tbody tr th:only-of-type {\n",
              "        vertical-align: middle;\n",
              "    }\n",
              "\n",
              "    .dataframe tbody tr th {\n",
              "        vertical-align: top;\n",
              "    }\n",
              "\n",
              "    .dataframe thead th {\n",
              "        text-align: right;\n",
              "    }\n",
              "</style>\n",
              "<table border=\"1\" class=\"dataframe\">\n",
              "  <thead>\n",
              "    <tr style=\"text-align: right;\">\n",
              "      <th></th>\n",
              "      <th>est_int</th>\n",
              "      <th>coefs</th>\n",
              "      <th>abs_coefs</th>\n",
              "    </tr>\n",
              "  </thead>\n",
              "  <tbody>\n",
              "    <tr>\n",
              "      <th>41</th>\n",
              "      <td>Switzerland</td>\n",
              "      <td>53558.069338</td>\n",
              "      <td>53558.069338</td>\n",
              "    </tr>\n",
              "    <tr>\n",
              "      <th>45</th>\n",
              "      <td>United States</td>\n",
              "      <td>51810.571930</td>\n",
              "      <td>51810.571930</td>\n",
              "    </tr>\n",
              "    <tr>\n",
              "      <th>13</th>\n",
              "      <td>Australia</td>\n",
              "      <td>45546.489698</td>\n",
              "      <td>45546.489698</td>\n",
              "    </tr>\n",
              "    <tr>\n",
              "      <th>34</th>\n",
              "      <td>Norway</td>\n",
              "      <td>45021.522245</td>\n",
              "      <td>45021.522245</td>\n",
              "    </tr>\n",
              "    <tr>\n",
              "      <th>20</th>\n",
              "      <td>Denmark</td>\n",
              "      <td>39368.581940</td>\n",
              "      <td>39368.581940</td>\n",
              "    </tr>\n",
              "    <tr>\n",
              "      <th>29</th>\n",
              "      <td>Israel</td>\n",
              "      <td>36885.007326</td>\n",
              "      <td>36885.007326</td>\n",
              "    </tr>\n",
              "    <tr>\n",
              "      <th>17</th>\n",
              "      <td>Canada</td>\n",
              "      <td>36088.479582</td>\n",
              "      <td>36088.479582</td>\n",
              "    </tr>\n",
              "    <tr>\n",
              "      <th>44</th>\n",
              "      <td>United Kingdom</td>\n",
              "      <td>35562.229294</td>\n",
              "      <td>35562.229294</td>\n",
              "    </tr>\n",
              "    <tr>\n",
              "      <th>28</th>\n",
              "      <td>Ireland {Republic}</td>\n",
              "      <td>30334.974673</td>\n",
              "      <td>30334.974673</td>\n",
              "    </tr>\n",
              "    <tr>\n",
              "      <th>33</th>\n",
              "      <td>New Zealand</td>\n",
              "      <td>29627.334385</td>\n",
              "      <td>29627.334385</td>\n",
              "    </tr>\n",
              "    <tr>\n",
              "      <th>40</th>\n",
              "      <td>Sweden</td>\n",
              "      <td>23752.965342</td>\n",
              "      <td>23752.965342</td>\n",
              "    </tr>\n",
              "    <tr>\n",
              "      <th>23</th>\n",
              "      <td>Germany</td>\n",
              "      <td>23267.924333</td>\n",
              "      <td>23267.924333</td>\n",
              "    </tr>\n",
              "    <tr>\n",
              "      <th>14</th>\n",
              "      <td>Austria</td>\n",
              "      <td>20534.983494</td>\n",
              "      <td>20534.983494</td>\n",
              "    </tr>\n",
              "    <tr>\n",
              "      <th>32</th>\n",
              "      <td>Netherlands</td>\n",
              "      <td>20468.235739</td>\n",
              "      <td>20468.235739</td>\n",
              "    </tr>\n",
              "    <tr>\n",
              "      <th>15</th>\n",
              "      <td>Belgium</td>\n",
              "      <td>18639.706346</td>\n",
              "      <td>18639.706346</td>\n",
              "    </tr>\n",
              "    <tr>\n",
              "      <th>18</th>\n",
              "      <td>China</td>\n",
              "      <td>18334.632902</td>\n",
              "      <td>18334.632902</td>\n",
              "    </tr>\n",
              "    <tr>\n",
              "      <th>21</th>\n",
              "      <td>Finland</td>\n",
              "      <td>17472.783088</td>\n",
              "      <td>17472.783088</td>\n",
              "    </tr>\n",
              "    <tr>\n",
              "      <th>22</th>\n",
              "      <td>France</td>\n",
              "      <td>16665.887527</td>\n",
              "      <td>16665.887527</td>\n",
              "    </tr>\n",
              "    <tr>\n",
              "      <th>26</th>\n",
              "      <td>India</td>\n",
              "      <td>10170.310492</td>\n",
              "      <td>10170.310492</td>\n",
              "    </tr>\n",
              "    <tr>\n",
              "      <th>43</th>\n",
              "      <td>Ukraine</td>\n",
              "      <td>9012.260171</td>\n",
              "      <td>9012.260171</td>\n",
              "    </tr>\n",
              "  </tbody>\n",
              "</table>\n",
              "</div>"
            ],
            "text/plain": [
              "               est_int         coefs     abs_coefs\n",
              "41         Switzerland  53558.069338  53558.069338\n",
              "45       United States  51810.571930  51810.571930\n",
              "13           Australia  45546.489698  45546.489698\n",
              "34              Norway  45021.522245  45021.522245\n",
              "20             Denmark  39368.581940  39368.581940\n",
              "29              Israel  36885.007326  36885.007326\n",
              "17              Canada  36088.479582  36088.479582\n",
              "44      United Kingdom  35562.229294  35562.229294\n",
              "28  Ireland {Republic}  30334.974673  30334.974673\n",
              "33         New Zealand  29627.334385  29627.334385\n",
              "40              Sweden  23752.965342  23752.965342\n",
              "23             Germany  23267.924333  23267.924333\n",
              "14             Austria  20534.983494  20534.983494\n",
              "32         Netherlands  20468.235739  20468.235739\n",
              "15             Belgium  18639.706346  18639.706346\n",
              "18               China  18334.632902  18334.632902\n",
              "21             Finland  17472.783088  17472.783088\n",
              "22              France  16665.887527  16665.887527\n",
              "26               India  10170.310492  10170.310492\n",
              "43             Ukraine   9012.260171   9012.260171"
            ]
          },
          "metadata": {
            "tags": []
          },
          "execution_count": 166
        }
      ]
    },
    {
      "cell_type": "markdown",
      "metadata": {
        "id": "OwfoTgssadNF"
      },
      "source": [
        "**2020**"
      ]
    },
    {
      "cell_type": "code",
      "metadata": {
        "id": "gUt_XgodatlZ"
      },
      "source": [
        "#working with categorical\r\n",
        "\r\n",
        "new_df_cat = pd.get_dummies(new_df[['EdLevel','Country']], drop_first=True)"
      ],
      "execution_count": 167,
      "outputs": []
    },
    {
      "cell_type": "code",
      "metadata": {
        "id": "W2wTu5exax-o"
      },
      "source": [
        "X = pd.concat([new_df[['Age', 'YearsCodePro']], new_df_cat], axis=1)\r\n",
        "y = new_df['ConvertedComp']"
      ],
      "execution_count": 168,
      "outputs": []
    },
    {
      "cell_type": "code",
      "metadata": {
        "colab": {
          "base_uri": "https://localhost:8080/"
        },
        "id": "rZ0sikI9az5z",
        "outputId": "170600aa-a55d-4813-8d8d-c689dfcf3213"
      },
      "source": [
        "#Apply linear regression model\r\n",
        "\r\n",
        "X_train, X_test, y_train, y_test = train_test_split(X, y, test_size = .30, random_state=42) \r\n",
        "\r\n",
        "lm_model = LinearRegression(normalize=True) # Instantiate\r\n",
        "lm_model.fit(X_train, y_train) #Fit\r\n",
        "\r\n",
        "y_test_preds = lm_model.predict(X_test) \r\n",
        "\r\n",
        "print(r2_score(y_test, y_test_preds))"
      ],
      "execution_count": 169,
      "outputs": [
        {
          "output_type": "stream",
          "text": [
            "0.5356370326635582\n"
          ],
          "name": "stdout"
        }
      ]
    },
    {
      "cell_type": "code",
      "metadata": {
        "colab": {
          "base_uri": "https://localhost:8080/",
          "height": 669
        },
        "id": "sNJsSI7ua7zm",
        "outputId": "c60dbfda-441f-46de-8b68-fad9d6655d97"
      },
      "source": [
        "coef_df = coef_weights(lm_model.coef_, X_train)\r\n",
        "\r\n",
        "#A quick look at the top results\r\n",
        "coef_df.head(20)"
      ],
      "execution_count": 172,
      "outputs": [
        {
          "output_type": "execute_result",
          "data": {
            "text/html": [
              "<div>\n",
              "<style scoped>\n",
              "    .dataframe tbody tr th:only-of-type {\n",
              "        vertical-align: middle;\n",
              "    }\n",
              "\n",
              "    .dataframe tbody tr th {\n",
              "        vertical-align: top;\n",
              "    }\n",
              "\n",
              "    .dataframe thead th {\n",
              "        text-align: right;\n",
              "    }\n",
              "</style>\n",
              "<table border=\"1\" class=\"dataframe\">\n",
              "  <thead>\n",
              "    <tr style=\"text-align: right;\">\n",
              "      <th></th>\n",
              "      <th>est_int</th>\n",
              "      <th>coefs</th>\n",
              "      <th>abs_coefs</th>\n",
              "    </tr>\n",
              "  </thead>\n",
              "  <tbody>\n",
              "    <tr>\n",
              "      <th>58</th>\n",
              "      <td>Country_United States</td>\n",
              "      <td>90162.760167</td>\n",
              "      <td>90162.760167</td>\n",
              "    </tr>\n",
              "    <tr>\n",
              "      <th>54</th>\n",
              "      <td>Country_Switzerland</td>\n",
              "      <td>75653.527121</td>\n",
              "      <td>75653.527121</td>\n",
              "    </tr>\n",
              "    <tr>\n",
              "      <th>32</th>\n",
              "      <td>Country_Israel</td>\n",
              "      <td>70723.666290</td>\n",
              "      <td>70723.666290</td>\n",
              "    </tr>\n",
              "    <tr>\n",
              "      <th>21</th>\n",
              "      <td>Country_Denmark</td>\n",
              "      <td>56468.487280</td>\n",
              "      <td>56468.487280</td>\n",
              "    </tr>\n",
              "    <tr>\n",
              "      <th>31</th>\n",
              "      <td>Country_Ireland</td>\n",
              "      <td>52247.828422</td>\n",
              "      <td>52247.828422</td>\n",
              "    </tr>\n",
              "    <tr>\n",
              "      <th>40</th>\n",
              "      <td>Country_Norway</td>\n",
              "      <td>51755.121593</td>\n",
              "      <td>51755.121593</td>\n",
              "    </tr>\n",
              "    <tr>\n",
              "      <th>10</th>\n",
              "      <td>Country_Australia</td>\n",
              "      <td>49957.385050</td>\n",
              "      <td>49957.385050</td>\n",
              "    </tr>\n",
              "    <tr>\n",
              "      <th>57</th>\n",
              "      <td>Country_United Kingdom</td>\n",
              "      <td>47587.109654</td>\n",
              "      <td>47587.109654</td>\n",
              "    </tr>\n",
              "    <tr>\n",
              "      <th>16</th>\n",
              "      <td>Country_Canada</td>\n",
              "      <td>44560.170399</td>\n",
              "      <td>44560.170399</td>\n",
              "    </tr>\n",
              "    <tr>\n",
              "      <th>48</th>\n",
              "      <td>Country_Singapore</td>\n",
              "      <td>43086.719640</td>\n",
              "      <td>43086.719640</td>\n",
              "    </tr>\n",
              "    <tr>\n",
              "      <th>38</th>\n",
              "      <td>Country_New Zealand</td>\n",
              "      <td>39726.924356</td>\n",
              "      <td>39726.924356</td>\n",
              "    </tr>\n",
              "    <tr>\n",
              "      <th>25</th>\n",
              "      <td>Country_Germany</td>\n",
              "      <td>39116.295122</td>\n",
              "      <td>39116.295122</td>\n",
              "    </tr>\n",
              "    <tr>\n",
              "      <th>37</th>\n",
              "      <td>Country_Netherlands</td>\n",
              "      <td>37178.250917</td>\n",
              "      <td>37178.250917</td>\n",
              "    </tr>\n",
              "    <tr>\n",
              "      <th>34</th>\n",
              "      <td>Country_Japan</td>\n",
              "      <td>35291.054501</td>\n",
              "      <td>35291.054501</td>\n",
              "    </tr>\n",
              "    <tr>\n",
              "      <th>13</th>\n",
              "      <td>Country_Belgium</td>\n",
              "      <td>32660.159679</td>\n",
              "      <td>32660.159679</td>\n",
              "    </tr>\n",
              "    <tr>\n",
              "      <th>23</th>\n",
              "      <td>Country_Finland</td>\n",
              "      <td>31046.290873</td>\n",
              "      <td>31046.290873</td>\n",
              "    </tr>\n",
              "    <tr>\n",
              "      <th>11</th>\n",
              "      <td>Country_Austria</td>\n",
              "      <td>29576.767596</td>\n",
              "      <td>29576.767596</td>\n",
              "    </tr>\n",
              "    <tr>\n",
              "      <th>53</th>\n",
              "      <td>Country_Sweden</td>\n",
              "      <td>29173.651296</td>\n",
              "      <td>29173.651296</td>\n",
              "    </tr>\n",
              "    <tr>\n",
              "      <th>24</th>\n",
              "      <td>Country_France</td>\n",
              "      <td>24123.535830</td>\n",
              "      <td>24123.535830</td>\n",
              "    </tr>\n",
              "    <tr>\n",
              "      <th>51</th>\n",
              "      <td>Country_Spain</td>\n",
              "      <td>22153.294154</td>\n",
              "      <td>22153.294154</td>\n",
              "    </tr>\n",
              "  </tbody>\n",
              "</table>\n",
              "</div>"
            ],
            "text/plain": [
              "                   est_int         coefs     abs_coefs\n",
              "58   Country_United States  90162.760167  90162.760167\n",
              "54     Country_Switzerland  75653.527121  75653.527121\n",
              "32          Country_Israel  70723.666290  70723.666290\n",
              "21         Country_Denmark  56468.487280  56468.487280\n",
              "31         Country_Ireland  52247.828422  52247.828422\n",
              "40          Country_Norway  51755.121593  51755.121593\n",
              "10       Country_Australia  49957.385050  49957.385050\n",
              "57  Country_United Kingdom  47587.109654  47587.109654\n",
              "16          Country_Canada  44560.170399  44560.170399\n",
              "48       Country_Singapore  43086.719640  43086.719640\n",
              "38     Country_New Zealand  39726.924356  39726.924356\n",
              "25         Country_Germany  39116.295122  39116.295122\n",
              "37     Country_Netherlands  37178.250917  37178.250917\n",
              "34           Country_Japan  35291.054501  35291.054501\n",
              "13         Country_Belgium  32660.159679  32660.159679\n",
              "23         Country_Finland  31046.290873  31046.290873\n",
              "11         Country_Austria  29576.767596  29576.767596\n",
              "53          Country_Sweden  29173.651296  29173.651296\n",
              "24          Country_France  24123.535830  24123.535830\n",
              "51           Country_Spain  22153.294154  22153.294154"
            ]
          },
          "metadata": {
            "tags": []
          },
          "execution_count": 172
        }
      ]
    },
    {
      "cell_type": "markdown",
      "metadata": {
        "id": "hICVIdU9bGUo"
      },
      "source": [
        "Looking into this comparison, coefficients from 2015 and 2020, we can note that Country was the most important variable to influence the salaries - **according to the variables chosen in this model.**\r\n",
        "\r\n",
        "Obs.: It is important to remember once more that our focus here is not to create the best model to predict salaries. We should analyze other factors if this was the case. For example, Age and years coding are very correlated variables, and we could eliminate one of them, but we decided to keep both since, as mentioned, the focus is not create a model to predict salaries, but rather compare 2015 data with 2020.  "
      ]
    },
    {
      "cell_type": "code",
      "metadata": {
        "id": "-5HQOrrHa8mq"
      },
      "source": [
        ""
      ],
      "execution_count": null,
      "outputs": []
    }
  ]
}